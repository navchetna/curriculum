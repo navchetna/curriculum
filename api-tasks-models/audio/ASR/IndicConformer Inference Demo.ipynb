{
 "cells": [
  {
   "cell_type": "markdown",
   "metadata": {
    "id": "SzY7kJccuxh4"
   },
   "source": [
    "# Install Dependencies"
   ]
  },
  {
   "cell_type": "code",
   "execution_count": 1,
   "metadata": {
    "colab": {
     "base_uri": "https://localhost:8080/"
    },
    "executionInfo": {
     "elapsed": 112270,
     "status": "ok",
     "timestamp": 1736408210742,
     "user": {
      "displayName": "Nikhil Narasimhan",
      "userId": "05522871184861859897"
     },
     "user_tz": -330
    },
    "id": "0bnEpaTauedB",
    "outputId": "4ab3ed50-46fc-45a5-c141-44fdd35b47a3"
   },
   "outputs": [
    {
     "name": "stdout",
     "output_type": "stream",
     "text": [
      "Collecting cython==0.29.37\n",
      "  Downloading Cython-0.29.37-py2.py3-none-any.whl (989 kB)\n",
      "     -------------------------------------- 989.5/989.5 KB 7.8 MB/s eta 0:00:00\n",
      "Installing collected packages: cython\n",
      "Successfully installed cython-0.29.37\n"
     ]
    },
    {
     "name": "stderr",
     "output_type": "stream",
     "text": [
      "WARNING: You are using pip version 22.0.4; however, version 25.0.1 is available.\n",
      "You should consider upgrading via the 'C:\\Users\\akulshre\\.pyenv\\pyenv-win\\versions\\3.10.5\\python3.exe -m pip install --upgrade pip' command.\n"
     ]
    },
    {
     "name": "stdout",
     "output_type": "stream",
     "text": [
      "Requirement already satisfied: pyyaml==6.0.2 in c:\\users\\akulshre\\.pyenv\\pyenv-win\\versions\\3.10.5\\lib\\site-packages (6.0.2)\n"
     ]
    },
    {
     "name": "stderr",
     "output_type": "stream",
     "text": [
      "WARNING: You are using pip version 22.0.4; however, version 25.0.1 is available.\n",
      "You should consider upgrading via the 'C:\\Users\\akulshre\\.pyenv\\pyenv-win\\versions\\3.10.5\\python3.exe -m pip install --upgrade pip' command.\n"
     ]
    },
    {
     "name": "stdout",
     "output_type": "stream",
     "text": [
      "Collecting argparse==1.4.0\n",
      "  Downloading argparse-1.4.0-py2.py3-none-any.whl (23 kB)\n",
      "Installing collected packages: argparse\n",
      "Successfully installed argparse-1.4.0\n"
     ]
    },
    {
     "name": "stderr",
     "output_type": "stream",
     "text": [
      "WARNING: You are using pip version 22.0.4; however, version 25.0.1 is available.\n",
      "You should consider upgrading via the 'C:\\Users\\akulshre\\.pyenv\\pyenv-win\\versions\\3.10.5\\python3.exe -m pip install --upgrade pip' command.\n"
     ]
    },
    {
     "name": "stdout",
     "output_type": "stream",
     "text": [
      "Collecting onnxruntime==1.19.0\n",
      "  Downloading onnxruntime-1.19.0-cp310-cp310-win_amd64.whl (11.1 MB)\n",
      "     ---------------------------------------- 11.1/11.1 MB 8.5 MB/s eta 0:00:00\n",
      "Collecting flatbuffers\n",
      "  Downloading flatbuffers-25.2.10-py2.py3-none-any.whl (30 kB)\n",
      "Requirement already satisfied: numpy>=1.21.6 in c:\\users\\akulshre\\.pyenv\\pyenv-win\\versions\\3.10.5\\lib\\site-packages (from onnxruntime==1.19.0) (2.2.4)\n",
      "Collecting coloredlogs\n",
      "  Downloading coloredlogs-15.0.1-py2.py3-none-any.whl (46 kB)\n",
      "     ---------------------------------------- 46.0/46.0 KB 2.2 MB/s eta 0:00:00\n",
      "Collecting protobuf\n",
      "  Downloading protobuf-6.30.2-cp310-abi3-win_amd64.whl (431 kB)\n",
      "     ------------------------------------- 431.0/431.0 KB 13.6 MB/s eta 0:00:00\n",
      "Collecting sympy\n",
      "  Downloading sympy-1.13.3-py3-none-any.whl (6.2 MB)\n",
      "     ---------------------------------------- 6.2/6.2 MB 14.1 MB/s eta 0:00:00\n",
      "Requirement already satisfied: packaging in c:\\users\\akulshre\\.pyenv\\pyenv-win\\versions\\3.10.5\\lib\\site-packages (from onnxruntime==1.19.0) (24.2)\n",
      "Collecting humanfriendly>=9.1\n",
      "  Downloading humanfriendly-10.0-py2.py3-none-any.whl (86 kB)\n",
      "     ---------------------------------------- 86.8/86.8 KB 4.8 MB/s eta 0:00:00\n",
      "Collecting mpmath<1.4,>=1.1.0\n",
      "  Downloading mpmath-1.3.0-py3-none-any.whl (536 kB)\n",
      "     ------------------------------------- 536.2/536.2 KB 11.2 MB/s eta 0:00:00\n",
      "Collecting pyreadline3\n",
      "  Downloading pyreadline3-3.5.4-py3-none-any.whl (83 kB)\n",
      "     ---------------------------------------- 83.2/83.2 KB 4.6 MB/s eta 0:00:00\n",
      "Installing collected packages: mpmath, flatbuffers, sympy, pyreadline3, protobuf, humanfriendly, coloredlogs, onnxruntime\n",
      "Successfully installed coloredlogs-15.0.1 flatbuffers-25.2.10 humanfriendly-10.0 mpmath-1.3.0 onnxruntime-1.19.0 protobuf-6.30.2 pyreadline3-3.5.4 sympy-1.13.3\n"
     ]
    },
    {
     "name": "stderr",
     "output_type": "stream",
     "text": [
      "WARNING: You are using pip version 22.0.4; however, version 25.0.1 is available.\n",
      "You should consider upgrading via the 'C:\\Users\\akulshre\\.pyenv\\pyenv-win\\versions\\3.10.5\\python3.exe -m pip install --upgrade pip' command.\n"
     ]
    },
    {
     "name": "stdout",
     "output_type": "stream",
     "text": [
      "Collecting tqdm==4.66.5\n",
      "  Downloading tqdm-4.66.5-py3-none-any.whl (78 kB)\n",
      "     ---------------------------------------- 78.4/78.4 KB 2.1 MB/s eta 0:00:00\n",
      "Requirement already satisfied: colorama in c:\\users\\akulshre\\.pyenv\\pyenv-win\\versions\\3.10.5\\lib\\site-packages (from tqdm==4.66.5) (0.4.6)\n",
      "Installing collected packages: tqdm\n",
      "  Attempting uninstall: tqdm\n",
      "    Found existing installation: tqdm 4.67.1\n",
      "    Uninstalling tqdm-4.67.1:\n",
      "      Successfully uninstalled tqdm-4.67.1\n",
      "Successfully installed tqdm-4.66.5\n"
     ]
    },
    {
     "name": "stderr",
     "output_type": "stream",
     "text": [
      "WARNING: You are using pip version 22.0.4; however, version 25.0.1 is available.\n",
      "You should consider upgrading via the 'C:\\Users\\akulshre\\.pyenv\\pyenv-win\\versions\\3.10.5\\python3.exe -m pip install --upgrade pip' command.\n"
     ]
    },
    {
     "name": "stdout",
     "output_type": "stream",
     "text": [
      "Collecting nemo_toolkit@ git+https://github.com/AI4Bharat/NeMo@nemo-v2\n",
      "  Cloning https://github.com/AI4Bharat/NeMo (to revision nemo-v2) to c:\\users\\akulshre\\appdata\\local\\temp\\pip-install-j10er7j8\\nemo-toolkit_5f69110803b643ecb6a0490ef996f057\n",
      "  Resolved https://github.com/AI4Bharat/NeMo to commit ad7b828b1cdabf37f3ffe2a3a74cdb7a583ad16b\n",
      "  Installing build dependencies: started\n",
      "  Installing build dependencies: finished with status 'done'\n",
      "  Getting requirements to build wheel: started\n",
      "  Getting requirements to build wheel: finished with status 'done'\n",
      "  Preparing metadata (pyproject.toml): started\n",
      "  Preparing metadata (pyproject.toml): finished with status 'done'\n",
      "Collecting setuptools>=65.5.1\n",
      "  Using cached setuptools-78.1.0-py3-none-any.whl (1.3 MB)\n",
      "Collecting torch\n",
      "  Downloading torch-2.6.0-cp310-cp310-win_amd64.whl (204.2 MB)\n",
      "     -------------------------------------- 204.2/204.2 MB 2.3 MB/s eta 0:00:00\n",
      "Collecting huggingface_hub==0.23.2\n",
      "  Downloading huggingface_hub-0.23.2-py3-none-any.whl (401 kB)\n",
      "     -------------------------------------- 401.7/401.7 KB 8.3 MB/s eta 0:00:00\n",
      "Collecting wrapt\n",
      "  Downloading wrapt-1.17.2-cp310-cp310-win_amd64.whl (38 kB)\n"
     ]
    },
    {
     "name": "stderr",
     "output_type": "stream",
     "text": [
      "  Running command git clone --filter=blob:none --quiet https://github.com/AI4Bharat/NeMo 'C:\\Users\\akulshre\\AppData\\Local\\Temp\\pip-install-j10er7j8\\nemo-toolkit_5f69110803b643ecb6a0490ef996f057'\n",
      "ERROR: Could not find a version that satisfies the requirement triton (from nemo-toolkit) (from versions: none)\n",
      "ERROR: No matching distribution found for triton\n",
      "WARNING: You are using pip version 22.0.4; however, version 25.0.1 is available.\n",
      "You should consider upgrading via the 'C:\\Users\\akulshre\\.pyenv\\pyenv-win\\versions\\3.10.5\\python3.exe -m pip install --upgrade pip' command.\n"
     ]
    },
    {
     "name": "stdout",
     "output_type": "stream",
     "text": [
      "Collecting transformers==4.40.0\n",
      "  Downloading transformers-4.40.0-py3-none-any.whl (9.0 MB)\n",
      "     ---------------------------------------- 9.0/9.0 MB 13.1 MB/s eta 0:00:00\n",
      "Requirement already satisfied: pyyaml>=5.1 in c:\\users\\akulshre\\.pyenv\\pyenv-win\\versions\\3.10.5\\lib\\site-packages (from transformers==4.40.0) (6.0.2)\n",
      "Collecting regex!=2019.12.17\n",
      "  Downloading regex-2024.11.6-cp310-cp310-win_amd64.whl (274 kB)\n",
      "     ------------------------------------- 274.0/274.0 KB 16.5 MB/s eta 0:00:00\n",
      "Collecting tokenizers<0.20,>=0.19\n",
      "  Downloading tokenizers-0.19.1-cp310-none-win_amd64.whl (2.2 MB)\n",
      "     ---------------------------------------- 2.2/2.2 MB 15.7 MB/s eta 0:00:00\n",
      "Requirement already satisfied: tqdm>=4.27 in c:\\users\\akulshre\\.pyenv\\pyenv-win\\versions\\3.10.5\\lib\\site-packages (from transformers==4.40.0) (4.66.5)\n",
      "Requirement already satisfied: numpy>=1.17 in c:\\users\\akulshre\\.pyenv\\pyenv-win\\versions\\3.10.5\\lib\\site-packages (from transformers==4.40.0) (2.2.4)\n",
      "Collecting safetensors>=0.4.1\n",
      "  Downloading safetensors-0.5.3-cp38-abi3-win_amd64.whl (308 kB)\n",
      "     -------------------------------------- 308.9/308.9 KB 9.3 MB/s eta 0:00:00\n",
      "Requirement already satisfied: packaging>=20.0 in c:\\users\\akulshre\\.pyenv\\pyenv-win\\versions\\3.10.5\\lib\\site-packages (from transformers==4.40.0) (24.2)\n",
      "Requirement already satisfied: huggingface-hub<1.0,>=0.19.3 in c:\\users\\akulshre\\.pyenv\\pyenv-win\\versions\\3.10.5\\lib\\site-packages (from transformers==4.40.0) (0.29.3)\n",
      "Requirement already satisfied: filelock in c:\\users\\akulshre\\.pyenv\\pyenv-win\\versions\\3.10.5\\lib\\site-packages (from transformers==4.40.0) (3.18.0)\n",
      "Requirement already satisfied: requests in c:\\users\\akulshre\\.pyenv\\pyenv-win\\versions\\3.10.5\\lib\\site-packages (from transformers==4.40.0) (2.32.3)\n",
      "Requirement already satisfied: fsspec>=2023.5.0 in c:\\users\\akulshre\\.pyenv\\pyenv-win\\versions\\3.10.5\\lib\\site-packages (from huggingface-hub<1.0,>=0.19.3->transformers==4.40.0) (2025.3.0)\n",
      "Requirement already satisfied: typing-extensions>=3.7.4.3 in c:\\users\\akulshre\\.pyenv\\pyenv-win\\versions\\3.10.5\\lib\\site-packages (from huggingface-hub<1.0,>=0.19.3->transformers==4.40.0) (4.12.2)\n",
      "Requirement already satisfied: colorama in c:\\users\\akulshre\\.pyenv\\pyenv-win\\versions\\3.10.5\\lib\\site-packages (from tqdm>=4.27->transformers==4.40.0) (0.4.6)\n",
      "Requirement already satisfied: urllib3<3,>=1.21.1 in c:\\users\\akulshre\\.pyenv\\pyenv-win\\versions\\3.10.5\\lib\\site-packages (from requests->transformers==4.40.0) (2.3.0)\n",
      "Requirement already satisfied: idna<4,>=2.5 in c:\\users\\akulshre\\.pyenv\\pyenv-win\\versions\\3.10.5\\lib\\site-packages (from requests->transformers==4.40.0) (3.10)\n",
      "Requirement already satisfied: charset-normalizer<4,>=2 in c:\\users\\akulshre\\.pyenv\\pyenv-win\\versions\\3.10.5\\lib\\site-packages (from requests->transformers==4.40.0) (3.4.1)\n",
      "Requirement already satisfied: certifi>=2017.4.17 in c:\\users\\akulshre\\.pyenv\\pyenv-win\\versions\\3.10.5\\lib\\site-packages (from requests->transformers==4.40.0) (2025.1.31)\n",
      "Installing collected packages: safetensors, regex, tokenizers, transformers\n",
      "Successfully installed regex-2024.11.6 safetensors-0.5.3 tokenizers-0.19.1 transformers-4.40.0\n"
     ]
    },
    {
     "name": "stderr",
     "output_type": "stream",
     "text": [
      "WARNING: You are using pip version 22.0.4; however, version 25.0.1 is available.\n",
      "You should consider upgrading via the 'C:\\Users\\akulshre\\.pyenv\\pyenv-win\\versions\\3.10.5\\python3.exe -m pip install --upgrade pip' command.\n"
     ]
    },
    {
     "name": "stdout",
     "output_type": "stream",
     "text": [
      "Collecting huggingface_hub==0.23\n",
      "  Downloading huggingface_hub-0.23.0-py3-none-any.whl (401 kB)\n",
      "     ------------------------------------- 401.2/401.2 KB 12.6 MB/s eta 0:00:00\n",
      "Requirement already satisfied: tqdm>=4.42.1 in c:\\users\\akulshre\\.pyenv\\pyenv-win\\versions\\3.10.5\\lib\\site-packages (from huggingface_hub==0.23) (4.66.5)\n",
      "Requirement already satisfied: pyyaml>=5.1 in c:\\users\\akulshre\\.pyenv\\pyenv-win\\versions\\3.10.5\\lib\\site-packages (from huggingface_hub==0.23) (6.0.2)\n",
      "Requirement already satisfied: fsspec>=2023.5.0 in c:\\users\\akulshre\\.pyenv\\pyenv-win\\versions\\3.10.5\\lib\\site-packages (from huggingface_hub==0.23) (2025.3.0)\n",
      "Requirement already satisfied: filelock in c:\\users\\akulshre\\.pyenv\\pyenv-win\\versions\\3.10.5\\lib\\site-packages (from huggingface_hub==0.23) (3.18.0)\n",
      "Requirement already satisfied: requests in c:\\users\\akulshre\\.pyenv\\pyenv-win\\versions\\3.10.5\\lib\\site-packages (from huggingface_hub==0.23) (2.32.3)\n",
      "Requirement already satisfied: packaging>=20.9 in c:\\users\\akulshre\\.pyenv\\pyenv-win\\versions\\3.10.5\\lib\\site-packages (from huggingface_hub==0.23) (24.2)\n",
      "Requirement already satisfied: typing-extensions>=3.7.4.3 in c:\\users\\akulshre\\.pyenv\\pyenv-win\\versions\\3.10.5\\lib\\site-packages (from huggingface_hub==0.23) (4.12.2)\n",
      "Requirement already satisfied: colorama in c:\\users\\akulshre\\.pyenv\\pyenv-win\\versions\\3.10.5\\lib\\site-packages (from tqdm>=4.42.1->huggingface_hub==0.23) (0.4.6)\n",
      "Requirement already satisfied: idna<4,>=2.5 in c:\\users\\akulshre\\.pyenv\\pyenv-win\\versions\\3.10.5\\lib\\site-packages (from requests->huggingface_hub==0.23) (3.10)\n",
      "Requirement already satisfied: charset-normalizer<4,>=2 in c:\\users\\akulshre\\.pyenv\\pyenv-win\\versions\\3.10.5\\lib\\site-packages (from requests->huggingface_hub==0.23) (3.4.1)\n",
      "Requirement already satisfied: urllib3<3,>=1.21.1 in c:\\users\\akulshre\\.pyenv\\pyenv-win\\versions\\3.10.5\\lib\\site-packages (from requests->huggingface_hub==0.23) (2.3.0)\n",
      "Requirement already satisfied: certifi>=2017.4.17 in c:\\users\\akulshre\\.pyenv\\pyenv-win\\versions\\3.10.5\\lib\\site-packages (from requests->huggingface_hub==0.23) (2025.1.31)\n",
      "Installing collected packages: huggingface_hub\n",
      "  Attempting uninstall: huggingface_hub\n",
      "    Found existing installation: huggingface-hub 0.29.3\n",
      "    Uninstalling huggingface-hub-0.29.3:\n",
      "      Successfully uninstalled huggingface-hub-0.29.3\n",
      "Successfully installed huggingface_hub-0.23.0\n"
     ]
    },
    {
     "name": "stderr",
     "output_type": "stream",
     "text": [
      "ERROR: pip's dependency resolver does not currently take into account all the packages that are installed. This behaviour is the source of the following dependency conflicts.\n",
      "gradio 5.23.0 requires huggingface-hub>=0.28.1, but you have huggingface-hub 0.23.0 which is incompatible.\n",
      "WARNING: You are using pip version 22.0.4; however, version 25.0.1 is available.\n",
      "You should consider upgrading via the 'C:\\Users\\akulshre\\.pyenv\\pyenv-win\\versions\\3.10.5\\python3.exe -m pip install --upgrade pip' command.\n"
     ]
    },
    {
     "name": "stdout",
     "output_type": "stream",
     "text": [
      "Collecting pytorch-lightning==2.4.0\n",
      "  Downloading pytorch_lightning-2.4.0-py3-none-any.whl (815 kB)\n",
      "     -------------------------------------- 815.2/815.2 KB 8.7 MB/s eta 0:00:00\n",
      "Requirement already satisfied: fsspec[http]>=2022.5.0 in c:\\users\\akulshre\\.pyenv\\pyenv-win\\versions\\3.10.5\\lib\\site-packages (from pytorch-lightning==2.4.0) (2025.3.0)\n",
      "Requirement already satisfied: typing-extensions>=4.4.0 in c:\\users\\akulshre\\.pyenv\\pyenv-win\\versions\\3.10.5\\lib\\site-packages (from pytorch-lightning==2.4.0) (4.12.2)\n",
      "Collecting lightning-utilities>=0.10.0\n",
      "  Downloading lightning_utilities-0.14.2-py3-none-any.whl (28 kB)\n",
      "Requirement already satisfied: PyYAML>=5.4 in c:\\users\\akulshre\\.pyenv\\pyenv-win\\versions\\3.10.5\\lib\\site-packages (from pytorch-lightning==2.4.0) (6.0.2)\n",
      "Requirement already satisfied: packaging>=20.0 in c:\\users\\akulshre\\.pyenv\\pyenv-win\\versions\\3.10.5\\lib\\site-packages (from pytorch-lightning==2.4.0) (24.2)\n",
      "Collecting torch>=2.1.0\n",
      "  Using cached torch-2.6.0-cp310-cp310-win_amd64.whl (204.2 MB)\n",
      "Requirement already satisfied: tqdm>=4.57.0 in c:\\users\\akulshre\\.pyenv\\pyenv-win\\versions\\3.10.5\\lib\\site-packages (from pytorch-lightning==2.4.0) (4.66.5)\n",
      "Collecting torchmetrics>=0.7.0\n",
      "  Downloading torchmetrics-1.7.0-py3-none-any.whl (960 kB)\n",
      "     ------------------------------------- 960.9/960.9 KB 10.2 MB/s eta 0:00:00\n",
      "Collecting aiohttp!=4.0.0a0,!=4.0.0a1\n",
      "  Downloading aiohttp-3.11.16-cp310-cp310-win_amd64.whl (442 kB)\n",
      "     ------------------------------------- 442.2/442.2 KB 13.9 MB/s eta 0:00:00\n",
      "Requirement already satisfied: setuptools in c:\\users\\akulshre\\.pyenv\\pyenv-win\\versions\\3.10.5\\lib\\site-packages (from lightning-utilities>=0.10.0->pytorch-lightning==2.4.0) (58.1.0)\n",
      "Requirement already satisfied: filelock in c:\\users\\akulshre\\.pyenv\\pyenv-win\\versions\\3.10.5\\lib\\site-packages (from torch>=2.1.0->pytorch-lightning==2.4.0) (3.18.0)\n",
      "Collecting networkx\n",
      "  Downloading networkx-3.4.2-py3-none-any.whl (1.7 MB)\n",
      "     ---------------------------------------- 1.7/1.7 MB 10.0 MB/s eta 0:00:00\n",
      "Requirement already satisfied: jinja2 in c:\\users\\akulshre\\.pyenv\\pyenv-win\\versions\\3.10.5\\lib\\site-packages (from torch>=2.1.0->pytorch-lightning==2.4.0) (3.1.6)\n",
      "Collecting sympy==1.13.1\n",
      "  Downloading sympy-1.13.1-py3-none-any.whl (6.2 MB)\n",
      "     ---------------------------------------- 6.2/6.2 MB 13.6 MB/s eta 0:00:00\n",
      "Requirement already satisfied: mpmath<1.4,>=1.1.0 in c:\\users\\akulshre\\.pyenv\\pyenv-win\\versions\\3.10.5\\lib\\site-packages (from sympy==1.13.1->torch>=2.1.0->pytorch-lightning==2.4.0) (1.3.0)\n",
      "Requirement already satisfied: numpy>1.20.0 in c:\\users\\akulshre\\.pyenv\\pyenv-win\\versions\\3.10.5\\lib\\site-packages (from torchmetrics>=0.7.0->pytorch-lightning==2.4.0) (2.2.4)\n",
      "Requirement already satisfied: colorama in c:\\users\\akulshre\\.pyenv\\pyenv-win\\versions\\3.10.5\\lib\\site-packages (from tqdm>=4.57.0->pytorch-lightning==2.4.0) (0.4.6)\n",
      "Collecting yarl<2.0,>=1.17.0\n",
      "  Downloading yarl-1.18.3-cp310-cp310-win_amd64.whl (90 kB)\n",
      "     ---------------------------------------- 90.5/90.5 KB 5.0 MB/s eta 0:00:00\n",
      "Collecting aiohappyeyeballs>=2.3.0\n",
      "  Downloading aiohappyeyeballs-2.6.1-py3-none-any.whl (15 kB)\n",
      "Collecting frozenlist>=1.1.1\n",
      "  Downloading frozenlist-1.5.0-cp310-cp310-win_amd64.whl (51 kB)\n",
      "     ---------------------------------------- 51.6/51.6 KB 2.6 MB/s eta 0:00:00\n",
      "Collecting propcache>=0.2.0\n",
      "  Downloading propcache-0.3.1-cp310-cp310-win_amd64.whl (45 kB)\n",
      "     ---------------------------------------- 45.2/45.2 KB 2.3 MB/s eta 0:00:00\n",
      "Collecting async-timeout<6.0,>=4.0\n",
      "  Downloading async_timeout-5.0.1-py3-none-any.whl (6.2 kB)\n",
      "Collecting attrs>=17.3.0\n",
      "  Downloading attrs-25.3.0-py3-none-any.whl (63 kB)\n",
      "     ---------------------------------------- 63.8/63.8 KB 3.6 MB/s eta 0:00:00\n",
      "Collecting multidict<7.0,>=4.5\n",
      "  Downloading multidict-6.3.1-cp310-cp310-win_amd64.whl (38 kB)\n",
      "Collecting aiosignal>=1.1.2\n",
      "  Downloading aiosignal-1.3.2-py2.py3-none-any.whl (7.6 kB)\n",
      "Requirement already satisfied: MarkupSafe>=2.0 in c:\\users\\akulshre\\.pyenv\\pyenv-win\\versions\\3.10.5\\lib\\site-packages (from jinja2->torch>=2.1.0->pytorch-lightning==2.4.0) (3.0.2)\n",
      "Requirement already satisfied: idna>=2.0 in c:\\users\\akulshre\\.pyenv\\pyenv-win\\versions\\3.10.5\\lib\\site-packages (from yarl<2.0,>=1.17.0->aiohttp!=4.0.0a0,!=4.0.0a1->fsspec[http]>=2022.5.0->pytorch-lightning==2.4.0) (3.10)\n",
      "Installing collected packages: sympy, propcache, networkx, multidict, lightning-utilities, frozenlist, attrs, async-timeout, aiohappyeyeballs, yarl, torch, aiosignal, torchmetrics, aiohttp, pytorch-lightning\n",
      "  Attempting uninstall: sympy\n",
      "    Found existing installation: sympy 1.13.3\n",
      "    Uninstalling sympy-1.13.3:\n",
      "      Successfully uninstalled sympy-1.13.3\n",
      "Successfully installed aiohappyeyeballs-2.6.1 aiohttp-3.11.16 aiosignal-1.3.2 async-timeout-5.0.1 attrs-25.3.0 frozenlist-1.5.0 lightning-utilities-0.14.2 multidict-6.3.1 networkx-3.4.2 propcache-0.3.1 pytorch-lightning-2.4.0 sympy-1.13.1 torch-2.6.0 torchmetrics-1.7.0 yarl-1.18.3\n"
     ]
    },
    {
     "name": "stderr",
     "output_type": "stream",
     "text": [
      "WARNING: You are using pip version 22.0.4; however, version 25.0.1 is available.\n",
      "You should consider upgrading via the 'C:\\Users\\akulshre\\.pyenv\\pyenv-win\\versions\\3.10.5\\python3.exe -m pip install --upgrade pip' command.\n"
     ]
    },
    {
     "name": "stdout",
     "output_type": "stream",
     "text": [
      "Collecting hydra-core==1.3.2"
     ]
    },
    {
     "name": "stderr",
     "output_type": "stream",
     "text": [
      "WARNING: You are using pip version 22.0.4; however, version 25.0.1 is available.\n",
      "You should consider upgrading via the 'C:\\Users\\akulshre\\.pyenv\\pyenv-win\\versions\\3.10.5\\python3.exe -m pip install --upgrade pip' command.\n"
     ]
    },
    {
     "name": "stdout",
     "output_type": "stream",
     "text": [
      "\n",
      "  Downloading hydra_core-1.3.2-py3-none-any.whl (154 kB)\n",
      "     -------------------------------------- 154.5/154.5 KB 3.1 MB/s eta 0:00:00\n",
      "Collecting omegaconf<2.4,>=2.2\n",
      "  Downloading omegaconf-2.3.0-py3-none-any.whl (79 kB)\n",
      "     ---------------------------------------- 79.5/79.5 KB 4.3 MB/s eta 0:00:00\n",
      "Collecting antlr4-python3-runtime==4.9.*\n",
      "  Downloading antlr4-python3-runtime-4.9.3.tar.gz (117 kB)\n",
      "     -------------------------------------- 117.0/117.0 KB 7.1 MB/s eta 0:00:00\n",
      "  Preparing metadata (setup.py): started\n",
      "  Preparing metadata (setup.py): finished with status 'done'\n",
      "Requirement already satisfied: packaging in c:\\users\\akulshre\\.pyenv\\pyenv-win\\versions\\3.10.5\\lib\\site-packages (from hydra-core==1.3.2) (24.2)\n",
      "Requirement already satisfied: PyYAML>=5.1.0 in c:\\users\\akulshre\\.pyenv\\pyenv-win\\versions\\3.10.5\\lib\\site-packages (from omegaconf<2.4,>=2.2->hydra-core==1.3.2) (6.0.2)\n",
      "Using legacy 'setup.py install' for antlr4-python3-runtime, since package 'wheel' is not installed.\n",
      "Installing collected packages: antlr4-python3-runtime, omegaconf, hydra-core\n",
      "  Running setup.py install for antlr4-python3-runtime: started\n",
      "  Running setup.py install for antlr4-python3-runtime: finished with status 'done'\n",
      "Successfully installed antlr4-python3-runtime-4.9.3 hydra-core-1.3.2 omegaconf-2.3.0\n",
      "Collecting librosa==0.10.2.post1\n",
      "  Downloading librosa-0.10.2.post1-py3-none-any.whl (260 kB)\n",
      "     -------------------------------------- 260.1/260.1 KB 3.2 MB/s eta 0:00:00\n",
      "Collecting scikit-learn>=0.20.0\n",
      "  Downloading scikit_learn-1.6.1-cp310-cp310-win_amd64.whl (11.1 MB)\n",
      "     --------------------------------------- 11.1/11.1 MB 14.6 MB/s eta 0:00:00\n",
      "Collecting pooch>=1.1\n",
      "  Downloading pooch-1.8.2-py3-none-any.whl (64 kB)\n",
      "     ---------------------------------------- 64.6/64.6 KB ? eta 0:00:00\n",
      "Requirement already satisfied: typing-extensions>=4.1.1 in c:\\users\\akulshre\\.pyenv\\pyenv-win\\versions\\3.10.5\\lib\\site-packages (from librosa==0.10.2.post1) (4.12.2)\n",
      "Requirement already satisfied: decorator>=4.3.0 in c:\\users\\akulshre\\.pyenv\\pyenv-win\\versions\\3.10.5\\lib\\site-packages (from librosa==0.10.2.post1) (5.2.1)\n",
      "Requirement already satisfied: numpy!=1.22.0,!=1.22.1,!=1.22.2,>=1.20.3 in c:\\users\\akulshre\\.pyenv\\pyenv-win\\versions\\3.10.5\\lib\\site-packages (from librosa==0.10.2.post1) (2.2.4)\n",
      "Collecting joblib>=0.14\n",
      "  Downloading joblib-1.4.2-py3-none-any.whl (301 kB)\n",
      "     ------------------------------------- 301.8/301.8 KB 19.4 MB/s eta 0:00:00\n",
      "Collecting msgpack>=1.0\n",
      "  Using cached msgpack-1.1.0-cp310-cp310-win_amd64.whl (74 kB)\n",
      "Collecting lazy-loader>=0.1\n",
      "  Downloading lazy_loader-0.4-py3-none-any.whl (12 kB)\n",
      "Collecting audioread>=2.1.9\n",
      "  Downloading audioread-3.0.1-py3-none-any.whl (23 kB)\n",
      "Collecting scipy>=1.2.0\n",
      "  Downloading scipy-1.15.2-cp310-cp310-win_amd64.whl (41.2 MB)\n",
      "     ---------------------------------------- 41.2/41.2 MB 7.3 MB/s eta 0:00:00\n",
      "Collecting numba>=0.51.0\n",
      "  Downloading numba-0.61.0-cp310-cp310-win_amd64.whl (2.8 MB)\n",
      "     ---------------------------------------- 2.8/2.8 MB 15.0 MB/s eta 0:00:00\n",
      "Collecting soundfile>=0.12.1\n",
      "  Downloading soundfile-0.13.1-py2.py3-none-win_amd64.whl (1.0 MB)\n",
      "     ---------------------------------------- 1.0/1.0 MB 16.0 MB/s eta 0:00:00\n",
      "Collecting soxr>=0.3.2\n",
      "  Downloading soxr-0.5.0.post1-cp310-cp310-win_amd64.whl (166 kB)\n",
      "     ------------------------------------- 166.9/166.9 KB 10.4 MB/s eta 0:00:00\n",
      "Requirement already satisfied: packaging in c:\\users\\akulshre\\.pyenv\\pyenv-win\\versions\\3.10.5\\lib\\site-packages (from lazy-loader>=0.1->librosa==0.10.2.post1) (24.2)\n",
      "Collecting llvmlite<0.45,>=0.44.0dev0\n",
      "  Downloading llvmlite-0.44.0-cp310-cp310-win_amd64.whl (30.3 MB)\n",
      "     --------------------------------------- 30.3/30.3 MB 10.1 MB/s eta 0:00:00\n",
      "Collecting numpy!=1.22.0,!=1.22.1,!=1.22.2,>=1.20.3\n",
      "  Downloading numpy-2.1.3-cp310-cp310-win_amd64.whl (12.9 MB)\n",
      "     --------------------------------------- 12.9/12.9 MB 15.2 MB/s eta 0:00:00\n",
      "Requirement already satisfied: requests>=2.19.0 in c:\\users\\akulshre\\.pyenv\\pyenv-win\\versions\\3.10.5\\lib\\site-packages (from pooch>=1.1->librosa==0.10.2.post1) (2.32.3)\n",
      "Requirement already satisfied: platformdirs>=2.5.0 in c:\\users\\akulshre\\.pyenv\\pyenv-win\\versions\\3.10.5\\lib\\site-packages (from pooch>=1.1->librosa==0.10.2.post1) (4.3.7)\n",
      "Collecting threadpoolctl>=3.1.0\n",
      "  Downloading threadpoolctl-3.6.0-py3-none-any.whl (18 kB)\n",
      "Collecting cffi>=1.0\n",
      "  Downloading cffi-1.17.1-cp310-cp310-win_amd64.whl (181 kB)\n",
      "     -------------------------------------- 181.3/181.3 KB 5.3 MB/s eta 0:00:00\n",
      "Collecting pycparser\n",
      "  Downloading pycparser-2.22-py3-none-any.whl (117 kB)\n",
      "     -------------------------------------- 117.6/117.6 KB 2.3 MB/s eta 0:00:00\n",
      "Requirement already satisfied: charset-normalizer<4,>=2 in c:\\users\\akulshre\\.pyenv\\pyenv-win\\versions\\3.10.5\\lib\\site-packages (from requests>=2.19.0->pooch>=1.1->librosa==0.10.2.post1) (3.4.1)\n",
      "Requirement already satisfied: idna<4,>=2.5 in c:\\users\\akulshre\\.pyenv\\pyenv-win\\versions\\3.10.5\\lib\\site-packages (from requests>=2.19.0->pooch>=1.1->librosa==0.10.2.post1) (3.10)\n",
      "Requirement already satisfied: certifi>=2017.4.17 in c:\\users\\akulshre\\.pyenv\\pyenv-win\\versions\\3.10.5\\lib\\site-packages (from requests>=2.19.0->pooch>=1.1->librosa==0.10.2.post1) (2025.1.31)\n",
      "Requirement already satisfied: urllib3<3,>=1.21.1 in c:\\users\\akulshre\\.pyenv\\pyenv-win\\versions\\3.10.5\\lib\\site-packages (from requests>=2.19.0->pooch>=1.1->librosa==0.10.2.post1) (2.3.0)\n",
      "Installing collected packages: threadpoolctl, pycparser, numpy, msgpack, llvmlite, lazy-loader, joblib, audioread, soxr, scipy, pooch, numba, cffi, soundfile, scikit-learn, librosa\n",
      "  Attempting uninstall: numpy\n",
      "    Found existing installation: numpy 2.2.4\n",
      "    Uninstalling numpy-2.2.4:\n",
      "      Successfully uninstalled numpy-2.2.4\n",
      "Successfully installed audioread-3.0.1 cffi-1.17.1 joblib-1.4.2 lazy-loader-0.4 librosa-0.10.2.post1 llvmlite-0.44.0 msgpack-1.1.0 numba-0.61.0 numpy-2.1.3 pooch-1.8.2 pycparser-2.22 scikit-learn-1.6.1 scipy-1.15.2 soundfile-0.13.1 soxr-0.5.0.post1 threadpoolctl-3.6.0\n"
     ]
    },
    {
     "name": "stderr",
     "output_type": "stream",
     "text": [
      "ERROR: pip's dependency resolver does not currently take into account all the packages that are installed. This behaviour is the source of the following dependency conflicts.\n",
      "gradio 5.23.0 requires huggingface-hub>=0.28.1, but you have huggingface-hub 0.23.0 which is incompatible.\n",
      "WARNING: You are using pip version 22.0.4; however, version 25.0.1 is available.\n",
      "You should consider upgrading via the 'C:\\Users\\akulshre\\.pyenv\\pyenv-win\\versions\\3.10.5\\python3.exe -m pip install --upgrade pip' command.\n"
     ]
    },
    {
     "name": "stdout",
     "output_type": "stream",
     "text": [
      "Collecting sentencepiece==0.2.0\n",
      "  Downloading sentencepiece-0.2.0-cp310-cp310-win_amd64.whl (991 kB)\n",
      "     -------------------------------------- 991.5/991.5 KB 5.2 MB/s eta 0:00:00\n",
      "Installing collected packages: sentencepiece\n",
      "Successfully installed sentencepiece-0.2.0\n"
     ]
    },
    {
     "name": "stderr",
     "output_type": "stream",
     "text": [
      "WARNING: You are using pip version 22.0.4; however, version 25.0.1 is available.\n",
      "You should consider upgrading via the 'C:\\Users\\akulshre\\.pyenv\\pyenv-win\\versions\\3.10.5\\python3.exe -m pip install --upgrade pip' command.\n"
     ]
    },
    {
     "name": "stdout",
     "output_type": "stream",
     "text": [
      "Collecting pandas==2.2.2\n",
      "  Downloading pandas-2.2.2-cp310-cp310-win_amd64.whl (11.6 MB)\n",
      "     --------------------------------------- 11.6/11.6 MB 10.4 MB/s eta 0:00:00\n",
      "Requirement already satisfied: tzdata>=2022.7 in c:\\users\\akulshre\\.pyenv\\pyenv-win\\versions\\3.10.5\\lib\\site-packages (from pandas==2.2.2) (2025.2)\n",
      "Requirement already satisfied: numpy>=1.22.4 in c:\\users\\akulshre\\.pyenv\\pyenv-win\\versions\\3.10.5\\lib\\site-packages (from pandas==2.2.2) (2.1.3)\n",
      "Requirement already satisfied: python-dateutil>=2.8.2 in c:\\users\\akulshre\\.pyenv\\pyenv-win\\versions\\3.10.5\\lib\\site-packages (from pandas==2.2.2) (2.9.0.post0)\n",
      "Requirement already satisfied: pytz>=2020.1 in c:\\users\\akulshre\\.pyenv\\pyenv-win\\versions\\3.10.5\\lib\\site-packages (from pandas==2.2.2) (2025.2)\n",
      "Requirement already satisfied: six>=1.5 in c:\\users\\akulshre\\.pyenv\\pyenv-win\\versions\\3.10.5\\lib\\site-packages (from python-dateutil>=2.8.2->pandas==2.2.2) (1.17.0)\n",
      "Installing collected packages: pandas\n",
      "  Attempting uninstall: pandas\n",
      "    Found existing installation: pandas 2.2.3\n",
      "    Uninstalling pandas-2.2.3:\n",
      "      Successfully uninstalled pandas-2.2.3\n",
      "Successfully installed pandas-2.2.2\n"
     ]
    },
    {
     "name": "stderr",
     "output_type": "stream",
     "text": [
      "ERROR: pip's dependency resolver does not currently take into account all the packages that are installed. This behaviour is the source of the following dependency conflicts.\n",
      "gradio 5.23.0 requires huggingface-hub>=0.28.1, but you have huggingface-hub 0.23.0 which is incompatible.\n",
      "WARNING: You are using pip version 22.0.4; however, version 25.0.1 is available.\n",
      "You should consider upgrading via the 'C:\\Users\\akulshre\\.pyenv\\pyenv-win\\versions\\3.10.5\\python3.exe -m pip install --upgrade pip' command.\n"
     ]
    },
    {
     "name": "stdout",
     "output_type": "stream",
     "text": [
      "Collecting lhotse==1.27.0\n",
      "  Downloading lhotse-1.27.0-py3-none-any.whl (806 kB)\n",
      "     -------------------------------------- 806.9/806.9 KB 5.6 MB/s eta 0:00:00\n",
      "Requirement already satisfied: packaging in c:\\users\\akulshre\\.pyenv\\pyenv-win\\versions\\3.10.5\\lib\\site-packages (from lhotse==1.27.0) (24.2)\n",
      "Requirement already satisfied: tqdm in c:\\users\\akulshre\\.pyenv\\pyenv-win\\versions\\3.10.5\\lib\\site-packages (from lhotse==1.27.0) (4.66.5)\n",
      "Collecting lilcom>=1.1.0\n",
      "  Downloading lilcom-1.8.1-cp310-cp310-win_amd64.whl (68 kB)\n",
      "     ---------------------------------------- 68.5/68.5 KB 1.9 MB/s eta 0:00:00\n",
      "Requirement already satisfied: click>=7.1.1 in c:\\users\\akulshre\\.pyenv\\pyenv-win\\versions\\3.10.5\\lib\\site-packages (from lhotse==1.27.0) (8.1.8)\n",
      "Collecting intervaltree>=3.1.0\n",
      "  Downloading intervaltree-3.1.0.tar.gz (32 kB)\n",
      "  Preparing metadata (setup.py): started\n",
      "  Preparing metadata (setup.py): finished with status 'done'\n",
      "Requirement already satisfied: audioread>=2.1.9 in c:\\users\\akulshre\\.pyenv\\pyenv-win\\versions\\3.10.5\\lib\\site-packages (from lhotse==1.27.0) (3.0.1)\n",
      "Requirement already satisfied: SoundFile>=0.10 in c:\\users\\akulshre\\.pyenv\\pyenv-win\\versions\\3.10.5\\lib\\site-packages (from lhotse==1.27.0) (0.13.1)\n",
      "Requirement already satisfied: pyyaml>=5.3.1 in c:\\users\\akulshre\\.pyenv\\pyenv-win\\versions\\3.10.5\\lib\\site-packages (from lhotse==1.27.0) (6.0.2)\n",
      "Requirement already satisfied: numpy>=1.18.1 in c:\\users\\akulshre\\.pyenv\\pyenv-win\\versions\\3.10.5\\lib\\site-packages (from lhotse==1.27.0) (2.1.3)\n",
      "Collecting cytoolz>=0.10.1\n",
      "  Downloading cytoolz-1.0.1-cp310-cp310-win_amd64.whl (363 kB)\n",
      "     ------------------------------------- 363.6/363.6 KB 11.4 MB/s eta 0:00:00\n",
      "Collecting tabulate>=0.8.1\n",
      "  Downloading tabulate-0.9.0-py3-none-any.whl (35 kB)\n",
      "Requirement already satisfied: colorama in c:\\users\\akulshre\\.pyenv\\pyenv-win\\versions\\3.10.5\\lib\\site-packages (from click>=7.1.1->lhotse==1.27.0) (0.4.6)\n",
      "Collecting toolz>=0.8.0\n",
      "  Downloading toolz-1.0.0-py3-none-any.whl (56 kB)\n",
      "     ---------------------------------------- 56.4/56.4 KB 2.9 MB/s eta 0:00:00\n",
      "Collecting sortedcontainers<3.0,>=2.0\n",
      "  Downloading sortedcontainers-2.4.0-py2.py3-none-any.whl (29 kB)\n",
      "Requirement already satisfied: cffi>=1.0 in c:\\users\\akulshre\\.pyenv\\pyenv-win\\versions\\3.10.5\\lib\\site-packages (from SoundFile>=0.10->lhotse==1.27.0) (1.17.1)\n",
      "Requirement already satisfied: pycparser in c:\\users\\akulshre\\.pyenv\\pyenv-win\\versions\\3.10.5\\lib\\site-packages (from cffi>=1.0->SoundFile>=0.10->lhotse==1.27.0) (2.22)\n",
      "Using legacy 'setup.py install' for intervaltree, since package 'wheel' is not installed.\n",
      "Installing collected packages: sortedcontainers, toolz, tabulate, lilcom, intervaltree, cytoolz, lhotse\n",
      "  Running setup.py install for intervaltree: started\n",
      "  Running setup.py install for intervaltree: finished with status 'done'\n",
      "Successfully installed cytoolz-1.0.1 intervaltree-3.1.0 lhotse-1.27.0 lilcom-1.8.1 sortedcontainers-2.4.0 tabulate-0.9.0 toolz-1.0.0\n"
     ]
    },
    {
     "name": "stderr",
     "output_type": "stream",
     "text": [
      "WARNING: You are using pip version 22.0.4; however, version 25.0.1 is available.\n",
      "You should consider upgrading via the 'C:\\Users\\akulshre\\.pyenv\\pyenv-win\\versions\\3.10.5\\python3.exe -m pip install --upgrade pip' command.\n"
     ]
    },
    {
     "name": "stdout",
     "output_type": "stream",
     "text": [
      "Collecting editdistance==0.8.1\n",
      "  Downloading editdistance-0.8.1-cp310-cp310-win_amd64.whl (79 kB)\n",
      "     ---------------------------------------- 79.6/79.6 KB 2.2 MB/s eta 0:00:00\n",
      "Installing collected packages: editdistance\n",
      "Successfully installed editdistance-0.8.1\n"
     ]
    },
    {
     "name": "stderr",
     "output_type": "stream",
     "text": [
      "WARNING: You are using pip version 22.0.4; however, version 25.0.1 is available.\n",
      "You should consider upgrading via the 'C:\\Users\\akulshre\\.pyenv\\pyenv-win\\versions\\3.10.5\\python3.exe -m pip install --upgrade pip' command.\n"
     ]
    },
    {
     "name": "stdout",
     "output_type": "stream",
     "text": [
      "Collecting jiwer==3.0.4\n",
      "  Downloading jiwer-3.0.4-py3-none-any.whl (21 kB)\n",
      "Requirement already satisfied: click<9.0.0,>=8.1.3 in c:\\users\\akulshre\\.pyenv\\pyenv-win\\versions\\3.10.5\\lib\\site-packages (from jiwer==3.0.4) (8.1.8)\n",
      "Collecting rapidfuzz<4,>=3\n",
      "  Downloading rapidfuzz-3.12.2-cp310-cp310-win_amd64.whl (1.6 MB)\n",
      "     ---------------------------------------- 1.6/1.6 MB 9.4 MB/s eta 0:00:00\n",
      "Requirement already satisfied: colorama in c:\\users\\akulshre\\.pyenv\\pyenv-win\\versions\\3.10.5\\lib\\site-packages (from click<9.0.0,>=8.1.3->jiwer==3.0.4) (0.4.6)\n",
      "Installing collected packages: rapidfuzz, jiwer\n",
      "Successfully installed jiwer-3.0.4 rapidfuzz-3.12.2\n"
     ]
    },
    {
     "name": "stderr",
     "output_type": "stream",
     "text": [
      "WARNING: You are using pip version 22.0.4; however, version 25.0.1 is available.\n",
      "You should consider upgrading via the 'C:\\Users\\akulshre\\.pyenv\\pyenv-win\\versions\\3.10.5\\python3.exe -m pip install --upgrade pip' command.\n"
     ]
    },
    {
     "name": "stdout",
     "output_type": "stream",
     "text": [
      "Collecting pyannote.audio==3.3.1\n",
      "  Downloading pyannote.audio-3.3.1-py2.py3-none-any.whl (898 kB)\n",
      "     -------------------------------------- 898.7/898.7 KB 7.1 MB/s eta 0:00:00\n",
      "Requirement already satisfied: rich>=12.0.0 in c:\\users\\akulshre\\.pyenv\\pyenv-win\\versions\\3.10.5\\lib\\site-packages (from pyannote.audio==3.3.1) (13.9.4)\n",
      "Collecting pyannote.pipeline>=3.0.1\n",
      "  Downloading pyannote.pipeline-3.0.1-py3-none-any.whl (31 kB)\n",
      "Collecting speechbrain>=1.0.0\n",
      "  Downloading speechbrain-1.0.2-py3-none-any.whl (824 kB)\n",
      "     ------------------------------------- 824.8/824.8 KB 13.1 MB/s eta 0:00:00\n",
      "Requirement already satisfied: torchmetrics>=0.11.0 in c:\\users\\akulshre\\.pyenv\\pyenv-win\\versions\\3.10.5\\lib\\site-packages (from pyannote.audio==3.3.1) (1.7.0)\n",
      "Collecting torchaudio>=2.2.0\n",
      "  Downloading torchaudio-2.6.0-cp310-cp310-win_amd64.whl (2.4 MB)\n",
      "     ---------------------------------------- 2.4/2.4 MB 14.2 MB/s eta 0:00:00\n",
      "Collecting asteroid-filterbanks>=0.4\n",
      "  Downloading asteroid_filterbanks-0.4.0-py3-none-any.whl (29 kB)\n",
      "Requirement already satisfied: soundfile>=0.12.1 in c:\\users\\akulshre\\.pyenv\\pyenv-win\\versions\\3.10.5\\lib\\site-packages (from pyannote.audio==3.3.1) (0.13.1)\n",
      "Collecting pyannote.database>=5.0.1\n",
      "  Downloading pyannote.database-5.1.3-py3-none-any.whl (48 kB)\n",
      "     ---------------------------------------- 48.1/48.1 KB 2.4 MB/s eta 0:00:00\n",
      "Collecting pyannote.metrics>=3.2\n",
      "  Downloading pyannote.metrics-3.2.1-py3-none-any.whl (51 kB)\n",
      "     ---------------------------------------- 51.4/51.4 KB 2.7 MB/s eta 0:00:00\n",
      "Collecting pyannote.core>=5.0.0\n",
      "  Downloading pyannote.core-5.0.0-py3-none-any.whl (58 kB)\n",
      "     ---------------------------------------- 58.5/58.5 KB 1.6 MB/s eta 0:00:00\n",
      "Collecting semver>=3.0.0\n",
      "  Downloading semver-3.0.4-py3-none-any.whl (17 kB)\n",
      "Requirement already satisfied: omegaconf<3.0,>=2.1 in c:\\users\\akulshre\\.pyenv\\pyenv-win\\versions\\3.10.5\\lib\\site-packages (from pyannote.audio==3.3.1) (2.3.0)\n",
      "Collecting pytorch-metric-learning>=2.1.0\n",
      "  Downloading pytorch_metric_learning-2.8.1-py3-none-any.whl (125 kB)\n",
      "     -------------------------------------- 125.9/125.9 KB 7.7 MB/s eta 0:00:00\n",
      "Collecting lightning>=2.0.1\n",
      "  Downloading lightning-2.5.1-py3-none-any.whl (818 kB)\n",
      "     ------------------------------------- 818.9/818.9 KB 12.8 MB/s eta 0:00:00\n",
      "Collecting torch-audiomentations>=0.11.0\n",
      "  Downloading torch_audiomentations-0.12.0-py3-none-any.whl (48 kB)\n",
      "     ---------------------------------------- 48.5/48.5 KB ? eta 0:00:00\n",
      "Collecting tensorboardX>=2.6\n",
      "  Downloading tensorboardX-2.6.2.2-py2.py3-none-any.whl (101 kB)\n",
      "     -------------------------------------- 101.7/101.7 KB 5.7 MB/s eta 0:00:00\n",
      "Collecting einops>=0.6.0\n",
      "  Downloading einops-0.8.1-py3-none-any.whl (64 kB)\n",
      "     ---------------------------------------- 64.4/64.4 KB 1.7 MB/s eta 0:00:00\n",
      "Requirement already satisfied: huggingface-hub>=0.13.0 in c:\\users\\akulshre\\.pyenv\\pyenv-win\\versions\\3.10.5\\lib\\site-packages (from pyannote.audio==3.3.1) (0.23.0)\n",
      "Requirement already satisfied: torch>=2.0.0 in c:\\users\\akulshre\\.pyenv\\pyenv-win\\versions\\3.10.5\\lib\\site-packages (from pyannote.audio==3.3.1) (2.6.0)\n",
      "Requirement already satisfied: typing-extensions in c:\\users\\akulshre\\.pyenv\\pyenv-win\\versions\\3.10.5\\lib\\site-packages (from asteroid-filterbanks>=0.4->pyannote.audio==3.3.1) (4.12.2)\n",
      "Requirement already satisfied: numpy in c:\\users\\akulshre\\.pyenv\\pyenv-win\\versions\\3.10.5\\lib\\site-packages (from asteroid-filterbanks>=0.4->pyannote.audio==3.3.1) (2.1.3)\n",
      "Requirement already satisfied: requests in c:\\users\\akulshre\\.pyenv\\pyenv-win\\versions\\3.10.5\\lib\\site-packages (from huggingface-hub>=0.13.0->pyannote.audio==3.3.1) (2.32.3)\n",
      "Requirement already satisfied: packaging>=20.9 in c:\\users\\akulshre\\.pyenv\\pyenv-win\\versions\\3.10.5\\lib\\site-packages (from huggingface-hub>=0.13.0->pyannote.audio==3.3.1) (24.2)\n",
      "Requirement already satisfied: pyyaml>=5.1 in c:\\users\\akulshre\\.pyenv\\pyenv-win\\versions\\3.10.5\\lib\\site-packages (from huggingface-hub>=0.13.0->pyannote.audio==3.3.1) (6.0.2)\n",
      "Requirement already satisfied: fsspec>=2023.5.0 in c:\\users\\akulshre\\.pyenv\\pyenv-win\\versions\\3.10.5\\lib\\site-packages (from huggingface-hub>=0.13.0->pyannote.audio==3.3.1) (2025.3.0)\n",
      "Requirement already satisfied: filelock in c:\\users\\akulshre\\.pyenv\\pyenv-win\\versions\\3.10.5\\lib\\site-packages (from huggingface-hub>=0.13.0->pyannote.audio==3.3.1) (3.18.0)\n",
      "Requirement already satisfied: tqdm>=4.42.1 in c:\\users\\akulshre\\.pyenv\\pyenv-win\\versions\\3.10.5\\lib\\site-packages (from huggingface-hub>=0.13.0->pyannote.audio==3.3.1) (4.66.5)\n",
      "Requirement already satisfied: lightning-utilities<2.0,>=0.10.0 in c:\\users\\akulshre\\.pyenv\\pyenv-win\\versions\\3.10.5\\lib\\site-packages (from lightning>=2.0.1->pyannote.audio==3.3.1) (0.14.2)\n",
      "Requirement already satisfied: pytorch-lightning in c:\\users\\akulshre\\.pyenv\\pyenv-win\\versions\\3.10.5\\lib\\site-packages (from lightning>=2.0.1->pyannote.audio==3.3.1) (2.4.0)\n",
      "Requirement already satisfied: antlr4-python3-runtime==4.9.* in c:\\users\\akulshre\\.pyenv\\pyenv-win\\versions\\3.10.5\\lib\\site-packages (from omegaconf<3.0,>=2.1->pyannote.audio==3.3.1) (4.9.3)\n",
      "Requirement already satisfied: sortedcontainers>=2.0.4 in c:\\users\\akulshre\\.pyenv\\pyenv-win\\versions\\3.10.5\\lib\\site-packages (from pyannote.core>=5.0.0->pyannote.audio==3.3.1) (2.4.0)\n",
      "Requirement already satisfied: scipy>=1.1 in c:\\users\\akulshre\\.pyenv\\pyenv-win\\versions\\3.10.5\\lib\\site-packages (from pyannote.core>=5.0.0->pyannote.audio==3.3.1) (1.15.2)\n",
      "Requirement already satisfied: typer>=0.12.1 in c:\\users\\akulshre\\.pyenv\\pyenv-win\\versions\\3.10.5\\lib\\site-packages (from pyannote.database>=5.0.1->pyannote.audio==3.3.1) (0.15.2)\n",
      "Requirement already satisfied: pandas>=0.19 in c:\\users\\akulshre\\.pyenv\\pyenv-win\\versions\\3.10.5\\lib\\site-packages (from pyannote.database>=5.0.1->pyannote.audio==3.3.1) (2.2.2)\n",
      "Requirement already satisfied: scikit-learn>=0.17.1 in c:\\users\\akulshre\\.pyenv\\pyenv-win\\versions\\3.10.5\\lib\\site-packages (from pyannote.metrics>=3.2->pyannote.audio==3.3.1) (1.6.1)\n",
      "Collecting matplotlib>=2.0.0\n",
      "  Downloading matplotlib-3.10.1-cp310-cp310-win_amd64.whl (8.1 MB)\n",
      "     ---------------------------------------- 8.1/8.1 MB 13.9 MB/s eta 0:00:00\n",
      "Requirement already satisfied: sympy>=1.1 in c:\\users\\akulshre\\.pyenv\\pyenv-win\\versions\\3.10.5\\lib\\site-packages (from pyannote.metrics>=3.2->pyannote.audio==3.3.1) (1.13.1)\n",
      "Collecting docopt>=0.6.2\n",
      "  Downloading docopt-0.6.2.tar.gz (25 kB)\n",
      "  Preparing metadata (setup.py): started\n",
      "  Preparing metadata (setup.py): finished with status 'done'\n",
      "Requirement already satisfied: tabulate>=0.7.7 in c:\\users\\akulshre\\.pyenv\\pyenv-win\\versions\\3.10.5\\lib\\site-packages (from pyannote.metrics>=3.2->pyannote.audio==3.3.1) (0.9.0)\n",
      "Collecting optuna>=3.1\n",
      "  Downloading optuna-4.2.1-py3-none-any.whl (383 kB)\n",
      "     ------------------------------------- 383.6/383.6 KB 24.9 MB/s eta 0:00:00\n",
      "Requirement already satisfied: markdown-it-py>=2.2.0 in c:\\users\\akulshre\\.pyenv\\pyenv-win\\versions\\3.10.5\\lib\\site-packages (from rich>=12.0.0->pyannote.audio==3.3.1) (3.0.0)\n",
      "Requirement already satisfied: pygments<3.0.0,>=2.13.0 in c:\\users\\akulshre\\.pyenv\\pyenv-win\\versions\\3.10.5\\lib\\site-packages (from rich>=12.0.0->pyannote.audio==3.3.1) (2.19.1)\n",
      "Requirement already satisfied: cffi>=1.0 in c:\\users\\akulshre\\.pyenv\\pyenv-win\\versions\\3.10.5\\lib\\site-packages (from soundfile>=0.12.1->pyannote.audio==3.3.1) (1.17.1)\n",
      "Requirement already satisfied: sentencepiece in c:\\users\\akulshre\\.pyenv\\pyenv-win\\versions\\3.10.5\\lib\\site-packages (from speechbrain>=1.0.0->pyannote.audio==3.3.1) (0.2.0)\n",
      "Requirement already satisfied: joblib in c:\\users\\akulshre\\.pyenv\\pyenv-win\\versions\\3.10.5\\lib\\site-packages (from speechbrain>=1.0.0->pyannote.audio==3.3.1) (1.4.2)\n",
      "Collecting hyperpyyaml\n",
      "  Downloading HyperPyYAML-1.2.2-py3-none-any.whl (16 kB)\n",
      "Requirement already satisfied: protobuf>=3.20 in c:\\users\\akulshre\\.pyenv\\pyenv-win\\versions\\3.10.5\\lib\\site-packages (from tensorboardX>=2.6->pyannote.audio==3.3.1) (6.30.2)\n",
      "Requirement already satisfied: jinja2 in c:\\users\\akulshre\\.pyenv\\pyenv-win\\versions\\3.10.5\\lib\\site-packages (from torch>=2.0.0->pyannote.audio==3.3.1) (3.1.6)\n",
      "Requirement already satisfied: networkx in c:\\users\\akulshre\\.pyenv\\pyenv-win\\versions\\3.10.5\\lib\\site-packages (from torch>=2.0.0->pyannote.audio==3.3.1) (3.4.2)\n",
      "Requirement already satisfied: mpmath<1.4,>=1.1.0 in c:\\users\\akulshre\\.pyenv\\pyenv-win\\versions\\3.10.5\\lib\\site-packages (from sympy>=1.1->pyannote.metrics>=3.2->pyannote.audio==3.3.1) (1.3.0)\n",
      "Collecting julius<0.3,>=0.2.3\n",
      "  Downloading julius-0.2.7.tar.gz (59 kB)\n",
      "     ---------------------------------------- 59.6/59.6 KB 3.1 MB/s eta 0:00:00\n",
      "  Preparing metadata (setup.py): started\n",
      "  Preparing metadata (setup.py): finished with status 'done'\n",
      "Collecting torch-pitch-shift>=1.2.2\n",
      "  Downloading torch_pitch_shift-1.2.5-py3-none-any.whl (5.0 kB)\n",
      "Requirement already satisfied: pycparser in c:\\users\\akulshre\\.pyenv\\pyenv-win\\versions\\3.10.5\\lib\\site-packages (from cffi>=1.0->soundfile>=0.12.1->pyannote.audio==3.3.1) (2.22)\n",
      "Requirement already satisfied: aiohttp!=4.0.0a0,!=4.0.0a1 in c:\\users\\akulshre\\.pyenv\\pyenv-win\\versions\\3.10.5\\lib\\site-packages (from fsspec>=2023.5.0->huggingface-hub>=0.13.0->pyannote.audio==3.3.1) (3.11.16)\n",
      "Requirement already satisfied: setuptools in c:\\users\\akulshre\\.pyenv\\pyenv-win\\versions\\3.10.5\\lib\\site-packages (from lightning-utilities<2.0,>=0.10.0->lightning>=2.0.1->pyannote.audio==3.3.1) (58.1.0)\n",
      "Requirement already satisfied: mdurl~=0.1 in c:\\users\\akulshre\\.pyenv\\pyenv-win\\versions\\3.10.5\\lib\\site-packages (from markdown-it-py>=2.2.0->rich>=12.0.0->pyannote.audio==3.3.1) (0.1.2)\n",
      "Collecting contourpy>=1.0.1\n",
      "  Downloading contourpy-1.3.1-cp310-cp310-win_amd64.whl (218 kB)\n",
      "     ------------------------------------- 218.6/218.6 KB 13.0 MB/s eta 0:00:00\n",
      "Collecting cycler>=0.10\n",
      "  Downloading cycler-0.12.1-py3-none-any.whl (8.3 kB)\n",
      "Requirement already satisfied: python-dateutil>=2.7 in c:\\users\\akulshre\\.pyenv\\pyenv-win\\versions\\3.10.5\\lib\\site-packages (from matplotlib>=2.0.0->pyannote.metrics>=3.2->pyannote.audio==3.3.1) (2.9.0.post0)\n",
      "Collecting pyparsing>=2.3.1\n",
      "  Downloading pyparsing-3.2.3-py3-none-any.whl (111 kB)\n",
      "     -------------------------------------- 111.1/111.1 KB 6.7 MB/s eta 0:00:00\n",
      "Collecting fonttools>=4.22.0\n",
      "  Downloading fonttools-4.56.0-cp310-cp310-win_amd64.whl (2.2 MB)\n",
      "     ---------------------------------------- 2.2/2.2 MB 14.0 MB/s eta 0:00:00\n",
      "Collecting kiwisolver>=1.3.1\n",
      "  Downloading kiwisolver-1.4.8-cp310-cp310-win_amd64.whl (71 kB)\n",
      "     ---------------------------------------- 71.9/71.9 KB 4.1 MB/s eta 0:00:00\n",
      "Requirement already satisfied: pillow>=8 in c:\\users\\akulshre\\.pyenv\\pyenv-win\\versions\\3.10.5\\lib\\site-packages (from matplotlib>=2.0.0->pyannote.metrics>=3.2->pyannote.audio==3.3.1) (11.1.0)\n",
      "Collecting alembic>=1.5.0\n",
      "  Downloading alembic-1.15.2-py3-none-any.whl (231 kB)\n",
      "     -------------------------------------- 231.9/231.9 KB 7.2 MB/s eta 0:00:00\n",
      "Collecting sqlalchemy>=1.4.2\n",
      "  Downloading sqlalchemy-2.0.40-cp310-cp310-win_amd64.whl (2.1 MB)\n",
      "     ---------------------------------------- 2.1/2.1 MB 15.0 MB/s eta 0:00:00\n",
      "Collecting colorlog\n",
      "  Downloading colorlog-6.9.0-py3-none-any.whl (11 kB)\n",
      "Requirement already satisfied: pytz>=2020.1 in c:\\users\\akulshre\\.pyenv\\pyenv-win\\versions\\3.10.5\\lib\\site-packages (from pandas>=0.19->pyannote.database>=5.0.1->pyannote.audio==3.3.1) (2025.2)\n",
      "Requirement already satisfied: tzdata>=2022.7 in c:\\users\\akulshre\\.pyenv\\pyenv-win\\versions\\3.10.5\\lib\\site-packages (from pandas>=0.19->pyannote.database>=5.0.1->pyannote.audio==3.3.1) (2025.2)\n",
      "Requirement already satisfied: threadpoolctl>=3.1.0 in c:\\users\\akulshre\\.pyenv\\pyenv-win\\versions\\3.10.5\\lib\\site-packages (from scikit-learn>=0.17.1->pyannote.metrics>=3.2->pyannote.audio==3.3.1) (3.6.0)\n",
      "Collecting primePy>=1.3\n",
      "  Downloading primePy-1.3-py3-none-any.whl (4.0 kB)\n",
      "Requirement already satisfied: colorama in c:\\users\\akulshre\\.pyenv\\pyenv-win\\versions\\3.10.5\\lib\\site-packages (from tqdm>=4.42.1->huggingface-hub>=0.13.0->pyannote.audio==3.3.1) (0.4.6)\n",
      "Requirement already satisfied: shellingham>=1.3.0 in c:\\users\\akulshre\\.pyenv\\pyenv-win\\versions\\3.10.5\\lib\\site-packages (from typer>=0.12.1->pyannote.database>=5.0.1->pyannote.audio==3.3.1) (1.5.4)\n",
      "Requirement already satisfied: click>=8.0.0 in c:\\users\\akulshre\\.pyenv\\pyenv-win\\versions\\3.10.5\\lib\\site-packages (from typer>=0.12.1->pyannote.database>=5.0.1->pyannote.audio==3.3.1) (8.1.8)\n",
      "Collecting ruamel.yaml>=0.17.28\n",
      "  Downloading ruamel.yaml-0.18.10-py3-none-any.whl (117 kB)\n",
      "     -------------------------------------- 117.7/117.7 KB 3.5 MB/s eta 0:00:00\n",
      "Requirement already satisfied: MarkupSafe>=2.0 in c:\\users\\akulshre\\.pyenv\\pyenv-win\\versions\\3.10.5\\lib\\site-packages (from jinja2->torch>=2.0.0->pyannote.audio==3.3.1) (3.0.2)\n",
      "Requirement already satisfied: certifi>=2017.4.17 in c:\\users\\akulshre\\.pyenv\\pyenv-win\\versions\\3.10.5\\lib\\site-packages (from requests->huggingface-hub>=0.13.0->pyannote.audio==3.3.1) (2025.1.31)\n",
      "Requirement already satisfied: urllib3<3,>=1.21.1 in c:\\users\\akulshre\\.pyenv\\pyenv-win\\versions\\3.10.5\\lib\\site-packages (from requests->huggingface-hub>=0.13.0->pyannote.audio==3.3.1) (2.3.0)\n",
      "Requirement already satisfied: charset-normalizer<4,>=2 in c:\\users\\akulshre\\.pyenv\\pyenv-win\\versions\\3.10.5\\lib\\site-packages (from requests->huggingface-hub>=0.13.0->pyannote.audio==3.3.1) (3.4.1)\n",
      "Requirement already satisfied: idna<4,>=2.5 in c:\\users\\akulshre\\.pyenv\\pyenv-win\\versions\\3.10.5\\lib\\site-packages (from requests->huggingface-hub>=0.13.0->pyannote.audio==3.3.1) (3.10)\n",
      "Requirement already satisfied: async-timeout<6.0,>=4.0 in c:\\users\\akulshre\\.pyenv\\pyenv-win\\versions\\3.10.5\\lib\\site-packages (from aiohttp!=4.0.0a0,!=4.0.0a1->fsspec>=2023.5.0->huggingface-hub>=0.13.0->pyannote.audio==3.3.1) (5.0.1)\n",
      "Requirement already satisfied: yarl<2.0,>=1.17.0 in c:\\users\\akulshre\\.pyenv\\pyenv-win\\versions\\3.10.5\\lib\\site-packages (from aiohttp!=4.0.0a0,!=4.0.0a1->fsspec>=2023.5.0->huggingface-hub>=0.13.0->pyannote.audio==3.3.1) (1.18.3)\n",
      "Requirement already satisfied: frozenlist>=1.1.1 in c:\\users\\akulshre\\.pyenv\\pyenv-win\\versions\\3.10.5\\lib\\site-packages (from aiohttp!=4.0.0a0,!=4.0.0a1->fsspec>=2023.5.0->huggingface-hub>=0.13.0->pyannote.audio==3.3.1) (1.5.0)\n",
      "Requirement already satisfied: multidict<7.0,>=4.5 in c:\\users\\akulshre\\.pyenv\\pyenv-win\\versions\\3.10.5\\lib\\site-packages (from aiohttp!=4.0.0a0,!=4.0.0a1->fsspec>=2023.5.0->huggingface-hub>=0.13.0->pyannote.audio==3.3.1) (6.3.1)\n",
      "Requirement already satisfied: attrs>=17.3.0 in c:\\users\\akulshre\\.pyenv\\pyenv-win\\versions\\3.10.5\\lib\\site-packages (from aiohttp!=4.0.0a0,!=4.0.0a1->fsspec>=2023.5.0->huggingface-hub>=0.13.0->pyannote.audio==3.3.1) (25.3.0)\n",
      "Requirement already satisfied: propcache>=0.2.0 in c:\\users\\akulshre\\.pyenv\\pyenv-win\\versions\\3.10.5\\lib\\site-packages (from aiohttp!=4.0.0a0,!=4.0.0a1->fsspec>=2023.5.0->huggingface-hub>=0.13.0->pyannote.audio==3.3.1) (0.3.1)\n",
      "Requirement already satisfied: aiohappyeyeballs>=2.3.0 in c:\\users\\akulshre\\.pyenv\\pyenv-win\\versions\\3.10.5\\lib\\site-packages (from aiohttp!=4.0.0a0,!=4.0.0a1->fsspec>=2023.5.0->huggingface-hub>=0.13.0->pyannote.audio==3.3.1) (2.6.1)\n",
      "Requirement already satisfied: aiosignal>=1.1.2 in c:\\users\\akulshre\\.pyenv\\pyenv-win\\versions\\3.10.5\\lib\\site-packages (from aiohttp!=4.0.0a0,!=4.0.0a1->fsspec>=2023.5.0->huggingface-hub>=0.13.0->pyannote.audio==3.3.1) (1.3.2)\n",
      "Collecting Mako\n",
      "  Downloading Mako-1.3.9-py3-none-any.whl (78 kB)\n",
      "     ---------------------------------------- 78.5/78.5 KB 4.3 MB/s eta 0:00:00\n",
      "Requirement already satisfied: six>=1.5 in c:\\users\\akulshre\\.pyenv\\pyenv-win\\versions\\3.10.5\\lib\\site-packages (from python-dateutil>=2.7->matplotlib>=2.0.0->pyannote.metrics>=3.2->pyannote.audio==3.3.1) (1.17.0)\n",
      "Collecting ruamel.yaml.clib>=0.2.7\n",
      "  Downloading ruamel.yaml.clib-0.2.12-cp310-cp310-win_amd64.whl (118 kB)\n",
      "     -------------------------------------- 118.1/118.1 KB 6.7 MB/s eta 0:00:00\n",
      "Collecting greenlet>=1\n",
      "  Downloading greenlet-3.1.1-cp310-cp310-win_amd64.whl (298 kB)\n",
      "     -------------------------------------- 298.4/298.4 KB 9.0 MB/s eta 0:00:00\n",
      "Using legacy 'setup.py install' for docopt, since package 'wheel' is not installed.\n",
      "Using legacy 'setup.py install' for julius, since package 'wheel' is not installed.\n",
      "Installing collected packages: primePy, docopt, tensorboardX, semver, ruamel.yaml.clib, pyparsing, Mako, kiwisolver, greenlet, fonttools, einops, cycler, contourpy, colorlog, sqlalchemy, ruamel.yaml, pyannote.core, matplotlib, torchaudio, pytorch-metric-learning, julius, hyperpyyaml, asteroid-filterbanks, alembic, torch-pitch-shift, speechbrain, pyannote.database, optuna, torch-audiomentations, pyannote.pipeline, pyannote.metrics, lightning, pyannote.audio\n",
      "  Running setup.py install for docopt: started\n",
      "  Running setup.py install for docopt: finished with status 'done'\n",
      "  Running setup.py install for julius: started\n",
      "  Running setup.py install for julius: finished with status 'done'\n",
      "Successfully installed Mako-1.3.9 alembic-1.15.2 asteroid-filterbanks-0.4.0 colorlog-6.9.0 contourpy-1.3.1 cycler-0.12.1 docopt-0.6.2 einops-0.8.1 fonttools-4.56.0 greenlet-3.1.1 hyperpyyaml-1.2.2 julius-0.2.7 kiwisolver-1.4.8 lightning-2.5.1 matplotlib-3.10.1 optuna-4.2.1 primePy-1.3 pyannote.audio-3.3.1 pyannote.core-5.0.0 pyannote.database-5.1.3 pyannote.metrics-3.2.1 pyannote.pipeline-3.0.1 pyparsing-3.2.3 pytorch-metric-learning-2.8.1 ruamel.yaml-0.18.10 ruamel.yaml.clib-0.2.12 semver-3.0.4 speechbrain-1.0.2 sqlalchemy-2.0.40 tensorboardX-2.6.2.2 torch-audiomentations-0.12.0 torch-pitch-shift-1.2.5 torchaudio-2.6.0\n"
     ]
    },
    {
     "name": "stderr",
     "output_type": "stream",
     "text": [
      "WARNING: You are using pip version 22.0.4; however, version 25.0.1 is available.\n",
      "You should consider upgrading via the 'C:\\Users\\akulshre\\.pyenv\\pyenv-win\\versions\\3.10.5\\python3.exe -m pip install --upgrade pip' command.\n"
     ]
    },
    {
     "name": "stdout",
     "output_type": "stream",
     "text": [
      "Collecting webdataset==0.2.100\n",
      "  Downloading webdataset-0.2.100-py3-none-any.whl (74 kB)\n",
      "     ---------------------------------------- 74.8/74.8 KB 2.0 MB/s eta 0:00:00\n",
      "Collecting braceexpand\n",
      "  Downloading braceexpand-0.1.7-py2.py3-none-any.whl (5.9 kB)\n",
      "Requirement already satisfied: numpy in c:\\users\\akulshre\\.pyenv\\pyenv-win\\versions\\3.10.5\\lib\\site-packages (from webdataset==0.2.100) (2.1.3)\n",
      "Requirement already satisfied: pyyaml in c:\\users\\akulshre\\.pyenv\\pyenv-win\\versions\\3.10.5\\lib\\site-packages (from webdataset==0.2.100) (6.0.2)\n",
      "Installing collected packages: braceexpand, webdataset\n",
      "Successfully installed braceexpand-0.1.7 webdataset-0.2.100\n"
     ]
    },
    {
     "name": "stderr",
     "output_type": "stream",
     "text": [
      "WARNING: You are using pip version 22.0.4; however, version 25.0.1 is available.\n",
      "You should consider upgrading via the 'C:\\Users\\akulshre\\.pyenv\\pyenv-win\\versions\\3.10.5\\python3.exe -m pip install --upgrade pip' command.\n"
     ]
    },
    {
     "name": "stdout",
     "output_type": "stream",
     "text": [
      "Collecting datasets==2.21.0\n",
      "  Downloading datasets-2.21.0-py3-none-any.whl (527 kB)\n",
      "     -------------------------------------- 527.3/527.3 KB 4.1 MB/s eta 0:00:00\n",
      "Requirement already satisfied: tqdm>=4.66.3 in c:\\users\\akulshre\\.pyenv\\pyenv-win\\versions\\3.10.5\\lib\\site-packages (from datasets==2.21.0) (4.66.5)\n",
      "Requirement already satisfied: packaging in c:\\users\\akulshre\\.pyenv\\pyenv-win\\versions\\3.10.5\\lib\\site-packages (from datasets==2.21.0) (24.2)\n",
      "Collecting multiprocess\n",
      "  Downloading multiprocess-0.70.17-py310-none-any.whl (134 kB)\n",
      "     -------------------------------------- 134.8/134.8 KB 8.3 MB/s eta 0:00:00\n",
      "Requirement already satisfied: pandas in c:\\users\\akulshre\\.pyenv\\pyenv-win\\versions\\3.10.5\\lib\\site-packages (from datasets==2.21.0) (2.2.2)\n",
      "Requirement already satisfied: huggingface-hub>=0.21.2 in c:\\users\\akulshre\\.pyenv\\pyenv-win\\versions\\3.10.5\\lib\\site-packages (from datasets==2.21.0) (0.23.0)\n",
      "Collecting fsspec[http]<=2024.6.1,>=2023.1.0\n",
      "  Downloading fsspec-2024.6.1-py3-none-any.whl (177 kB)\n",
      "     ------------------------------------- 177.6/177.6 KB 10.5 MB/s eta 0:00:00\n",
      "Requirement already satisfied: pyyaml>=5.1 in c:\\users\\akulshre\\.pyenv\\pyenv-win\\versions\\3.10.5\\lib\\site-packages (from datasets==2.21.0) (6.0.2)\n",
      "Requirement already satisfied: aiohttp in c:\\users\\akulshre\\.pyenv\\pyenv-win\\versions\\3.10.5\\lib\\site-packages (from datasets==2.21.0) (3.11.16)\n",
      "Requirement already satisfied: numpy>=1.17 in c:\\users\\akulshre\\.pyenv\\pyenv-win\\versions\\3.10.5\\lib\\site-packages (from datasets==2.21.0) (2.1.3)\n",
      "Requirement already satisfied: requests>=2.32.2 in c:\\users\\akulshre\\.pyenv\\pyenv-win\\versions\\3.10.5\\lib\\site-packages (from datasets==2.21.0) (2.32.3)\n",
      "Collecting pyarrow>=15.0.0\n",
      "  Downloading pyarrow-19.0.1-cp310-cp310-win_amd64.whl (25.3 MB)\n",
      "     ---------------------------------------- 25.3/25.3 MB 8.3 MB/s eta 0:00:00\n",
      "Requirement already satisfied: filelock in c:\\users\\akulshre\\.pyenv\\pyenv-win\\versions\\3.10.5\\lib\\site-packages (from datasets==2.21.0) (3.18.0)\n",
      "Collecting dill<0.3.9,>=0.3.0\n",
      "  Downloading dill-0.3.8-py3-none-any.whl (116 kB)\n",
      "     -------------------------------------- 116.3/116.3 KB 6.6 MB/s eta 0:00:00\n",
      "Collecting xxhash\n",
      "  Downloading xxhash-3.5.0-cp310-cp310-win_amd64.whl (30 kB)\n",
      "Requirement already satisfied: attrs>=17.3.0 in c:\\users\\akulshre\\.pyenv\\pyenv-win\\versions\\3.10.5\\lib\\site-packages (from aiohttp->datasets==2.21.0) (25.3.0)\n",
      "Requirement already satisfied: frozenlist>=1.1.1 in c:\\users\\akulshre\\.pyenv\\pyenv-win\\versions\\3.10.5\\lib\\site-packages (from aiohttp->datasets==2.21.0) (1.5.0)\n",
      "Requirement already satisfied: aiohappyeyeballs>=2.3.0 in c:\\users\\akulshre\\.pyenv\\pyenv-win\\versions\\3.10.5\\lib\\site-packages (from aiohttp->datasets==2.21.0) (2.6.1)\n",
      "Requirement already satisfied: yarl<2.0,>=1.17.0 in c:\\users\\akulshre\\.pyenv\\pyenv-win\\versions\\3.10.5\\lib\\site-packages (from aiohttp->datasets==2.21.0) (1.18.3)\n",
      "Requirement already satisfied: async-timeout<6.0,>=4.0 in c:\\users\\akulshre\\.pyenv\\pyenv-win\\versions\\3.10.5\\lib\\site-packages (from aiohttp->datasets==2.21.0) (5.0.1)\n",
      "Requirement already satisfied: aiosignal>=1.1.2 in c:\\users\\akulshre\\.pyenv\\pyenv-win\\versions\\3.10.5\\lib\\site-packages (from aiohttp->datasets==2.21.0) (1.3.2)\n",
      "Requirement already satisfied: propcache>=0.2.0 in c:\\users\\akulshre\\.pyenv\\pyenv-win\\versions\\3.10.5\\lib\\site-packages (from aiohttp->datasets==2.21.0) (0.3.1)\n",
      "Requirement already satisfied: multidict<7.0,>=4.5 in c:\\users\\akulshre\\.pyenv\\pyenv-win\\versions\\3.10.5\\lib\\site-packages (from aiohttp->datasets==2.21.0) (6.3.1)\n",
      "Requirement already satisfied: typing-extensions>=3.7.4.3 in c:\\users\\akulshre\\.pyenv\\pyenv-win\\versions\\3.10.5\\lib\\site-packages (from huggingface-hub>=0.21.2->datasets==2.21.0) (4.12.2)\n",
      "Requirement already satisfied: charset-normalizer<4,>=2 in c:\\users\\akulshre\\.pyenv\\pyenv-win\\versions\\3.10.5\\lib\\site-packages (from requests>=2.32.2->datasets==2.21.0) (3.4.1)\n",
      "Requirement already satisfied: certifi>=2017.4.17 in c:\\users\\akulshre\\.pyenv\\pyenv-win\\versions\\3.10.5\\lib\\site-packages (from requests>=2.32.2->datasets==2.21.0) (2025.1.31)\n",
      "Requirement already satisfied: idna<4,>=2.5 in c:\\users\\akulshre\\.pyenv\\pyenv-win\\versions\\3.10.5\\lib\\site-packages (from requests>=2.32.2->datasets==2.21.0) (3.10)\n",
      "Requirement already satisfied: urllib3<3,>=1.21.1 in c:\\users\\akulshre\\.pyenv\\pyenv-win\\versions\\3.10.5\\lib\\site-packages (from requests>=2.32.2->datasets==2.21.0) (2.3.0)\n",
      "Requirement already satisfied: colorama in c:\\users\\akulshre\\.pyenv\\pyenv-win\\versions\\3.10.5\\lib\\site-packages (from tqdm>=4.66.3->datasets==2.21.0) (0.4.6)\n",
      "Collecting multiprocess\n",
      "  Downloading multiprocess-0.70.16-py310-none-any.whl (134 kB)\n",
      "     ---------------------------------------- 134.8/134.8 KB ? eta 0:00:00\n",
      "Requirement already satisfied: python-dateutil>=2.8.2 in c:\\users\\akulshre\\.pyenv\\pyenv-win\\versions\\3.10.5\\lib\\site-packages (from pandas->datasets==2.21.0) (2.9.0.post0)\n",
      "Requirement already satisfied: tzdata>=2022.7 in c:\\users\\akulshre\\.pyenv\\pyenv-win\\versions\\3.10.5\\lib\\site-packages (from pandas->datasets==2.21.0) (2025.2)\n",
      "Requirement already satisfied: pytz>=2020.1 in c:\\users\\akulshre\\.pyenv\\pyenv-win\\versions\\3.10.5\\lib\\site-packages (from pandas->datasets==2.21.0) (2025.2)\n",
      "Requirement already satisfied: six>=1.5 in c:\\users\\akulshre\\.pyenv\\pyenv-win\\versions\\3.10.5\\lib\\site-packages (from python-dateutil>=2.8.2->pandas->datasets==2.21.0) (1.17.0)\n",
      "Installing collected packages: xxhash, pyarrow, fsspec, dill, multiprocess, datasets\n",
      "  Attempting uninstall: fsspec\n",
      "    Found existing installation: fsspec 2025.3.0\n",
      "    Uninstalling fsspec-2025.3.0:\n",
      "      Successfully uninstalled fsspec-2025.3.0\n",
      "Successfully installed datasets-2.21.0 dill-0.3.8 fsspec-2024.6.1 multiprocess-0.70.16 pyarrow-19.0.1 xxhash-3.5.0\n"
     ]
    },
    {
     "name": "stderr",
     "output_type": "stream",
     "text": [
      "ERROR: pip's dependency resolver does not currently take into account all the packages that are installed. This behaviour is the source of the following dependency conflicts.\n",
      "gradio 5.23.0 requires huggingface-hub>=0.28.1, but you have huggingface-hub 0.23.0 which is incompatible.\n",
      "WARNING: You are using pip version 22.0.4; however, version 25.0.1 is available.\n",
      "You should consider upgrading via the 'C:\\Users\\akulshre\\.pyenv\\pyenv-win\\versions\\3.10.5\\python3.exe -m pip install --upgrade pip' command.\n"
     ]
    },
    {
     "name": "stdout",
     "output_type": "stream",
     "text": [
      "Collecting IPython==8.27.0"
     ]
    },
    {
     "name": "stderr",
     "output_type": "stream",
     "text": [
      "WARNING: You are using pip version 22.0.4; however, version 25.0.1 is available.\n",
      "You should consider upgrading via the 'C:\\Users\\akulshre\\.pyenv\\pyenv-win\\versions\\3.10.5\\python3.exe -m pip install --upgrade pip' command.\n"
     ]
    },
    {
     "name": "stdout",
     "output_type": "stream",
     "text": [
      "\n",
      "  Downloading ipython-8.27.0-py3-none-any.whl (818 kB)\n",
      "     ------------------------------------- 819.0/819.0 KB 10.4 MB/s eta 0:00:00\n",
      "Requirement already satisfied: traitlets>=5.13.0 in c:\\users\\akulshre\\.pyenv\\pyenv-win\\versions\\3.10.5\\lib\\site-packages (from IPython==8.27.0) (5.14.3)\n",
      "Requirement already satisfied: matplotlib-inline in c:\\users\\akulshre\\.pyenv\\pyenv-win\\versions\\3.10.5\\lib\\site-packages (from IPython==8.27.0) (0.1.7)\n",
      "Requirement already satisfied: stack-data in c:\\users\\akulshre\\.pyenv\\pyenv-win\\versions\\3.10.5\\lib\\site-packages (from IPython==8.27.0) (0.6.3)\n",
      "Requirement already satisfied: colorama in c:\\users\\akulshre\\.pyenv\\pyenv-win\\versions\\3.10.5\\lib\\site-packages (from IPython==8.27.0) (0.4.6)\n",
      "Requirement already satisfied: decorator in c:\\users\\akulshre\\.pyenv\\pyenv-win\\versions\\3.10.5\\lib\\site-packages (from IPython==8.27.0) (5.2.1)\n",
      "Requirement already satisfied: prompt-toolkit<3.1.0,>=3.0.41 in c:\\users\\akulshre\\.pyenv\\pyenv-win\\versions\\3.10.5\\lib\\site-packages (from IPython==8.27.0) (3.0.50)\n",
      "Requirement already satisfied: jedi>=0.16 in c:\\users\\akulshre\\.pyenv\\pyenv-win\\versions\\3.10.5\\lib\\site-packages (from IPython==8.27.0) (0.19.2)\n",
      "Requirement already satisfied: pygments>=2.4.0 in c:\\users\\akulshre\\.pyenv\\pyenv-win\\versions\\3.10.5\\lib\\site-packages (from IPython==8.27.0) (2.19.1)\n",
      "Requirement already satisfied: exceptiongroup in c:\\users\\akulshre\\.pyenv\\pyenv-win\\versions\\3.10.5\\lib\\site-packages (from IPython==8.27.0) (1.2.2)\n",
      "Requirement already satisfied: typing-extensions>=4.6 in c:\\users\\akulshre\\.pyenv\\pyenv-win\\versions\\3.10.5\\lib\\site-packages (from IPython==8.27.0) (4.12.2)\n",
      "Requirement already satisfied: parso<0.9.0,>=0.8.4 in c:\\users\\akulshre\\.pyenv\\pyenv-win\\versions\\3.10.5\\lib\\site-packages (from jedi>=0.16->IPython==8.27.0) (0.8.4)\n",
      "Requirement already satisfied: wcwidth in c:\\users\\akulshre\\.pyenv\\pyenv-win\\versions\\3.10.5\\lib\\site-packages (from prompt-toolkit<3.1.0,>=3.0.41->IPython==8.27.0) (0.2.13)\n",
      "Requirement already satisfied: asttokens>=2.1.0 in c:\\users\\akulshre\\.pyenv\\pyenv-win\\versions\\3.10.5\\lib\\site-packages (from stack-data->IPython==8.27.0) (3.0.0)\n",
      "Requirement already satisfied: executing>=1.2.0 in c:\\users\\akulshre\\.pyenv\\pyenv-win\\versions\\3.10.5\\lib\\site-packages (from stack-data->IPython==8.27.0) (2.2.0)\n",
      "Requirement already satisfied: pure-eval in c:\\users\\akulshre\\.pyenv\\pyenv-win\\versions\\3.10.5\\lib\\site-packages (from stack-data->IPython==8.27.0) (0.2.3)\n",
      "Installing collected packages: IPython\n",
      "  Attempting uninstall: IPython\n",
      "    Found existing installation: ipython 8.34.0\n",
      "    Uninstalling ipython-8.34.0:\n",
      "      Successfully uninstalled ipython-8.34.0\n",
      "Successfully installed IPython-8.27.0\n",
      "Requirement already satisfied: joblib==1.4.2 in c:\\users\\akulshre\\.pyenv\\pyenv-win\\versions\\3.10.5\\lib\\site-packages (1.4.2)\n"
     ]
    },
    {
     "name": "stderr",
     "output_type": "stream",
     "text": [
      "WARNING: You are using pip version 22.0.4; however, version 25.0.1 is available.\n",
      "You should consider upgrading via the 'C:\\Users\\akulshre\\.pyenv\\pyenv-win\\versions\\3.10.5\\python3.exe -m pip install --upgrade pip' command.\n"
     ]
    },
    {
     "name": "stdout",
     "output_type": "stream",
     "text": [
      "Collecting argparse==1.4.0\n",
      "  Using cached argparse-1.4.0-py2.py3-none-any.whl (23 kB)\n",
      "Installing collected packages: argparse\n",
      "Successfully installed argparse-1.4.0\n"
     ]
    },
    {
     "name": "stderr",
     "output_type": "stream",
     "text": [
      "WARNING: You are using pip version 22.0.4; however, version 25.0.1 is available.\n",
      "You should consider upgrading via the 'C:\\Users\\akulshre\\.pyenv\\pyenv-win\\versions\\3.10.5\\python3.exe -m pip install --upgrade pip' command.\n"
     ]
    }
   ],
   "source": [
    "!python3 -m pip install \"cython==0.29.37\"\n",
    "!python3 -m pip install \"pyyaml==6.0.2\"\n",
    "!python3 -m pip install \"argparse==1.4.0\"\n",
    "!python3 -m pip install \"onnxruntime==1.19.0\"\n",
    "!python3 -m pip install \"tqdm==4.66.5\"\n",
    "!python3 -m pip install \"nemo_toolkit @ git+https://github.com/AI4Bharat/NeMo@nemo-v2\"\n",
    "!python3 -m pip install \"transformers==4.40.0\"\n",
    "!python3 -m pip install \"huggingface_hub==0.23\"\n",
    "!python3 -m pip install \"pytorch-lightning==2.4.0\"\n",
    "!python3 -m pip install \"hydra-core==1.3.2\"\n",
    "!python3 -m pip install \"librosa==0.10.2.post1\"\n",
    "!python3 -m pip install \"sentencepiece==0.2.0\"\n",
    "!python3 -m pip install \"pandas==2.2.2\"\n",
    "!python3 -m pip install \"lhotse==1.27.0\"\n",
    "!python3 -m pip install \"editdistance==0.8.1\"\n",
    "!python3 -m pip install \"jiwer==3.0.4\"\n",
    "!python3 -m pip install \"pyannote.audio==3.3.1\"\n",
    "!python3 -m pip install \"webdataset==0.2.100\"\n",
    "!python3 -m pip install \"datasets==2.21.0\"\n",
    "!python3 -m pip install \"IPython==8.27.0\"\n",
    "!python3 -m pip install \"joblib==1.4.2\"\n",
    "!python3 -m pip install \"argparse==1.4.0\""
   ]
  },
  {
   "cell_type": "markdown",
   "metadata": {
    "id": "XNrDzgPovOST"
   },
   "source": [
    "# Download Model"
   ]
  },
  {
   "cell_type": "code",
   "execution_count": 4,
   "metadata": {
    "colab": {
     "base_uri": "https://localhost:8080/"
    },
    "executionInfo": {
     "elapsed": 31951,
     "status": "ok",
     "timestamp": 1736408292371,
     "user": {
      "displayName": "Nikhil Narasimhan",
      "userId": "05522871184861859897"
     },
     "user_tz": -330
    },
    "id": "Zt7mSxBJvNUL",
    "outputId": "c2b30a2d-d0cc-463d-907d-80457aebe9d1"
   },
   "outputs": [
    {
     "name": "stderr",
     "output_type": "stream",
     "text": [
      "'wget' is not recognized as an internal or external command,\n",
      "operable program or batch file.\n"
     ]
    }
   ],
   "source": [
    "# monolingual model\n",
    "# !wget https://objectstore.e2enetworks.net/indic-asr-public/indicConformer/ai4b_indicConformer_hi.nemo -O hindi.nemo\n",
    "\n",
    "# # multilingual model\n",
    "# !wget https://objectstore.e2enetworks.net/indic-asr-public/indicConformer/ai4b_indicConformer_ta.nemo -O tamil.nemo\n",
    "\n",
    "# multilingual model\n",
    "!wget https://objectstore.e2enetworks.net/indic-asr-public/indicConformer/ai4b_indicConformer_ur.nemo -O urdu.nemo\n",
    "\n",
    "model_path = \"urdu.nemo\"\n",
    "lang_id = \"ur\""
   ]
  },
  {
   "cell_type": "markdown",
   "metadata": {
    "id": "j3zTeW7AwEOL"
   },
   "source": [
    "# Necessary Imports"
   ]
  },
  {
   "cell_type": "code",
   "execution_count": 3,
   "metadata": {
    "executionInfo": {
     "elapsed": 799,
     "status": "ok",
     "timestamp": 1736408310950,
     "user": {
      "displayName": "Nikhil Narasimhan",
      "userId": "05522871184861859897"
     },
     "user_tz": -330
    },
    "id": "qf3ndnM2wCZM"
   },
   "outputs": [
    {
     "ename": "ModuleNotFoundError",
     "evalue": "No module named 'nemo'",
     "output_type": "error",
     "traceback": [
      "\u001b[1;31m---------------------------------------------------------------------------\u001b[0m",
      "\u001b[1;31mModuleNotFoundError\u001b[0m                       Traceback (most recent call last)",
      "Cell \u001b[1;32mIn[3], line 3\u001b[0m\n\u001b[0;32m      1\u001b[0m \u001b[38;5;28;01mimport\u001b[39;00m\u001b[38;5;250m \u001b[39m\u001b[38;5;21;01mtorch\u001b[39;00m\n\u001b[0;32m      2\u001b[0m \u001b[38;5;28;01mimport\u001b[39;00m\u001b[38;5;250m \u001b[39m\u001b[38;5;21;01msoundfile\u001b[39;00m\u001b[38;5;250m \u001b[39m\u001b[38;5;28;01mas\u001b[39;00m\u001b[38;5;250m \u001b[39m\u001b[38;5;21;01msf\u001b[39;00m\n\u001b[1;32m----> 3\u001b[0m \u001b[38;5;28;01mimport\u001b[39;00m\u001b[38;5;250m \u001b[39m\u001b[38;5;21;01mnemo\u001b[39;00m\u001b[38;5;21;01m.\u001b[39;00m\u001b[38;5;21;01mcollections\u001b[39;00m\u001b[38;5;21;01m.\u001b[39;00m\u001b[38;5;21;01masr\u001b[39;00m\u001b[38;5;250m \u001b[39m\u001b[38;5;28;01mas\u001b[39;00m\u001b[38;5;250m \u001b[39m\u001b[38;5;21;01mnemo_asr\u001b[39;00m\n\u001b[0;32m      4\u001b[0m \u001b[38;5;28;01mimport\u001b[39;00m\u001b[38;5;250m \u001b[39m\u001b[38;5;21;01mIPython\u001b[39;00m\n",
      "\u001b[1;31mModuleNotFoundError\u001b[0m: No module named 'nemo'"
     ]
    }
   ],
   "source": [
    "import torch\n",
    "import soundfile as sf\n",
    "import nemo.collections.asr as nemo_asr\n",
    "import IPython"
   ]
  },
  {
   "cell_type": "markdown",
   "metadata": {
    "id": "a9FtUJO-wQ4d"
   },
   "source": [
    "# Load Model"
   ]
  },
  {
   "cell_type": "code",
   "execution_count": 27,
   "metadata": {
    "colab": {
     "base_uri": "https://localhost:8080/"
    },
    "executionInfo": {
     "elapsed": 32480,
     "status": "ok",
     "timestamp": 1736408349369,
     "user": {
      "displayName": "Nikhil Narasimhan",
      "userId": "05522871184861859897"
     },
     "user_tz": -330
    },
    "id": "9OWPnoFOwOZR",
    "outputId": "3a58b081-ed20-4334-9718-4dd710086698"
   },
   "outputs": [
    {
     "name": "stdout",
     "output_type": "stream",
     "text": [
      "[NeMo I 2025-01-09 07:38:50 mixins:198] _setup_tokenizer: detected an aggregate tokenizer\n",
      "[NeMo I 2025-01-09 07:38:50 mixins:335] Tokenizer SentencePieceTokenizer initialized with 256 tokens\n",
      "[NeMo I 2025-01-09 07:38:50 mixins:335] Tokenizer SentencePieceTokenizer initialized with 256 tokens\n",
      "[NeMo I 2025-01-09 07:38:50 mixins:335] Tokenizer SentencePieceTokenizer initialized with 256 tokens\n",
      "[NeMo I 2025-01-09 07:38:50 mixins:335] Tokenizer SentencePieceTokenizer initialized with 256 tokens\n",
      "[NeMo I 2025-01-09 07:38:50 mixins:335] Tokenizer SentencePieceTokenizer initialized with 256 tokens\n",
      "[NeMo I 2025-01-09 07:38:50 mixins:335] Tokenizer SentencePieceTokenizer initialized with 256 tokens\n",
      "[NeMo I 2025-01-09 07:38:50 mixins:335] Tokenizer SentencePieceTokenizer initialized with 256 tokens\n",
      "[NeMo I 2025-01-09 07:38:50 mixins:335] Tokenizer SentencePieceTokenizer initialized with 256 tokens\n",
      "[NeMo I 2025-01-09 07:38:50 mixins:335] Tokenizer SentencePieceTokenizer initialized with 256 tokens\n",
      "[NeMo I 2025-01-09 07:38:50 mixins:335] Tokenizer SentencePieceTokenizer initialized with 256 tokens\n",
      "[NeMo I 2025-01-09 07:38:50 mixins:335] Tokenizer SentencePieceTokenizer initialized with 256 tokens\n",
      "[NeMo I 2025-01-09 07:38:50 mixins:335] Tokenizer SentencePieceTokenizer initialized with 256 tokens\n",
      "[NeMo I 2025-01-09 07:38:50 mixins:335] Tokenizer SentencePieceTokenizer initialized with 256 tokens\n",
      "[NeMo I 2025-01-09 07:38:50 mixins:335] Tokenizer SentencePieceTokenizer initialized with 256 tokens\n",
      "[NeMo I 2025-01-09 07:38:50 mixins:335] Tokenizer SentencePieceTokenizer initialized with 256 tokens\n",
      "[NeMo I 2025-01-09 07:38:50 mixins:335] Tokenizer SentencePieceTokenizer initialized with 256 tokens\n",
      "[NeMo I 2025-01-09 07:38:50 mixins:335] Tokenizer SentencePieceTokenizer initialized with 256 tokens\n",
      "[NeMo I 2025-01-09 07:38:50 mixins:335] Tokenizer SentencePieceTokenizer initialized with 256 tokens\n",
      "[NeMo I 2025-01-09 07:38:50 mixins:335] Tokenizer SentencePieceTokenizer initialized with 256 tokens\n",
      "[NeMo I 2025-01-09 07:38:50 mixins:335] Tokenizer SentencePieceTokenizer initialized with 256 tokens\n",
      "[NeMo I 2025-01-09 07:38:50 mixins:335] Tokenizer SentencePieceTokenizer initialized with 256 tokens\n",
      "[NeMo I 2025-01-09 07:38:50 mixins:335] Tokenizer SentencePieceTokenizer initialized with 256 tokens\n",
      "[NeMo I 2025-01-09 07:38:50 multilingual_tokenizer:61] Aggregate vocab size: 5632\n"
     ]
    },
    {
     "name": "stderr",
     "output_type": "stream",
     "text": [
      "[NeMo W 2025-01-09 07:39:01 modelPT:165] If you intend to do training or fine-tuning, please call the ModelPT.setup_training_data() method and provide a valid configuration file to setup the train data loader.\n",
      "    Train config : \n",
      "    manifest_filepath:\n",
      "    - /nlsasfs/home/ai4bharat/ai4bharat-pr/speechteam/indicasr_v3/manifests/nemo/vistaar_v3/train/train_urdu.json\n",
      "    sample_rate: 16000\n",
      "    batch_size: 8\n",
      "    shuffle: false\n",
      "    num_workers: 16\n",
      "    pin_memory: true\n",
      "    max_duration: 30.0\n",
      "    min_duration: 0.2\n",
      "    is_tarred: false\n",
      "    tarred_audio_filepaths: null\n",
      "    shuffle_n: 2048\n",
      "    bucketing_strategy: synced_randomized\n",
      "    bucketing_batch_size: null\n",
      "    is_concat: true\n",
      "    concat_sampling_technique: temperature\n",
      "    concat_sampling_temperature: 1.5\n",
      "    return_language_id: true\n",
      "    \n",
      "[NeMo W 2025-01-09 07:39:01 modelPT:172] If you intend to do validation, please call the ModelPT.setup_validation_data() or ModelPT.setup_multiple_validation_data() method and provide a valid configuration file to setup the validation data loader(s). \n",
      "    Validation config : \n",
      "    manifest_filepath:\n",
      "    - /nlsasfs/home/ai4bharat/ai4bharat-pr/speechteam/indicasr_v3/manifests/nemo/vistaar_v3/valid_datasetwise/valid_urdu_indicvoices.json\n",
      "    sample_rate: 16000\n",
      "    batch_size: 16\n",
      "    shuffle: false\n",
      "    use_start_end_token: false\n",
      "    num_workers: 8\n",
      "    return_language_id: true\n",
      "    pin_memory: true\n",
      "    \n",
      "[NeMo W 2025-01-09 07:39:01 modelPT:178] Please call the ModelPT.setup_test_data() or ModelPT.setup_multiple_test_data() method and provide a valid configuration file to setup the test data loader(s).\n",
      "    Test config : \n",
      "    manifest_filepath: null\n",
      "    sample_rate: 16000\n",
      "    batch_size: 16\n",
      "    shuffle: false\n",
      "    use_start_end_token: false\n",
      "    num_workers: 8\n",
      "    pin_memory: true\n",
      "    \n"
     ]
    },
    {
     "name": "stdout",
     "output_type": "stream",
     "text": [
      "[NeMo I 2025-01-09 07:39:01 features:289] PADDING: 0\n"
     ]
    },
    {
     "name": "stderr",
     "output_type": "stream",
     "text": [
      "[NeMo W 2025-01-09 07:39:03 nemo_logging:349] /usr/local/lib/python3.10/dist-packages/torch/nn/modules/rnn.py:123: UserWarning: dropout option adds dropout after all but last recurrent layer, so non-zero dropout expects num_layers greater than 1, but got dropout=0.2 and num_layers=1\n",
      "      warnings.warn(\n",
      "    \n"
     ]
    },
    {
     "name": "stdout",
     "output_type": "stream",
     "text": [
      "[NeMo I 2025-01-09 07:39:05 rnnt:1663] Vocab size for each language: 256\n",
      "[NeMo I 2025-01-09 07:39:05 rnnt_models:220] Using RNNT Loss : warprnnt_numba\n",
      "    Loss warprnnt_numba_kwargs: {'fastemit_lambda': 0.0, 'clamp': -1.0}\n",
      "[NeMo I 2025-01-09 07:39:05 rnnt_models:220] Using RNNT Loss : warprnnt_numba\n",
      "    Loss warprnnt_numba_kwargs: {'fastemit_lambda': 0.0, 'clamp': -1.0}\n",
      "[NeMo I 2025-01-09 07:39:07 rnnt_models:220] Using RNNT Loss : warprnnt_numba\n",
      "    Loss warprnnt_numba_kwargs: {'fastemit_lambda': 0.0, 'clamp': -1.0}\n",
      "[NeMo I 2025-01-09 07:39:07 hybrid_rnnt_ctc_bpe_models:105] Creating masks for multi-softmax layer.\n",
      "[NeMo I 2025-01-09 07:39:07 rnnt_models:220] Using RNNT Loss : warprnnt_numba\n",
      "    Loss warprnnt_numba_kwargs: {'fastemit_lambda': 0.0, 'clamp': -1.0}\n"
     ]
    },
    {
     "name": "stderr",
     "output_type": "stream",
     "text": [
      "[NeMo W 2025-01-09 07:39:07 nemo_logging:349] /usr/local/lib/python3.10/dist-packages/nemo/core/connectors/save_restore_connector.py:585: FutureWarning: You are using `torch.load` with `weights_only=False` (the current default value), which uses the default pickle module implicitly. It is possible to construct malicious pickle data which will execute arbitrary code during unpickling (See https://github.com/pytorch/pytorch/blob/main/SECURITY.md#untrusted-models for more details). In a future release, the default value for `weights_only` will be flipped to `True`. This limits the functions that could be executed during unpickling. Arbitrary objects will no longer be allowed to be loaded via this mode unless they are explicitly allowlisted by the user via `torch.serialization.add_safe_globals`. We recommend you start setting `weights_only=True` for any use case where you don't have full control of the loaded file. Please open an issue on GitHub for any issues related to this experimental feature.\n",
      "      return torch.load(model_weights, map_location='cpu')\n",
      "    \n"
     ]
    },
    {
     "name": "stdout",
     "output_type": "stream",
     "text": [
      "[NeMo I 2025-01-09 07:39:08 save_restore_connector:263] Model EncDecHybridRNNTCTCBPEModel was successfully restored from /content/urdu.nemo.\n"
     ]
    }
   ],
   "source": [
    "device = torch.device(\"cuda\" if torch.cuda.is_available() else \"cpu\")\n",
    "model = nemo_asr.models.EncDecCTCModel.restore_from(restore_path=model_path)\n",
    "model.eval() # inference mode\n",
    "model = model.to(device) # transfer model to device"
   ]
  },
  {
   "cell_type": "markdown",
   "metadata": {
    "id": "auxw5jAaw0WQ"
   },
   "source": [
    "# Download sample audio file and perform preprocessing"
   ]
  },
  {
   "cell_type": "code",
   "execution_count": null,
   "metadata": {
    "colab": {
     "base_uri": "https://localhost:8080/"
    },
    "executionInfo": {
     "elapsed": 3071,
     "status": "ok",
     "timestamp": 1736408477753,
     "user": {
      "displayName": "Nikhil Narasimhan",
      "userId": "05522871184861859897"
     },
     "user_tz": -330
    },
    "id": "5-S78JeWw-g-",
    "outputId": "7772b5e7-073c-4223-d8e7-2e018261ccb7"
   },
   "outputs": [
    {
     "name": "stdout",
     "output_type": "stream",
     "text": [
      "--2025-01-09 07:41:14--  https://objectstore.e2enetworks.net/indic-asr-public/sample_audio.wav\n",
      "Resolving objectstore.e2enetworks.net (objectstore.e2enetworks.net)... 164.52.210.58, 101.53.152.33, 164.52.210.97, ...\n",
      "Connecting to objectstore.e2enetworks.net (objectstore.e2enetworks.net)|164.52.210.58|:443... connected.\n",
      "HTTP request sent, awaiting response... 200 OK\n",
      "Length: 831532 (812K) [audio/wav]\n",
      "Saving to: ‘sample_audio.wav’\n",
      "\n",
      "sample_audio.wav    100%[===================>] 812.04K   622KB/s    in 1.3s    \n",
      "\n",
      "2025-01-09 07:41:16 (622 KB/s) - ‘sample_audio.wav’ saved [831532/831532]\n",
      "\n",
      "ffmpeg version 4.4.2-0ubuntu0.22.04.1 Copyright (c) 2000-2021 the FFmpeg developers\n",
      "  built with gcc 11 (Ubuntu 11.2.0-19ubuntu1)\n",
      "  configuration: --prefix=/usr --extra-version=0ubuntu0.22.04.1 --toolchain=hardened --libdir=/usr/lib/x86_64-linux-gnu --incdir=/usr/include/x86_64-linux-gnu --arch=amd64 --enable-gpl --disable-stripping --enable-gnutls --enable-ladspa --enable-libaom --enable-libass --enable-libbluray --enable-libbs2b --enable-libcaca --enable-libcdio --enable-libcodec2 --enable-libdav1d --enable-libflite --enable-libfontconfig --enable-libfreetype --enable-libfribidi --enable-libgme --enable-libgsm --enable-libjack --enable-libmp3lame --enable-libmysofa --enable-libopenjpeg --enable-libopenmpt --enable-libopus --enable-libpulse --enable-librabbitmq --enable-librubberband --enable-libshine --enable-libsnappy --enable-libsoxr --enable-libspeex --enable-libsrt --enable-libssh --enable-libtheora --enable-libtwolame --enable-libvidstab --enable-libvorbis --enable-libvpx --enable-libwebp --enable-libx265 --enable-libxml2 --enable-libxvid --enable-libzimg --enable-libzmq --enable-libzvbi --enable-lv2 --enable-omx --enable-openal --enable-opencl --enable-opengl --enable-sdl2 --enable-pocketsphinx --enable-librsvg --enable-libmfx --enable-libdc1394 --enable-libdrm --enable-libiec61883 --enable-chromaprint --enable-frei0r --enable-libx264 --enable-shared\n",
      "  libavutil      56. 70.100 / 56. 70.100\n",
      "  libavcodec     58.134.100 / 58.134.100\n",
      "  libavformat    58. 76.100 / 58. 76.100\n",
      "  libavdevice    58. 13.100 / 58. 13.100\n",
      "  libavfilter     7.110.100 /  7.110.100\n",
      "  libswscale      5.  9.100 /  5.  9.100\n",
      "  libswresample   3.  9.100 /  3.  9.100\n",
      "  libpostproc    55.  9.100 / 55.  9.100\n",
      "\u001b[0;33mGuessed Channel Layout for Input Stream #0.0 : stereo\n",
      "\u001b[0mInput #0, wav, from 'sample_audio.wav':\n",
      "  Duration: 00:00:04.33, bitrate: 1536 kb/s\n",
      "  Stream #0:0: Audio: pcm_s16le ([1][0][0][0] / 0x0001), 48000 Hz, stereo, s16, 1536 kb/s\n",
      "Stream mapping:\n",
      "  Stream #0:0 -> #0:0 (pcm_s16le (native) -> pcm_s16le (native))\n",
      "Press [q] to stop, [?] for help\n",
      "Output #0, wav, to 'sample_audio_infer_ready.wav':\n",
      "  Metadata:\n",
      "    ISFT            : Lavf58.76.100\n",
      "  Stream #0:0: Audio: pcm_s16le ([1][0][0][0] / 0x0001), 16000 Hz, mono, s16, 256 kb/s\n",
      "    Metadata:\n",
      "      encoder         : Lavc58.134.100 pcm_s16le\n",
      "size=     135kB time=00:00:04.32 bitrate= 256.2kbits/s speed= 467x    \n",
      "video:0kB audio:135kB subtitle:0kB other streams:0kB global headers:0kB muxing overhead: 0.056284%\n"
     ]
    }
   ],
   "source": [
    "# download and load audio\n",
    "MEDIA_URL = \"https://objectstore.e2enetworks.net/indic-asr-public/sample_audio.wav\"\n",
    "!wget $MEDIA_URL -O sample_audio.wav\n",
    "\n",
    "# downsample, single channel\n",
    "!ffmpeg -i sample_audio.wav -ac 1 -ar 16000 sample_audio_infer_ready.wav -y"
   ]
  },
  {
   "cell_type": "code",
   "execution_count": null,
   "metadata": {
    "colab": {
     "base_uri": "https://localhost:8080/",
     "height": 61
    },
    "executionInfo": {
     "elapsed": 1535,
     "status": "ok",
     "timestamp": 1736404386788,
     "user": {
      "displayName": "Nikhil Narasimhan",
      "userId": "05522871184861859897"
     },
     "user_tz": -330
    },
    "id": "TUzud1TdxC69",
    "outputId": "78351cef-ee97-4254-f477-d1c0e1d920bd"
   },
   "outputs": [
    {
     "data": {
      "text/html": [
       "\n",
       "                <audio  controls=\"controls\" >\n",
       "                    <source src=\"data:audio/x-wav;base64,UklGRpwdAgBXQVZFZm10IBAAAAABAAEAgD4AAAB9AAACABAATElTVBoAAABJTkZPSVNGVA4AAABMYXZmNTguNzYuMTAwAGRhdGFWHQIAAAAAAAAAAAAAAAAAAAAAAAAAAAAAAAAAAAAAAAAAAAAAAAAAAAAAAAAAAAAAAAAAAAAAAAAAAAAAAAAAAAAAAAAAAAAAAAAAAAAAAAAAAAAAAAAAAAAAAAAAAAAAAAAAAAAAAAAAAAAAAAAAAAAAAAAAAAAAAAAAAAAAAAAAAAAAAAAAAAAAAAAAAAAAAAAAAAAAAAAAAAAAAAAAAAAAAAAAAAAAAAAAAAAAAAAAAAAAAAAAAAAAAAAAAAAAAAAAAAAAAAAAAAAAAAAAAAAAAAAAAAAAAAAAAAAAAAAAAAAAAAAAAAAAAAAAAAAAAAAAAAAAAAAAAAAAAAAAAAAAAAAAAAAAAAAAAAAAAAAAAAAAAAAAAAAAAAAAAAAAAAAAAAAAAAAAAAAAAAAAAAAAAAAAAAAAAAAAAAAAAAAAAAAAAAAAAAAAAAAAAAAAAAAAAAAAAAAAAAAAAAAAAAAAAAAAAAAAAAAAAAAAAAAAAAAAAAAAAAAAAAAAAAAAAAAAAAAAAAAAAAAAAAAAAAAAAAAAAAAAAAAAAAAAAAAAAAAAAAAAAAAAAAAAAAAAAAAAAAAAAAAAAAAAAAAAAAAAAAAAAAAAAAAAAAAAAAAAAAAAAAAAAAAAAAAAAAAAAAAAAAAAAAAAAAAAAAAAAAAAAAAAAAAAAAAAAAAAAAAAAAAAAAAAAAAAAAAAAAAAAAAAAAAAAAAAAAAAAAAAAAAAAAAAAAAAAAAAAAAAAAAAAAAAAAAAAAAAAAAAAAAAAAAAAAAAAAAAAAAAAAAAAAAAAAAAAAAAAAAAAAAAAAAAAAAAAAAAAAAAAAAAAAAAAAAAAAAAAAAAAAAAAAAAAAAAAAAAAAAAAAAAAAAAAAAAAAAAAAAAAAAAAAAAAAAAAAAAAAAAAAAAAAAAAAAAAAAAAAAAAAAAAAAAAAAAAAAAAAAAAAAAAAAAAAAAAAAAAAAAAAAAAAAAAAAAAAAAAAAAAAAAAAAAAAAAAAAAAAAAAAAAAAAAAAAAAAAAAAAAAAAAAAAAAAAAAAAAAAAAAAAAAAAAAAAAAAAAAAAAAAAAAAAAAAAAAAAAAAAAAAAAAAAAAAAAAAAAAAAAAAAAAAAAAAAAAAAAAAAAAAAAAAAAAAAAAAAAAAAAAAAAAAAAAAAAAAAAAAAAAAAAAAAAAAAAAAAAAAAAAAAAAAAAAAAAAAAAAAAAAAAAAAAAAAAAAAAAAAAAAAAAAAAAAAAAAAAAAAAAAAAAAAAAAAAAAAAAAAAAAAAAAAAAAAAAAAAAAAAAAAAAAAAAAAAAAAAAAAAAAAAAAAAAAAAAAAAAAAAAAAAAAAAAAAAAAAAAAAAAAAAAAAAAAAAAAAAAAAAAAAAAAAAAAAAAAAAAAAAAAAAAAAAAAAAAAAAAAAAAAAAAAAAAAAAAAAAAAAAAAAAAAAAAAAAAAAAAAAAAAAAAAAAAAAAAAAAAAAAAAAAAAAAAAAAAAAAAAAAAAAAAAAAAAAAAAAAAAAAAAAAAAAAAAAAAAAAAAAAAAAAAAAAAAAAAAAAAAAAAAAAAAAAAAAAAAQD///////////7//v/+////AAD////////+//3//f/9//7///8AAAAAAAAAAAAAAAAAAAEAAQAAAAAAAAAAAAAAAAD/////AAAAAAAAAAAAAAAAAAAAAAAAAAABAAIAAgACAAEAAQABAAEAAAAAAAEAAgACAAEAAAABAAIAAgAAAAAAAAAAAAAAAAABAAEAAgACAAAA/v/9////AAD///7//f/9///////+////AAABAAEAAQABAAMABAAFAAQAAgABAAIAAwACAAAA/v/+/wAAAAD////////+//z//f/+/wAAAQACAAMAAgABAAMAAwABAP///f/+/////v/9//v//P/+/////////wEAAwAEAAEAAQACAAQABAACAAEAAAABAAIAAwACAAEA///+////AAD9//r/+f/6//3//v///wAAAQADAAcACAAFAAAA/v8BAAgABgAAAPz//P///wUACAADAP///v8BAAYABwADAP7///8EAAkACQAEAP7//f8AAAAA+v/0//T/+v8CAAQAAQD+//n/+f8AAAgACgAHAAQAAwAHAAcABQD///3////+//r/8//w//T/+v/8//n/9//5//3/AgAEAAMAAwAAAAIABAABAAEAAQAEAAUA/f/3//f//f8DAAIA/P/z//L/AAAKAAkAAQD4//n///8JAAsABgD9////BAAEAP3/9f/5/wAACQALAAIA+P/3/wIADwAPAAMA9v/w//7/DQAQAAYA+P/0//v/AAAAAPz/+P/8/wIABgAEAAIABAAIAAoABQD8//n///8KABEADQADAAIAAgAGAAoAAQD8//v//f8AAP3/+f/5//v/AQACAPz/9//2////BAABAPz//v8EAAkACwAFAPn/9f/8/wIAAgABAPr/+P/7//7/AgAAAPv/+//+///////+//3/AAAAAP7/+//0//j/BQAMAA8ACgAEAP7//////wAAAwAFAAMAAAD8//n//P8BAAcAAwD8//r/AAAJAAwACgABAPv/AwAQABEACAAAAPv/AQAIAAYAAgD4//b/AAAMABAACgABAP7//v/+/wEAAgADAAcAAwAAAP///f/5//P/9P/1//f/+f/+//3/9v/1//P/+v/+////AgD8//z///8CAAMA//8BAP///P/+/wMACQAGAP7/9//0//H/+P8CAAkACgAGAAYAAgABAAIAAwD9//r/9v/x/+7/7f/0//r/AAACAP//+//3//7/CgASABEADAABAPz/AgAQABYAEQADAPH/7P/v//3/CQALAAEA+P/7/wEAEAAVABIACQAJABcAHQAaABAABwAEAAMA/v/6//P/8f/4////CwATAAwAAwD9//3/AgD7//b/+v8CABMAJQAiABQAAQD2//b/+v////z/7P/k/+n/9v/+//z/9v/0//L/8P/y/+//9v8DAAsACgD///H/6f/0/wEAAADw/97/4f/2/woAEwD//+r/6P/y//z/9//1//v/CQAYABsAAwDs/+3//f8NAAcA+f/t//H/AgARAAwA+v/6//7/DQAYABMADgARABcAHAAXABMAEwAMAAEA+f/w//D/9v///wgACQADAAMABQAMAA8ADAAJAAQABQAIAAoACQAKAAYACgAGAPv/6//n//D/+P8DAP7/9P/r/+//+P8BAAYAAgADAAEA+v/x//D//P8LAAwAAgD2//X/AAANAA0A9//k/93/8v8EAAEA7f/e/+H/9/8VABsAFQACAPT/9v8BAA8ACAD5/+7/8v///wwACwD9//b/8//6/wkAFAAYABIADQAPAAsAEQASABMAEAAGAP7/9v/9/wIABQD+//L/7P/y//7/CgASAA0AAAD7/wIAEwAVAAMA6f/c/+z/DAAgABsAAgDp/+X//v8aABoADAAAAP//BwAIAAMA/P/4//v/+v/3//X//P8DAAAA9P/m/+j/+P8AAP///P/8//3/+f/5//f/+f8CAAcA+f/n/+P/8f8FAAcA///v/+///P8NABIA/v/s/+D/8f8GAA4AAwDr/+n/9f8CAAYABgAKAAcABQACAP//BgAPAA8AAQD6//n//v8GAP//9//1//b/+f/+//v/9f/3//f/AwAYACAAHwAQAPr/6P/p/wAAEwARAPX/2f/h//f/FQAZAAMA7f/o////EgAUAAQAAQAHAAoADgAOAA4AEAAUAA8ABgD//wAAAwAHAP//9v/z/wMAFQAVAAUA+/8BABAAFwASAAQA/v8CAAsABwD7//H/7f/1/wAABwAAAP///P/6//r/+P/4//T/9v/4/wAACAAIAAcACgAJAAMA/P/5////AAD7//H/7v/w//L/8f/2/wcAEwAKAPv/8P/4/wwAEQAGAP3//P8GAAwAAADu/+7///8TABcABgDy//T/DgAeABUA/v/3/wEAFgAbAAsA9P/2//3/BQD9/+r/7P/1//3////4/+3/7v/5/wkAFQATAA8ADwAOAAgAAgD6//v//v/8/wIAAgAFAAIA9P/q/+n/+P8EAAYA+f/2//z/AwAJAAMAAwAHAAgABwADAAIA+P/t/+H/3P/i/+X/7v/7//v/8//y//v/BAAQABEACwAGAAAABQAHAPv/8f/9/wkAAQD1/+v/9P8HABkAHgAMAP//AAAMABwAEgACAP//CQAWACMAIAALAPz/8v/3////AwD9//3/9//z//r/9//4//z/AgAPAB0AJQAfAA8A/f/r/+r/9P/8//3/8//z/+j/2P/b/+D/5v/v//n////9//z/AQAGAAUAAgD6////CwAYABYAAQDv/+n/9v/7//f/8v/w//D/9v/9/wgADQACAPf/9v8DAA0AGgATAPb/7P/1/wUAAwD5//P/+f8CAAQA///t/97/5v/3/xEAFQAIAAcADgAYABkAGQAPAAIA/P8BAAoADAD8/+z/5//t//7/BwAGAAIA/f/+/wEAAQD6//r/BQARABgAFgADAPX/9P/z//j/+v///wcADQAKAAIA//8CAAQAAgD+/wAAEQAZABMA+//u/+z/7f/6/wMAEAAXABEABAD7//n/AwAKAAwAAwD9//7/CgASAAMA9P/t//D//v8MAA0ADQARAA0A/P/p/+z//f8QABwAFQADAPj//P///wIAAQD6/+7/9/8HAAYABAAGAAAA9P/x//v/BgAGAAAA+//6//f/9//3//X/9v/0//j/AgALAAMA9v/y//n/BgAUABIABAD//wQACQAEAP7//v/7//v/+////wwAEQAQAAkA/f/7/wQADAANAAIA//8BAAsAFAAJAAEA/P/6/wcAEwANAAYA9//w/+3/7v/6//7//f/0//H/+/8BAAgA+//l/+P/+/8OAA0ABgDw/+T/8P8BAAMAAQD+//v////8//f/+v8DAAMA+f/5/wgAHQAeAAoA9v/t//b/AwD///X/7v/2/wMADgALAPv/8f/r//z/DAAQAAcA+v/9/wAA/v8BAAgABgAEAPn/8//2/w4AEAD///7/9f/2/woADgACAAYACQAHAP///v/6//T/AAAAAAIA/v/0//X/BAAMAAwADgD///3/AAAKAA8ABAD0/+///f8DAAkAAwD7//j/BgASAAkA/P/s//f/CAAUABIA/f/4/wEABAD//wEA+v/3/wIACwABAPb/9P/8/wIABgAIAAcAAgD+//7/+f/2//z/AQAKAAMA9f/5/wEACgAJAAQA/P/6/w0AHgAlABkA+//k/+j/+/8IABEACQD9//b/8//2//v/AwAJAAgAAQAEAA0ACQD1/+f/6f/z//7/AgD///b/8v/6/wEAAgD6//z/CwAXAA0A+v/z//7/CwANAP//8/8EABcAFgD+/+j/8P8HABAABQD4//n/BwAUABoADwD5//L//f8NABEACAABAP7/+P/7/wEA//8GAAgA/f/x//L//f8PAA4A9f/l/+X/7f/y//f/8P/w//X/8//0//3/AwAKAA8AAwD6////CAANAAwABAD///3/AgAIAAIA+P/v//v/CgANAAcAAAD+//7/AgAJABMACgD9//7//v8AAAUABQD9//X/8//x//r/BAAGAAsA///y//L/9v/+/////v8AAAMA/f/4//r//v/9//z/BwAQAAcA9f/3/wwAEwAVAA8ABwADAA4AGAAHAPP/6v/v//j/AwABAAIA/v/w//3/DQAKAP7/9//5//j/+/8CAAIAAgACAAMA/v/t/+////8RABsAEAADAPr//P8FAAsADgAGAAAABwAOAAsAAAD6//7/AgD//wEAAgD8/wQAEgAaABAAAgD2//H/9P/7/wQAAwD8//P/9P/3//T/8f/5//3///8CAAUABgAEAAQA/P8AAAoAFgAVAAIA9f/w//v//P/3//f/+P/3//z/AgD///r/+//8//f/+P8DABEAEgAGAPv//P8CAAEA+f/v//P/+/8HAAkA/f/y/+n/8/8IABAADwAMAAcAAAD//wEA//8EAA8ACgD9//P/9/8HABIACwD5/+7/9v8CAAoABgD///7//f/6//f/9f/+/wQA/v/+//r/+v/7//v/AAANABMAEwATAAsABwABAPv/+//9/wQADAARAA4ABwABAAUAEwARAAQA///5//r/+f/5//3/BgARAA0AAAD5////CQARAAgA+v/r/+//AAAEAPf/7P/y//7/BwD+//D/7v/4/wsAEgAGAAIAAgABAP7/+v/9/wIAAAD8//X/9v/4//r//v/4//f/AAAEAAoACgAPABQACgAAAP3/+f/8/wcADQAIAPj/7v/s//D/8f/z//3/BAAGAAgACQAFAAAA/f8CAAQAAgABAPz///8CAAMAAQD1/+3/9f8DAAYABwAKAAAA8v/u//3/FQARAAMAAgAFAAQAAQACAAUACAADAPj/9P/4////DQALAPj/6f/t////CwAMAAgA/f/4/wMACwACAO7/4//y/wQABQD+//f/9f/2//7/BQAGAAIA/f///wIAAQAAAAQABQAFAAAA/P/9/wEAAgD+//z//v8JAAkA+f/x////EgAVAAEA8P/u//v/CQANAAIA9v/6/wEACgANAAkA///2//b//v8HAAYA///7/wEACQAMAAoADQAMAAgAAQACAAkACQADAAAAAgD///P/7v/0/wYAEAAQAAsACwAMAAoAAwD////////+/wEA+f/z//v//v/8/wEABQABAAAAAAD8//z/AwACAPn/7P/o//H/BgANAAcAAgD5//r/CAASAAQA9P/3/wUABwD+//X/8f/4/wAAAgABAPz//P8FAAgAAQD3//X///8DAAAA///+/wIABwABAAEAAgAEAAkADQARAAsA+P/x//P/9P/2//b/9f/z//X/AQAVABsADAD3//f/CwAdABwADgD9////AgD5//L/7//1/wIACwABAPz/9P/j/+j//f8LAAUA/v//////BwAIAAMA+//2//n//v/9//j/+/8AAPz/8//1////CQAIAAIA/P/+/wcAEgAWAAcA8//1////CgALAAAA/v/+/wIABwAAAPv/+/8EAAcA///2//n/CAARABEACgD8//X/+P/7/wYABwD///r/+f8DAAsAEAAMAAYAAAAEAAsABwD//////P/5//7/+v/x//P//v8NABYADwABAAAABAAFAPn/+P/6/wQADgAFAPP/4v/r/wEACQD+/+//7//6/wIABQACAP7/+v8AAAwADwALAAQAAQABAAAABQAMAAcA+v/3//v/AQAHAAQA8//o//f/BQAQAAQA9P/x//b/AwAFAP3/8v/y//r/BwAKAP3/9P/3//3/AgADAAMAAwACAAEA/v/6//f/+/8JAAoABQACAAYACgAKAAoAAQABAAYABgABAP7/AwADAAEA+//6/wEADwAaABIACQACAAcAEwAVAA8AAAD1//7/CgASABMACAD+//r/+f/8/wAACQARAAwAAgD1//r/BwAKAAUA+//3//r/AQABAPn/7f/m/+3///8EAPf/7f/v////CQAFAP///f8CAAoACgADAAEABgABAPX/5P/h/+7//P8JAAkA/P/w/+v/8f/8////AQAAAAAA/f8DAAgABAD///n/9P/4/wAABAD///j/9/8AAAYA///2//b/AQATABUACQABAP3/+f///wUAAQD6//r//v/5//P/6f/r//j/AAAHAAkABAD6//b//P8DAA0ACAABAAYACQAMAAoA///5//7//P/3//r///8EAAwADQAIAAMABAANABEACQAFAAIABAAMAAcA///6//z/AwAJAAcA/v/z/+b/6//7/wMACgAJAP7/9//6/wcADAABAP7/AgAEAAEA+f/w//j/DAAYABMAAADv//D/CQAcABQACAD9//j/+f/9//j/+P8CAAkACgACAP3/+/8CAAMA/P/x/+z/9P/5//7/AwAGAA0ADAACAPz/+//5//r/AAADAAkABAD5/+//9/8IAAoABQAAAAAADQAUAAsA+//x//b/BwASAAoA///2//j///8GAAsABAD8//7/BgAPABEABwDy/+f/6v/5/wsADwAEAPb/+/8KAA0A/v/v/+//BwAaABMACAD+/wIADQAOAA0ABQADAAMAAgAAAPf/8v/1/wAABAAAAPz///8DAAYA///7/wYACwD///f///8NABgAEgAAAPP/8v/3////AwACAAkACwAEAPn/+P8EAAcAAAD1//H/9v/1//X/9//6/wEACwAPAAAA8f/q//f/AgABAPr/6//z/wUACAAFAP//AAADAAAA/f/4//3/AgAAAPj/8P/t/+7/9P/4//j//v///////f/7//z//v/9//j/9//9/wUADwAOAAYAAQACAAcACwAFAP//AwAFAAUA/f/5//z/AAD7//f/+/8EAAwAEAAIAP3/+//8/wgAEgAWABUADgAOAA0ACwAHAP3/+f/8/wYADgAHAP//+f/6////AgAFAAMA/v/6//3/+//y//H/8f/4/wAA/v/8//n/+//8////AQD+//3//P///wkAFAAWAAgA9P/k/+T/7v/6/wEABgAFAAEA9//4//j//f8FAAwACwAJAAkAAgABAP7//v///wQACgAFAP3/+v/8//3//v/6//v///8AAAIA/v/9/wAAAwD8//7/+//4/wIACwALAPr/7v/3/wQADAD6/+f/6P/7/w4ACgD8/+//7f/x//b/+/8BAAQAAwABAAUADQAQAA0ABwABAPj/9P/4////CAAEAPn/8//3/wQADAALAAMA//8DAAoADAALAAMA+v/0//j/AgAKAA0ACwADAAAAAAACAAYACwAPAAYABQANABQAFgAGAPr//f8NABkAEwAHAPr/+/8FAA0AAwDy//D//f8OAA8AAwD5//z/AQAEAAMA+f/2//3/AgAEAAQAAAD7//b/9f/7/wEA+//7//z/+//3//P/9v/6//r//v8AAAIA/P/x//T/8f/4//r//P8DAAgACgADAP3///8FABIAEAAJAAEABgARABEAEAAIAPr/7v/u//v/CwAPAAIA9f/5/wYAEAAUAA0ACgAOAAwACAAFAAUABAD///v/+////wIAAQABAPv/+//8/wAABQADAP//AAAKAAsAAgD4//T//P8FAAkABAD7//T/+/8BAAYAAQD6//T/8//9/wEAAgD8//r/AgAGAAIA+//2//f/+P/6//X/5v/h/+7//v8FAAcA///x//L//P8JAAsABgAEAAUABQABAAEABwACAPv/9P/0/wAACgAPAAoABwD8//j/+v/9/wIABgADAAEABAABAP//AAAIABMAEgAEAPL/8v/8////+v/y/+7/8f8AAA0ADQAEAPT/8P/5//z/+v/1//f/AAAHAAQA/P/2//f/+/8BAP7/9v/x//X//f/9//7/9v/w//b/BQAPAAcA/P/2//z/BQALAA4ACAACAAYADwAMAAIA//8AAAYABgD///////8HAAcA/P/4//3/BQAMAAsAAQD9/wMABwAFAPz/+P/7/wQADAAHAP3/+v8AAAMA/f/0/+7/9f8EAA0ACwAEAAAAAwAJAAsADAAKAP//9v/u//D/+f/8//3//v/8//3//P/2//T/+v/6//n///8DAAUABAD//wIA/f/8////AQABAPv/+f8BAA0AEgALAAAA9//6/wEACQASAAsAAwD+/wQACgAKAAIA9//1//j/BgAPAAoA+//1//7/DAAWABAACQAEAAkAEwAQAAAA9f/1////BgADAPz/9P/2////BQADAAEAAgAEAAUA+//1//b//P8CAAQA///0//X//f8DAAEA+v/5/////f/3//f/+/8BAP///P8CAAAA/v8IAA4ACgAEAAEABgANAAoABAD9//3/BQAHAAYAAgD//wIABgAGAAMA+//1//L/+P8CAAQA/v/3//j/BQANAAwABQD//wQAAQD+//n/9P/6/wcAFgAKAPn/6v/r//n//v8AAPn/9f/+/wwADAD9//L/+P8JABIACQAEAAIAAgANAA8ABgD8//3/BgAJAP//+f/8/wMACQABAPz/+f8BAA8AEgAHAPz/9f/2/wAA/v/7//v//P8AAAIAAAABAAYABQABAPb/7//4/wcACAD6/+7/7v/2//7/BwANAAkAAgAAAAEA/f8AAAgAAAD3////CgAKAAYA/P/2//z/AQADAPv/9f/5//3//v/4/+3/6//5/wgABwD7/+//9P8AAAYABgD9//T/9P8AAAoABgD7//b/9P/7//3//f/9//j/9//0//P/8//0//v//f/+/wEACgAOAAcACAAPABMADQAFAAQACgARABMACQD8//X/+f////7///8AAAQACQAHAAEA+v///wgADAALAAMA////////BwAMAAsACAAEAPr/9f/8/wUACgACAPf/9f/+//7//v/6//f/+v/6//z//v/5//T///8MAAoA///z//j/BAANAA0AAQD+/wYADQASAAgA/f/9//T/9v/7/////P/5//j/+P/5//T/8//z//T//f8IAAoACQAFAP3//f8AAAUABQADAAMAAgACAP//AAABAAAA///8//r//v8GAAsABgAAAP7/AgAHAAoADAANAAoADAAMAAIA9//3/wMAEQARAAgA/f/2//v/BAAFAP7/+v/+/////P/3//T///8IAAsACgABAP//BAAPAA8AAwDz//X//f8EAAoACAAFAPz/+v///////v/7//j/+//5//f/+v/6//z/AAD+//v/+f/7//z/AAABAAgADAAJAAkABgAEAAMAAQABAAEA+f/0//f/+v///wEA///5//H/7//6///////7//r/AQAOABsAEwAIAAMADQAaABoADAD7//n/AAAFAAQA+P/q/+3/+/8DAAEA9f/0//r/+f/4//P/9/8GAA0ACgAAAPr//f///wQAAAD2//j///8CAPz/8f/p/+r/8v/7/wIABwADAP//AQD//wEA///5//z/+v/4//7/BQAPAAwAAgD4//P//f8IABEACQD+//X/8P/1//7/AAD8//z//f8AAPv/9//4//j/AQAJAAwADgANAAsABgACAAIABAABAP3/9//2////CQAMAP//8f/t//L/+/8AAP///f/9////AAABAAgADQARAA0ABgACAP//BgANAAoAAwD//wEACwAHAAcABQD+/wAA/v8GAAYABgALAAkACwAGAAIABwAHAAEA9P/2/wQABwADAPb/9v8DAAYADwAJAAYADQD1//v/+P/5/zQA5v/2/wUA1v8aAOv/9f8FANv/DwADAAAABADh//7//v8IAAYA8f8AAAAACQAPAAAAAQD3//X/+v/u//j/+//2//f/9P/5//n/+v/5//f//P8EABAAEAD///b/+/8LABMAEwAIAP//+P8BAAYACgAQAAYADQATABQAFQAHAAUABQADAAIA/P/8//3/AwAHAAQA9v/1//7/AQAJAP//+v///wYAEAAFAPj/9//7/wgACgAEAPf/6f/4/////v/5//D/+f8CAAoABgD3//n/AAAEAAUA/v/9//z/AgAHAPr/+P/6/wMABwD///r//f/3//7/IAAYAO//4v8BACUAHAAAAP//AwD4//n/BQAIAP//9f/2/wEAAgD6//b/9f/x//j/AwANAA0AAQD1//3/BwAAAP//+//7//n/AAAMAAAA+P/4/wIACAABAAAA9//x//3/DgAMAPz/7//y/wEA/f/z/////v8AAAEA+v///wAA+f/9//v/CQAVAAIA6//t/wsAFQAHAPv/+f///wMAAAAGAAQA+f8NAPX///8JAP//BAD+/wIACwDx//X/DAAHAA0ABAAKABUAFgAWABIABgAAAAsAGwAPAAEA+v8AAA0AAADz/+3/8//7//T/8v/+/wAA7v/s//j/BgALAAQAAQABAAgABQAGAP3/8v/1//b//f/9//n/+P/0/+3/8v/9////AQACAAsACQD///b/+//+/wEA+P/9/w0ABQAAAP////8GAAgAAwD2/+7//v8LAA8ABAD1//v/CAAQAAwAAwAIAAwACgAJAP3/8//v////BwD5//X/8P/+/w0ACAD8//P/AAAXABoA9f/t//z/AgAKAPX/7f/+/wUABQAHAP//8//3/wIABQABAPT/AwATABgAEQAFAAYACgAFAAAAAgD//wEAAgAAAPz/+f/6//7/AwACAAIAAQAEAAgACAAMAAIA8f/n//H/BAAKABQAEwD///P/8v8BAAoACAAEAP//AgABAP//AQAMABIACgD3//b/AwARABMABwABAP3/AgAGAAQA/f8DAAgACgAFAPj//f8FAAsAFQAQAAMA+//9/wQABwD6//P/+P8GABAAFgALAPv/+f///wkA+//s//X/BgANAAMA7v/k/+r/+v8FAAIA/P/1//f/BgAKAAQA9f/q//z/DAAOAAwA/P///wkAKwAXALT/uf8YADcAJwDz/8n/1f/m/w8AOwAYANj/xf/q/xcAIAAEAOj/5f/q//X/DAAVABIAEQAFAPT/5P/o/xcAMwAdAPb/3P/u/xAAGgAZAA0A7f/n////FQATAP7/8//8/w0ADwAAAPP/+P8LABgADgD0/93/5//8/wAA/P/u/+j/6//5/wsADgAFAAEAAAABAP//AwANAAoABgABAPT/9P8AAA0AFgALAPv/7//y/wgACwAHAP3/7v/0/wkAIAAjABMAAAD1//n//v8MABYADQABAPv//f8DAAoADAAMAAgAAAACABAAFwAQAAMA7P/l//P/AAAKABEABgD4//P//P8GAAEA+P/4//7/BwAFAP//BAD//////v/2//D/9v8DAAoAAADu/+T/7P///wkACQD7/+z/7v8BABIADAD7/+v/8f8AAAcACAAGAP3/7//n/+P/7v8GAA4AAwD2//D/7v/y//n/AAACAPj/7//x/wEACQAHAP7/8//n/+b/+v8YACMAEAD4/+//9/8CAAoAAAD1//j/BgAYABUACAD+//z/BAAOAAsAAwAFAAsAFQARAAcAAQAGAA0ACgAGAAkADAAJAAIA///6//b//f8GAAQABgACAAAACAAMAAsAAwD9////DAATABEACQAEAAIAAAAEAAwAEAALAAcAAwD9//r/+f/6////AQABAAEA/P/4//j//P/9//z//f8BAAcABQD9//b/8f/x//X/+P/4//n//P8EAAYAAwAAAP7/BQAJAAkACgAGAAcACgAJAAIAAQAAAP7//P/3//f//P/9//r/AAAIAA4AGAAYAAkABwARABcAGwAQAAEA+f/5//z//f8AAAAAAgABAPn/8P/u//f/AwAEAPv/9P/6/wQACQAHAAEA/v8AAAUADgAIAPr/8P/y//v///////r/+//+//7//P/4//X/7//v//X/+f///wEA+//4//3//v/4//r/AQAHAAIA///7//X//f8CAAAA+P/r/+z/9/8OABUACQD4//H//f8GAAUA/v/5//v/BgAQAAsAAAD5//7/AAACAAIA+f/4//z/AwAFAAgAEAATAAIA8f/w//X///8FAAQA/f/z//X//P/6//b/+P8CAAwABgD///z//f8EAAAA9//3//3/AQAHAAgAAgD9//7/AwD///f/8v/z//P/9//+/wAA/P/z//L/9////wYABAD7//L/9/8GAAoAAQD8//v/+//+////+//y//f/AAABAPn/5v/m/+7/+/8CAP7/+//8/wQABgD///j/9f/6/wIAAQAEAAcABQD///z/AgABAP7/+f/7//z/AAAHAAgAAgD7/wAABgAFAAMAAgAGAAgACQAHAAkABwACAAgADAARABAABAD8//f/9f/5/wYACgAJAAYABgADAAMAAQABAP///v8AAP////8EAAkABAAAAAIABgAGAAUABQADAP//+f/6//3/+P/y//f/BgANAAgAAAD9//z//f/+//r/8//y//n/AQAHAAMA+v/x//j/BQAIAAgA/P/3//n//f/+//f/8//1//v/AAACAP//8f/q//L//v8EAP7/9v/4/wcAFgAcABAABAAEAA0AEQAOAAgA/f8BAA0ADgABAPb//f8GABAAEwAMAAUABAAEAAEA/f/7//7/BwAKAA0ABQD6//r/AQACAP7/9f/s/+//9f/4//P/8v/9/wIA/f/0//L/+/8EAAYA+P/q/+z/+v8EAAcAAwD8//3/AAAAAPz/+v8BAA0AFAAOAPz/7f/y//7/BwAJAAQAAwABAAAA//8AAPj/+f/3//L/+//+/wYACAAHAAEAAAACAAEAAQAGAAsADAALAAIA+//3//3/BQACAAMABwAFAPz/8v/t//P//P8CAAIA/P/9/wQACgAKAAMAAAAHABMAFAAMAAEA+v/+/wUABgD4/+v/8v/9//7/+//2//P/9v/6//n/9//5/wAAAwD+//3/9v/x//n/BQAMAAYA/f/1//T/9v/7//z//v8AAPX/7v/y//b/9//5//b/9f/0//X///8BAAMABQAFAAUAAwAFAAIAAAD6//n/BAAQABEABwAAAAAABwATABYACADy/+j/9f8AAAIA+//0//P//v8KAAoABAD//wAAAAACAP//AAAEAAcACwAEAP////8AAP7/+f/w//P///8BAPz/7//x//r///8CAAIA//8EAAcABgD///7/AAABAAAAAAAIAA0ADgADAPz/+v/3//X//v8FAAUAAwD7//3//v/6//j//P8AAAAA/f/8/wEAAwACAAEAAQAIABEAFAAQAAYA+//8//v/+//6//f/+/8AAAgABAD1//D/+v8CAP//+v/y//b//v8BAP///f/8////CgANAAcAAwAAAAIABAD9//j/9v/9/wAAAgAEAP7//v/2//T/+////wUACAAHAAEA/v8EAAkADQAJAAgABwALAA0ABgABAAIABgAMAA0ACwAHAAEAAQACAP3/9//0//T//v8HAAYABgADAAIAAwD7//r/AQAGAAoAAQD6//f/9////wMAAQAAAAAAAAD9//n/+/8CAAoABwABAP/////6//j/8//q//L//v8AAPz/9v/3/wEABQADAAQAAgACAAMA/f/4//X/9v///wYABQAAAPr/9//8//v///8BAPv/9//5/wEACAAIAAYABgAJAAgABgAMABAACgAKAAsAAwD9//j/+//8/wUABwAAAPz///8BAP3//////wAAAQAAAAAAAAD///j/+f/8//3/9v/0//b/9//+/wIA/v/8//3//v8DAAoADQANAAsABgADAAEA///7//z/BgAPAA4ABAABAAIA/v/1/+7/9/8EAAwACQAAAPv/+f/+/wMABAAAAP7/+P/5/wAAAQABAAAABQAEAPz/8//u//L//f8KAAoABAAEAAUACQATABMADAAMAAEA+v/+/wYACgACAPb/7f/0//n/+f/1//L/+P/+/wEAAwACAP//AwAEAAQACAAKAAUA/v/8//v//v/7//H/9f/+//3/+v///wAAAQD///v/AAAGAAcAAgABAAUADAAOAAoAAgD9//n/+f8CAA8AFQAJAPj/8f/1/wIABQD5/+//8/8AAAoAEQAPAAMA/f8EAAkACQAGAP7/+/8BAAcACAAAAPX/8f/x//n//v/7//7/AgACAP7//P///wIABAAEAAAA/v/6//v/AQACAAIA//8DAAkABQD///3///8DAAgAAgD7/wIAEAATAAgA+f/y//v/AQD///r/+f/9/wIAAgAAAPn/9v/+/wYABgADAAEABgAOABEACwACAAAA/v/8//3//f8AAP7//f/3//b///8HAAUAAQABAAQACAAEAAAA/f/7////BgAMABAAEAAGAPn/9f/1//f/AgAAAPf/8f/6/wcACgAHAPn/8//3//n/9v/v//D/+P/+//r/+v///wQACQAGAAEAAAD//wAAAgACAPz/+f/+/wkADwAIAPr/7f/v//3/BQACAPv/+v8AAAMACAAGAAAA+P/4////AgABAAAA/v8DAAgAAQD3//b//f8JAAsAAgD9//z/BAAMAAwABAD7//f/+P8AAAsAEAAEAPz//v8GAAwACwAGAAUACgADAP///v8AAAQACQAJAAEAAAAGAAcA/f/w//H/9v/0//X/8v/3////BwAGAAAA+P/7/wkAFQAQAAYABAABAAgAEAAGAPn/+P/3//n//P/5//n//f8BAAAA/P/2//P/+P/8//r//v8FAAsADQAJAAoACgAJAAUA/P/5//f/9f/0/wgAFQARAAYA+P///wUABgAFAAEA/f/1//b//v8IAAUA/P/1//b/+f/+/wAAAgAGAP//8//t//r/EQAbAAwA+P/x/wEAEAANAAMA+f/w//H/9//7//r/9f/y//b//v8FAAoACAAFAAgABgADAAMACAAHAAEA/P/9/woADAAIAAgADAARAAcA+v/5////BAALAAYAAAACAAkACgAGAP//+//+/wEAAgD+//7/AgAKAAkAAQD4////CwAJAAIA+P/2//z/AwAGAAcABwACAP//+/8AAAUABAABAAAABwADAAMACwAQAAgA/f/7/wIACQAEAP//8f/m/+f/8//9//z//P/7//X/9f///xEADgAAAPb/9v/9/wkACwAEAPz///8FAAkAAgD4//n//P8BAAQABwAEAAIABQAGAAQA///3//f//v8IAA8ADAD//+//7f/4/wAA//8AAAEABwAKAAQA//8BAAQACQAMAAkAAAD0/+7/9P/8//v/+f/1/+//8P/z//r//v8BAAAA/P/7////AAD5//L/+P/+/wMAAAD9//7///8AAP//+//4//z///8BAP3///8HABEADgAEAP//BQAWABoADgD+//f/9////wEA+f/z//H/+/8BAAMA/////wQAAQACAP3//f/9//r//f/+////AQAEAAcAAQD6//v/AQAKAAoABAAJAAgAAgD9//z/AQAEAAQABgAGAAYAAQD//////P/9////AQD8//v//v8AAAIA//8AAP//+//9//v/8f/t//L/+/8AAAEAAAAAAAAA/v8BAAUABAAIAAkACQAJAAIA///9//z/+//8/wcAEgAUAAsAAQD0/+v/7P/p/+r/8f/3//z//v8CAAAAAQAFAAcACwATABUADwAIAP//AQACAAAA/P/4//3/AgAHAAEA/P/8//v//v/9//z//v8FAAUABwAEAAEABQADAAQA/v/2//D/9/8CAAQAAgD8//v//v8CAA4AFAAXABQACwABAP7/+//7////AQACAAUADQAMAP//9//5/wAAAwABAP3//P8BAP3/9//2//b/9v/3//n//v8BAAIA///2/+//8P/7/wcADgALAAQABAAGAAkACwALAAoADAAMAAoABwABAPz/+f/3//b//v8FAAgABwD+//3/AQACAAAA/f/5//b//P/8//H/6v/r//f////8//r/9f/5//7//v8FAAIA//8AAAIACQAMAA0ABwD//////////wYABAD+/wAA//8HAAsABQD+//r//f8EAAcAAwD3//D/9v/+/wAAAgADAAgAEgAVAAwAAQAAAP3/+v/9//r/AQAEAAQA/f/3//j/+v/+/wUACQAFAAAAAwALABMADAABAAAA/v/+/wQAAgAAAP7//P8AAAEABAAPABYAEgAIAAMABAABAAEAAAAFAAUABQAJAAAA9//y/+7/8v/3//f/9////wQABAABAPv/+f/8/wcACgAGAP7//f8AAPn/9P/3/wEADAATABUADgAKAAIAAQADAAAA/f/2//b/9v/z//L/6P/s//X//P8BAAAABAAAAPr/9v/6/wIACAABAPv/+f/2//v/AAAGAAUA///9/wMACAAIAAQABQAIAAcABwAFAAAA+//4//j//P8AAP7/+//3//P/9//+/wQACAADAAAAAQABAAEAAwACAAEAAwD///f/+P///wQAAwADAAcACQAOABQAFQARAAgAAwAGAAsAAwD5//f/9//6//j/8P/u//L/9P/3//T/8f/6//b/8f/u//T/AQACAP//AAD+//3/+P/5//3/+v/7//3/AAABAP/////7//v///8LABYAFQAUAA4ACAADAP//+v/8/wcADwANAAAA9P/4/wgABgAFAAsACAAFAAMABgAJAAMA+//7/////P/2//P/8//8/wAA/f8AAAMAAgACAP7/+//+/wQACwAEAP7/AAAAAAEAAAAAAPv/9v/4/wAACQAHAAUABQACAA8AEwARABEADQAKAAgADQAKAAIA/f/4//L/+P8HAA0ABgD4//L//f8JAA0ACgAGAAIACwAXABUACQD8//r/AQAGAAoA/v/1//f/9f/1//v/+//9/wEA///8/wAACwANAAEA9f/2//7/AQAKAAkAAADz//H/9//8/wIA/P/4//r/+/8AAA8AEwANAAcABQADAAYABgAAAPb/7P/q//P//v///wIAAQDy/+X/7P/8/wcABQAAAPT/6f/u//n//v/8//f/8v/0//3/BAAGAP3/9P/3//7/BQAFAP7//v/8//z/AwAJAAsACAAIAAcACQACAPv//f//////AQD/////BwAPABEACgACAP////8IAAIA/f8BAAEABQACAPf/8v/4//7/BAAEAP//AQADAAEAAQABAAIACAAKAAoADgAFAAAAAwAEAAgABQADAAsAFAAQAAQAAAAGABQAFQAIAP7/AQAMABgAGgAPAAgA/v/7//7/AQAAAP//AQD9//r/9v/4/wIABQD5/+7/9v8FABMAEAD4/+3/9P8FAA4ABgD4/+v/9P8BAAYAAQDy/+3/8v/2//f/9//3//L/8v/z//n/BAAQAA0A///y//L//f8EAAAA/f////7////6//P/+P/6//z//f/5//r//v8DAAIAAQADAAYACQAGAAcABwALAA4ADQAJAAIA/v8CAAIA+//z//P/9P/0//D/7//6/wMABgAHAAQAAAABAAQA///7//3/AgAQABcAEwAOAAoABAD8//7/AQAAAAEAAwAGAAkACgAIAAQABAADAAgAEQASAAcA+//5/wMADAAOAAYA+//6//7/AgAGAAUA/////wMABgAKAAsACQAFAAAA///9/wAACAALAA4ACwAEAAAABQALAAUAAgD8//z/CgASAA0AAwDw/+n/7//3/wAAAQABAPf/7//0////+v/v/+n/6f/v//n////+//v//P8BAAIAAQAAAPv/9v/z//f/+//9/wIAAwD/////AwAEAAcA/P/3//b//f8HAAsABwD6//n//f8GAAkAAgD9//7/AgAHAAoACQAGAAEA/P/6//n/BQANAAgABQACAPv/AQAKAAwADQAJAAMAAAAAAAAAAAAFAAgACwAKAAIA//8CAAsACQD9//n//f8JABAACQD9//f/+f///wYADAAFAPn/+f///wgACwAHAAEA/v8BAP7/+f/7//3///8DAAMA///8//z//v8EAAgABwD///X/9P/7/wMAAwD9//v//f///wAA9v/s/+v/8f/1//f/9f/u//D/+f//////+v/2//n//v8EAAgABQADAAkABQD+//7/+v/4/wAABQAIAAsABgD1/+v/8//+/wgAAgDz//D/+f8BAAUAAgD7//v/BgANAAYAAAD7//v/AAD///z//v8BAP7//P/7//j//P8IABAADQACAPf/+f8DAAoACwABAPf/8v/1/wcAEwALAP7/9f/0/wAACgALAAUA/f/8////AwAHAAQAAQD8//P/9//7//7///8EAA0AEQALAPz/9v8AAAwACAACAAAA/v8AAAEA+//3//f/+/8CAAsADwAFAAAA///+/wgACwAGAAQABgACAP///f///wIAAAAAAAAA/v8CAAIA/v8AAAcADAAMAAcA/v/8/wQABgAHAAkAAwD5//f/+f/+/wIAAAAAAAEA///8//n/+f/7//7/AQACAAQABwAJAAwABQD7//T/+//+//f/+P/8//v/+//9/wMAAwD7//T/8/8BABAAEwAIAP3///8DAAMA//8DAAsADQAKAAYAAAD4//n//////wIABgADAAAA+P/4//r/+v/8/wIAAgACAAIACAAOAAsAAQD7//7/AAACAP3/+P/+/wUACwAKAAEA/v8DAAYABAD///n/+/8DAAQA/v/7//z/BwAPAAkAAAD6//n//P/+/wAAAAAAAAAA+//4//7/AgAFAAcABAAGAAgABQABAP//+P/y//n/AQAEAAAA/f/6//j//v/+//n/9v/7/////f/7//r//P8FAAIA+f/7/wEABQAGAAEA/f8BAP3/+v/8//j/8v/o/+X/6P/z/wAAAwD8//X/+/8DAAgABAADAAcACAAKAAQAAAD6//f/+P/5//z//f//////AAAEAAgABwAJAAoABgAEAP7/+f/+/wQAAgD//wQABwAAAP///P/3//v/BAAMAAoABQAEAAQACgAIAAEA/P/3//r/AwAEAPz/8v/0//z//f/+//3//f8FAAgAAAD5//3/BgALAAwADAAIAAEA///6//r/+f/0/+z/7P/t//D/9f/w/+7/+f8CAAEA+f/4//v/AAAIAAUA///9//7/AAAAAAIABwAKAAoACAALAA0ACAABAPn/+v8EAAYA///9/wAAAgAKAAoACQAHAAoADAAMAAwACgAKAAoACQAEAAEA/P/6//3//f////v/+/8FAAEA+v/9/wIAAwABAP//9//3/wIACAAJAAQA+f/y//f//f///////f/4//j/AQAEAAEAAQABAAcACQAFAP7/9v/7//z//P///wAA///6//b/9P/z//n/9v/y//X/9f/7//3/AQAEAAIACQALAAUAAgAAAP3//v/+//v///8EAAYAAwADAAYABAD//wEACQANABAAEQAOAAYAAwADAAcACAAPABAABQD/////AgAHAAQAAgAAAAcADwAGAAIAAQACAA0AFAALAAIACQASAA4ABAD7//n///8DAP7/+v/4//T/9v/+/wEA///8//z/+f///wUA///0/+z/7f/w//D/8f/v//T//v8AAPz/9f/1//n/+f8CAAQA/f/6//v//v8BAAEAAAD8//n/9P/2/wAABgAGAAYACQALAAcACgAPABEAGAATAA8ADQAJAAMAAAD9//3/AAAEAAMA/v8AAAgADwAKAAAA9f/w//H/9//7//r/9//0//P/+f8AAAAAAgACAPz/+//9//v///8EAAMAAAABAAEAAQAAAP//+f/2//T/+P8DAAIA/f/6//r//P///////P/1//X/+f/6////AQACAAMAAQD7//r////+/wEAAwAAAPv//v///wMABgAGAAYABgAKAAMACAAHAPn//f8JAA0ACgADAP///P8AAP7/+f/9/wMABwAFAAEA/v/8//f/+f///wEAAAAAAPn/9v/9/wAA+P/5//3//v/+//j/+f8CAAwADgAGAAMABQAGAAMA/v/+////AQD+//v/+f/4//3/BAAHAAoACAABAP3/AAADAAQA///8//r///8FAAcABwAJAAYAAQADAAIA/////wAABAADAAMAAwAIAAcAAwAKAA0ACwAIAAQA+v/5//v///////7///8DAAIA+/8AAAIAAgD7//T/8//0//r/+//4//n/9f/6////BAAKAAgABgANAAoABAADAAgADgARABIABwACAPz/+//5//X/9//0//H/9P/4////AwAFAAQAAAAAAP3/+v/3//T/+v/+//r/+v///wQABgADAAEABQAIAAMAAAD9//3/AgAHAAkADAAJAAIA/v8EAA8ADwAFAPz/+/8BAAsADgAMAAYAAQAHAAwADQAPAAwACQADAPz/8//4/wgAFAANAP7//v8DAAcACAAGAP////8FAAcA/////wEABgAKAA4AEAAGAAEAAAAFAAMAAAD7//H/8f/0/+3/4v/j/+7/+f/7/wAA/v8AAAUACAAIAAQAAgD7//v////8//3/+//4//b/+P/+//7/AQAGAAUABAALAAsABwACAP7/+f/4//j/+P/9/wIABwD///3/AAACAAMAAgAAAAEAAgADAP7//v8IAAoABgADAP7/9//2//X/+//7//f/8f/0////BgAMAA8AEwANAA8ADQABAPn/9P/3//b/9v/4//n/+P/3//b/+v/9/wYACwAGAAIA///8/wIAAwD///7///8AAP//+f/x//X/+P/8//z//P////z//v/9//7/CAALAAQA+//7//3///8JAAgA///5//n/+P/7/wAACAAPAAsABwAFAAwADAAJAAcABQALAAYA+v/1//j/AAAAAPz/9v/4//r//v/8//n/AgALAAgAAQD7/wIAFAAaAA4AAQD9/wUACQAEAPn/8//6/////v/9//3//f///wMAAQD6//r//P/7//r/+//8//v//f8BAAMABQADAAAABAABAPz/+//0//D/9v8KABkAFAAJAAoADgAMAA4ACgABAAAA//////z/+//8//b/9v8CAAsADAAGAP7//v8KAA8ABgAAAAEABwAHAAIA8//1//z////8//f/9f/4//j/8v/1//r/BAANABMAEwARABIADgAFAPr/+P/+/wIA///9//7/+//8//r/9v/7//7//P/4//f//v8CAAAA/f/+///////4//L/9P/7//3//f/5//f//P8IAAwADAANABIAEgALAAgACAAKAAsACAD///P/8f/6//z//f/9/wcADAAHAAQA/P/4//z/AAADAAUAAwD9//3/AAD5//T/9v/3//f/+P/5//b/+f/+//7//v/9//3/AQAGAAgABgAFAAYABwACAPv/+v8BAAMABQAIAAUAAwAGAAUAAwAGAAMABQACAAEAAQAFAAkABwADAPn/7//w//f/+//4//f/9//8////AAAEAAgABgADAAIAAQAEAAoADAAKAAEAAQAGAP7//P/4//X/+P/4//L/8f/w/+3/8P/4//z//f/9//3/+P/7//7/9//0//f//v8AAPv/+P/7/wAAAAD///7//////wEABQAFAAYAAAD5//b/9v/+////BAAFAAYACAAEAAoADAALAAcABgAKAA0ACQAGAAQABAADAP//+P/1//f/+v/+//z/+////wgACAAFAAEAAgAGAAMABwAFAP7//f8EAAwACwAIAAMA/f/6//r//P/2//f/+v///wMA//8DAAYA+f/z//b/+v/8/wEAAAD9//3//f8IAAsACAAEAAYACQAIAAIA/f8AAAAABQAHAP//+f/9/wEAAgD8//b/+v/6////AgADAAcACQAHAAMA/v8EAAoABwAFAAcACQASABUADgADAPv/+/8JABMACQD//wMABwAKAAgA/v/7/wIADgAMAAoABgAFAAUAAwAAAAAAAwABAPv//P/9//7/+f/2//X/8//3//b/9P/u/+z/7P/s//P//f8CAP///P/4//f/9v/u//X//v8DAAMAAgACAP//AQADAAAA///8/wMACAAIAAEA/f8BAP//AAABAAkACwALAA8ACAAAAPf/8f/y//n//////wEABAAEAAQAAgD+//z//v///wIABgABAPz/9f/o/+P/6f/1/wAABQAKAAYABwAIAAQA///8/wEABAAEAAYABwACAAEAAwABAAEA///+//7/+//+/wAA/f/6//f/9//9/wIA/v/+/wIAAwACAP///v8AAAQABgAFAAMAAAD+//z//P/6//X/8f/x//r/AwACAAAA//8AAAEAAQD8//b/+P/8/wcADAAJAAcAAAD///3//f8AAP/////+////AQAHAAsABQABAPX/9v/7/////f/3//j/+v///wQAAwD+//v///8FAAoACQAEAAAA/P/5//j/9v/3//v/BAAIAAcAAgD0/+7/8v/6/////v/5//z/BgAKAAYAAAACAAwAEwAKAAAA/v/9/wUADwAOAAcA//8BAAYADgAQAAwABQD+/////P/3//f//f8DAAQABwAKAAwAEQASAA0ACwAEAAYADAALAAgA/f/2//z////7//f/9f/y//L/9f/2//T/9v/3//3///8AAAQACAALAA0ACAACAAEA/f/+/wAAAgADAAMAAAADAAMA/f/4//X/9f/2//z//f/7//z///8AAP3//v////3//P///wMAAgAEAAEA///9//r/AAACAPr/9//6//b//P8DAP///v8AAAEA/f/7//7/AAACAAYAAwABAAEAAwAGAAMAAAADAAMABgAIAAwABwD+//j/9v///wQACgAJAAEA/f/7//r///8EAP//+//8/wAAAAD8//r/+f/8/wMACgAKAAMAAQAHAAsACwACAAIABgAIAAwABwAEAAEA/v8DAAMABgAIAAkAAwABAAIAAgAGAAQAAgAEAAkADQAQAA0ABgACAP//+v/6//n/9v/4//7/AAAEAAQA/v8AAPv/9v/1//X/+P/1//H/9f/1//L/9v/z//D/9P/5//b/9P/3//n/+v/9/wEAAwAGAAsAEAAKAAgADgAIAAEAAQADAAUAAQD8//r/+f/8//r/9P/v//P//P8GAAoABgAFAAgADAAKAAgAAgAFAAMA+P/0//D/9f/5//j/+v8CAAUAAAD///7/+v/4////AAADAAEA//8AAAAAAgABAAAAAAAAAAIABQABAP7///////n/9v/2//f/+P/4/wAAAAD5//j//f8BAAIAAgD9//n/+f/+//3//f///wMABAADAAIAAwAJAA8ADgAFAAAAAwAHAAQA/P/6/wQACgAEAAMAAAABAAkADQALAAIA//8AAAIABgAIAAMA/v//////BAAGAAAA/P/7////CgAPAAsABgD//wMACAAMAAsABgAEAAUABgAFAAsADwAMAAcA/v/8//3//v/8//v/+v/5//7//v/9//v//f8AAP7/AAABAP3/9f/v//D/7//y//b/+f/8/wMABAACAAIA+//6/wAABQAJAAcABwACAAAA/v/9/wAAAQAEAP///f8AAAMABAAJAAsACgAGAAEA/////////f/6//r//v////v/+v/2//L/8//2//j/9v/3/wAACAAJAAQAAgAEAAgABwAAAPr/9//9//z///8FAAMAAQD9////AQABAP///f/5//r//P/+/wUABwAFAAMAAAABAAEA+f/0//H/8f/z//b//P8AAAUABwAIAAwACwAMAAgABQAFAAcABwD9//b/8//z//X/9P/5//r/+P///wAAAAD+/wMABwAEAAIAAAAAAAQACAAAAPz/AQANABUADgANAAsACQAEAP///f/8////AwADAPr/9v/1//z////+//3/+f/6//7/AAADAAAA//8BAAcABQADAAQACAAMAAcAAwAKAAgAAQD6//7/AAABAAIABAADAAEAAwAHAAIA+//7/wAAAgAGAAUAAQD+//v//f8DAAYAAwADAAAA//8GAAoAAwD5//v/BAAJAAMA///4//X/9f/z//H/9f/4//r///8JAA8ADAAFAAEAAwAEAAUABgAMAAkAAgD9//v//P/4//f/+P/5//f/9P/1//L/8v/u//H/+P/4//3/9v/z//z/AwAGAAMA/v///wIAAQAGAAYABAD8//X/8f/t/+b/6v/u//f/AAAFAAUA//8DAAQAAwAEAAgACwAKAAgACAAGAP//AgACAP/////+//z/9/8BAAEAEAAQAA0ADgALAAkABAABAAMABQAGAAQAAgD3//r/+P////7//P/+//7/+//6//j/+f/2//f/+f/+/wUAAQAAAPn//v8BAAIAAwD+/wQACgAJAAkABAACAAgAAwADAAQAAQAFAAYACwAEAAMACgAKAA4ACwATABAAEQAGAAIAAwAAAP7/AAABAPz///8BAAIA/v8EAP3/AAAAAAMABAAHAAkABgAMAAYACAACAPv/+//2/wAA9v/3//T/+v/9/woACQAIAAIA+P/+//z/BQAIAAYABgAFAAQAAAD4//T/+P/5//P/7//x//j/+v/+//3//P/3//r//f8FAAEABwACAAIAAQD+/wEAAQAIAAgABgAFAAEA///+/wAA//8AAPH/+f/0/wEABwALAAkABgACAAQA/P/8//f/+//0//f/9f///wEA+//7//b/9f/7////AQD7//j//v8BAAIAAQD8//7/BQAHAA0AAwAAAP3/+v/+//j//f/+/wMABgAIAAIAAgD7//v/9v/3//3//f8EAAcABQACAAUACAAJAAMA+f/v//b/+v/4//P/7v/0//r//P/7//n//////wgABAAMAAYACgATABYADwAIAAcABQAAAP/////4//b/+f8DAAUA/f/7////AQD+/wUACgAJAAEAAAAGAAgAAwD///3//f////j/9P/v//f/+v/9//3/AwAKAAgADQAEAAYACAAEAP//+v/8/wAA/f/6//L/8v/z//H/8v/4//7/BwAAAAQABAAHAAMA//8AAP//BwAFAP///v/9//n//P/8//n//v8AAAMACwAMAAsACQAIAA8ADQAQABEACwAIAPz//v////z/+//5//3/9v/u//L/+f///wcACAALAAgADAAFAAYABQADAAoABgADAAIAAAD4//n//v/6//r///8AAAAA+f/4//3//P/6//b/+v8BAAsAFgALAAkAAwAEAAEAAgD4//n/+f/+/wUAAAD9//f/AAAEAAUAAQAJAA0ADAADAP//AQACAAQAAgD+//j/9v/5//z//f/7/wEADQAMAA8ACwAEAAQABgAQAA0ACQAHAAkACQAGAAoA/f/3//r//f8EAAEA/f/6//z/9//9//r/AwABAAEA/P/9////AwAHAAgABAABAAMAAQD6//X/+/8AAAMAAgD8////AQAMAAkA/P/7//b///8BAP3////+/////v/7//3//f/+/wEAAQADAAEAAQD5//z/AAACAP////8CAAEACAAGAAoABQD/////AAD+/wMAAQADAAMA/f/1//j/AwADAP3/9v/7//3/AQABAAAA/P8AAAAABwAEAAAA9P/x//7/BwAGAP3/9f/2//3/AgD+/wUABQADAAIA//8BAAEAAwD///X/7P/t//f/+//1//L/9v/4//3/AQAHAAcAAgAIAAgABgD///L/8v/u//L/6//n/+f/6f/1//n///8HAAgABwACAAEACQAPAA0ADgAJAAAAAQADAP3/8//z//f//v8BAPn/8P/3//z/BAAEAP3/+f///wEABgABAAsACgAMAAUA/v8DAAAA/v/7//z/+//6//r//f/9/wIACAALAAYACAAHAAkACQAIAAYAAQD5//T/9v/5//b/AQAIAP//AQAFAAsABgAHAAgABgAFAAUAAgAHAAkADQARABMADQACAPr/+f///wAAAQD8//3/BAAKAAUA9//4/wEABQAHAAgACgAJABMAFgAXAAgAAwABAPv/9P/w//n///////f/7v/u//T/+/8FAAYAAAD8/wUACQAGAAMAAwAEAP7/9f/4//L/7v/+/wgABAADAAIA/P8AAP3//////wcABQACAAMADgAXABQACgAGAAQABgAPAA8ACAADAAAA+v/4//T/8P/3/wMADQAAAP3/AgANAAwABAABAAMABwASABEADwAFAAEA///9/wAA+f/2//f//f/+//z/+/8CAAkABwAAAAMACQAHAP7//f/6//f/+f8AAAEAAwAHAAsAFAAKAAIA+//+//3/+v/0/+7/8f/y//D/8P/7/wMAAwD//wAAAQAHAAEA/P/0//T/+P/9/wIA/f/+/wEABQAFAPz//f8IAAsACgAMABAACAAKAAsADAAHAAEABQAHAA0ABQD//wIAAAACAAAA9v/4////AQAEAAUAAAD//////P/1/+v/6P/w//X/+f/4//b//v8CAP///v///wQAAgD8//n/+//9/wIADAANAAgAAgACAAYAAQD6//j/+//+//z/+//7//f/9f/x//X/+v8CAAoADAAHAPz/+//4//3/8v/l/+r/+f8IAAMAAgD+////BQD+//X/8f/7/wAABgALAAkABgABAP///v/9/wAABQAEAAUAAAD+//7/AAACAAMA///8/wUACAADAPn/+/8AAP7/AAD//wIACAAIAAQAAAACAP7//v8BAP//BAAIAAgAAQD2//X//f8BAP3/+v/8/wEACQAJAPn/9f/y//b/+/8AAAQAAgABAPn/9//3//X/8f/2/wAABwAGAAgABAAJAAkADAAJAAcACAAHAAUA/v/+/wAAAgABAAEAAgAGAAcAAwAAAPj/8P/p/+//9f/5//z/AgAGAP3/+P/4//7/AgACAAIAAgAHAAkABwAGAAEA//8FAAgAEAAPAAoACwAIAAEAAQD8//r/AgAHAAgACwANAAwABgABAP7////8//b/9v/5//j/9v/7//v/9v/3//7/BQANAAsACgAJAAYAAQD5//7/BgAMAAUAAQABAP7//P/9/wAAAAD+//7/AgAEAAEA///8/wEABQAAAPf//f8DAAMA+//x//H/8//9/wIABgAFAP7/+f/4//v/9//z//X/+v8CAAMAAwAFAAQAAAAAAAUABgAGAAYAAQABAAMABAAEAAIAAgD8//////8AAP7/+P/3//v////6//v/+f/7//7/AQD8//T/8f/2/wQABgACAPv/9f/3//z//////wEABAAIAAYAAgAFAAMAAgADAAQABAAFAAYABQAEAAEAAQABAAQABAAEAAwADQAHAAEA+v/8/wMAAgACAP///v/8//j/9//3//z/BAAIAAoACQAHAAsADQANAAQA/v///wUAAwD8//b/8f/2//r//v/8//D/8P/5/wAAAAD5//n//v8AAAAAAgAHAAYAAQABAAAA+v/y//P/8//2//r/+f/5////CAAJAAoADQAJAAkACAAGAAQABAADAAMAAgAGAAYAAgD4//H/8//3//3/AQACAAAABAAIAAoABQACAAYABAAHAAEA+v/7/wUABgAFAAAA/v/8//b/9//6/wMABwACAPj//v8HAAQAAgAFAAkADQAJAAQABQAIAAMA+//7//v//f/8//n/8v/4//z/+P/2//L/7v/3/wMABQAGAAIAAAD7//n//v/5//T/9v/8//z/9f/x//D/9P/7//7/AAAGAAsACwAKAAoACgANAAsABQD9//v//P8DAAcAAgD///v/9v/5//z/AQAHAAYABQABAAUABwAFAAAAAAABAP///P/5//f/+f/4//j/9v/2/wIADwAPAA4ACgAHAAsACgAMABAADAAJAAgABAAGAAcA///9//v//f8BAP3/9//x//P/9v/+/////v/8////AAAAAP3//P/+//7/+//3//X/8v/5////BQADAP////8AAP///P/+////AwADAAMA/v////7/+v/9////AAADAAUABwAHAAMA+//6//r/AwAJAAsADAAIAAEA+//3//b//f8GAA4ADwALAAUABgAFAAMABQAMAA0ACAAHAAYAAgD7//j//v///wMABQADAAEA///4/+//7P/w//b//f8CAAQAAwABAP3///8BAAAAAgACAAQAAwD+//X/8//z//v/+P/7//n/9v/+/wEAAgAHAAoACgAGAAAAAgADAAMAAwACAAMAAwD+//7/AQAFAAcADQAPAAIA+//3//b/9v/1//X/9v/8//n/9P/x//P/9////wQABgAHAAMAAAACAAcABgABAAEABQD///n/+v8CAAgABQAEAAEA/v8BAAYACgAJAAIA/P/0//D/8P/2//7/AAACAAMABgAHAAUABQADAAAAAQAEAAkABwABAAEA/v/7//j/+v8BAAMAAQD+/wAA/f/6//L/7v/3//T/+/8EAAgACgAFAAUAAwAEAAsABgACAAIABQANAAsACQAHAAIA//8EAAwAEAAMAAMAAAD///z/+v/7//z/AgAEAAgABwADAP7/9//3//n//v8DAAQAAwD9//n/8//x//b/+f/8//z/+f/z/+7/7//x//n//v/+//f/+P/9//7/AwACAAAAAwAIAAgADQAPAAkACgAMAAwABgABAAEAAAACAP7//f///wMACAABAAIAAwAGAAgABgAEAP////8BAAAA/v/3//T/+/////7/9//2//T/9//6//j/9v/6/////P/8//j/7//t//H/+P/+/wAA/f/9/wQACwAIAAMAAwAKAA8ADQAKAAcABwAFAAYABQADAP///v///wIA///8//3//v8AAAEA//8AAP///P/5//3/AwAFAAQA/P/8/wQADQAMAAYAAgADAAQACAAHAP///P/7//z////+//7/AQAEAAcADAAQABMAEwATAA8AAgD+//z//f8BAAEA+v/9/wEABQAGAAAA+//7//z/AAACAAcABwD9//n//P///wUABQD+//n/9//+//3/+v/3//f/9/8AAAYABgAEAP///P/6/wAA///9//v//f8HAAoABQACAAAAAQABAP///P/2//f/+f/9/wMABAACAAAA/P/6//3//P/9//v/+v/3//f//P/8//f/9v/3//r/+P/7////AAD+//n/9//y//X/+/8BAAIAAAD//wMACAAHAAUAAgD+//3/AAABAAIABAACAAEABAAHAAoADgANAAcAAwADAAgAEAASAAoABgAAAPv/AAACAAEA///5//X/8f/v//X/+v/6//b/9P/1//n//v/+//3/+//9/wAABAAFAAMABQAIAAsABwD+//3/AwADAPr/9v/3//3/BAAJAAYACQAOAA0ADQALAAoACAAHAAsACgANABAADwASAAwABAD///3//P8AAP//+v/6//f/+//+//3//P///wEAAAADAAMAAAD8//3/AwAIAAkABwAHAAkACwAKAA0ADgAMAAcAAAAAAAEABwAJAAkACAAHAAQA///9//3///8AAP//+/8AAP7/+v/6//3/AQD+//r//P/8//3//v/+//7//f/4//L/7v/v/+7/8//5//7/AgACAAQAAQD//wEAAgAAAAAAAwAEAAEA/f/6//r/AQABAAMABgAEAAUABAADAAEAAwADAAQAAwAAAAEAAQAHAAwADwAMAAQABgAJAAUAAgABAAQADQAMAAEA9//y//X/9v/6//r/9//2//j/9//z//P/9f/0//b/+v////3//P8CAAcADQANAAUA/v/7/wAAAQADAAQAAwACAP//AgAEAPz/+//8/wEABQAFAAAA/////wEABgACAPr/8P/x//b/AQAFAAEA/f/8//n/+P/8//3/AQAKAAoAAQD9//3//f/5//n//v8CAAUAAwAAAP3//P///wIABAADAAEAAgAGAAUABgAJAA0ABwD8//j//f8EAAYAAQD6//j//P/8//X/9//4//z///8BAAEAAAD9//3//P/+/wIABgAJAAYAAwADAAIAAwAGAAcAAAD8////AgADAP7/+//7//v///8AAP///v/+/wAAAwAEAAEA+f/7//z/AQAAAAMABQAGAAoA/v8CAP//BgAIAAEABgD1//j/9//1//v/+f/+//7//P/9//v//P8BAAAACwAKAAgABgD9//7/AwABAP//+//x//n//v8GAP//6//n/+3/9v8EAAEA+/8IAAQABwAIAP7/AwD//wAACQAGAA0ACQAMABIABwAPAAAAAAACAAAACwADAAYAAwD7/wIA///8//3/+f/6/wkACAAEAAMAAgAIAAQACQACAP//EAACAAwABwAAAAcAAwAJAAIA/P/1//f/9f8AAAcAAgALAAgAIAAKABIACgAEABgABAAQAP3//f8LAAMAAAD8//P/9f/1/+r/AADz//7//f/6////9/8BAPr//v/4//3/BQD///z//f/3/wgAAQAGAA4A/P8UAPv/AgAAAPH/BgD4/wgADwAKAAwACgAQABQABgAAAAMA+P8VAAAADgAKAAIADAABAA0A9/8IAPn/BwD8////BAD//wcA9f/7//T/9//7//X/BgDw//3/7//u//r/9f8DAAAA//8BAP//CwAKAAAACgAAAAEAFgD5////AwDr/xIA+P/+/wEA4v8CAOX/+v/4//D/AADq//j/7f/t/+///P/4/wwADgAMAA4A9v8AAAIA+P/9/+z/6f/0/+//+f/6/+//BQD/////+//+//z/AgD8/w0A/P8IAAYACQAYAAAADgAHAAoAFAD//xcA/v8RAAQADAAVAP3/DQDw/wAA/P/w//v/8f/x//b/8f/t/wEA7P8MAPT/8v8OAPL/HAAGABIAEgD6/w0A6f8FAPX//P8DAPP/AgD8/wAA+//0//j/+f/5/wQA9f8BAAUA9f8TAPf/BgAFAOz/BwDp//v//v/w/wIA8v/1//T/9f////L/9P/p//b/7//7//z/+v8EAP//CQD6//r/5//s//b//P8JAPn/BgD2//r/7v/x/+//6f/2/+//AQD//wEACQAGAAgACgAQAAcACwAHAAYAEwABABIADgAGAAgA9/8KAPv////9/wEABAD+/wkAAwACAPj////z//r/BQD8/wwA8/8OAAYAFwAKAAAADgABABgABwASABAAFgAKAAUABQACABUAAAAHAP7/BQAOAPj/EgADAAsAEgD2/wwA/f8AABUA+v8HAAUA9P8LAPD/8//7/+L/AADy//7/FADw/xIA/f/5/wsA7P8MAPr/9/8KAPX/BwAFAAoABgD7//7/+f/9//b////3/wIAAAD9/wQA//8JAPr//v/6//n/+v/2//v/8f8FAPb/CAABAPj/DgDz/xQA/P8JAAkA+/8EAPj////x/wQA8//0/wAA7P8BAPL/+P8EAP//BgADAAgA//8FAAAAEgAPABMAFAAFABkA+v8JAAMA7P8LAOL/AQD6//D/AgDx/wMA+//9/wAACQACAAoA+v////7/8P8BAOz/9//r/+n/8P/u//X/6//0/+3/7//5//X///////r/BgD1//3//P/q/woA6//5////6v8CAPD/+f8CAPL//v/+//b/CwD3/wQADwAAABgABAAKAAoA8P8DAPf/9f8FAPn//P8LAPz/DAAEAPr/EAABAA0ACAACAAYA/v/+/wYA/P8CAAMA+v8IAAAACAANAAsAGAAVABAAHAASABcAEwALAAkA//8AAPr/+//u/+f/6P/t//v/8P/s//T/8f8JAP//AgABAPv/DwD8/wYA/P/3//j/6f/0/+f/9v/s//H/9//y//3/6v/4//H/+/8CAPz///8DAPn/AAABAAIAHgABAA0A+f/4/xIA+/8EAPH/9/8BAPH/BQD5//r/AwD3/////f/w/wIA9v8JAAcA+P8EAP3/AAAEAPb////+/wUAEgD//w4ABwACABMAAwAMAAcAAwADAPT/+P/4//j//f/+/wAABwAFABIACgAMAAUABQADAAgACQD+/wwA+/8GAPr/+P/9//f/BAD+/wMAAgAFAAAABQACAAAAAQDx/wcAAAAEAAAA8P/7/+n/9//y//7/CAACABEAEAAMAAYAAAD9/wIAAwACAA4A/v8HAAoA+/8KAPT//P/z//T/AwDy//7/8v/8/wcAAgAKAP3/BAAMABEAEgAGAAQA/f/+//f/8//v//D/7//0//X/+P////r/AQAAAPz/AwD7/wAAAwADAAgA9v/0//H/9P/5//b/+f8AAPX/+P/3/+7//v/9/woAAQAAAPv/9P8CAP3//f/7//z/BgAEAP//+f/y//v/AQAAAAcACAAOAAkAAQADAAMA//8CAAMA+/8HAAEAEgAJAAkAAQD2/wMA9P8IAA0ABgAOAP//CQD///L/CgAIABUAEAAEAP3/9f8DAAAABgD3//3/AgABAAcAAQAFAP3//v/2//7/AAD8/wYA+v/7/+3/8v/z//T/BAAAAAkAAgD7//7/9f8AAAEA/v8HAPz///8HAAIAAQD3//3/AQD//wQA///+/wgABAAEAPn/8f/2/+n/8f/+/wIAEgALAAAA+//x/wQA/f8FAAYA9v8GAPr//f/9//n/AgD9//7/+f/y//H/8P/w//n/9//9/wAA+v/6//P//f8BAAUABwD//wMABwAEAAcAAQAAAA0ACgAOAAcABgAJAAQABQD8////BgAJAAwABQAAAAIA//8DAAcAAgAJAAsACwAYAA0ACwAGAAsAGQAHAAUA/f/8/wMAAQANAAQAAAACAO//+v/1//z/BQD1/wEA/f8CAP3/7f/2//X/+P/4//D/7v/2//v/CwADAAMACAD5/wMA9f/2//n/9f8AAPb/8v/p/+//9v/3/+//7//1//f/AAD8/wAA/v8BAAMAAgAAAPr//f/8//7/AwAIABYADwADAPv/9P/5//P/9f///wUADwAMAAUABAADAAkA///+/wYAAwAOAAsACwAEAPz/CwAJABUAFQAKAAUA/v8IAAQABwAHAAUACwACAAQA/v8GAA4ADgAQAAkAAwD2//v///8EAAwABQAIAP///f8BAPv/+v/2//z//P/5//f/9f/0//n/+//+/wgA/v8BAP7/+/8BAAQAEAAOAAQAAQD7/wEABwD+/wcA//8DAAMA9/8BAPH///8NABEAGQANABAACQD+/wUA9v/5/wMA/f8HAPz////6//H/BQD8/wAA+//6/wEA9v8AAPr//f/+//b/+f/1/wMAAAD7//f/9/8BAAAAAwD0//T/9v/x/+//6P/0//3/AQAFAP3/+v/2//v////8//v/+f/7//L/9P/0//v/AAD8/wIA/v8EAAgACQAXABIACgAIAAUABAAAAPz//P/1//j/+//4//7/AAD9//z/+/8CAAUADQAIAAAABQAFAAoACAAIAAYABgAGAPv/AQD///3/+//1/wEA//8CAAoABAAOAAYAAwAHAP//AAD8/wQABgD8//z/8//w//j/9////wEAAQAIAAcAAwD8//v/+f/4/wEA+f/3//3/+v/+//3//v8KAAEABgAHAAUADAAAAAAA9v/8/wQACQAZABEADwAHAP///P/1//r//v/+//f/9P/4//n///8BAAQA/v/9/////P8CAPr/+//+//7/AAD4//z/AQADAAEAAgAIAAwACgAEAPr/8//3/wIACwAKAAoADAAHAAYAAQD///3/+v//////AQADAAAA+f/5//X/9//+/wAABQABAAMABQALABQAEQAKAAMAAAADAAQAAgAAAP3/AQD9//z/+P/1//z//P/+//r/+f/7/wAABwACAP7//P8CAAQA/v/9//b/+v/6//X//P/7//3/+P/3//j/8//7/wEACQAKAAcACAAEAAQAAQAFAAgABQACAP//BwANABYAFgAcABwAFQANAAAABAD+/wAA///6//7//P8AAP///v/3//H/9v/4//z/BQALAAgABgAIAAkAAwACAP7////6//b/7//y//j//v8FAAYAAAD8/wMA//8DAAIABwAKAAAABAD//wEABAAHAAwABQABAAEAAAABAAEA//8AAP//AgD///f/8//u//L/8P/x//n//f////z//f8AAPz/+//7/wEABwAGAAkABQACAPz/+/////r/AAAFAAkABgAAAP7/AAAHAAgACQAFAAQAAwACAAAA//8EAAUAAgD///7//v///wAA+P/t/+7/+P8BAA8AEAAJAP7/8f/3/wEAAwACAAIA//8CAAIAAQACAAAA//////j//P////7/AQD9//3//P8AAAIA/f8EAAYACAABAPz//v8BAAIAAgADAP3//f///wIABAADAAUAAgAEAAkACwAIAAIAAgD///7/AAADAAcACAAGAAAA+//4//j/9//z//P///8HAAMAAAD//wAAAwAHAAIA+P/6//z/BAAOAAoACwAHAAsACQAEAAQA///+//v///8DAAEAAQACAAEAAgAHAAYA///9//7/AwD+//j/9P/5//7/+f/y/+7/6//y//7/CwARABEADwABAPv//f/////////9/wAA//8AAAAAAwADAAQAAwD+/wMABgAAAPv/+//+/wAA/P/6//n//P8AAAIAAwD/////BAAJABEADwAFAAAA//8BAAQAAgADAAcAEgAbABUACgABAAIACwAIAAMA+v/1//7/BQALAAQAAwACAAAABAADAPz/8v/w//r//f8AAP7/+v/6//T/8//4//z/AgAJAAsACAAEAAYACwAQAAoABQACAP//AAD4//b/9f/1//r//v/3//H/8P/4/wMAAgD9//n//f8GAAgABQD8/+//9P8AAAcABQACAAIAAgAEAAsAAgD8//j//P/8//v/+/8CAAYADAANAAcAAQD7//n/+f/+//r//v8FAAIA+f/y//P//v/+//j/8f/1////DgAVAA0A+f/z/+//9/8CAAMAAQD5/wMAEQAWAAgA+f/3//3/CwASAAkAAwD6//v/AgAEAPv/8f/v//P//P/6//f/+v///wgACwADAP///f8AAPz/+//5/wMADgASABAACwAJAAUAAAD5//L/7v/3//3/AgAIAAMAAQD9//r/+v/7//3/+f/7//v/AAAAAAcABwADAAYA+P/w//H/9P/8/wEABAAIAAUABwAJAAgABAADAAIABgAEAAIA///7//r/+f/0/+//7//8/wEABQD///H/+f8EAAwADwALAAUA//8FAAwACQAGAAEAAQAAAAMACAAIAAMAAwADAAEA/v8AAP7/BwAJAAMAAQADAAgAAgD2//H/9/8AAAAA/P/6//v/AgAKAAsAAQD2//H/+v8DAAEAAQACAPv/+v/2//X/+/8CAAsABwAAAP3//f8CAAcADAAJAAcABgACAP7/9//7/wMADwARAAcAAAABAAQABAADAAAAAAACAAYABgAHAAYACwANAA4ACgAKAAYABAABAAAA/P/5//f//v/8//n/+////wAA/f8CAAYABwD4/+3/7//9/wEA+f/y//n/9////wAAAAD+//z/AAD+/wAA/v/9/wQADAAKAAcAAQD//wAA/f/6/wAA/v8AAAAAAwAAAAAA+//3//z/BQAHAAUACwAOAA4ABQAAAPv/+f/7//3//v////7////+//z/+f/0//v/AgAIAAwACQAFAAYABQAHAAUABQALAAsABQD7//T/9//7//f/+P/z//b/+P/+//v/8v/w//n//P/7//z/AAAEAAYABAABAPf/7v/y//f/+//+/wUADQAPAAoACgAFAAcA/f/6/wEABgADAAQAAgACAP3/+P/2//T/9v/5//3/AAAEAA0ADAAGAAoABgACAPr/9P/1/wEABAD9/+3/4//n/+//+v8CAAUADQAOAA8ADgAFAAUACgAJAAEA///2//f/9//7//n/9v/1//T/9v/8/wAAAQAAAAIAAwAFAAUACQANAAgADQAIAAMAAAD9//P/+/8BAAUAAwAGAAkADgAJAAUAAQD+/wMADAAPAAgAAAD2//P/9/////z/AAABAP//9v/w//T/AwALAAcABQAGAAkACQAGAAAA/P///wAA/P/1//b///8AAAUABQAHAP3/9//2//n/AQAEAAgACwAKAAkADAAOAAMA+/8BAAcA///3//f/+f/5//b/9P/0//X/9f/3//3//P/4//n/+f/5//7/AQD8//7////8//f/9f8CAAIA/v/8//f/9f///wgACwAOAA0ABAAAAAQABQAEAAUAAQABAPz/9f/2//X/9f///wMA///7////AwALAAkABwAHAAgABgAHAAMA+f/z//n/AAD///v/9P/1//7////+////+/8DABAAEAAJAAsAEAAKAAIABgAHAAcA/f/x//L/+v8BAAIAAQD7//v/AgAGABEAEgALAAwADgAOAAgAAAD3//7/+v/5//z/BAABAAQADAAHAAIA//8BAAIACQAIAAoACQABAAAA///8//f/9P/8//r/+f/0//X/+P/1/+z/8v/3//j//f8AAAIABAACAPn/9P/y//j/AQD///v//v/1//X/+f////3//P/1//P/+v8BAAYA///7//n//v8EAAoACQAIAAkACwAKAAwAEwAYABUAFAAcACMAJwAlACgAJgAmAC8ALAAhACUAJAAgABMACAAIAAUACQAQABAABQD5//D/8P/u/+v/8f/t/+P/3f/a/8//xv/L/87/xv+9/7r/uf+4/6//qP+v/6z/rv+x/7D/rP+r/7b/u/+//7//y//S/9P/2f/f//D/+v8EAAwAEwAbAC4ANwA6AEcAWgBpAGMAYQBfAGMAbgBwAHQAgQCEAIoAiQB9AHcAeAB7AIIAhwCFAHsAYQBLAEkARwBFADAAIAASAAIA/f/1/+b/0f+9/6v/mv+G/3j/aP9N/zn/L/8u/yf/Fv8I/wT/AP/3/u3+6P7m/t7+4f7l/tr+0f7Y/uT+8/4A/wT/CP8W/yj/Rv9n/4P/nP+8/9v//f8kAFAAfgCmANIA+wAhAUkBbAGUAboB2wEEAiECOgJNAmcChAKZApoClgKWApkCmAKMAoACZwJTAjgCHALzAcwBqQF1AUABCgHRAJQAVgAgAOn/rP9f/xz/1f6W/l/+J/73/bX9ef1F/Sj9Af3R/Kn8jvyC/HL8aPxe/FP8RfxF/FT8b/yS/LX82vz+/Cn9Xv2d/eD9IP5f/pz+4/43/4j/2v8sAHoAxgATAV4BqwHvASsCbAK6AvMCJgNRA3kDpAPFA+UD/QMLBBoEIwQkBB8EDQT8A+kD0QOxA4UDWAMwA/0CxAKLAksCDgLGAXsBMQHdAIIAKwDT/3v/Jf/T/oD+J/7B/WL9Dv3H/In8SvwF/MT7kPtl+zv7G/sB+/L67Pro+uz68foB+yn7YPuX+9P7E/xY/Kn88vxJ/az9Ef59/uP+P/+j/wwAeQDqAFABrwEFAlcCrwIGA1oDnwPgAxwEXQSaBM0EAQUoBUUFWgVxBX8FjgWfBagFqwWXBY4FfgVlBUkFJAX5BMMEhwRMBA0EsQNZA/4CpwI9AsMBTAHQAFkA2f9Q/8P+Nf6l/SL9r/wy/Kn7JPu5+mD6Cfqv+V75Ifnz+NT4u/is+Jz4nfir+Mr4BvlO+Zv57PlA+pn69fpg+9z7X/zL/D79u/1E/sL+L/+g/woAdADbAEABmgHxATsCjQLfAiYDZAOXA8QD9wMpBEwEdwSiBMYE6wQJBSAFNAVIBV0FdAWDBY0FkQWNBYgFhQV0BWoFVAUvBREF8QTGBJIEVgQKBMEDagMWA7gCTQLOAVgB6AB8AAgAcP/X/jn+rf0k/aD8FfyF+/H6Xvr1+YD5Gvm6+Gr4MvgA+N33zve897L3wffc9xr4Xvia+Of4Pfmo+R76m/oj+6z7Lvyr/Cv9rv05/rn+OP+3/zAAmwADAW0B1AEkAnMCxQIVA1kDiwPBA/MDIARHBHEEkQSuBMwE5gT8BBEFLQVQBWsFeAWCBY4FnwWyBcgF0wXZBdwF4AXgBeIF2QW8BZoFdQVNBR8F4QSiBGEEEwTBA24DFgO1Aj8CugE6AbkAPAC0/xz/bf68/Q79lfwv/LH7Eftn+tj5ZPkA+bP4hvhI+AX4yPe097P3pveb96b32fcW+Gr4tfgT+WL5rfkI+nT6APt7++b7TPy8/Cf9lP0O/pH+A/9Q/5b/8P9TAKIA6QA6AYYBzAEBAkcCmALTAv8CJQNPA3gDrAPwAzkEawRwBHQEiQS7BOsEBAUdBToFUgVZBXMFfgV7BWYFTwVNBVQFUAUyBQcF2AS3BI0EewR+BGgEPATuA6wDbQM3AwYD5AKzAmMCDQLKAZsBVAH+AKUAVAAOAM7/kv8+/7z+Hf6G/TD9/PzB/Er8sPsK+4T6JPrY+bf5iPlA+eH4m/h/+HD4Wfg9+ED4Y/ia+N34Kvlm+X/5ovnn+V364/pK+7L7HPyL/PP8aP3e/Vb+uf4U/4n/+v9WAJ8A5gAxAXgBsAH6AVwCrQLXAtMC1AICA0QDjgPVAxMELwQsBDMEYgSRBJ0EqgTQBP8EFgUZBSgFKwUlBRcFJQVBBU4FMAX8BN4EsgSiBHkEYgQ7BAAErANeAzwDFQPWAn4CQQIDAssBiAFRARgBrwBhACIADAD2/7D/V/8K/8j+n/52/i3+0/1Y/eD8o/yM/Hv8P/zY+2r7D/vN+qP6mvp9+kz6/vnA+b753vnv+dv5yfnK+ef5E/pX+qL6z/rw+if7k/sM/Hz83fww/Yb9zv0i/oT+6v5D/5T/6v9SALUA8wAWATUBcAGoAeoBPAKNAr4CtwKxAtQCBAMpA04DcwN7A3MDdAOSA7IDtQOiA7UD5AMQBCEEEQQTBAsE+wMFBB4EPwRABCIEAQTnA78DlANrA1cDOwP+As4ClAJyAjACzgGJAUABHwH7ANMAogBgAAcAzf/A/7b/mv9Y/yf/+/7t/uD+5f7V/qr+iP5x/n/+fP5d/hb+1P2d/Yf9kf2j/ZD9RP3P/Gn8Ofwp/Cz8JvwO/OL7rfuK+4n7ivuH+3T7hfus++D7CPwy/Fb8bfyH/LX8Bv1U/Zv9zP0E/jr+Z/6i/vT+Tf+V/87/+/86AHAAsgDvACMBYQGhAfEBGwJLAkYCaAJ3AqECyQL5AigDSwNZA0oDTAMwA0oDQANnA28DbgNfA0ADHgMyAxUDEAP+AtkCzAKfAoECXgJEAgkC/gHaAdQBngFwAUIBDwHvAMgAvgCeAIkAWwA+AAwA9P/W/7//tP+o/6T/mf+L/3z/Yf9P/0b/Uf9q/3j/cv9e/0z/Sv9S/1z/Xv9A/yr/FP8I/wD/2/7K/rD+kP5j/jn+Ff7l/cT9j/16/VX9RP0x/S79HP3//N38wPzG/NP87fzy/P/8F/01/Vn9eP2k/dP9AP4t/mP+nv7K/gH/Qv+J/9D/CgA+AGsAlwDDAPsAIwFTAXcBpwHGAc0B4AHwAQkCEAIvAk8CawKHAqACuQKyAqMCgQKVAqUCqgKMAmQCXAJRAjQC/gHLAaoBsAGqAYsBWQEpAQ0BBQHZAL8ApQCCAFAAQQAtACQAGAADAAwAFAAgAA8A9f/q/wQAAQDl/8//6v8pADUAHQASABkADgAMABUAAgDn/7X/s//f/+H/uf+I/4v/uP/l/8n/jf+E/6z/yv++/5v/hf98/0r/Hv/q/rz+wP6+/r7+rf6e/nj+VP5Q/mb+XP5S/kL+GP4V/hr+D/7c/dv9IP5g/nD+RP5A/lD+NP5A/nz+vf7d/v3+Kv9c/2n/bP+S//j/bADJAN8A6QDwAO4A6gDgAC8BpAHcAfYBygGFAUkBUAGhAeoB4QHGAcIBlQFUAQUB3wDDANUA/QA8ASsB7ACqAFMARQBSAKUAEwEmATgB+wC///v+Pv0S/XP/VQEWAY0AygBOAesA0f+u/8f/of/qAJMAAPxP9wX2yPom+/X4a/wRAN3/cf3H/Jf+EwCkADoCrAQOBpIFBgQHBOEETAU6Bt4IRAorCdUItQiZBjYDfgKwBHYGOQVoAoIAHf8B/Cr6wPri+8X7m/rD+Q352/dK9qj1ivZr9z74xvkX+qz6o/ph+n76JPuo/K7+jwASAagALgCl/6H/mgA8AbkB5AEcAdv/Z/+O/zH/bP+r/2YAEwEvAXkBxwECAv8B2QJKBLIFmQZ1BjkG/gWYBZQFcAUjBbMEJAXPBfgF0wWjBZMFZwUgBXkFRQYgCH0JIAmdB+cGswcsCSwKCgl6BykGPwbJBi8HWgfqB6YGKAeY//L+6wMO/+z7ygFTAg4APgao/wb4Lf2TBRMDmgDsA6wDW/Xt3jzSgtZg5mTywO5n5GPfNd7s25zZuN+J7o37/P1j/bj/QwKlAmIB/gCcB0URYhakFJEPPgowBMf8xPaD9SX3XveC9Jbvwuq86A3oPumx7Qz1f/oB/hcAhwFeAwgGMQkQDrsTBxftFsgT1w8XDR8Mhwt5DKoN2w2AC3AGdgHh/oH/mgG8A+IE8wSBBPkC1AG5AkwFlwh3C1YONxArETYR8w8HEDESTRWKFsYVXROEEFoNsQrGCeIJKQkZBy0EjgGG/n37HPlp+Mr5z/vc/Bn94/0W/3QACwEqA2IFywMI+cjmUNkf2lHn6/J69CDttuQ63zTcw9t34ADrfvY9/Tv+tf2f/p0A8AAkAfgD2QkrD6gQGg4TCSsDuPyi97L1sPfu+Pr0su0t6LHneOpu7RfwsvMg+IX7g/2V/70Cwga4CkoOCBEkE9ATwRE/DoILqAq8CoQKLApxCV0HxANYAAb/8f/TAT4DtgPWA8QDfQMXA6gDuQW1CIQLTg34DYoNIQ1wDbAOfhAxEjYTVROLEuYQ4Q1GCjwHUgVdBB8EOQQPBG4D5QHl/6/9//ty+y393//GAWoCugJzBGIGIQn4C24RaA/J+aTUw7hjwa/ljwQxBe3wY9xb0aPMRcz819DwCglUEPcGOPxX/AoCaATaAxwJeBMmGoMXKRClCvkFJ/4f8zjtBfBS9iL3mfCr59LhUd9u347kJu/t+lsBZQBV/PT76QDaCOMQTBfhGkYa1hTkDU4JAgiKCPMIlAnMCUAIXwPE/FH4l/hp/F8ANQNBBd8GtAY/BMMBIgJEBsQLlg8aEVQRaxCuDcUKHQrbDPAQGhNsEsIPMwyJCGgF5QO3BEgGKgfhBiMGsATpAW7+C/3a/vEBJQTABB4F1QScA7QB2gF/Be0K2Q9IEmUUvg9W/ePdg8KNv1HUEe359frvbORv2ZjNLcNlxe/ZqvckDBsPzwgNBXYFBwU3BNYI3hPqHXYfvRneElENcgY1/OLyke+N8fLyvvA57cnqqObm3pbXqdii5HX1VALPBrkFPwMxAuMDzwkRFL8epyPYH4MWUg2iB3MFrAWnB6gJHgmuBP79l/ir9m334/j++uH+ywNVB60H+QVCBYQGNwkrDBUP4BHZEy0UJxLGDqILSwpnC5INXw+sD/ENZQrmBcIBNP+X/0wCXwUnBsQDBwAn/en8vP7kAYkFGgikCLQGKgTdAjEEhQfRCq4Now/4Ee8Q4AW/7tzT/8Vxy0rcSOkt7ZnreOcS34nR0MebzJPhc/rdCW8NcAwDDHgKNQaLA/QHABLGGSQaTBV/EBMNqAfJ/kv1su8K7tPtG+307N7tPu0v6RDjYuDh5OzuTPneABwG8wkHDKMLuwp3DDoRbhaIGNkWqBPfEHYO+AqHBrIC2gBPAPT/AQBfAJkAfv9b/Yv7YftM/YUAWgTYB8QKPgzOCy8KyAgFCcgKGw3iDrkP8A+KD5QO2QyUCosIFAdHBrwFmwWQBbMEkAJz/9T8jfsJ/Bv99/2C/kz/owDAAeQBWAHaAPQAawFRApoDRwW4BrQHgAi2B98CYvhe62Lhad6/4K/kaej566fuDu526WzjpeBK45bpX/Bd9k38IQIJBgMHFQaiBVAGJgcBB0sGtAZ8CHAKfApMCLQEzADH/JH4GvWK8xb0a/VH9nL2zvbS9xf5IvpW+3T9cgCqA04GcwiHCpoMEg4IDrMMFQsqCgUKHgodCvsJjwnOCJMHfwYDBugF/QXZBY8FGAWeBE4EQwSjBPYE7QTmA2QBCv4e+5H59Pim+Nn4dvkJ+kP6Z/rX+nP77ftZ/A39LP5x/24ABQGGAQMCXAImAsMBmQH6AZEC3AL7AgYDKgMWA94CoQKTApkChAJAAv0BzgGHARIBmgAtAKb/Hf/E/rj+0/7d/pj+QP4D/tz9kv1N/WH9z/1U/oz+fP55/ob+jf55/mb+ZP5j/l7+N/78/af9Vf0B/cX8vvwG/XP92v0V/gz+zf1y/SP9Kf25/X7+KP9x/4P/cf9l/3r/vP8rAHcAnQCnAMAA2AD2AAQB/wAdAWEBtwHyAQwCMgJyAoYCSQI2AnACuwLfArQCfwJdAl8CWQJkAnkCYgIuAsUBQgHWALsAGAGaAekBuwFWAeYApwC6AOoAKgFAASYB6ACiAGoAJwAIAPr/CQAWAA0A3v+0/73/3v/7//3/GABPAIMAhABhADgAGgAPAAAA5v/k/wIABADi/53/aP9I/zv/J/8W/zD/Z/+Z/5T/e/9//6b/xf/O/9D/zf+7/7n/y//A/3D/AP+9/r/++/41/1H/UP89/xP/4P7Y/gX/Uv+R/6T/jv9e/z7/R/9w/5b/pf+d/5L/kf+L/5P/rP/G/8b/of+A/4X/tP/o/wcAEwD6/87/pv+p/9j/IQBYAF4ATAAtAAAABABOAK8A6gDxAOEAwwC9AMkA3AD8ABwBIQH7AKUAWgAyADsARQAlAPL/yf+9/7D/sv/F/+T/+//u/9T/yv/R/9H/5f/3//j/2/+4/7P/3v8QAAEAyv+b/5H/kv+G/3f/c/9y/0r/Hv8r/2f/q/+9/6P/ef9O/yL/B/8d/1j/k/+2/7n/tP+t/53/hv9r/3H/gv+P/5X/pP/F/+L/1f+q/5P/r//k/xwARABKADkACwDz//r/LgBvAI0AgwBmADgAFgD+//v/CAAlAC4ACgDa/6//qv/C/+H/6//r//j/BQD8/+v/6/8FABoAFgADAPj/AwAJAAEA9f/k/+H/5v/v/wYAGwAbAPr/3//S/9X/6/8NACkAHgD2/8f/r/+3/83/0//I/8b/2P/t//j/9f/r/+z/AAAZACcALgAuACoAGwAIAOj/zv/H/8z/3//0//7/8P/f/8//x//X/wIAPwBlAFMAKQAeAEUAbwCDAIQAiwCTAHoARAAPAPb/AgAOAAMA7//k/+n/6f/z//P/8f/+/xUALQA+AEcARgBKAFYAVgBFADAANgBUAHcAhABvAFMAMQAWAAQABAAgAFAAfgCAAFYAHAD5//n/BQAZACsAMAAtABUA8P/f//f/FwAxAD8AQAAzACQAEwAEAAQADAAZACwARABDADEAGQAAAO7/3v/h//f/DwAeABAA9f/c/8v/zf/l/xEANQBGAEMALQATAPz/8f8GACwARAA/ACIADAD2/+b/0v/H/9b/8/8NAA0A/f/k/83/x//K/97/7f/x/+f/2P/M/8b/yv/c//z/GQAfABAABQAJABsAIwAYAAYA/v/9//j/9P/w/+T/4P/Z/9H/2//m/+P/2//V/9T/1//c/+r//f8cADYANgApACEAHAAaABYAGQAiACgAHwATAAwAAwD8//P/8v/v/+3/5//r//b//f8CAP//9v/q/+D/4P/w//3/BAANAAsA+//z/+//+f8HAA8AEwATABgAHAAbAB0AFwANAP//7v/a/83/0f/k//T/+f/s/9X/wf+9/8//4v/9/xsALwAsABkAAgD9/woAEgAcACQAGwAIAP3/+/8CAAoACgAEAPv/7//u//X/AwASABkADwADAPH/7f/z//z/CAARABQAFAARAAUA/v8EAA0AGAAeACAAHAAOAAwAFQAfAC4AJQAEAOr/3P/j//z/GAAhABYAAADx//T/+P8AAAUAFAAkACsAIQAMAP7///8FAA0ADwAMAAUAAwADAAsACgD+//H/5//l/+b/+f8PACEAKQAXAAUAAQAAAAUACwAXAB4AIQAWAAkABQAGAAsACgAFAAMAEwAiACoAIAAMAAAAAgAJABAADAAKAAQA+v/0//T/+v/4//L/9v/9/wEAAgACAAwAGwAiAB8AGgAeABoAEgAQAAsADAAFAAAABAAIAAUA+P/j/93/5v/n/+L/4f/h/+3/+f/z/+z/4//f/+r//f8NABAADAAFAAAA+P/s/+v/6//j/+L/7P///wUAAQD8/+7/5P/f/+T/9P/6//f/8P/o/+T/4P/o//L//v8EAAUABgAQABUAEwAOAAgABgAKAAkABgADAPz/9//0//n/AgD+/+//6v/3/wAAAQD6//H/8P/w//P/+/8GAAwACQAHAAcABQAIAAsAAwAEAAYACwAOAAkABAD///z/+v8DAAsACwAGAAAA/f/8//7/BQACAP7/9v/v//P//v8GAAYABQD6/+z/8P/7//7/9//0/+3/4v/i/+j/6v/q/+j/5//x//b/+P/7//7/AAD8//v/AwAMAA0AAgD4//n//v/8//P/8f/8/wUABQD9/+7/4f/d/+D/6v/7/wcACwD+//L/8v/3//v/AgAFAAkACAAAAP3/AAAKABMAGgAeACIAHAAQAAYABQAGAAMA///7//r//P/+/wIABQANAAoA///8//n///8GAAUAAgAAAP///f/2//f/AQAIAAkACgANAAgABAAFAAMABgAOAA0ACgACAPj/9//+/woAEwAVAAsA/f/4//7/BAACAP7//f///wIA/v/3//f/+f/9/wEACwAPABkAGwASAAkAAwAHAA4AEAAEAPz/+/8BAAgACwASAA8ACQAJAAgADwATABIAEAAFAPz/9/8BAA0AFQAgACIAHwAeABUABQD//wcAEwAYAAwA///w/+f/6P/z/wcAFgAcABYADAAHAAwAEQAXABYADAAGAP///f/+/wcAEgAVABoAHQAcABgADwADAP7/AAAAAP3////+//7/AQAFAA8AEQAQAAsABwAFAAEA/P/9////AAABAP3/AAAFAAgACgAJAAUAAwAHAAUA/v/+/wAABAD7//b//f8AAAEAAAAEAA0ACwAHAAYA/v/z/+v/7v/5/wEABwABAP//BAD//wMABAAAAAAA+v/2//f/AAAGAAYAAAD6/wIACQAGAAMAAQD+//v/+P/0//P/+//+//n/8f/u//D/9P/3//f/9v/5/////P/y/+b/3//g/+v//f8JAAQA/P/5//z//P/0/+3/8P/x//X/9v/w/+3/6P/o/+r/8P/+/wUACAD6/+//5f/i/+3/8//1//L/8P/t//H/+v////7//P/5//r/AQAEAAIA+v/t/+v/7P/v//L/9P/z//P//P8GAAUA/v/5//j//P/8//b/9//9//3//P///wIAAgAEAAIAAAD6//D/7//x//X/+v/7//T/8//9/wQAAQD5//X/+/8BAAEA/f/t/+n/5//s//f/+//2/+3/8P/v//L/9//7//j/9v/0//L/8P/w//D/7//r/+j/7v/3//r/8f/p/+P/7P/z//P/8//1//b/+v8BAP7//v/7//X/7v/v//n/AAAEAAMAAgABAAEA+//3//3/BAAKABEAEQAMAAgA///7//7/AQAFAA4ACgAEAAQABwAIAA4AEQANAAYACgAOABAAFAAQAAoABQAEAAcACwALAAYABQAGAAcAAwD7//n///8IAAcABgAEAAAAAQAAAPv/+f/+/////f8CAAQA/f/4//3/CAALAAQA+f/3//r/AgAGAAMAAgD+/wIAAgD8//z/+f/5//3/BQAGAP7/+//2//n//P/6//7/BwAIAAcACwAFAAIA///6/wAABAD///f/9f/9/wIAAgAEAAMA//8EAAwACwAFAPv/+P8AAAQACQAKAAcABAAGAAQA/v/5//b/9//6//v/7//o/+v/7v/y//P/8//+/wgACwAJAA0ADQAGAAAA+v/8/wAA///7//b/9P/1//b/AAAGAAEAAwD//wAAAwAAAAEACgATABIADgALAAgABAADAAQABQACAP3//v8EAAYAAgAEAAQA/v/+//7/AAADAAQAAgAAAPz/+P/y//H/9f/6/wEABQAAAAEACAAIAAcAAwAAAAAAAAD///3//v/6//j//P/3//v/BwAHAP//+v/7/wAABAACAAQABAD///r/+f8BAP7/+P8AAAQAAQD7//b/8f/4/wAAAAAFAAsACgAKAAgABgAJAAQA+f/7/wMACAADAP///v8GABIACwABAAcAAgD//wQA+v/r/+P/3//j//n/AAD//+3/6P/6/w0AAAD2/+f/7P/p/+7/5//k//D/8f8CAO7/MgDm/0z/fP/z/0QAWAAsAPL/9P/9/9z/yv/C/8X/7//b/93/DwD0/3D/af/K/wEAHAAPAAoAGgAbABwAEgA3AHQAjQCHAJgAlwCWAGwAZgByAI0AiQBMAEMAPgAdABMAJgAcACgASAAmABcAFQDj/9r/uP/E/xwAVgAoAAMA//8nAD8AJQAlAFUAXABhAFoAKAAWAPn/Uf5m/x8AYgBoAOH/rv+y/zwAg/44/9D/FgA/ADUAmv8MAIH+1/xK/Vb+q/9OANoApgDqAOQAmQBAAPL/HAAPAOr/RwDI/43/gf+6//f/LwAiAOb/7P/C/5b/yP9e/0z/7v/N//L/GAA1ACoATACgAK8AuwBxACgA7f/D/87/sv/Q//z/ZQCnAJkAjACUAH4ASgAuAEwASQARAO//wv+u/6b/8v8WAEQAcgB8ALMAZgAzAAcA0P/i/9n/IAAHADEANAD1/xkAAgAWABMACwDz/93//P/d/8//mf9a/3b/j/+5/+//JwBoAIcAmQCcAJcAfgAwACcA//8SADQAOwBlAFkAZgBdADAADAD2/ygAHgASAO7/u//B/+3/PABXAIUAuQAEATEBRAF0AYEBYwH9AL8ApwCtALsAwgCkAJAAhACtAM4AwQDMALAAzQCtALwAtAB6AE4ACwD//+7/BgA5ADEAGgDD/33/Rf/e/rH+hf6H/mb+LP5O/mP+xP6z/p3+mv57/sD+ef6h/k/+Hv7q/aX9uf02/fj8nfxp/G78CvwC/P/7Afw1/DT82Pxz/UH+8f6g/4QACQGTAbIB5QERAvQBHQL/Ac4BogFkAYUBrAHxAQ8CRAKJAq4C6QIMA0QDqQPiA+sDrgOVA9gDPQTOBDwFqgVoBhEHYQdwB0QHNgcEBz0GOgUkBEsDVgJ8AQABygD1ABYBdwH0AYECEwNKA3ADWwMGA2oCkwHtAGMAHgAmAH8AFQGgARoB3v4X+q/zcu1w6NLkteGV3zzfnuF95tvsBvQv+44BdgZhCc0KHQusCmQJSgfnBLACdgEBAd8AgACQ/5z90PrE9/z0vvJo8Izu9+1G78ry0veV/ewCXAfWCiMN/g2DDRYMsQnRBiIEawIBApYCrAO9BJ4FSQa+Br8GEQbLBDkDwgHUANUAzQFeAxMF6Aa4CGcKmwsIDLMLwwq2CcMI9wd7B1YHxgc9CMkI9wgACb4Iswd8BlMEqQLMAKX/+f5X/pv+5v4kAFgBkQJ1A14E+ATVBBwEzAJxAQb9RPWq6+XkXeI84bzfo9794NLln+sF8UT3Ef77AtkEQgT7AxYFkAbyBkQGqwUbBgoHjQeSB7AGpQTJAJv7ova58hfw5e0Z7CbrxOtE7gzygvZ9+rL97f9oAegCbgQ9Bt4H6AguCUsJyAmACq4KYAkhBzMETgEY/2P9lvxF/J38z/2e/zUC3AQGB08Iqgh2CPcHwAfKB9kH2QftB9oIWArSC/0Mrg0eDvsN3gySCxcKAgkTCPMGYgb4BdgFngUqBbQECwRjA8UCMAJXAUkAj/9y/zUALwEgAmkDBgVjBh4HKAeiB+cEmftn7Vrg89pT2QfXYNSQ1ajcW+U+7e70Bf7YBc0IQwfMBEoFaQfkCB0JawkOC+EMnQ07Db4LPwgYAoX5CvHO6l7n7+WD5SLmzuj27Lrxpfb8+oz+UgA1AYYCjARHBzwKPg1HDyIQAxAhD0ANxgl0BYoA6/u1+H73VfhS+vX88//dApwF/geDCaoJ1QixB7kGWAaNBtkHkQkPC1MM/Qx0DTcNUwwDC6cJogjtB6cHiwdaCFEJCgovClYJGwjDBiEF9QOXAi0BewA4AJoBQQNVBLYELgQGBJgDHgN5AlECywLHAi4DnQPJBfIDg/k/6THbCNfc1tjUYNIM1e/dXOfJ7sn2sQCZCEMKzAZvA4QEXAhsCwMNwA03D7kPJg7XC0AINQNL+1nxyujy47Lj3OU66DXq4ewJ8DDzqvYQ+l/9PP+RAFYDQAdgDDkRWhTCFGkSYg8UDBMILQN0/n36ofcR9+H4UvyZ/98BgwMdBJcEGQWKBRcGegZJBzQIcwlXC00NZw4KDuQMSQuPCeQH7AbxBpcHjghECeIJrwo2C/cKswkRCM8GTAXpAyYDQAMtBM8E7gQJBfAEVAUYBRME4wKbAcoA+/8nAAIBswKaA7YD5AOaBBMGBAEq85zgKdRq0mrUO9Wv1oXdieeg7530MfrdANAEVQMc/2z9TAHXB9kNGhIBFFUUfBGYDHMGkf+t+Pjwmun05Grl0OkY7i3wQfF+8q7y0PEH8oH08PjC/QADrwgHDj4TeRZkFuwStg26CMsD4P/F/XD9pP3o/cL+z/+4AP4AtAD2/3z/kgC8AmkFfgidCwYObg7FDc8MkQslCroI0AcaByAHGAiGCaIKdQu4C/UKcAl1CAQI4AfOBxUIUQgJB9oFkQXgBesF5gQVBEUDNALEAZ8BbAL6AgkDlQGr/+T+zf9+AW4CxQKgAvECawQWBBD8X+xB3JXVU9YP2BbZ9twI5TXsT/Bc8z74EP2p/vP8p/vK/qQFeg1JE0IWRRbHEu8MRAYTAI/6l/Xn8KjtFO3D79vyhfOL8cjuN+xK6rvqmO6h9Wn92wT6CmoPiBIBFBoTdA+6CioHNAWZBA4F9wXiBTIEkwH7/ur8evsP+6H7gf3uABIFxghUC8cM+wyYC3YJ3weuB7kIQAqVC0cMvAwJDe8MIAz4CtkJuAjcB3wH8Qf4CN0JTApHCUoHAAUKA0wCQQK/AoQCrQGKAcsCmQStBWIF6QOaARL/rP2k/ej+VgCyAVMCfAJ+AhsDDAPG/YrxLeJ02GfX/drg3iXj9ejg7Zbv1O/E8R/1PvfA99P4w/xVA/cK2xGNFdoUCBBSCUUDtv7f+0T6PPll+E/3O/bP9Gbyl+506fLko+Ml543uuffNAMgHjgsjDJkLGwuHChwKGwrhCkAMyg2gDiwNSwk9BBH/9vrm+If5D/xi/+8C9AVcBysHeQaqBfUEqwRgBRQHbQlbDJIO9Q7bDV8MngrfCDMITgn/CjQM0Ay4DO8L7godCjYIUgW4AlsCyAIaA6IDygQbBaQDUQEcACkAjQCiAA8A3P/T/2AABgEbApUCQAI6AX4APQCUAPAA/P2w9KHnnt5n3V3g6uKK5RjplOs865XqU+yf7zHyIvQ19zb8PwJyCAkOgBG7EAUMrAa2A8YC6gE5Af0AHgDB/bT6kfeJ8z3uLenf5FLjfeZ57jn3Xv1jAYcDwAMTA1UETAcqCtIMBRCnEhYTqxHvDrIKjQUPAaH+c/5hAB4DnwSxBBUE6wL9AHT/rf89AUsD3QW+CBELIAwiDBILlwm2COYI/QmZCxQONxDJEKEPnQ2pC/UJuwjvB9MGvAXFBFkEqQPcAn4CZwLRAS8A7P6B/nv+XP6y/uL/rwCVAEwAfQAzAagBxAFGAZAAigAvAQMCWQFZ/fv0cOof41ThUeOK5ZHnZ+nG6aro3udT6eTr7e0k8B70UfrcAEsGKAoYDKoL5wgUBhIFHAZkB9sHrAfCBtEDv/0T9o/vvOvW6crpaex/8X32dfmv+kX7cPth+6v8jgBkBicMKRAAEqsRbw/yC7sIFQcRB80Hlgh5CdcJ6ghzBmwD6gBw/zP/OQBQAtgEgwa1BoIFJwRfA1EDTwR1BlUJjQvrDN0Ngg43Dg8NTwxkDKwMpAyiDIEMTAvpCFkGWQTJAqUBKAG5AMD/v/5S/jD+Yf0b/Ev7MfvM+838O/6o/4UAwgC6AP8AJAG9AIgAEQEHAhoBq/3g9wHxLOu454/n+uif6kvrmeoR6QDoUOi76brrsu6s8jX3b/tH/2sCKQRcBLoDzQMIBfoG3wg2CiUKUAfSAR38S/hj9mD1XvWk9ij45/jW+Kr4Ifh796/3o/lU/XMBDgVGBxYI/AeABz8HjQeuCEAKwQvrDIsNbA09DDkKKgi0BjwGdwYPB4UHMQf6BS0EugLoAaEB0AGsAmUEJAZaB9QHzQeXB6MHjggrCn8LVAwGDaUNLQ1JCzsJ4Af8BrUF1QTUBCcFbQSIAlkAZP7X/PL7s/uL+9H6TvrC+sD7W/xV/GH8TfxF/Nb8Sf7G/zoA+v93/2f+H/wW+ef1wvI+8HTvdfCp8abxg/DQ7ufst+sX7PztOvBf8pr01fa2+Af6DPvG+2z8ZP0n/48BuQM4BLYCgAAG/4L+Xv6U/hr/Y/8m/w3/Zv9s/57+2v0T/ib/hgDEAZUCpAJZAj0CqAJpA2wEkwWHBm8HPgj2CFcJUgkQCdYI2ghHCecJKgrYCf8I+QcbB3EG2gVaBf0EzQTIBPYEVwVKBb4EOARKBNQEhQVLBuwGIQcdBwIHqAa3BdIEnwTuBP4EkAQJBD4DFALWAP3/Xf/p/or+M/5O/lv+uf3W/Ib8T/z0+5v7+/uf/In8LPz0++77o/tq+1v7Svvw+ur6U/uW+5f7PfuR+l754/fj9qb21PYi97P3+feW99f27PVA9cr0t/Ru9YT2qfeD+EH5vvmR+Sf5Uvle+sn7o/1a/7cAcQGBAdQBdAL/AmgD+wMABcoFJQZTBigGuQXMBE8EiATnBD0FjQXIBWQFrQRFBD0EPARGBJ4EkgSGBHYEOQRCBP8DQQQVBCgDdwQpBeAEgQQ9BM0DfAM/BOcDhQOhAp8C9wMEBMABfAGuAn4C/QCCABsBNQAOAOQBNQFb/1b+Gf/LAOL/eP7w/x4AZv/b/1b/LwDN/jD9Kv8JAI/+Pf5//4b/VP6s/dr9ef2P/dv9uf1L/gL9qPxh/vT9Mv1B/WL9Tf0t/XL99f0C/i/9CP2m/ZP9Bv0g/ZP9UP1c/Tj9Df36/M78XP2M/Jr7lfyD/dz8C/2M/Ur94fwq/Uf+2f1c/c/+Af8M/5H/uf8fAMP/m/+4ABkBKAFHAcIBBQMIAqEAQQEDAzICegIsAoQCnANxAtYBrwJfAoMBvgLjAnMC/APbAjQDtgH+AMECIAJdA5IB9wF7AwkDOALtAIMASQIgAiwA5gH3AQgBDwKg/z8BKgCj/+gCRf9UAIABjwAjADMAwwACAFP//AAQAez/Uf9lAMcAfP8DAG4BAgAM/5IA2gAAAOb+fP/eANT+2v4aAPv+kf+3/5f/MP9f/msAlf8e/8j+tv6KANj+5/6b/63+Uv7O/sz+E/61/fX+BP9E/jv/OP5C/lr+TP5N/z/+ZP6d/Tj/Q/86/sv9LP7B/t/96P8T/sn9Pv9f/pEA0P1j/iQAd/5k/3MArgD7/hgAEAHP/oQBef9GADUBAgC7AaAA5wD+AO//pwHiADoBQACxAJsBIAKhABgAMwHGAIQAMAE8Aaj/EwAGAuAClP8yAPj/pAFWAsH+IQECAi4B3/9DAdAAQgGS/0EBXAFr//QAwQB8AS4AGgD9AFsA3gA6/2H/KwJAAhb+2f2JAUYBT//l/17/5P9xALX/OABPAJX/DP+MAVL/Uf6D/0kCFP4a/loBe/6//q//TgBL/wH+k/64/ycAT/8B/07/mv7/AF//RP4LAm//uv7m/j0AZgH//Wv/bwFuAGcAj/4N/6MATwDb/ZoAyACF/VD/mwEHAbL8U/8YAM3/cABc/hL/BAE3/6QAbv/7/DYCCgBC/gIAeAHiAd/9rf6nAkIAbv0iAEUCAwGa/vT/agNx/878IQF5AXUA3P46/1cBQAJT/mn/hP+PAQMAvv6hAUgAdv9VAYYBNP4L/1YCcQJf/Y/9LQTgAb38mv5pApEBSPxd/8QDtf/p/u3/JAFLAM/+RQLW/tn/FQG8/tEBQwAdAJX/uf9iAf//V/9UAKD/PwBBAYD/p/9OAVkAiP48/9QBBgGT/pcAxQHi/mX+agF/Acb+Z/3WAhsBwP79/9z96wJmAEL8jP9rAUUANAAN/0IARgCJ//P/qf89AMn/fwD4/n//5P/m/2n/W/+2/tr+VAD+/4P/6/6d/UUBcgA+/ub/iP5nAKkBuv8a/wsBwv2wAYQBT/7kAYz95P5YAkUALv2vAHn/0QEiANz9BAHy/0r/RAGU/1v/KQHe/1sACQFN/7MB2//2/awBmAHa/JUBOQE1/7sAQwBOAPsA0f4d/wICzAAbALf8VwJBAVP9mwBCAcX+JwCCAN//+ACY/p4Ch/4E/tECAP8k/uICqgLp/sj8wgHVAzL9Mv8IA9394f3zA8EAUv94/2j9jgCWAdD/YAA2/lwAdQJJ/fcADAACALMA8P9bANH+DgLG//f/WwDN/sUB+/8b/scAaP8WATgBmvo6Ab4BzwCDAgr7rgARAcz+3v9bADMBOf9kANP9pP+5AZL+bv5K/6UBVwAJ/gECwgDe+qgBfwHB/GQCHwI/AN3/2f5nAXD/i//hAM3/H/9b/wwEPwBs/MgAR/9i//MBz/62AJwCEgDZ/pAAt/+0/awDowAsAJj+CwBLBOH/bv4AAfT/hf01AjcDfQDi/mUAE/8pAAMAVACkAin/pf/OAT390f51A2UBh/56/mMA//7r/vACewCT/Sf+bwAqAmv+8ADvAeb9K/yFAYkDSf3jACYCufqI/U0DggDa/sH+bwHT/s/8SAMZAHf9C/+EAXAAgf2rALIBPP6aAP0BO/2k/vAC1wEY/Rj+f/8uAML/dQExAMz+Jv9Q/ikAnwA4AS7/wf3G/hcAXAERASEBUv4i/+v9u/4HBbgBc/6w/7j/Vv/J/6MAjwCp/2X+1wB3AV4B0P7//dYBOgBQAF0A7v9oAJEASgC1/7kAIAGT//D/5AAQATgADf4fASsBzf9gA70ATf2zAIoAWP98AbT/K//E/xMC0AKF/mz+vf9DAP8AcwDsAML+Gv8eAdP/Yf/g/ub+WP/B/tUAlf87/dQAY/8Z/Zj+Rv88AKX/kP++/wr/Ef2t/4YAxv5l/0b/jP9f/8X/Of8V/8j/qACb/iP96//Z/5v/MP8T/+L/ZP8cAMMANv/p/77+Y/5QAmsBlQCjAGr/RgBMAFsBFQI5AOP/fAC+ADcA8ADBAeMApP+x/68AfgDR/+0AhwEPAHP/rwC+AC4BVgGxADgAgQBvAXMB/AEGAnQAEQCEAJQC7QL7AXUBcwDDADYB8QG8AnEBJv9R/5oAfgGYAToBrQBS/4v+q/8bAd0A6f8q/+L+W/+0AKgA3/4Y/pj+xv4v/rj+hgA7ACz/kP5J/j7+ev5c/5f/T/8Q/7T/w/8T/yH/wP4t/qT+r/8xADgA9v+C/9j+b/7i/lf/Uv8F/1b/x//7//b/ef8J/5j+8/6U/7L/CQB0ABAAq/8W/wj/W/9P/67/AABxAFMAhv8t/8T/TwAqAAsA9wA3Ai0CwwEWASwB6gGJAosDZgStBAkEWAMJBJMEZQSIBEQF/gX/BZIF6wT4BJIEjwOyAw4EFAQYBLcDvAJcAiwCuAGlATIBCgHpAIUARQCQ/13/Lf+L/tP9e/1J/TL9Rf1q/Xb9g/3e/ET8vvth+1n84fzr/Kz85Ptn+7n6b/ou+sX5e/lT+Q75FPmD+VX5SfgZ9zv2Pfau9kf30/eV9473mPeM9wP47/jE+X36z/sG/Xz+c/8TAKAAtQCBAbgC1wPsBF4FRAUnBT8FfgXIBfMFCwZfBoUGAwfqBwAImwfZBmIG3AZ7Bx8I9AeBB1cHlQc2CDAInAgwCPcHYQjOCJcJ3wjcCOQHgwYaB+cHJQivBtsFFQZ7BWAEaQNyA94C3gBz/7T+Bv85/6r+7Pzf9qHuuOgG6unvPPOd8nnvVexw6NrlXOfF6yLwn/IU9fL3TfpQ+1v7p/u8/Ar/2QKMBwYLWQs+CcIFjwKwAWIDTAbPBn8DFv3L9fDwgO978t32+/hX+Br2ifSo81n0Bvfx+lP/DgNtBrcILQkbCM8GPQfUCW8OOhPJFbcVOBMIEKsNCA00DqEPqxB+EM4OmAwFCpgHTQajBqcHbwhvCbAJ9QhLB0IGYgZwBsQH9wjICTgJJgdRBagDZANCA5QDuwRJBuUG3//f8SXl3uLo6jXx+PGZ737rXeV13RXb6uAx6XLuMPHa9Hb4xPnz+Ar5ovtp/3cEvAlKDoUQeA+hDGYI/wQWBLAExAR5BIAEwgMU/1b0yelI5JLlkevm8a/2cPaH8ZHsTOsg70f2X/50BccJcwswCzIK0gjgCKYL5g+IFOQWdhZ/ExIPbQu1CZIK/gwPD9wOCAwuCMsEiAO0AxwF+AZnCCkKfgpGCmEJbwjmCL8JlAtXDVYOYw5hDakLKgksB+MFQwY8CC0KGAvBAz/zOuJP26Tixevt7mvtROlx4rTYPNPC15Xis+sl8Q31YvgC+gb5OvkU/QEDbgmfDrMSLBXSFEYSCQ6OCb8GuAa3Bw8IGAeoBDH/QvTr51vfIt4J4w3qLfBv8ZrtJui25cToifCr+ncERQsJDsUNJAyPCpAKZw1hEkIXWhkcGDIUZg+dC7wJbgrDDPkO7Q7LC9gGQgJLAPkAsQP6BlsJQQogCd4HTAcXCEoK0Az+D0sSLxONEqUQOw4FDJcKhAqBC0AMPQwOCsAEZPnz6YTekt1Y5VbswO0I6n/jKNsM1ELTstpM5jfwT/Yo+e/58fiD+Er7zgGdCT0QiRRsFkUWRhRfEacNEwoeCPIHTgigByQFoACt+mP0j+4r6MDh2d0t3p3iIOhb7PztEe1f7CPuWfPI+y4FIw17EfQRvBBmD1oPPxHqE90VLhbAFG8SaA9XDJQKXQoHCyQLvgmNBz4FYgPDAnEDcgU8BywIMwiJCI4JeQqNC5QMvA6QEL4R7RGyEI8PIw5WDdgL0gYvAGD8YP9SBLMAPfQX5+HhUeKr4nzj7OaD6sjoNeMF31HgrOTy6fbwfPhU/ub/yv4N/w4C2AZCC60NKA9REEARphAZDqMKxAfJBZgDnAF0/6r9mPsb+ff13e+K5nXdZ9og3wLo/u979L303vH97sjv0vWB/w8KYhLMFfoTxw+oDFAMUw6VEaYU7BWGFC8Rag2uCo4JvAmTCvoKaQq+CMgGlAWjBYcG+wbpBucG3AezCS0LBwxcDH4MhgzQDEIN2g29DVgMgwrSCD8IyAfJBfsAXPhs7mLne+Z86p7ug+9v7Jfmt9/y2kLbHuHO6czxPPcj+ef3j/Ve9Xj54ACnCGkO4RAxEPUNrQuOCl8KoQoTC+oKuQkFBycD6P5U+6L49vUW8uLsbOii5n3n3+gh6a/oO+mn6xvwqvU1+6//yAJWBdsHygoIDocRkhQPFo8VfhM8EdAPvQ/LEPYR/hFNEE4NGQpcB6wFaQU1BpUHuAiPCDwHNQUoBPIE0wZKCbcKfAuMCwMLPwpGCaIILggoCCoIWQikB50FQwHT+QDx1emz6PLsQvJu9MPxqOtr5BLfb9494wbrpfII+Bv68fjd9cvzoPWE+7gD0wp5Do0OMwx8CasHNAfIB98InAmLCSEIPAWSAfv9d/sA+Y/0tO4Z6r3p/ewj8K3wC+6a6pXpIO1c9FL8NwJoBbIG3wZSB5EITAszDzET7hW9FaYSrg5jDKIMfw5GELEQHg/kC40IHQYiBWQFQgZoB8gHAAeEBVwEbgR+BecG0gfpB5IHTQeIB+gH4wcCB6MFYATTAw8ENARQA6r/PPme8Ubs8evN79/0Yfea9c3vqOjg4/Pjt+is70z2afpF+yL5z/X582/1pfq6AQAINAuoCuIH7gRpA8sDWgUYB/QHbwfXBcYDZgGu/ij77PYL88zwFfER8/P0E/X18gzwrO6P8NH1pfyaAlUGmQciB0cGKQaaB4oKGg4xESkSgxACDYAJtAcbCC8KVQz2DCcL4QfcBDEDNQNEBM0F0AaXBlAFzgP1AgMDzgPnBLcF4wWDBfUEZgT+A58DRAPaAjACewHKAGwAVwB2AGsA+f59+5b2YvIg8Xvz/Pfc+7n8pfng82buVeza7o30jfpC/rP+mfyq+aL3tPcI+u/9DQIaBTgGLAWoAvb/cP6l/hoA3wHhAmcCaABx/cz6sPl2+ob8l/6j/2j/df7Q/f795P4UAPUAVAFTATYBEAH/AAEBHwFwAf4BzQJGAyoDqQIPAtgBBQJ0Au8CNQMwA98CeAJCAmEC1gJcA6oDxQPFA64DkQNuA1QDPQMrAzYDXAOdA7ADaAPjAmsCKwIEAtkBowGDAWEBOAHwAH8AAACc/4r/sf/R/6T/Pv/W/pP+gf6Y/sj+4P7K/pv+af4//hL+5v3b/QH+Ov47/vH9cP3p/H/8Kfzt+8r7wPup+4L7ZvtT+z37MvtT+4774fs7/Jb8+vxc/b79Ff50/uP+XP/j/1oAtAD5ADcBdgG2AfcBOAJdAmwCYQJQAjwCKAIaAg0CGAI9AmsChAJuAjMC9QHQAdcB/QFUArAC2gLOAp0CbwJYAmICigLJAgADEwPoAoYCKQL+AQkCJwIRAr8BUwH6AL0AgwBNACwAFQACAPX/5f/M/5//ef9c/0z/R/9H/zr/GP/w/sX+oP55/mH+X/5l/lX+M/4b/gP+2P2a/Wn9bf2G/Xn9Pf0F/d/8wfyr/Kf8v/za/AL9NP1m/Yz9m/2z/ej9Uf7Y/lP/pf/M/+T/BgA0AHYAyAAXAVMBZwFJARAB0ACrALMA+ABQAYYBfwFXATkBJQExAUwBbQGTAa4B0gHhAdYBwwG9Ab4BpgF+AWsBfgGSAYUBaAFEASEB/gDjAO8AEwEqAREB5QC8AKMAlgCGAH4AgAB+AGsASgApACEAIwAiABgACgAGAAcAEAATAAEAz/+M/17/Xf9u/2z/U/8q//X+pv5k/kz+S/5O/kP+P/4+/jj+Nf4u/jD+PP5r/qX+y/7U/s/+2/76/iL/T/93/5L/n/+u/7v/y//m/wUAGwAmADAANABAAEsATwBZAGMAdABzAGIAZAB4AI8AnQCuALcAwwDLANYA7gD6AP4ACAEfATUBPAEqARoBCgEAAfgA6gDWALkAtgC7ALwAnwB2AGEARwAqABUAHAA3AEoATgA9ACoAGAAVACcANQBMAGUAbgBeACwAAQD7/wYAGwAnACIADADR/5j/ev9q/17/Tv9D/zH/BP/U/sD+yP7U/uL+6P7p/uz+9v4N/x//Jf8l/zH/Qf9V/2z/gf+b/73/3v/9/woA+f/n/+b/+/8iAEAAQgAvAA4AAAAVAC8AOQBAAEgAWwBrAHMAgwCeALMAvgDQAN4A5wDUALIAmQCMAIoAjQB/AGoAVwA8ACUACgDy/+r/6P/f/9r/zv+5/6n/ov+k/6//sv+n/57/m/+b/5v/jf+V/6v/xf/f/+X/5//o/+v/8/8MACsAQwBXAF8AYABhAFoAUwBGAD0AQABFAEIAPAA5ACEADwAGAAcAEQAJAP7/8f/p/+r/5//l/+f/8P/3//f/8//u/+f/2P/M/77/tP+1/8D/x//G/8L/sP+i/53/pv++/9L/1//a/9r/3f/d/+L/8v/3//j/AAAOAAsA/v8BAAwAHQA0AEkAXABfAFIAQAA2ADoAPQAxACMAGgAPAP3/4//G/67/qP+u/7P/p/+U/4r/gv+G/5z/tP/J/9X/4f/z/wIA/f/6/wYAFwAnADsAQAA+ADQAJwArAC0ALAAyADsAOgA1ACkAGwAaACgANgA2ACcAIwApACoAIwAdABwAJQAvADMANAA2ADEAIAAQAAkACQACAPv/9f/x/+T/2P/h/+L/1f/E/7n/vP/I/9X/1//O/8r/1P/m//L/8//s/+v/9P8BAAwAEgAUABcAHQAxADsANQAwACYAGwAcACUALwA2AC0AIgAUAAgAAQAAAAQAAwAAAPf/+v/6/+//5v/p//X//v8MABMAEQAIAAAA8//u//T//P/+//f/3//J/77/vP/C/8j/zf/U/9X/3v/p/+f/2//R/9f/8f8JABEACQD9//n/AgAMAA8ADAAGAAkAEgAaABQAEgAVABUAFQATAB4AJQAcAAsA+f/y//H/+v////7/9//n/+H/4P/r//L/7v/w/wYAGQAdABkAGAAfACQAHwAYABcAFgAMAAAA+v/x//b/+//+/wIA8v/k/+H/6v/4//3/9//z//r/BwARABAADgAIAAIACAAYACgALAAlABYAEwAZAB8AIAAdABoAEAAJAA8ADwADAPj/+P8CAAsADQAGAAgABwD7//T/8f/p/+P/2v/V/9z/6v/0//L/5//a/9r/4//v//v/AwAGAAEAAwACAP///f/6////CwAOAAQA//8AAAIACAAKAAUAAgASAB8AHAALAPf/8v///wsACQAAAP//CwASABEABwD6//D/7P/x//H/8//s/+b/4//j/+f/3f/T/9n/3P/h/+P/5//w//j/+P/v/+r/+P8DAAYAAAD1/+7/8P/7/wUADQALAAEAAAATACoAIQAEAOv/8f8QABsAEwAEAO7/4v/u/wkALgBLAD0ADgD0//3/IQAkAA8AEQAZADMATwBQAD4AOQAYABgARgBVAFwAUQBEADUALQAjAAsA+/8WACUALgBAADMATAB+AHMAKgD1//L/MwCfAI8A/v+Q/2L/nv8lADwA6P/x/wcACQA1ABMA9f8RACkAFQDU/37/Wf+F/9v/CADy//b/HAALANf/hP8n/3L/HgBRAA8A+/8xAEYA6v8i/8/+Sf83AOIArwDn/wf/ff7O/oj/IwApAKn/CwDCAqkDM/2O9ZjxhfhuBwsMNwS7+/75LABsBjoA6vR99DsAwQtCC+f/T/bz97T/uQR7BHwCrAElAhICiQCX/s79cf6u/80BVAQaBYIC+f6g/YP/RAGrAH4AjgLiA1YDuAH2/wIA1AB0AW4BigGsApcDXQP3AUgAz/+VALEBYwKoA4IDdwLiAiMDPAK6AE0AlAClAvYDPgLsAZwBYQFeA+gCogF5ARkB1wDhAEoCJAI9AQQAE/88/ykArQCt/nD/iABtAUACkv+k/GH8UP67/gn/8f9OADUAXf4D+xD7b/zR+9X5zfoq/pL+D/5r/Nb8+fu4+oj5WPrG/QH/1P1Q+nr38Pel+Tj7W/uI+kH8rfss/Jj9o/xA+1L5+fkp/EP9/vvD+5791fyd+5H6EvuQ/q/+Pf8f/xf+zP73/u7+w/7I/oz+DACaAbL/5v6k/zYAugBoAsMBVgAy/8r+CACiABsDggP2AB8B6ADV/7AAaf+G/m0AlgKGAngCpQP8AnMCzgAZAJoBagInAqkAPwC4Ae0ChAGc/4cB/QOrAvL/Fv6UAAUDzAOnAmoAXP/j/1cB7wBYAdwCvwImAmYBzQB0/uL9qP0I/6gC8gDqAHIDSgRWAUj/+v75/YX//ADjBHYE8gD5APP/2/7F/Ib9+f+aAMgCBgPVAuz/gv11/638d/ws/VcAYAX6Bb4CIwCq/wb+qP+S//IAdAJa/ygC7QRgAwwAoP6l//v/CQAB/sAA8gAF/+v8jv5uAdX+xP6X/sABigDA/e//BQB3Ar4AngDQAr//J/9KAjUBqgF7AzP/7f/f/lz8KwENASIAHgC+AAYB5QHN/rP+QgDr/tT+0v+LAGcAAABzAKb/jf4V/4L/8v64AKQASgBNAsv+NP/f/kv/bQC6/94AXgAWAf//Ef3F/Xr/AAKOAT//9/25/EL/q/0hABwBK/+m/5T/Bv7R/cwADP/y/v0AsQGAAvL/SP+5AHL/zf+C/iP/AQIPAlIBG/97AAD+T/8MACn/SAGM/68BM/+s/7gBnf7C/ywAtQB2AbP+Mful+3UAHAOPAK78hf8eAvgA+QBcAKv9q/5QAP4B3wG4AkYAjf7M/hAAJwGL/or+qQHrAqkAvwCS/nT/ZP/m/OD93/0CAg4CmACY/6X+bP6f/of/ZwGKAaz/fgAE/5cBFgDZ/W7/3AApAWIBNgCWAO39k/36/Sz+b/78AAQDwAG3ADsBZ/67/XQAYf8CAYcBlgEiApAA9f8PAJD9df3G/bP/XQL6AAMC+/+EAP/+ggBO/o3+DgEbAGIA4f+s/k7/cQDPAFcAVf7T/4n+BQDoAAQEyAEU/rr+gv7SAe4AtQCmAHj/8AGs/wkArQHX/kr+Q/2pAHgBCwEcASL/aAIM/0AAXQCl/GT/bv9nAdz+uwBuAdYCnwDsAfz/Yf5e/Y37cgHW/2wCoQDX/+UAQwA//sv6ev87/rP+kQAZ/9kD9wBl/zn+Iv7Y/ar9ZQDU/v0ALwHi/6IBoACS/9L9L/36//7+TQHKANIA0ABvAC//E/7Z/qv8FAAgAHQBPgG0AW4BrgCt/wf9uP7N/p0B4AHiAxMAbADjAAMA/AAc/+3+kv8GAWMB9gE3AOj/FgD7/rX/AAEgAN4AGAAPAG0A1QCIAF4AfgDGALoAowFiAbIAIP7U/rH+Pv9GAO7/agE6AX4ALf7tAFsDPv64/1f9ev1O/ygB9QNn/wcBS/+8/pn/zv8p//D+AgGpAaH/Kf8bAJb/u/7C/rT+Lf8k/0oAJwDu/tn/J/9fAPH/zQFaASv/AP/m/4P++f9aARQBMP71/vcAcP70Afb+xQByAHAAbwBu/27/fP7i/a/9P/9tAMQANgOMATMAv/6T/gMA8P/lAQQAH//u/90AAwJGAXAAqP1B/6n/PP3WAFQAYAAyAaICLAHmAE7/Af6j/0v/1/9iAfcAKgLPAK4AXgCr/3f/Kv9qAZz/bwAjARH/G/8GAGAArQHyAIX/KwFN/xn+ov4r/yAAkgHl/5kBuACvAD8BzAD5/5n+Of5t/7UBTgHO/4D/HQDD/uz/H//u/tAACQCcATIBRv99/tD+OP9R/88A4gHj/5b/Iv+x/5T+DP6z/37+OwGAAH0BqQCZ/lUAQf7F/nf/lf7w/5ABjwCi/+v/H//K/+AAef5W/gH/MQArAgEALwHv/2//lv/C/wkAE/5bAbgARQGHAfD9XwDg/TsAp/99ACIB0ABiAYMAhQOL/z7+Rf96/4f/2P+QACUCswH9ANz/bP/f/7H/vgAeAEz/8gBzATYCIQEaAND9ff5d/5n/BgHWABUBUgMpAQ4AFf+k/xr/aP8IAFwAngGEANoAAwDvAP3+tv4XAAoAFwBVAA0CcAEcAogAE/6x/g7/xv79/ocAUQFRAccA1v8XAZMAqv5r/twASwBZ/48AiABT/xj/Tf9R/+kAOv8kAR//dAGJAbP9fgGOAPgAdwC9/qgA8P0s/8oA8/57APr/0v8gAXIBmv5TAN0ALwDeASf/0P9q//H9qwBh/6b/Zv9xAOn/+QA5ASf/z/+d/2QA8v8v/wH+xgD4AC0Az/4EARgAg//XAL792gCq/sL/ev8dATkAp/7WAdAAzv9ZAC/+u/1+AK0AjQDeAOkArABi/tX/uf/i/GH/qv5K/4MAowCTAAYAPgE0/5sB5f+lAOD/UP31/7X+JP5h/gwC/P+W/tH/Fv+YAeoA9P/Z/uP/z/9e/1D/xP8AAOL+rAFm/63+EP8W/jQBSf9sAIoBWABXADEBAwXlAYf9IPw8+/X+TACvAVwAlv6aAf0ABwLcAA7/g/7j/+z+MwD3AHQBdADR/b3+VQGDAHEAIQDB/gEAvf6AAvMAegMCAiz9dABI/7v+zP8hADr/nv/3/2MB8gL4/3X/VwAoAQwBGwDl/Z7+CABCAPIAf/+W/2oAHwHSAXIAqf+Q/sf9wQB+//L/xwLwAfQA5ABk/27/8fxt/aAAagHtAW4AfwLx//X+5v/2/Rr++P2gAN3/4P5GAE8BBwDR/0sAagDJ/20AYv/cANb/7P3F/6n/ZwAdAWb/2P7R/2gB3wEsALAAwv/U/IP/V/6S/lYCYf5K/2gA+/+8AO8AoAC4AGX/A/9k/0cBPADc/y0ApgCfARoAqgG1/TH/Wf9i/g8ClQDAAcoCrQBhAan/aP7w/cr9Yf57/0QALwGlAsoBUgA/AFwA9PwgAfUA1P/J/0IAbwCkAJEAcv8s/QL9fv+Y/kz/bv/aAIUBiwDKAPj/2v++/u4AnwAE/uP+lf9aAbQBogGh/9j9Dv8lAEj/4gGS/3z/KQBkADQB7v+k/nz+yv9R/7oAA/8IAOwBaACvAG4BCQHa/33/swAXAOAAXf/lAIoASv9Z/98AeQItAj4BIf/8/ET+GgADAAUBbwD/AQYBLQK1AGn/2wAoAcz9rf4+AY0BEQHm/Rv/j/9FAK4B4ABi/yUAX/8NAUn/1P3hAAL/x/6C/2H/DgC2AY//0P3W/+UAwwE1/1j+pv9rAPcALAAXABEApgA2AZcAIf/L/kf7s/3YAN0A0AEAAeUA7gEoAcb+Xv1a/QL+rf/c/wkD/AJrARoCa/8fADkBW/1H/QD/fQAeAIwACgHnASEB9P3Y/Rv/5f+F/0AB0/8i/vD/XgL7AMAAzv3O/Sr/yQFcASr+TwG0ACsB8P88/ywC/QF7/tX+4QKoAMn/NABGAO7/7v9a/9z9Vf/XAdgAhwB5ABAAxv9w/5EArP6H/1/+Hf48AtADfP81/T3+v/7F/y8Bmv/s/dP+KQHl/4v95P70APv+2/yc/8b/T/+Q/oz/ngBGAt4ACADu/ur96/4LATgAmv5o/27/Lv9UAJsCJgAjAPb/9P7/ABMDXAEe/gT9Tf5cAZQBQQG+/wIA5v8e/5oAmwB9AaYAJgCdAFoAOwGcAOr9AP43/9L/sAC3AIYAWABkACUA7v/u/+3/HgHbAJsA4P+vAC8B6f69/fT9qP/EALQBJAJvAuUCiQFCAJgANAEIABD+fv2W/t8AoQAqAO//zwAcAVAA/P8IAJAA/gDfAIsAgAAOAJr/x/5S/r3+tf6Y/mv/yf83AE8A3P/N/xsA2ABIAG7/6v7B/ob/BgASAE8A1P++/q3+SP+Y/2f/Jf9G/5L/NwB0AA0AYf8U//7+I/+w/9v/PACIAIYA9f/Y/wYAYQDgAD4AYP9//jn+1P5g/zgAlACuALEAlwCwAIAA8v/p/rz+qf7F/hH/eP/M/6j/lf9D/wr/5v6W/ykAVwB5AJoAmwBEADsALgABALr/Tv9T/1j/Vv+l//j/DgADACkAVACDALsAvgCTAFMAMwBUAEUAXwBoAAwAj/9x/3n/iv/V//b/SQBsAP4AEgFBAaEBhgERAW4AaQAZAOL/AgBFACEA1v8NAPf/uv+8/ywApwAZAbQBTAIFAqEBSAFaAML/V/97/7H/DQCAAJMAaACcAAcBFgH/AMAAlQCFAAEBiwGBAe8ARADL/y//3/6k/sf+Kv8CANgAzwC0AFIA9v+s/1X/bP+a/zYADgGaAa0BSQF/AED/X/4Q/hH+OP6g/kD/lv+f/8P/CQAxACAArv8l/7H+Qv51/s7+QP/d/zwAhQCIAM4AAgHjAG8A4/9w/1//xP81ALoABAEoATYBxQD5/2D/7f7b/jf/gv/d/wcANgA8AOj/Sf+2/mv+fP4h/+b/DQFuAUIBtABx/zL+8Pyv/FP9NP49/0QAIAHCAc8BQwFeAAb/xv3N/Df8gfxi/Vz+Yv/t/04AnwCeAKkAdwAZAIj/+P7K/jb/vP8vAJwAngBSALD/Ov8L/8r+8P5n/+f/RABrAL4AwgAiADb/af66/Z39Pv4z/xMArAAQATYBNQEKAasAEgCo/7v/PAD3AIwBCAJwArYCJwN6A7MDQQS+BEYFfQUTBYkEVQNDAhIBMwBIAMcA7wEMAzcE1AT1BGwEhANxAn4BbwGHAeEBOgJCAt8B0ACr/x3/Yf4V/jT+Uv63/qb+Vf6T/aT8EfzO+4v72vu6/NL9pv6r/in+Iv3a+wv7a/ot+nX6qfrv+qr6NPrK+fP40fej9o717fS39Nz0m/Wu9gT4ZPl8+qz7Lv13/tv/8wCcAREC3gGNAR8BqQBWAO3/hP9m/4j/4/+qAH4BlwK3A9QEAAa+Bm4HHwikCAMJKAkGCcUIhgh8CKoIjghTCPgHlAeZB+cHagjbCDcJiwnFCagJNwnVCDQItQcSB5wGTgbLBc8FKAaeBswGcwZ9BRUELgK3AHH/n/6m/j3/gQBgAccBwQAw/r352/NW7VznfOOU4TriReX86eLup/IP9WX2c/fF+LT6Pf0uAEADkQWoBlYGjwRvAUz93/j/9GzypvEr8lnz2vSi9sX39veJ9zL39Pfp+bP9awIXB9QKmgw0DNQJpgaSAxsB2//6/0wBAgOKBFYFDwUkBPYCbQLZAqcEyQdBC0wOEhA2EPQOlQwTChoIUwfqBx8JcApPC7ILlQsfC9AKiApwCnAKnwq8CisKgAl2CG8HLQbgBBMEPgNAA2gDxQP4A/QDEgTdA9YDegPjAvABLgHYAOL/Zf44+8L1Cu7W5E/d69gH2XLdCOTK6v3vFPND9KD0yfW++A79BQLoBqgKyQzyDPoKfAfjAhP+uvk/9ob0UfTg9Jb1qfUM9bfzhfFs7l7reOqC7RD0K/wYBMwJhAxPDAgKRAc/BfwELAa4B9UITAk4CH0FkQF1/Yv6afnT+jn+1wK+B5cLKQ11DOsKjwlmCVgKKQwzDnsPGBCgDx4O8QuSCYwHcAa+BpgIJgtZDYQOKw55DOMJcge4BTsF0QXdBu4HNQiyBwIGewMiAX//XP+YAOwCIAVzBk0GFgXFAzcCvQCR/BT1uOpL4LjZA9i12xniRejB6/DrDOqK6BrqN+8e93//1wYIDCYO/w0mDGAJXQZoA84Arv5R/dD89fuU+Zr1o/Dy68zolOeN59/oYux48lD5CP9YA90FzwbyBmEHswjHCiINeQ6eDdMKRQc3Awv/8PuI+gf74vyW/yICzAO2BAMFzgQRBd8GuAmaDJEOfg8QD38N4gu+CnoKBAuhC6EL8gqWCn8KZApWCpoK5QrWCoAK+QkyCUkIHweaBU0EuwPtA9UDnAOPA2ADtgLSAWMB3wFbA94EoAUnBVIExgNBA+0CQwIL/3P3tuvI30rYddeE3MnjbOmY6xHqE+bk4tPjYurG9G3/oAdaDIoNaQzmCW8HgQbYBowHLAfhBeMD9wCq/I33mvK57cjo7ONK4Uvj/OnF8vn5rf14/v/9PP7vAG4GIQ18EkcUtBJLD4oLJQj4BG4C7wBUACEAQADJAHYBgwGRAKD///9xAmIGKgqeDGgNygxYC/8JjwmgCokMMw7TDhUOlAwIC7UJGAmHCbwK9QsVDHULiwpVCb4H3QVFBIwDdwOaA7UDsQO7A2UDXwIsAYoA+wCuArQEXAayBrcFJgSrAgYCSwKmAXv90/Qw6XXfOttg3abjhOny6+HpX+T03o3dYuK47Jz4BQIVB3UHRgXiAmsCAQVjCWMNGg/+DawKTgZwAZH8Nvi49P/x+O6F6yjpPemB623u2PAI83j1mPi6/KABqAbRCgcNXA3lDP8MnA27DcEM3gqDCBIGIwQGA/MCQANGA3ACHwGJAC0BygKOBBcGTQcdCJoI8ghdCQgKuQo5C8cLbgwjDWYNGQ2qDHsMcQxfDOELAAsRCvAIwwepBr4F8ATvA/UCmgKJAmcC9QEIASkA7/+fAOYB8QKAA+4DlgOjAoIB+wCnAdgCaQNZAY/7pPJ76VvjmuJV5mrrUO4k7XzoduJv3kffjeU974v4Zf7f/xj+1vuG+1j+twPKCSIOQQ/8DLEIYgSFAbsAHQG0AML92ffX8AfsResQ7g7y1/TK9ST1RPQf9TD4Bf0/AkAGnwiKCdoJRQq4Ch8LZQs7C8AKQwrdCaAJHQkmCLEG+wT+AwMEqQQnBTwF9QRpBOYDsAMWBDsF0QY8CN4IuQh7CIEIFQlJCuALPw3oDbwN9wzdC9gKQwoGCsQJRglYCNwG7ATpAmUBlQA/AAAAvP9v/x//K/9j/8r/6v+s/1L/S/8DAEkBLQK6AAv8q/SV7cXpeupR7kfybPOQ8IzqB+SO4BTiY+jH8KL3bfr++Ev1nPJ185v4YwCYB1YL1Qo/BxMDkwDYAH8DpQbAB60EAv799jTzmfOD9or54/rS+e/2/vPv8tT0Cfmn/dMAHwJDAioCbwK/AxEGkgg3CsYKrAqRCrkKBAsNC8MKjApyCggKGwkVCFIHuQYEBkgFsgRbBF4EhQSQBIIEeQScBPUEsgXkBhYI2AgbCSkJXAmnCS0KuwowC0gLogpICcEH2wauBpoG1wWPBAwD0AEbAa8AwwAcAUYBygCB/yH+P/0//SL+r/+TALj+aPnk8fvrPurn7A3x4/NM84Pvqelq5N/iVuaK7Zv0O/h990/0O/Gn8Nrzjvo7AmQH5gfRBPQAJP9SACkEAAlqDF4LvgS++5X1uvVZ+oL/zAHc/2D6AvRJ8FXxzvZf/YwBeQG2/tX7qPpE/KMARQYrCqwKdwgcBmkF7QbRCaIMVg5BDl0MewlpB0kHswhBCtwKGArWB98EowIjAosDjQWcBvoFOASXAhMC6gLEBNUGCAgRCEoHpAaZBkcHQwgCCToJ0ggsCGYHqgb/BWUF4wSuBJ8EnARABJoDzgLUAb0A5P+j/xEAewBQALH+APuS9SvwR+0E7gjxXfPg8mDvaOoE5h/kJuaA65vxAvV49HHxCe9F76TyRPho/uIC+gMPAm//pv6eAJIEgQjGCjsKwgZXAaT8b/s5/jMCBgQmAoX9Yfgj9V71t/j7/Jn/K/9j/JD50viy+lf+LQK1BB8FxwN3AtwCVwXPCJwLyQxCDAYL8gm0CWkKvwsDDUANHQz9CbQHFAa8BWsGVwedB5YGkgSAAqUBZALnAx4FggUyBWsEugOlA6IERgaXB7UHpgZzBe0EJQWqBTcGoQZeBnYFQQTHA8cD4AN0A7QC7wFGAYgAqv8i/+3+S/6n+2X3QPNd8eLxQ/O0817yXe/L6/vohOiy6kTu+fCs8arwSu+z7tTv5fJS96L7Jv5b/nP9V/39/tgB3wQwB1UI5gf/BTQDHQH+AMECqQTdBMsCUf/x+xX6jfqC/Db+Xv7v/PH6svkG+sj7Iv4jAC0BGgGBAJEA/gFvBN0GhAgrCR4J2gjoCIYJvgoFDLEMSwwnC/MJKgnDCMwI9wj4CDMIlwbYBNQDAwTWBHgFPgVrBHQD1wK1AlYDbgRWBWoFoQTaA58D7AM/BIYEsQSyBFsEvgNoA2wDqgN1A+sCMQKqAUEB9wCmADcAkP89/u/72PjI9ST0EPSk9GD0xPIa8F/ti+tb69Ls0+448E/wdu/c7nDvTfHm87r2Mvnm+pL70Puh/GX++wCMA5QFlAZ7BuEEUgJ1ABoB7wNWBjgGkwPo/8b8nPvu/I//OgFWAHD9ovq++Rj7eP2L/5QAjACt/9n+V/95AUEEVgZNB4EHgAeZBw8IEQmTChQMwAxWDDwLQwq9CboJNArdCt4KpAlwB5wFKQXzBaoGdwZkBQkE+wJ8AsICYAPpA+UDhwP/Ap4ChwKnAugCLwNyA10DAAOgAnkCeAJxAmcCPALgAUcBpQAXAJv/Tf9+/pz8ifmT9g/1OPXm9Yj1rPPR8D/ut+zg7Eju8u+g8AzwFu/Y7trv1fFJ9ML2rfjL+UD63PpQ/Jv+9gC/Au0DhAR8BJsDsAKUAqUD5QQ1BUQEjQLVAKf/W/8AANQAyACD//L9Mv2a/X/+Qf++/9//qv+F/wwAQgHSAg4EzwReBQsG2gahB2QIRAk1CsEKvQppCjQKUgqaCt4K0go+CjkJPwidB4YHnAdmB4sGhQWvBF8EJAQHBMEDdwPnAnsCSQJrAooCWgIRAvABMgKWAsgCiAI5AhACPwJMAvQBNwGBABQAGQA4APz/nv7K+yz4wvXn9ZT3XPiP9jnzCfAs7q3tye7T8Ffy6PH974nuAO8R8X7zjvU694T4UPnu+QD72Pzx/swANwKJA4cE+AR6BIkDzwINAwkE3QSjBDgDMwFV/4L++/4AAFkAZ/+n/U38Evzj/Az+6/4b/9H+kv4n/4wAMAJjAwIEcwTmBKsF3wYuCBoJjQm7CfUJSgqHCo8KewpmClwKJgrCCSMJegjYB3EHPAcQB4cGuwUeBdUEogRNBNADZQMSA8YCbwJOAk4CTwLnAWMBSgG0AUUCaQI1AsoBdwEMAaoAlgC4ANUAdADT/6/+Yfzu+DP2JfYn+HT5APiL9DPxDe9W7hrvR/FV81XzLvEk7y3v6/Dq8qv0rPZ9+Eb5TfnZ+Zv7zv11/6gA+wFMAwEEBAQABFQEXwTEAzsDmAM3BNUDTwKcAL//h/99/0//Hf+u/tz9E/0x/Uz+Vv90/xr/Nv8MAC8BWgKSA4IEzAStBCAFiwZeCIMJtAmFCX8JlQm6CSAKpArbCnEKtQkoCdIIaAjeB3EHDAeYBu8FMQWpBD0EtwMMA6MCagIcAooBFwH5APMApQAjANn/6f8nADsAUQBnAEcAtf8M/9f+Ff9F/0T/JP++/lP90fpn+Kv3n/iv+ZP5Pvh49ov0/PKY8ujzzvWk9vT1uPQm9Gn0KPVA9sr3Xvle+qz61PqA+3n8aP1k/qH/6ACxAdIBygEIAmcCqAK2ArwCzAK0AmwCHQLrAaUBQQHnAPQAQQFHAfMAqAC+AA0BcwHTAScCZgKNAsQCHAOPAwUEYQTDBFYF7gUrBhQGCwYsBjcGKwYvBj8GGAapBRMFpARZBAgEnQNKAyADEQOuAgUCkwFdAe0AmQDFAPgAuAA6APP/9/8BANL/lP+C/5T/l/+C/1b/af+U/5D/Zf9r/5n/p/+b/3n/Zv9W/zj/9f6m/nz+f/6F/n/+kf6H/iL+d/3y/Mr80Pzn/OD8t/x0/Bv8wPtw+2X7i/us+5/7i/uD+377kfvH+w78Ovxt/Mv8Sf2y/ez9DP4j/l/+u/4h/3P/oP+4/8D/2f8DAFwAnwC8AM8A5wA4AZwB4QH3ARYCPgJ0AqcCvwLLAuAC+gIHAwYD+wLrAuwC/QLzAsUCpAKTAocChQJxAlsCQAIeAu8BvwGWAYIBngGoAZwBdwE/ARQBAQEGAQoB9gDmAOEA0gC1AI8AbwBkAHIAiwCgAKwAwADIALEAhQBsAGAAcwCoAMsAvQB9AFQAUABkAF0AOQAPAOn/0/++/6P/hv90/1D/A/++/qf+tv6p/oH+av5T/ir+8f3Q/cz95P31/ff97v3a/cD9qv2t/bf9yP2//aH9iv2E/Zb9rv3B/aT9gf16/aX9Bf5y/sD+z/7I/sz+8v5D/6X/DQBdAHYAbACPAMcA+wAbASMBSwGBAaEBnwGQAYwBpwHWAe0B6AHWAcEBqQGZAY8BgAF9AXcBZAFTAUABKQEdAS4BLgEcAf4A4wDkAP4AHgEZAe0AvwC3AMwA4gDvAN0AtwCgAIwAdwBxAHgAewByAF0AUQA7ADAAMwArABkA8P/M/7X/r/+g/5L/gP9k/1f/T/87/zH/Kv8b/xb/J/8r/xv///4A/yj/Rf9L/zf/JP8d/y//Pv88/zH/NP9R/2X/Zf9b/1z/Zv91/3n/df9//4L/g/9+/33/jv+j/7v/zv/Q/9L/5/8LACEALQAyADUALQAsADoAUgBTADkAHwARACEAMgA/AEYALAAJAP//AwAYADUASQBOAFYAYABxAIwAlQCHAHYAcgB3AHwAhgCbAJMAeABjAFwAXABKADgALgAqACgAMwBLAEwANQAaABMAJwBIAFcAWABFACoAIAARAAsAEwAlADIAIAACAOD/zv/M/8n/x//X/+D/1P/S/8z/vf+s/6L/lf+Q/5v/sP/S/93/z//J/8v/w//C/87/3v/2/wcAEAALAPv/7P/s/+7/7//0//v/AwAPABkAHAAZABsAIAAoACAAGQAZABoAIwAfABkAEwAIAPr/6//o/+b/6v/t//D/7P/h/+v/+P8BAPr/7v/n/+X/4P/l//j/+v8CAAYAAQD+/wEAAwAJAAkAEAAeACYAKQAjACAAJgAiACEAHAAXABYAFwAcACEAKgAjABwAFAALAAAA//8LACAALgAhABQAEQARABIAEwARABAAEQAFAPP/5//i/+X/6P/t//X/8v/h/8n/t/+r/7D/uv/K/9X/5v/m/9j/1f/L/8T/v//G/9D/2v/m/+7/+/8EAP7/9f/x//T/AAARABcAEAAIABUAIwAqACAABwD6//X//f/+//z/BAAWACUAKQAdAAkAFQAlACUAIQAcABAAAwD//wcAGQAlACgAIwARAPr/5v/l//v/EAAXACIAJQAkACsAJQAeABsAGAAVAAwAAgACAAEAAwAJAPz/4//P/7v/t//N/97/4v/k//H/+//+//v/8P/l/+b/5v/l/+b/6f/r/+//8P/q/+n/5v/e/9r/4//p/+3/7//0//v/AQAHAAcAAwAHAAsABgAGAAMAAQAFAAoACQAPAAsABAAKABgAJQAqACgAIwAhACAAJAAjAB8AGAAOAAYAAQD+//v/AgAOAAoA///z/+n/7P/1//f/+/8OABkAGwAWAAwABwANAA8ADAALAP//9f/y//v//v/1//f///8DAP////8DAAIADQAcABkADQAKAA8AFQAXABsAIgAeABUACwAMAAsACQAFAAcAEwAXABUAEAAHAAYABQABAP//8//0//H/8//3//H/5//k/+r/7f/v/+f/5v/s/+//7v/s//H/9//2/+//5//e/9n/0//Z/9//6//x//f/+v/5//P/6f/w/wMACgAJAA8ACgAPAB0AHgAaABMABgD9/wEADAAaAB0AFwASAAkABwAAAPv/AAANABcAHgAmACUAIAAOAAgADAATAAwA/P/r/+X/8v/6/wcACwD///f/7P/e/+D/5P/q//f/AAAEAPr/7//7/wMA//8EAAAA9//v/+H/4P/v//j/AAAEAAAA+v/0////DQAaACgAKAAYAAwAEAAEAPz////2//r//f/8//3/AAAAAPv/+f/6/wAAAwAHAA4AEAAGAAUABgD+//z///////f/9v/t/97/2P/Z/93/5//p/+f/7v/v/+3/+/8NABgAHQAZAAsA/f/+/wYAFAAYABAAAwD7/wAABgAOABsAIAAaAA8ABQACAAQABwAPABUAEAAQABAADAAGAAUA/v/8//3/9f/1//T/9v/9/wUABgACAPv/8P/u//H/+f/8//3/+v/0//H/9//1/+3/7f/p/+j/7//7/wAABwALAAwACQAKABMAEwARABYAEwASABEADQAKAA4AEAAQABAACgD9//b//f8LABEACgD///n/9v/3//D/9v8KAAYA9v/u/+T/4P/n/+//8P/l/+D/4//j/+j/6f/v//v//f/8//f/8//u//T/+v8CABAADQAHAPz/9//7/wcAEwAWABsAEwAWABUADwAOAAgAAQAHABAAFQAcAB4AHAAUAAYA//8EAA0ADgAHAAYABQAHAAcABQAAAP3//P/7//j/+f/+//n/8f/t/+//8//9/wAAAAD8//j/+v/5//r/+v/2//n/9v/1//7/CQATABAAAgD1/+7/+f8EAAgACAACAP7/+//+/wkACwAKAAoAAAD3//b//P8AAAAAAQAAAAAAAwACAAQAAQD3//D/7P/t//H/9v///wEAAgAGAAQACQANAAYA9f/v//X//P////7/+v/0//X//P8FAAIA/P/4//n///8BAAYAEAASAAgAAgD+//3/BQARABcAFgAMAAAA+////wIAAAAAAPv/9//w/+//8v/9/xIAEAABAAIAAgAIAA4AEgARAAYAAwD7//f/+v/6/////f////7/AAAEAAMAAQADAAgACAADAPf/9P8BAAoAAAD+////AAATACQACgDq/+//9f/4//P/7f/m//P/BAADAAMABwACANX/yP/j//v/FAAoABsACgAeAEQAPwAbABIAEAAvAF4ASwAhABsA9/+h/9D/JgAQAAEAGgDn/+X/HgAnAHEAxwCyAEwATwB+AEcACAD3/wAANwAzAOz/vv/H/9j//f9DAFwA8f+Q/8T/MwB6AFoA9P+E/5n/BgAPAPL/eQCgAIEAogBJAXD9+vr5/VYAlAE1AiP7aPeV+8v+ngD5AzsEuwFJAncD3QGhAMIAygDDAWcD7f/l+Zj3GPn4+mr8FP5G//79jv2m/6sBMwJwAjMCrQJDA+wAzv2P/Tj+Bf7q/Wj/rv5l/R3+d//N/qsADwD9/c3+KAGtAH//Rf85/0L+zP6e/+gAGQFkAIEA9gCJAPMA/QDh/wwAxQCqAdEAlgGwAQkBhwFTA9cD+wOEAxEFjQXEBMwDiQRbBPsD1AKRAggDIQWWBX8BggH1AnMCxgEBBIYEoAM1BGgEhANkBM0DnQEZAnMD5wKjAgYDvwI2AmYBgQAXAfMA2v+P/2//NP9t/1X/h/5l/sX+WP4I/sv+1f5f/lb+Vf7C/mP/Vf6P/V/9Wf2E/oH+sP1A/Vf9qf14/rD+s/7Z/Uv89vvn/HT9Ofxp+8j7zPvf+7H8Nfzh+p36Dvud+9L8z/0S/Yz8/vx9/Tr9MP2Y/Dr8V/zI/Cn92f3s/VH97fzH/Jj9Ov6s/i7/dv9y/xH/sP5T/rz9lP00/j7+Hv9v/Uz6BfyO/aT9Sf55/kn+Zf9yAEQAUQC2AL8AMQJAAkgBSAAD/zr+k/3B/Vr9MP2Y/av91f3w/Vj9m/1t/vD/LQJwA+QD4AOwA9ACsQFjAUMBBgH7AOwALAFwATMBawB8/77+0v7O/xUBSwJNA78DIgO1Ac0ASgDi/73/XP/N/7cA2QCZAPr/Nv+o/kP+t/61/7gAlAHjAc8BtwEmAYUAl//F/tX+QP/y/wgBnAEnAakAbADo/5X/+/8tAIkAFwHfAQ4C8QGhAXYA7f8cAPUACwKIAtYCkwLyAaEB8wCHAFQAKgCAAPkAkwHLAUsBCQFIAJP/kP+0/0MAbwB+ADYABwBkAKYAIAHNAHEAagCCAOMAcwExAtYC5QKjAkgCAgJFAhQCDwJgArgCPAOBA4QDIgPGAmUCDgJjAs4CrgJhAn0C3QIrA3YDbgPmAsMBaADi/7X/Vv8U/xT/Jv+E/tD9Gf31+5L7VfsS+4j7Qvyb/Yv+TP/B/9z/o/91/o/9S/0g/gT/LP/y/rH+N/68/B377vl7+X/5Jfrh+8f9+f65/pb9iPwD/DH8HfyT/Or99/5K/8P+9v2+/Bj7oPkf+Xb6Pvz3/EL9U/1W/Xv9kf3I/aP9+v3x/joA6gESA0EDXwJLAWAAUgAAAawBMwJVArgCMgNnA44DgwOTA38D7gNNBd4GWwg1CQ8JUAiZByoHmwbXBVIF5wTQBOYEIgVRBfIEQwR4A0UDBwQ8BUYGowaWBmwGRgayBX8ERgOKAlcCWQKOAhoC1QAb/y79a/wZ/Sj+Pv6R/VT95fxg/PH7ifsB+3f6lPpk+xr8E/yG++f6/vk2+U75CfrM+gz70Poh+sz5XfmF+D330fUO9Yz0e/R79FT0XPTp84vzr/N29Pz1qfe0+en7I/4CAPYAXgF9AXsBfgGeARECuwL7Aq8CBgIhAZIAUQBwABgBBQIsAz4EKgUFBo0G7wYLBycHlwclCMMIVgnMCScKLQrlCW8JHglVCVkJ/whpCMoHUAfHBngGaAZpBl0GHQb5BeQFDgYlBsgFkwXFBRoGEwYRBvkFagW/BCsErANQA0MDOAP7AlwCiwHdABwAWP/O/k7+lv2y/LD7VfoT+WD4L/gi+E34H/nH+cn54Pju9nP0CPK68BPw9O+q8E3xCfFr8IvwufBH8AnwgPCG8T3zuvVy+MP6PPz//En9U/2Z/TT+n/77/sT/tAA8AV4BNAFwAIL/FP8n/9z/LwGYAqoDSATABA8FKQU0BVAFnQXyBbUG0wezCBAJBQmxCGgIfwj4CJIJCgq0CloLoAu4C3cLkAruCDwHLwahBeAFzAaoB/YHpgchB1YGwQWOBUYFPAXRBaQGAgfbBnQGlwVsBLEDZAMZA5MCygH3ACcAuP+w/7D/Xf+t/v39M/1E/DL7Bfre+Oj3SvdQ9+X3jfjG+PT3zPUS88HwH+8w7inuAO/h74/wa/GD8kPzXPP38qXyDPN/9NT2Svk5+1j82fz6/Ob8y/yd/Jv85vx+/Y3+v/+HAJAARQAGAPX/QQDsAKwBRQLnApcDEQRPBHcEcwRCBE8E3QSQBUoGEgeiB7UHpwe4B8EH8AddCNIIDAlrCRYKlQqUCiQKrQkyCdoIvQiBCBwIzwfEB74HzQcGCOsHbAffBqMGmAagBssGswZQBpEFqwTqA4YDsgPSA7oDggM6A58C9QGtAVsBtwDs/z//oP4R/oj9hfzj+hn5sve19j/2efaH9kD1tPIk8PTtAOz76h3r0+ux7CDuOvCH8rb0RvYT94T3P/iM+fL6T/yl/Yn+zP7M/rb+Df7u/Nv7FPtj+qf5Qvln+SH6SPvJ/E7+gP+jAOEBCAPiA5oEMAVtBYUFygU7BnkGWAYRBr8FcAVSBZEF+AVVBsoGSgfXB4oIJwlfCUEJOwlICUoJegnsCU0KVAolCscJCwn0B+oGmQZCB38IjQn3CcwJQwmbCPAHSgegBsQFywQWBAEELgQEBE0DQwI/AXIAIABYAOoAZAFyAS4BwwA9AHH/Yf58/ez8UvyX+/v6jfqw+bv3pPT08E/tAeqK557maudG6VDrX+2J76HxcvMT9bn2gPiA+uL8i/8GAr0DaAQ2BHwDbAIGAYb/FP5a/EL6KPhD9kb0WfJn8RzyWfSt92D70P6tAfIDqwWoBjUHtAczCI0I9giDCcoJdwmXCE0H0wWbBPAD4ANpBGgFhwZ3ByUIvwgkCSAJ6wjsCDIJowlICgMLgQtaC44KcwmuCIEIvggwCcAJaQrTCrkKNwqdCfII7QehBn4FmgSxA7YCxgHqAAkAMP+N/jH+PP6p/kr/p/+w/4//L/96/rr9d/2x/eD9h/3F/Oz73/ry+MX17fFf7nrrLunP58LnsugQ6qXrfO1g7xrxzvKv9L/23vhN+yX+/ABAA78EeQWBBRUFLASHAikAT/0v+ib36fTy88jzAvTW9GT2XfhU+kv8Kf7R/3EBTANJBQ4HhQh1CcMJpAloCRYJfAizB+AGLwbEBbsF7gUBBuoF5gUGBjwGlgYrB80HQAiRCM8I9QgFCQIJAAnuCL0IiwiCCM4IcgkyCroKzQqKCu8JAQkNCC0HWQZkBVgEcwO+Ah0CRgE0ABH/CP5//Yr97/1e/rv+Gf9c/1//B/+D/gD+lf1M/SH94Pxo/MX71/oM+UD2AvPV7/Psleo66TPpQerV63/tAe9a8J/x+vJm9A32M/jR+q/9YwCdAjMEHgVtBR8FVwQjA1ABuP6h+wD5Y/eJ9jf2ivZq91n4QPlc+qD75/xF/uH/rAGWA4cFRAdlCNYI1giXCEEIGAgxCFIIZghqCHQIeAhTCP0HegfqBpAGmgYEB6EHQwinCLwImQhWCBMI3we+B8IH6wdjCDAJFwquCroKaArOCRIJTAixB0oH/waKBtEF3QS1A4kCawFEAAv/+/1I/fj8Cf17/fb9DP68/TD9lfwZ/Pn7QfyN/GP82vtw+0776PqK+Rr3MfSg8ZHv4+3e7NXsjO1M7vPuze/X8NHxlPJ289D0yvZL+eT7R/5PAPsBKAO6AwgEDgRMA3gBIv85/d/71voj+v75VPq8+hT7dPv4+7b8i/14/qX/TAEnA6IEkAUyBrEGAwctB2UHygdPCN8IVwmyCfUJEgrmCXYJEgn6CAYJEAkpCUwJNwnUCFgIygcPBy8GfAUwBVMF5AWpBlQHvgfbB80HowdwB0UHJwcIB8sGcQb4BWYFqwS4A5YCfAGfAOf/Ov+p/mH+Rv4e/uf9vv2P/RD9XvzW+7r7zPuw+1v7Cfu2+uj5R/ga9vvzCPIx8LPuPO7F7oTv3u8G8HjwFvGz8XXyjfMV9ez2/vhE+5r9kf+tAPYA2QDfABcBGAGUAIT/Xf63/bT99v0I/u79pP0y/e38Nv0O/vL+nP8wAPcA3wGlAi8DewOcA9IDewSNBdMG9AedCNQI5wgvCZQJ3wn9CfQJ9Qn9CRsKKgoACoUJvwjeBx8HqwZnBgYGnQWGBdAFNQZgBl4GMwbwBasFjAWgBb4FgAX8BHoELQT6A5ED0wL+AUgBngAWAKz/Yf///o3+SP5B/lz+N/6z/Qb9ePwh/Or7vfuR+1L7+fqg+lD61Pm2+Pn2IvWi85Hy3vGy8f3xYvKc8rfy+PJe88bzLPTP9Nb1Kfe2+GP62/vd/HD93f1d/tr+Mf9T/1//mP/9/3gA1wAIAR4BKQExAUwBpwEqAp4C4AL3AggDDgMBA/QC7wICAy0DdwMCBK8ETgW+BQ8GbAbWBkEHmwfvB1QIuwgdCWUJcwlOCfUIiwgcCLQHUgfbBmoGDwbuBd8FlAULBWkE5wOSAzsDvwI0AroBaAEuAQEB5QDMAJIAKADH/4j/XP8p//z+6P77/jf/a/9p/zP/5/6K/iX+wv1//Vv9NP3q/I/8NPzh+6H7aPs9+xv7t/rp+dL44/dc9xP30faX9ob2lfaY9ob2gvZ/9lv2MvZg9hH3H/gu+Q/6n/rz+kD7u/uX/K/9wf6//60AuAHWArwDQwRYBEUESASEBPQEeQXrBQYGtQUyBcgEhwRFBPcDsgOlA9sDKgRvBJMEkgRVBN8DmQO8AyAEWwRXBH4E7wQ8BRMFwwS2BMAEkgRIBEQESAT3A14DOAOPA3ADuAIrAgUC8QGXAT0BJwEQAa0AIgDg/wcAMAAKAMz/m/+y/+7/FgAQAPD/6P/D/3j/T/9i/2H/IP/L/rj+4v7u/q7+Qf7h/aX9a/07/Sv9PP1K/Sb95fyi/GP8H/y0+zL7zPqe+pf6gfpP+iD69vmy+Wf5LPkL+f34/vhB+dj5hfok+8z7jPxQ/ef9bv4S/8n/fwA3AfEBmAIMA1sDjwOpA6kDmQOyA/IDKAQwBAEE0gOVAxQDiAJVAm8CawJRAlsCtQL4AtECqAKjAtsC7wKzAtACdgPUA3kDAQNNA/gDwQPJAmoCJQOpA/wCCwILAoUCQgKaAXcBcwFLARAB7gDyAOoA4QCbAEsAPACWANsAowBDAC0AWgCFAHUAYwBkADsAJwAvAAQAyv+8/5r/Uv8O/+X+vf6c/nr+Nf7c/bz9vf1o/fv8Ef1d/Ur99fzv/DT9LP2u/DL8GPwm/PH7e/tH+5D7yvuP+077a/uw+7L7cfuJ+y/8sPy5/Mf8Pf3n/U7+e/7K/lb/1/8RADoAuQBzAbgBbgFpAfwBNwLcAX8B9QGMAlwCAgIaAnoCdwIUAg4CLAJCAmACLAILAkECywLpAmoCSwK/Ap4CEAJEAvYC7AJCAk4CEAOFA84CFAJvAhMDdgJhAZMBvgLgApMB2wBIAToC+wGNAD8ANgGXAbUA8f+TAF4BzQDi/7n/DQBiACoAfP+k/zEAHgC+/2b/l/8IAML/L/8A/0j/qv+R/wn/uP7u/vD+dP4j/lL+mP5b/sT9qP3g/fD9uf1Q/RL9AP0Q/fn8sfx7/E78Wfxr/FD8Z/y9/NX8s/y4/Bv9dv15/XD9mf34/Wz+vf7c/ij/kv/D/77/AQBmAIYAlwDZADsBMAF5ASoC1QE/AY4B8gH1AbcBbgGLAQcCPAIEArQBfQHDAQcCsgFVAVoBEAJfAqUBZQEiAmwCMwIiArkBxwEfA3gDMwJZAbMC7ANyAs4A0wFEA54COAFMAWcCPgK9AcABRgHMAAIB6gBBAPL/lwDKAN//cP8KAJsA5v8Y/2n/9//4/2L/Hf+0/xkApv8X/03/k/9W/9b+kf7t/vf+lf40/jD+gv5e/rr9g/2u/Xb9P/01/fz8uvzI/N78q/w5/CD8fPyI/Eb8Rfx+/Mb8xfyy/PD8Jf1w/af9lP3K/Vz+7f45/zj/bP8BAHoAbQBXAKkAKAE9AfwAcAEyAhICxAHOAfIBLQLsAaEB8QFcAgECggHwAWcC9AFAAUgBugHPAdUBsgEXAb4BugIyAp4BKQIKA1UDswJCAuMCtAOFA/YC5AIfA2QD9AJvAssCLANlAnYBCgKzAn8BvwArAf0AYwBGAGcA4f+P/wsAxv/7/i//5v+T/7f+8v6y/6r/6/7h/sn/HAB6//n+GP+3/+n/G/89/lf+PP9L/07+vP0P/kn+fv3N/Nz85fxf/Ln7dPtw+3H7bfsR+6j6yPrc+qz6Y/qK+hn7QPsx+6P7Q/yW/Nf8cP0K/lD+uP5f/yQAtQD/AEsBswExApkCpAKhAuQCOQM/A0ADggNoAygDIwMmA8wCdwJfAm0CvAKFAu8BDgKjAqMCOAIJAnkCnwKsAssCsAI3A9UDzwOgA+QDQgRPBNUD4wO8BMEE1wN6A90D2wNcA74CagJvAloCtQECAeQA1QBxAAYAsv9G/yb/Yv9v/xD/Ev9D/z7/Zv9P/xj/NP8q//r+CP8H/9z+n/6J/mL+E/7Y/Yz9OP3y/G38xvs2+4D62Ple+eX4UfjO9273avcw93/2Sfau9vT26/YY99X3/fjp+YP6S/tt/Iz9YP4b//j/HQEbArYCIQO3A0oEjATABMgElQSJBKUEmQRrBA8EogM6A+cC1ALVAq4ChQKcAgoDKgP5Ag4DpQMaBNwD5AOgBC8FXwWqBQcGeAaWBnYGjAZ5BkYGHwa3BSEFzgSJBBEEUwPLAoUC2gE4AdIAgwBnADMAxf+x/+T////f/9H/LwBXAPr/5f9MAKUApQBiAAkAuv+b/43/Bv8n/rD9Wf2+/Bj87fuN+xv6Q/gv99r2cPbA9Sf1DPVK9Ur14/Ts9Fr1afVT9fr1d/f0+BP6H/tO/Cz9rP1S/nr/pgBoAQ8CywJwA9UDtwPvAt8BWgHKAToCMAIbAjUC6gH8ADMABQDi/2//VP8wAIgBTgKDArYCFgNNA2wDAgQeBU0GIAfDB2oIBgk/CRYJ0wivCL4I7wgfCRoJnQi7B78GxQVIBSsF/AR/BNIDjAOwA1sDrAI2AuABfgEtARoBPwFQARwBxQCZAJ8AyQAWATQB+wCCABQAqP/w/jH+1/17/an8w/tD+7b6Lfm49kv0m/Ke8VzxrfHb8bfxoPHU8fDx6vFX8nLz5vRi9nP4bfs1/qH/BgBZAPIAigE8AoIDEwUFBgcGpgUtBW8E7wJCABD9Evs0+2j89fzb/Kv83ftH+g35Sfll+lz7Ufwa/s8AiwNCBZkFFQV2BGoEggW6BzwKCgyUDDEMcgu0CiMKbAmDCPIHFwi7CEcJOQlwCNMGugQhA/wC9gPsBIcFGwaXBqYGhAZ3BlYGEgYCBnMG7wYlBwsHoAavBVQEGQN6AjkCtQEMAVoAt//r/jn+oP0U/YD8q/sF+hv3KPOY7wXuCe5k7mDuqe5U70XvNu6u7Z/uEvA+8RTzrvYL+2H+CQDsAGIBWgEiAZABLgMLBQ0G6QUmBS0EHAOEAUj//fxC+wn6yfjH98D3zvii+Wb52PhB+YT61ftl/aL/EwLIA+AEJAZ3BwkItAf7BlgGFAZzBl4HBQjPB+IG1gURBdAENAXbBTEGDwb5BVIG0gYRBycHJgfyBtUGRwdGCEMJ1gnlCYsJ9gilCOEIHgnOCO8HDwdPBkIF1AOQAtwBWwF9AKr/Z/9z/2n/1v4h/sr9A/5v/q3+7/4D/0f9e/jV8lfwzPG184bz+vL087X0JPMj8bPxEfQM9Z30DPZQ+nj+xP///jD+gf14/O/7+vwQ/5gAkABT//T9Tv1T/QX95fvn+qr6I/pp+MP2DveY+K35XfrL+8z9Jv+s/3sA3wEEA6EDcwTtBTgHhgfTBngF6gO+ApICXANuBB0FWwVNBQcF4AQ5BQAGpAb6BnQHVghOCdEJrgkSCUgI1AcLCK4IYAn3CR0KyAlXCTAJ/QgyCD4HxQZ4BosFMARZA3YDewN7AuMADQA7AKAAngB/AOcAfQFvAc0AngDMANr+yvha8QHuDPAi81nzU/Lh8m/z+/CT7eXtz/GU9Fr0FvVc+UL+4/+//lX9Ufz3+kn6D/yH/xsCDwINAOH93fzF/In8Xfse+hb64fo6+6D6vfnp+Oz3X/ex+NP7CP/pAMgBlgI6A0MDRgMKBBkFrwXbBTwGkAYeBiUFRASHA9sC5QI3BCIGKQf5BnsGQAY6BlkG8wbkB6UIBQlGCXQJTQnNCFMINQhfCJgI0ggVCXUJzQm0CREJCAjPBmsF8APuArUC5QLxAmwChAGWAOr/pP/O/xoAagC5AB8BagGJAZUBewBg/Gn1ju/j7kfyyfR69MjzA/Tn8pvvqe3Q70jzWPQs9Hn2MfuM/rL+bf0y/NT6uvl++oL9vQAfAocByf/F/Vr89/vZ+zb7ePpS+kf6rflV+Qv62vqm+mj62/uj/uUAQgKJA54EvQQ9BGAEXAXqBX4F2wSpBJIEUwRIBIUEiQQlBC0EFwUtBp8GvwZXB/wH6QePB98HvQghCekIrgi8CLQIeghTCHAIjgiKCH0IiQipCIgI1Ae9BpsFlASPA9ECoQKcAiICNQFuACIASQCIALEAnQC+AC4BfwF3AWwB6gDd/Xf3EvGa7+jy0/VP9bvzwfNz88TwVO7w79rzZ/Vs9Hn1/vn6/Wb+yfys+9b61/la+jD9ZACSAdUAaP+3/Tr80/uB/MD8C/yi+zX8TfzI+vP4gfgv+Qf6T/u5/U0AoAHYASsCtQLrAvsC0wNvBY4G1gauBjMGBwWQA+gCVgMGBHwEYAW9BoQHEwdNBlUG1wYKBycH3wffCE8JAQm3CJII6gf8BqUGRAcICEEIRAhzCFsIhgdoBq4FKAUpBN8CUAKzAjcD6QLbAZwAz/+m/woAcACGAJsA1AABAfgA5AAfAA39Z/dT8lHxI/S89qL2JPVU9HbzpfFl8MPxa/Rf9aX0L/U3+G/7hfzY+8n60flG+VP6/vyb/3EA5v9P/+T+Y/4I/j/+bv7W/b78Nvxq/Jv8c/w2/BX85fvi+6X8Of7i/wMBugE/AqYC+QKQA3sEMAVSBSUFKwVsBZEFiwViBRAFoARaBG4EngShBIEEYAQ8BP8D3QMbBIQEqwR9BEoEWQRzBH8EmgTUBPUE7wT5BDkFeQVwBR8F0wR7BCUE0AO2A8gD3AOxAzcDoQImAvwBGwJvAp8ChwIpAtYB1gHmAdoBeQGqAAX/zfwQ+936rfv6+/T6LvmI92T2EPbF9gn4bvhV99P1kvXD9lH4EPnY+On3I/dg9+X49PpR/Jn8RPwE/EL8AP30/WH+8/3x/FT8bvzZ/B79Dv3b/J78lPzk/Kb9dv4t/53/8v9gAOcAkgEoAqYC8wIrA2MDrgMtBMEEUwWUBaMFmQXEBRwGdgapBpYGYAYsBkEGlAbpBuIGYAboBb8F2gUBBiAGKgYJBuEFxQXVBdQFqgVjBSoF9ATBBGsEHwT2A+IDsAMvA50ChALVAgcDsALtAVIBGgE5AXgBfgF0ANb9z/pu+Yn6DvwN/Bn6svfL9Qr1zvW99+r4qPcu9QD0YPW19x75Afnb95H2Mfaw91b6g/zc/OX7FvtF+3D84P3G/nL+T/1w/Jr8R/2J/UP9vvxS/B38Xfww/SP+xf4v/73/OQCAAMIAXAEsAq8C4wIZA2wDzAMqBKYEDgUQBckExwRIBfsFVwZQBiwGAQbnBfkFOAZTBvwFeQU4BXkFvQXXBaoFdwVIBTgFcAW+BdwFmwVOBSQFHwXyBLAEgARFBAUElwNFAwEDzQK4AvICFAOxAuEBLAEfAVUBmwF4AUQAav1V+iP5p/po/Ar8mvkR93P1KvUl9iD4PvnV9yX10vMs9a73KPn8+Mf3ZPYN9qH3UPpb/GD8XPvr+oP7x/w2/hz/7/7W/cr89/zX/VL+Bv5L/az8efyz/Hj9MP6A/qX+DP+B/wUAeQARAZ8B4AElApMCJgOVA+cDOgSWBKcElQTDBDMFqwXWBd4FDAYxBiUGHAYmBiAGywVbBTwFbwVzBVgFNgVBBVUFTwVZBXwFjAViBVAFPAVLBe0EbgQkBBIEFwTkA48D+wKMAlUC0AI0A/gCCAISAcEA6ABVAYIBpADU/bH6WvnE+qD8g/w4+qP3vfVK9VT2S/ho+QH4YPUl9ID16/eM+Vz5Hvia9hX2pPdu+pb8vfym+9f6VvvE/H7+Wf/Y/pv9y/xG/Wv+Hv/F/qT9cPwb/Nv8LP4W/xH/k/5e/sL+uv/IAFwBUgEEASQBAAL3AooDowOFA3kDswNeBFQFFQYaBrwFgwXGBS4GdQaIBk8G8gWOBXoFpwXfBc4FgAUvBSEFTQWUBeIFCgYDBuEFogV4BXMFdAVUBRsFtQRyBDwEFwTPA1UDBAMKAw0DvgIIAlMBDwH/AC0BSAGQABz+Hvts+Yv6QfxJ/FT6//dT9sH1ZPYN+GD5MPjF9XD0u/U8+MT5hflC+Mv2NPaG9/L5IfyI/I37wPoD+0X8AP4D/+f+9/0K/Tf9RP4y/1z/Xf7g/CD8Wvyd/b3+Mf/9/p7+ev45/1wATwGvAV0BRAGoAWoCSQPZA+4DxgOpAwQE8AS7BTQGKQbnBdcFAAZlBscGsQY9Br4FagWKBbsFpAVZBQEF0wTdBOMEEwV3BZEFbgURBd0E4gTZBK8EogR2BDUECwTPA8YDdwMsAxgDSwPxAl0CdAEPAQUB9wAmASEB2/8j/X76xPlu+4n8wPuQ+Vb3BfYH9gn3rvjs+Pj24fRP9AH2V/ha+ez4sPdT9nv2PviK+lL8M/xm+xL7rPsj/cn+Sf/m/r797/yB/Zv+ef9j/wn+qvwp/I385/3d/hD/z/5k/nz+X/9OABwBSwH/AA0BaQFCAkIDsQOmA2gDQgPOA78EjwUhBhEG2AXjBRQGggbGBpAGKwayBYMF0QXpBbIFQAXSBMkE+QQqBVkFUAUlBRIFBgUvBUIF6QRpBO4DtAPZA90DyQN7A9YCTgJFApgCCgPXAhQCVQHSANkAKwFFAXQANf59+zr6+fo//ED8Y/oL+DP2tfWQ9hn46PjZ97T1e/RV9Wb39fjx+PT35/bH9ub3yvmO+1H87vti+5b71vx1/l3/Of+G/s/9wv1j/iv/hf/Y/pH9vfxy/O38uP1a/rD+jf5B/qX+bP87AOoABAEEASwBqwG0ArsDNwRHBOkDywNNBP8E3AVkBlsGPwYiBjkGkgaQBlcG8gVyBVUFaAWBBasFdAUPBcoEcASPBMAExQTNBLwEuAT4BOgEowRaBLcDmAOOA6EDxQN4A/ECrAJBAjQCZwIhAuIBNgGoAKcAwADhAM4ANf8V/T77w/rb+2f8XPup+cj30/YH94f3mvh5+Pj2u/XC9TD37PgY+YL49/eA9zr4lvka+0X8DPyM+9j7rvz4/eb+8f7W/lb+Av6B/v/+OP/H/p79CP0P/Xj9OP6W/ob+Zf4b/oT+ff9mABcBHQHoACYBvwGtAqMD5QPkA70D6gOmBGkF/gVSBhsG6QX7BUcGwgbLBnEGGAa5BZkFowWSBYkFMgW4BHIEPwQzBFoEUwRBBCcE4APtA94D0QPQA6gDdgNYAxUDAgMLA9gCxgJlAhwCMAJHAj4C+gFnAQ0B7wDsABoBwgBY/4T9/fv0+7D8ufyd+wv6gvjW9833Sfjo+E/4C/cT9j72Xvdp+Hv4QPjQ95H3EfgL+VT6SvtZ+1P7vPuS/MH9cP6b/ob+PP40/r/+Tv+z/0z/RP6s/Yr9+/16/qX+cP5E/gb+if59/2AA4ACdAHIA1wC3AbsCjAO4A8EDtQPqA5sESAWvBbMFhAXLBV0GwgblBo0GIQbuBdQF2gXcBYEFAwWKBFAEcgRSBPoDkgNfA1oDdwN4A5ADhANWAyMD7QLOArIClgJsAmsCSgIwAt8BnQFzAZgBsAG2AXgBCwHCAIYAgQBiABsAVv8//vX8NPwd/DP84fvt+sH51vhm+Fj4rvi9+Ef4c/fp9kr3RPjp+Pn4sfhp+Kr4VPlk+m37yfuq+6j7LfxU/WX+1/7q/qv+fv7H/kj/xf/q/3z/Dv/O/sT++v4h/xT/FP/+/hz/tP8+ALUA1gDRABsBgQH5AYsCBwNiA74D4wNXBOgEPAV5BW0FawWLBbYF9gUyBh8G8QWjBTcFDAXPBKEEhQQ6BAUE5wO9A5IDZQMdAwgD4gLBArwCgQJZAk4CPwJRAhQCwgGDAYYBiAGsAYsBcAFeAR4BOwEyATYB9gCoAFQASwArAPz/wv9C/+L+Gf5G/bT8ZvxS/Pv7X/uo+iL6nflf+Sb57/i5+Dr4H/hY+NH4Ivky+Sn5T/mm+QH6pfoq+737Gfxe/M38Rf3N/TL+XP5V/nX+rv4x/7///P///7v/nP+7/wQAUwCiAMIAvwDTAAcBhgHoASsCSwJhAocC1gJLA78DCAQWBCEEOARfBKEEyATRBLcEogTABPgEEAXzBLsEggRUBBUEAQQGBOcDpQM7AwAD7gLlArcChAI4AvAByAGaAb0BrQF+ARsBzACxALUAngBbADAA7f/e/6//pv+S/1z/RP88/1X/Sf88/xP/7v7E/p/+mP5w/kP+DP7u/eL93P3S/aD9fP0w/QL9yvyn/JD8bPw+/An88PvB+6v7hvt3+2/7cPuU+6v71Pv3+yb8TPx6/KL8x/wQ/Uv9pv31/TL+cP63/g3/ev/Z/w4ATwCaAAwBbQGlAdIBDAJTApgCzALfAvEC+wIOAz8DcAORA5IDdwNZAz8DNwMqAy0DGAMIA+8CyAKeAn8CdQJvAkAC/QHKAbsBtAGkAYkBYQFKARkB7wC8AJ0AiABwAE0ANAAvABkAHwAIAOr/1v+r/5b/l/+l/5z/fP9Z/1X/bP93/4T/av9m/1r/XP9W/0T/Lf8i/zb/P/9K/zn/P/83/yf/Iv8n/zb/NP8f/wj/F/8q/yP/Ev8I/wz/Cf8B//b+5/7V/rj+s/6+/tb+4/7b/uL+9f4M/wj/D/8j/zv/R/9K/2j/kv++/+L/AQAXAA0AFAA/AHgAoQCjAJQAnQClALgAxgDGAL4AsgCuALsA3QDtAN8AvACiAK0AzADYANQAvwC6AK8AmgCUAJgAnACXAIcAbgB5AHcAcABLAB8AGQAeACMAFgAUAAgAEQAWAAQA8//k//H/////////AwAXACcAMwA7ADwANQAnACcANwA7ACsAGgADAAoAEgAIAAEA8/8AAAoAAgDk/9H/wf+//8r/0f/d/9P/yv/T/+D/4f/m/+X/7P/9/+7/4P/d/93/5P/c/9z/4v/n/+P/4P/e/9b/zv/E/8X/2P/0/wMADQAFAPH/0f/B/9D/8f8NABkAIQAfACMAIAAOAPn/3f/d//P//v/z/+f/4//t//H/5f/e/+D/7f/v/+n/5P/g/9D/wv/E/9j/8P/3/wYAIQA1ACwABADj/9b/1//Y/+T/7v/0/wIACgANAPv/6P/c/9v/3f/b/9j/2v/x/wIABADk/9X/6v/1//v/7f/m/+3/9//3//3/EAARAA8A+v/z//X/9v/6//z/AAD///7//P8IABIAEwAEAAcAKgBTAGEASgAzACMALQBHAEUAJAD//+j/5P/4/wkAJAA7AFgAbQBrAE0AJwAPAAsAKAAuACAAEgAeADQASgBLAE0ATQAoACQAJgBNAGAARAADAJ7/R//5/ur+Gv+L/9v/+f/u/+H/9//5//r/rv+Z/8H/HwBqAG0ATADX/6P/nv/Q/9L/ov91/27/pP/u/zAAFgAuAHYAEQEAAm4CLgLt/sv5VPQo8iP1d/wDBTEK2groBtcBhf29+0r74PsF/dH+JQFcAmQCdQCi/sD9rf7eAGADxAUPBy0H4wV5A4oA+f2t/PT86v5PAYEDaAKt/tz4kfPe8ST1e/1tBfUJcwhzA5T9ivpQ+wT/WgOLBrMHhgY0BAoB6v4A/k7/dgKzBegHkAd3BcUCmQCO/8X+NP6V/SD94fx3/ev+LQHBApsCAQGL/hj9q/zE/S3/ngCUATEC9gJSA1MDcAImAdL/O/9p/7UA5QF1AsoBwP9c/qf9nv6Y/6L/u/6q/cT9Ff6l/uD+Hf8e/8/+Uf7m/YX9iv2Y/oj/FADG/5n/Q/8O/0j/A/8v/h79QP2d/QT+pv5X/xQAFwCE/x/+Yvwi+4n7D/3F/sj/uf+X/7X/xf8t/wj+L/3B/V3/1gAxAW8A3v8rAMQAwwAWAPf+Gf52/ob/swCIAdcBQgFsALz/Rv94/+3/qwBJAS0BlwDe/7v/aQAPAb8Af/9D/iz+sv+gAWcCjgHr/xn/gf9zACwBLQHvACIBlwEiAaL/e/6//qT/UQCxAJ8AUAAvAEsAlADfANgAVwDz//z/bgADAYUBsAEtAfT/Ev8C/4v/LQBXAGIAkAC+AJcACQDP/5X/hv9S/yr/3P/fAC4CWgIaAWX/bP4z/tr+kf8uAAkAHQBKAXACNAKoAH7/LP8VAIoBggGGAAgAkADXAY8CugI2ArAAT/8X/3v/UwBdAb0BSwGMACkA+f9LAKAATwDZ/8b/vgBrATkBfgH8ANL/6v/IACkB4gCKANAAYQHTAV4BggC8/4f/w/+p/yUAjgDmAOkATQDQ/5//c/8U/xD/cv/S/+X/zv+d/2X/6P7L/mb/CgBfAJ3/oP5u/mP/dQD5AJ4A2v97/wH/z/76/or/yf99/1H/b//k/+j/kP81/8/+r/6I/sr+cv8VAFoA3/8z/wH/Qv9//5L/wP/4/6H/Ov8P/yX/Wf83ANUAzwBFAID//v7v/ob/WQCPAFEAWQCLAJkAWQBdACsAEgDE/1T/FP9P/+v/XgCuAK4AVQDg/6j/av8S/6/+HP9IAH0BLgKtAbEADQCs/5P/nv+m/9P/8/9GAEoA3v9Q/xr/Ov9Z/2n/X/8X/x7/df/E/7H/dP+5/wEA9f/W/8b/tf90/0//cv+p/83/1f8CAB0A8P+0/6L/7f8uAAQA0f/R/wcAUwCCAJwAkgB/AGMALQDp/8n/0v/v//b//v8kADoAVwBCAAAAff8N/1n/BQBiAEYABwDv/ykAagBdACwA3v+L/0v/Uv+H/+f/XwDKAAQBhADL/3L/gv/z/0UATwAxAEYAVgBXAEcARgBkAGkAKgDk/6j/cP/D/00AzQD9ANwAowBtAD4A///f/7X/1f96ABQBMwHzAOAAqwAuALn/kf/C/z8AuQDnAMYAUgD5/wcAngDvAEgAP//j/r7//QBxAdEA4P/G/1sAlQA5ANP/m/+v/x8AngC2AFsAEwALAMT/cP+X/9r/DwADAMX/eP93/+X/VwBQALL/JP/9/iD/Tv8O/xL/Xv+Q/+T/9f+T//n+p/7W/iz/Q/8x/yb/ZP/P/x0A7P95/xf/6P43/8D/QwBSADQAGwAlADcAEgBbAKoAcwBCABcAHgBsANQAKAEnAZoALQA1ADoATgDKADkBSAEdAc8AhgAIAO7/KQBOAKcAFgE/ATsBNgEPAeEAugCNAIUAjQCxANMAKgHkAY8CigKPAT4AZv+d/48AagG6AX0BSgExAf4AxQCYAFMA1P96/4v/QwAzAVQBbQB5/xj/Vf+y/6//Z/8b/0P/pP/S/5P/Av9Y/iP+d/4j//j/WADn//v+MP4B/mj+7P4f/xX/3v7l/kb/hf9+/xH/fv4c/uT9Cf6G/ib/pv+i/0z/4/64/sH+0v7q/uL++v5I/5f/wf/Z/+X/wv+U/2T/Xf9b/0H/R/9u/+b/jwDqAKwAMADD/9T/XwDrAPUAtwDGAEkBBAKMAqsCNAKbATwBQQF9AckBNAJ+ArYC9gJbA1kDtgIXAqwBygEvAqwCNAOHA48DEgNdAsYBTwHnAJkAgwCsACQByAEWAuQBTAF5ANz/g/9O/xv/7f7d/g3/Zv9Q/9H+M/67/Wr9//yt/ID8gPyU/Lv81vzU/K/8Wvzn+0z7zPqY+nP6YPpl+mD6U/pC+iT6DPoB+rT5L/nB+I74tfg/+QL6u/o7+6j77/s1/Kj8Ov3Q/V7+//58/ywAFwHzAY0CrAKOAm8CgAK4AggDTgOSA/4DTQRrBHAEZQReBEcEPQRvBK0E/gRoBdcFLwZoBmwGQgYpBggGCgYzBoMGDQeQB9wH4AenBysHngYlBsQFaQUIBdMErwScBJYETwS2A+QCGQJfAbwATwAiAB0AJwAjAOz/Zv/G/i/+lP0f/Z/8FPyl+4/7xvvz+8L7oPp9+Jj1GvMA8kXydfOa9CL16PR59Gn0DvUB9sj2L/dF95/3wfjJ+k/9o/8vAf8BVgKBArwC8wIIAwEDEAMzA1wDQQPBAucBywDc/wD/If7t/DT7gfll+Ib42/na+6f9wf5b/9j/vQAPAkcD8AMVBCoEygQeBvUHugnTCgULfwrGCTkJ/gi4CD4ImwcWB94G1gbqBvkG3gZ8BuwFNgVgBKwDIQPeAvQCZAP5A4AE5gQ1BWwFggVDBbcE7gMtA5oCbQKeAs8C5AKzAlQCywEPAR0AB//t/f/8gfx2/F38mvuc+Yj2SPMA8TnwdvAB8Sfx5PCS8MTwu/FL8+v04/Uy9l/2Hfe/+BP7k/3B/30BwQKxA4MEVwXrBSkGCQaRBfsEVASRA7YC9QFJAZ4Axv+G/sX8mPp9+Or2Ivb19TX23Pb39575tfv9/e7/QwH+AUMCjwJgA8AESAaoB5oIPgnoCZkKIwtSC+cK+AnaCMsHAwePBi8GwQUrBY8EKwTuA8oDogNZA/oCkwJEAk4CwQJwAzsE+gR8BdoF/AX5BeEFnwUxBagEQgQGBPAD1QOKAxIDjQITAqIBHwF0AIf/fv69/XT9wP0m/t/9Ovwy+YL1Z/LS8JPw8PDi8Dvwa+8y7w3w4fH984v1//Wf9Vv1+fXQ93L6RP2r/5QBAANABKYF+Qb5Bz8I2gftBucFCgVxBAQEgQPEArMBdAAV/4390vvb+cD32fVy9Lzz5PPi9Hf2evjA+hT9O//pABcCAAPZA8gEwgWwBpAHWQgkCQkK6gqFC7oLXAt2ClQJFwj9BgEGHQVmBMkDPwPaAqYClgKpArACjwJJAgMC7QEwArICXAMJBJgEJQWaBQYGYAaLBnAGFgaABcoEHwSUAyoDyQJfAvQBswGIAUMBxQANAET/rv5m/kv+3P2F/P/5vPbE8wfylPGL8S3xVfCW75DvffA88iz0jPUN9gX2M/YV96D4gvp3/Gf+PQDeAToDewSuBc4GqgcACMQHCwcjBmwF5QRXBIgDigKGAakA6f/f/lL9JfvY+AD34/Vx9Vf1hPUf9mb3Zfnf+13+egANAkIDSQROBTUG8AZ+BwAIoghMCecJRQp1CnAKHgp3CX4IXAcpBgEFBgQ4A40C/gGhAXsBhwGlAbEBogF+AWABdgHGAT0CxAJCA7IDMwTABFEFxQXqBcEFWwXiBH4EMwTeA1gDqgL9AYwBdAGIAY0BRgG1ABUAq/+Q/4f/Fv/g/dr7Yvk+99P1+vRA9E/zW/K48bjxSPI480v0PPXz9Yv2Kvfd96f4mvnB+gj8MP0d/gX/NwDFAWMDxASqBQ0GDgbVBYcFIwWRBMADvQK5AcEAz//R/sH9yvzt+xz7U/qt+U75Rfmj+WX6b/un/AT+f/8EAXICtgPABIwF+wUbBiYGRQaDBscG9AYPByEHFAfkBo8GIAaXBesEHwRSA6YCIwLCAYUBVwEyARMBAwERAUABgQGqAbUBwAHeAQgCNAJMAlMCRgIsAhcCBAL9AeIBnQFFAfAAswCHAFsAKAD5/9n/v/+1/7n/w/+9/5X/Yv89/zP/L/8c/wn/A/8A//n+5/68/mj+3f0k/W38zftC+7/6M/qx+UX5APnl+AT5VPm4+Rf6a/rT+lD7w/sg/Gb8p/zm/C79fv3j/VX+wf4c/2X/n//H/9j/4P/x////BAD3/9//3v/9/zYAZwCPALQA0gAAAT0BcAGXAbgB1QH3ASICUwKFAqwCwQLXAuoC8gLyAusC6ALgAsoCqgKKAmcCTwI1Ah4CFgINAgICAQIXAiwCMgIgAggC9gHmAdQBwwHBAckB0QHOAcMBtgGzAbUBrQGlAZwBfgFKAQ0B5QDLALIAhgBUACwABwDl/9b/1v/Y/8b/nv9n/zn/IP8L/+/+wv6D/kT+F/74/fX9AP72/dv9wv21/a79qf2j/ZL9f/1w/Wz9df1//XX9Xv1P/V/9g/2q/cP9zv3P/cP9xv3Y/fb9E/4n/kT+af6l/un+Hf9A/1H/Yv9m/2P/af+A/67/5v8bAEUAbQCbAMIA7AAWATgBQwFBAT8BSAFWAVIBPAEjARoBIAEoASwBKAEpATcBQgFSAVoBWAFYAVYBWQFhAWcBYAFRAUoBTQFaAWYBZQFPAScBCQHwANYAxwC6AKsApACmAKYApQCeAIsAgQB9AG8AWQBPAEYANQAZAPj/3//S/8//xv+4/6//pv+m/6n/pP+a/4b/d/9p/13/Tf8//zX/Kf8q/zT/Q/9O/1b/Vv9P/1D/VP9c/1f/S/9B/zv/Sf9b/2b/ZP9V/1H/VP9j/3D/e/+I/5H/lf+S/5j/m/+X/5f/j/+O/47/k/+d/6T/pv+c/5b/if+F/4v/if+L/5n/qv/E/9//8f/3/wAAFgAqAC8AKgAoACoAMgA+AEMARwBSAGYAdgB+AIoAmQChAKIAoQCaAJgAkQCOAJMAkACKAIEAfQB3AGkAXgBjAHIAegB5AHQAbABlAGUAYwBlAHEAdABqAGMAXQBcAFkAUAA/ADEAJgAYAAgA+v/7//3///8IABAACQD9//z/DAAdABUAAADs/9v/1v/J/7j/sP+w/67/rv+y/67/rf+r/63/r/+1/7f/sf+q/53/nP+k/7D/uv+7/7X/rf+w/7j/vP+5/7L/q/+t/7D/vP/D/8P/xf/M/9v/6P/q//H/AgARABkAFgAVABUAGAAaAB4AFwAVABsAFQAQABYAIAAlACQAKwAwADgAPABDAEQAQwBMAE0AVQBZAFcATgBDAEMARgBCADoANwAsACQAJAAqAC4AMAApACIAGwAQAAoAAwD+//3/9v/v/+n/4v/h/+D/2P/T/9r/1v/P/8n/y//P/87/1v/b/+H/4//g/+P/6//t/+7/8P/0//f/+v8AAAoAEAAJAAcACAABAPn/+f/9/wEABAAFAP//+P/0//r////3/+7/7v/4//z//v/8//X/9v/v/+z/6v/q/+z/6//v//X/9P/y//L/+P/7//3/+//+/wEA/P8AAP3//P/8//T/7f/r//D/9P/z/+z/7P/1//r//v8JAA8AFQAQAAsAEAARABEAFQAcABwAHQAeABcAEAAHAAgACAAJAA4ADAAIAAcABwAGAAQAAQD+//T/6f/m/+v/8v/5//T/7v/k/+H/5P/n/+v/7//y//r/AwAIAAgABQALAA8ADQAKAAgAAwABAP//AwAGAP//AgADAP//9v/1//P/8P/z//j//P/5//b/9//6//j/9v/w/+X/4P/m/+7/7v/1//r/9v/z//H/+P8CAAYABAD+/wIAEgAeACAAHQAUABEAEAAPABQAHAAgACgALQAmACAAIAAhAB4AHAAaABcAGQAgABsAFAASABUAFgAYABcAGwAdABEAEQAQAA4ABQD9//r/+//+//f/7//v//L/7v/k/+P/4f/n/+3/7P/q/+n/5//k/+X/4v/e/9//3P/b/9b/0f/S/9P/2//e/+H/4v/h/+r/8f/t/+3/9//+/wYACgAOAAoACQAJAAYAAwAEAAUABwAKAA4AEgAUABcAFwAUABAABgADAAgADwARABMAEQANABAADwAIAAsAEAAZAB4AGAAWABoAHQAjACEAGQAPABIAGAAbABkAFgAVABAABgD9//z/AAAEAAUA/P/1//H/6//t/+n/5//n/+X/5f/i/9//3P/k/+n/7//y//D/8//5/wAAAQD8//T/7//y//X/+v8BAAAA9//1//n/+//5//X/9P/0//j//v/9//j/9//y/+v/6P/o/+//9//2//f/+v/4//v/+f/y/+7/+f8HAA8AFQAQAAoACgATAB4AJQAgABMAEQAXABoAGAAYABUAFAASABAADwAMAAUA///9/wMABgAHAAIAAAACAAEA9//s/+b/7P/t/+7/7f/s/+7/7f/7//7/9v/z//f/AQAIAAgABwAGAAkACAACAP7//P8CAAcABQD+//z/BQAEAAAA9//r/+v/8f/9/wMA/P/2//X/9f/9/wEA/f/3//v//f/5//v//f8AAAMADgAPAAYA/v/4//////8AAP////8BAAMABgAGAAcABQD9//3/AgALAA0ADQANAAsACwALAAoABQD9//f/9v/6////BAABAPv/+P8BAAoADgAQAAcAAgAJAAoADAANAAsACwASABEADgAPAAcACgAHAAoADwAQABEAEAAMAAgABQD///7/AAAAAAQAAgACAPn/7v/l/+H/5//x//n/+//6//v/9//8//n/+v/4//n//P/7/wEABQAGAP3/+v/+/wYACwAJAAIA/P/y/+//8P/w/+z/5//s//f/+v/1/+r/5v/r//X////8//j/9P/s/+7/8f/x//b/7v/q//T//f////r/+P/3//j//P8AAAsAEgASAA0ACAANAAwAAwADAAIABwANABMAFQAOAAsABQAAAAYACAAJAAoACAAKAAkABQD+//3//P/7////+//0//D/8//6//7/BAALAAgACAALAAoABwAAAP3/BQAOABEACwAHAAUABwAEAP///v8AAAkACwAEAAAA/f8CAAYABQACAP7/+v/8//z//f/7//j/+/8EAAYABAAAAAIACgAGAAEA/f/9//7////9//v//f/7////BgAMAA0ABgD8//T/9//9//7///8DAAMAAQD+//7/+v/3//L/7f/0/wAAAgDz/+P/4v/x////BAADAP3/+f/8/wMACgAJAAQAAQABAAAABAAHAAMAAgABAAQAAwAIAA4AEAAKAAQAAQADAAEA+P/v/+//+P8CAAQAAwD8//f/8P/6/wUABwAKAAMAAAD//wIABwAFAPn/8v/9/wkABgAGAAYAAQD7//v/BwAIAAEA+//9/wgADQAEAPv/AQALABIAEAAHAAAA+P/u/+n/7P/u//D/7v/z//3/AgACAPv/+P/5//v//f/+//v/+f/6//j//v8CAP//AAABAAAAAwAIAAkABgABAPr/+f/1//b//f/9//r//P8AAAMA+//4//f//P8CAAAA/v/4//n/AQAJAAgABQD+//v/AQAIAA4AEgALAP7/+//9/wIABAACAPz/+v/+/w8AGwAWAAMA8v/3/wMABAABAPb/6//r//D/+v/6//L/7v/x//n/AQACAPv//f8AAAEABAAEAAYAAQAAAAkADAAOAAsADAAJAAoACQACAP7//f/6//v/AQABAAEAAgAKAA0ACQADAP//AQABAAAAAgACAAEAAAAEAAcAAwD9////BQAGAAIABAAIAAkACwAMAA8ADwAQAA0ACQAOAA8ADAALAAsADgAJAAIA/v8AAAAA/f//////BQAHAAIA+P/x//b/+f/1//b/+//9//7////7//j/+f/3//v/AwADAP///v/9/wAAAQACAAYAAwAAAAAAAQAFAAIAAgABAAAA//8DAAsADQALAAgADQALAAkABwACAAIABQAJAAQA/v/8//f/+P/3//f/+f/3//j/+//6//z//f8BAAIAAwAEAAUABAD+/wIAAgAAAAEAAgAAAP//AQAGAAgA9f/t//H/+/8JAAkAAwD9//b//P8AAAMABQAJAAgA///+//7//v/+//n/9//4/wEACAAMAAgAAgADAAQAAgAEAAcADwAOAAcABgAGAAYABwAJAAgABAAHABAAEAAHAP7//P8AAAgADwASAA8ABgABAP7//f/5//r//P/5/wAABgAKAAUA/f/2//P/9v/8/wAAAAACAAUA/v/7//n/+P/7////BwAKAAgA/P/0//X/9f/4//j/8//4//z/+v/3//r/+f/5//j/+////wMACwAJAAMA+//6//X/9v////3/+P/y//H/8v/3//f/8f/0//r//f8AAAMABQAFAAcACQAHAAUAAwAIAAoABwABAPf/9P/y/+n/5P/o/+3/8P/4/wMABAD/////AQABAAQABgABAP//CQAOAA0ACwAIAAIAAAD5//j/+v/1//X/+v8BAAMA///7//v//f8EAAsADwAQAAsABAAHAAoABAABAAcAEQAWABcAEAALAAcABgAHAAgAEAAUAA0A/P/3//n//f8GAAkACgAMAA0ADgAKAP//8//0//n/AQAEAP//AwACAAQABwD/////AAAEAP//9//1//f//P/5//X/9////w0AEgAQAAcAAgADAAMABgACAP/////5//T/8//0//L/7P/q/+z/9//4/wAABQADAP//+f/4//7/CgAPAA4ACgAKAAcAAwACAPv/9//0//b/+//6//X/7v/0/wMAEAAYABgAFQARAAoABgAHAAwADQAFAP3/9//4//z/+f/y/+3/9/8FAAYAAwAAAPz/9f/1////CQANAA4ADAAKAAQA/v8CAAsADQAOAAUA/v/8//v/AQD3//L//f8JAA8AGAAWAA4A/f/z//r//f/3//D/4//k/wQAFwAQAPj/7P/r//b//P/z//H/5P/o//f/7v/c/+j/7//q//7/9v/y//j/3//d/+H/xf/M//f/DQAXAPL/Nv80/7P/1v8ZABQA9v/h/y4AJQARAJX/4/5O/wIAIwCBAIwAdABOAEgAVABDAE8AAAAPAYf/I/2Q/pwAjwGSAf4AVADa/8n/zf8MAHv/w/72/40AoADTAFQAxP+S/83/LQCFADwAEgBWAGEAPwAZAPL/OAB+AE4ALQBAAFAAkQDHAJUANQDm/wMAQABJAAsA/f8/AEgAPwAaAAAA///8/wAA/P/n/8r/0//u/9f/xP/K/9v////q/97/2v/R/8j/7P8UACcAKgAMACAAIAAIAPn/+/8LAEwAlgCiAJv/SP91//X/YAA3ABwA3/+H/x//Ff9Q/6//zv++/4v/av9K/yT/Hv9Y/6z/AgArAPn/2//K/8T/tv+//wkAfwCfAF4AWABQACcAFwBBAJoAuQCmAGIAIwD6/wMAYwB/AJ0A3QDkAKMAQQALADIAtwAkAVkBYwEKAacAogDYADgBlgHGAZYBRAH1ANkA3QD5ACwBKQHfAHgAYwBgABsAof9I/yH/M/9H/0f/5P5S/gH+1f35/Tr+WP4X/tn9pf2n/cf9x/3P/fD9F/43/gv+tv2G/aj9R/6x/nr+MP4G/gn+//0Q/kb+cv51/kX+L/4j/jL+c/7K/vr+Of9j/3v/of/A/zUAuQD3ABYBYAHXASwCbgKsAv0CSQNkA5YD0QP0A1UEzgT8BNcE0QRbBdYFxwVRBVwFjQWQBVUFJAVDBXMFjwWCBWAFTAUYBQIF1gS3BHEE+wOtA1UDugLvAXkBqAGKAi4DDQOCAV/9SPe58nX0w/v4AHP9kfO564TqXe0G8R31EfgV9kXu9eY45wHvmvdF+8r5DfYu81fzx/Yi/GEBQATWAwgBE//RAAcFogckBzAG1QaFB0IGrgMWAn0BZgG5ASsCqAF4/5H8UvoM+uD7p/70/3r+0vuu+uL7j/5wAacDkgTLA64ClQPSBoIKiQy1DFEMTQwCDSoOdg+qEKYR4BEPEfcPqw8OED0Qkg/qDrIONA6xDIMKuAjCB+AHFgiBB1sGvgUpBCX8uO+g6hf2lwZ5BhLy190E3IfmSO7W8CH0QvSI6JjXhdSj5Zv6dADJ9oHq5eX06aXzF/+YB/4IKgNF+6z4cf8jDBoVHhMFCv4DzQXQCvAMJwy0C4MKZAZUARYAhwHV/l33LvOy93H+Iv0b85Tpoejj7874qfy3+XPz1e6D71P2HQF9CaYIhv+j+Cr9pAkBE2kT5A56C/kKvgwCEUIWlRiPFSoQYQ5+Ee4UFBRFEOMNsA6hDyoOkgsiCkcKIwpHCaEIjAhVB3wETAL9A6oISAj2+0Lr8uiK+7ENMwaD6jHZtuD170/0lvE18rHvgeGo02LaQvKqAQb6OOgx4B3mcPEy+0YBlAKb/oT4evY8/NsHhBHKEYMJUQLLA0sLKhBnDysNIgySCb4EKgKmBJMH5QRq/gb6APkU+BH2z/TD9Bz0mvJz8UnxLfIb9Of1g/ZD9+P5T/1l/sH9Mf+pA58HZggCCCsJvAuwDaUO5w+YEVUSbREwEKkQcRJWExcSSRDVD0MQyw95DjAOYw5lDQILvwm9CucLmQpkBwYFXwWvBhQHuQbkBuECova46ljvtARuENj+ut9l1VjmPfnf+tnyp+2d58zcftmT6HL9ywAk8EXgdeHl7n366/5n/mr8oPkW+ID6fAGzCcQN3gq6BMoCLwecDDsNCQshC+kMkgooBBUA+wGzBVoFjACv+mj2HPXK9nb5VPrp9znziO9F8J71e/uK/Pv4AfZ39zP8zABPAzYEbgR4BF0FNwiRDNkP1g/JDYANFhDZEm8TvBL6ErATzxLKEFwQ2BGqEpUQjA2ZDIkNTA1tC80JqwmBCacHZQVlBMQFvAceBxX+p/At7BX6ggtCB9bsI9mr4Cv0wvr08jDsTumb4kDcoeNn9Tr9SPGk4ezgyO3u+ID7Hvq0+bT5wfiy+YX+hwUtCtIJCAaKAz8FJQlxC0ILMwuhCy4JggOD/3YBBQbeBv4Bd/uB9rn0/fYm/CP/D/tc8u3s8+8m+Nv++v5l+b/z4/N6+kwC2gWABJ0BpgAkA2MIgg1pD5kNCws0CycOcBG6EgUS5BCWENAQ7hDSELcQbhB/D0cOBw4/DmcNDgsDCe4IFwqsCYMHzQXxBdkCIPn68Bv3AQdBCSz0NN0+33Xz6f1k9A7okOUn5uni0+Pd7ir4P/L841zgYetA99j4mPW69U75gvqS+RX7LgGuB74J6wZ2A/0DAAiUC2kMqwwBDRQLUgTq/lQB/AltDewFs/lt8zP2P/24AsoB1vne78Tsx/OB/gUD8P2/9F/wDfU2/18GKQbyADD9qv6tBCoLRQ7/DPoJ1wjVCtUOPBIEExQR+A4MD+wQAxI7EVsQLBAAELkOdw1bDXUNUAxpCuUJWwrgCRcI2gb1BO793/VL9yQEAQrm+hPkW+Co8Z/+Afj56U3lI+et5sbmte3f9CfxOubm4r/rJfbZ94z0xfMY93351vnh+jL/kAQOB2IFHgI3AvwFugoqDbANEAoVArL8CQP0D3gRqAI99DP2AAKxByYD6vs395v1h/e6/NAAZP8++ef0kPd3/5cERwKD/W39VgJEBkEHfweUCAAJOAkdC2UOGRDODjcN+Q2IEOIR+BB9DzsPkQ85D68OBw8CD0MN1woWCrcKBgp0CFoIewkRBT/6lPOb++kJvQjx8/zhOue++PP97PLq6K7oU+ls5v/nt/Au9VXt1uPe5W7wOfbR86rxo/S/+Kv4QfdH+Vr/dATdBLgBrP/RAQ0GYgkPChsJYwVHAUkBXgfLC2sHN/5w+qD+HAOyAv3+CfyA+iT6Mfsz/Tv+2vxx+jL6+/wzAJkA3v/wAJID4AShBFEFswfPCZ8KSAsCDHYMjQxcDSIPmhBQEKcOlg1bDg4QYhAtD9EN7wwADFQLQAvuCpQJrwhQCVYHav4G9sD5rgc0CyD64eU15uz2l//h9uvqc+i/6QfoWehb73/01O7e5HPk6O0n9b/z1/DX8kX31/cJ9mT3fP11A5kEMgEg/s//AwUKCR0IWgUEBIwEUQSABC0FkwSZAeD/bwF9Ao//SPxg/bIAyQAH/SH6yPq3/QwAggDc/mf9dP0RAOwD6QaYBhUEAAPUBb0KKQ2mDAcL1QoHDEUOARBeEAIPgQ2bDRUPFBDJDxsOzAwoDPMLcgtICpoJ9AlbCtgEivuS9+UAuQv2BXLxeuXb7lz9XP198WXquer/6f3nLeyo8+/ysejZ4hXpkvL881zwk/DU9PD2LfVD9cL56v/kAqwBZv43/RoAVQXiCOcI+AXaAUL/iwGiB6IKRAbh/m78bf+yAhwD/gFYAOr9qPs6/I7/SALAAVX/mP1M/mAA6QJiBbEGkQVPA3QDDQepC/AMLwsFCQgJFwu6DTgP9A5gDewLTgwjDmIP5g7/DLQLrwuXC6UKBAn7CHYKgQo0Ayr5iPcbAwYNOAQ+7+jlD/Fp/vT83fEg7OPr6OmX6KnuVvbl89voOeRb67LzB/QH8WDyT/a79gH0pvQ7+joAEwI1ADD+CP1U/fIA2QfjC2sHj/1j+SUAMQr5DEoGSP2h+S39qQMTCKsGoQCz+oX5Pf6iBJUGlwKD/er75/4gAyUGMAcOBkMD9AFpBMIJkg22DIgJMgghCjYNNw8jD04OnAy5C/cMew8IEKoNqwo0CqELrAuRCb0HsAiUCpgGkfwd9/v+OwvQCE72qOiS7qv76/2O9X/vMu4h6zPoJO369Rr2BuwI5d3pgfJw9Krx0PEJ9UT2WfSm9A35oP3p/hD+m/3h/Rr+Of8DA60GPQaJAcL9S/+KBLQHZAZVAv3+iP7FAPcDogUGBAIARP33/csB4gSkBDACcgDvAFkDCAaJB00H1gUtBcsGpwlkC+IKUQljCf8KpwyzDBUMkAsEDFsMugwpDcMMZQv6CR4KyQowCgIIvQdcCQkI6/9Q+F/7/AZLCl39C+0u6yT2ef3o+a/yku776lPoteuw9Oj3JvC75mnnxu809S30vfI+9Kj11fTb9GH4Uf0x/xD+9/wd/bb95/4SApsFygVAATn9KP5NAxoHZQZrAs3+m/3C/7gDHQaSBD0AI/0e/i4CQAVDBYACYgDVANcD5gYFCMgGPwVmBU0H4wktC+oK4AnVCQIL0wweDYoM4QtJDJoMsAy1DPUM+Qs/CkYJhwlsCXIIJAivCJUFrP2B+Ib9NQfkBm/5ruyS7Zr2fftA+O/y+u3z6GXn5+2m9vz25e2H5hTpw/Aw9VX1CPXa9Fr0XfSo9/D71/2N/Yf+SQD2/3P9Yf18AtkH2QeXArz9Vf2IAYsG+gjNBdj+Nfqx/OUDwwiCBtf/LfvW++AADwaDB3sESQBE/8UCVgdYCXYIwQYkBhgH/wj/CvULZgvtCmALNAw6DNMLLAwRDVkNgwyxC9wKVwqyCUEJ5Qh/CDMIeAfZA9v9lfr+/TkE5gNS+vXvJ+6a8zr5Tvkh9X3ugeh/59rtk/Wa9jbwtenR6ajuwPPA9rf3Pvb/85/zbvfl/Of/+/4q/eb8Z/4kAJsBkANrBFIDPwGdAI0B/wKhAwUEpAPVAbX/Vf9IAZwDCgR2AoQAgP9TAJUCDwU0Bj0FMQNnAjwErgdBClMKxAhWB1kHOgkjDDYOtg1tC8YJkAp/DIMNHg0WDDILPwo9CaEIgwg/CP0HpAdHBk0CCP25+tn9WAKuAWj61vGn7l/xTvax+KP2U/C36czntuzF8172y/JR7S7rd+2D8mH36fnM+Bn23/Ql9+P6jf7XAKgB0/8T/Wv8oP9JBNUG4gVYAh3/Rv4IARMFEQfxBLYAxf1V/k8BigSaBeMDqQCc/on/GAO6BgMIhga0A1EC7APuB00LqAtaCQ8Hsga9CMsLHw7pDWoLzgilCNEK/wxnDe4LvQnYBzoHowdZCDYINQchBVUCJv9G/W79K/83//T7mPa/8jfyFPTm9cb1W/NK7z7sf+wu8N/zPvSg8TrvSe+18Qz18PdR+a74Afda91z66v39/in+6/0K/+T/DQCpAN8BfAL1Ac0BUAJJAkYBBQFCApsDNgOWAZcAEQFUAnoDMQT4AxIDtwIqBIMGrQfvBtoFEwa2B3QJbQqBCq0JCgmbCaEL4wx6DLwKzgnbCbcKcgttCyIK0QcOBuIFDgeMB5UG0QObAIL9RPwM/av+Jf5E+gX1HPK58rf02vXt9IvyZ++C7SbuNPG889zzLvLs8Ffx/PKB9Qn4yvl3+ZX4ZvhT+i39Yf/U/yP/g/7R/kAA5QEmA+EC6wFuAQIC+AJyAwcDaAJYAssCeQOJAwoDsQIYA+oDrgQsBZMF0QW/BSgGOAdKCLIIsgi/CEEJgwm7CT4KCAtHC+YKKwrYCfQJ8wnwCZwJzAiQB1EGdQU1BdAEMARWAwoCAQBP/V/7UvtY/Mb79fhy9bzzvvMH9C/0N/Q38/XwOO/e70PyrPNl8/byRPPN86P0OPZX+JL5lvnO+e/6T/xa/Sn+Cv+l/8b/KQA9ATACRwLdAdABoAJeA28DGwPRApgCuAJRAzUEYgShAygD3AM4BSsGZAZDBlIGqQaFB4YI/wjjCK8I6gi2CWEKdArmCUAJGwmFCcoJnQn0CPEH+AZeBlcGXQa3BVQE+wLsAR8BlABIAHH/Pf13+j35sPnO+Tz47vVk9Jrz4fKy8lHzVfPm8TXwVvDw8fry9PIy8wD0p/Qn9U32VvjV+Tb6jfrJ+3P9q/54/2kAbgH1AWMCSwNnBAUFBgUZBaQF+gXZBcQF+AULBtQFtgUOBkUGEgb8BUUGaQYtBgYGaAYpB0sHAwfIBsgG6QYGB10HuAeqB/sGggZVBmwGMQbGBXoFFgVBBHkDLAMHA5kCnwGoANT/Pv+5/kj+Tv3G+0L6gvlt+SP5KPj99tP18PSp9MT07/SK9M3zdfPU82T0zfQR9V715PVx9lL3avhk+f35Tvru+jX8u/3g/nj/0f9YADUBVwKYA3MEogSfBPkEuQWRBgcHGAf3BsoG8QZuB/UHJAjEBxMH4QYbB2IHXwcrB/MGoQYhBgcGVQZ0BjQGtgV0BVQFBQWYBHwELASIA+QCnwKhAiUCPAGCADoA8/+Z//z+WP7Q/XL9Sv3//G/89vt4+/X60/qv+ln63vk4+bz4kPiC+FX43fdz9073B/e09sz2LPeA94X3Zfe592b4Gvno+bD6V/v3+8X81v0D/+3/yAC9AZcCaAMuBOIEnwUxBp8GHAd5B60H3gf/BxQIAQipB2EHOAcgB9YGVAavBYMF+ASXBIsEWgTiA00DswKuAvICmgI7AtgBqwFnARYBMAFBAdgARQDN/7b/5/+Y//v+xP6g/hP+2f3Y/cH9Zf0I/QX9y/yh/Ln8pPxt/Dv8H/wA/Nb77/v0+6L7dPuD+zr75Pri+gH78vrI+rj6r/qg+q76Gvua+wD8VvyT/O/8l/0//vb+h/8VAM8ARgG0AXsCRgOqA+QDOASoBBwFbQWWBZYFYwWNBWIFQgU0BdwEEQXeBAUEhAORA0QDMgMtAw4DYQJeASMBLAFYAUoBWwGYAIL/Uv9PAJIA1/+j/+T/Wf/h/jL/mv9y/6L+yf4m/zv/fv82/wz//f6o/sv+Bf+N//f/FP9G/s/+iP8V/8T+MP/T/lz+rv6h/hH+x/2n/Zf9rf3U/b/9K/3o/Nz89Pyp/Qr+p/00/av9O/5N/ov+Dv9L/1j/hf8HAPUAigECAdkAgAFwAQ8CnAIZA7gCwAHzAn4CpAG0A8ACEgIhA58BXgE7AukBzQDhAAwC6gHl/3sAtQFH/3b/1gHQ/1f/iQE1APX+kv/jAMgA+v4pAPgAFf+y/yEBPwAg//T/tQCu/7f/sv+C/7wAjf8V/qn/JQB7/yL/sv7u/0MATv4Z/yEAXv4i/7r+UP7////9If4DAKj9uf5d/8r8gP+I/1b9h/9S/uv97f95/sf+Ff+z/v//DwBD//b+GwD7/3P/FQFKAWUALP9pAEIB8f+VAeQBAgC9ADsB1QAzAWwB4QCKAAoC9QCd/5sAkwLWAVz/LwG+AT0AEADiAAYBCwACAP7/FQF9ALL/ZwAeANUA8/5jAJEBgv4kAY0B0v6yAFcAYP5rAfwBev9pAMv/5f8FAPX+SQCu/57+SQGE/kX9QAG5/kz9mP83AIn+Vv+hAFP/1/10/v////9b/8UBdQGo/lf/Bf/rANUAWf+MAv0Aef5KAZgAM/2u/50C0P+X/2wByQCD/cL+fgEZ/coATAJB/VcALABo/0T/+f5TAJH/EABMAX8BgP8X/6b+twCC/zMAxABEAO8CTP9w/rABq/6A/HgCBQN0/x0ASAEP/W/+AATv/Zf+eQK1/oYCswC4/nj/L//H/2UARgKaAUH/EgDM/zj++f8Z/z8AZwGWAJL/Xv/t/x79w/+o//7/CwHY/SMC0wCa/bD9BQBUAq3+QwDeAuv+oACQALf9rwBuACsAzP9tAfD/2gEDAMX6KwPy/yP8uQNUAYv/c//i/i0AOf1O/34CIAEFAFv/2QBu/h4BrgE0/Kv/OALgAjUA2/5IAef9Zv1HAloAKv5rA+MB1vze/mIAA/6u/k4BhAIZAN/+jwKz/xj7hgGrAHL/pAHkAB4CFv83/h4B/vy2/14DoP8LAjb/Tv4XAKj99QH0/qn7oQWo/13+sAMc/Bz9bADQ/4oCJQFEACD/FP8MAVgACf7C/RgDRgIK/V4BZAE7/LT/iwH8+xgBiAPE/Y8A7P+EAbf9Wv3fAbEBEf5NAVwEBv2c/qgCcf5TAIgBev64/x0EPwMA/Jb9mwG2/x7/CAG/AcQAlf7S/7P/xP4D/5sB0f/J/6IB+QEX/gb7jAO9ANj9IAKSAcP/QgFxAOn7uv4hBDr/qf9aAoD+cAG3AC/+/P5d/s4Az/9yAAIEmvtm/38B1PywACIBJf+7/54A8wG//tj9kwBs/9r/mgBzAZL94wE4Axv8Fv2hAPH/IwGaAcj/ygBj/U7+FgKS/7r+u/5kA+3/Av4GBqH9bfvI/2oD6QIK/AMD9gOJ+FgBcQRP/ID/DgDyAnH9cwGsAt35LwFtAWf+DgCEAeX+CgBbAZ7/K/7i/1QA5v70AT//1QPa/nv9+gFy/0z/rwCc/qYBFQCz/7cCW/v2/qcCy/zjAJMBfgDL/9T9vgHo/lH+ugBBA9b9BQBlAoj98f/PAbn8FQI8AjT9nAHsACIAe/1DANMA0gDd/O0BoQD//rcB6P2X/k8BFP83/v0CiwIP/vb+aQCN/l4AuwHE/yr/wAIiAbD8rgCYAu771ACyAh//ZABaAOcA9Pvl/0gDkP1Z/4QCof5sAPcAxf0I/nYBdQOP/df/2gLx/z3+k/7wAgcAofz9AggBO//f/xUAawCX/fz+rgMc/nD/FAKO/w3+qP+CAmL99f3iAwYBgf0QAaACI/35/jwB/wAlANwA7/2E/90E7/w8/BYBkP9VA1wAF/vZAfICp/yl/sMB7/8JALcBtv5YApT90/yGAv3/ywI+/g7/8gDV/ZgBIQGL+qABjgVd/noAZ/xu/2kBvf0iBpn7VP6HBKb93QD4/cAAt/+A/lUDlwCQ/rz+gQGaAN38HwE5Auz9/v9sAqD+ev+e/38Ba/7B/gYCe/8MABkBdv4GBH384vu4Bf39CAEgA+j+xABD/CsAHQG5/t0D+/6uAH4BG/7N/e//FwM2ANb8LAL+AJr/8gGM/GEAuACLAPoAuf9RAmP+Jv2TA2X+pf5CAXH/ygEmAWz+Jf2L/6IDYf/c/WsAQgEO/9v+9wMN/hz9dADpAe4A//6j/70BAf8zAVb/Af01/+cBWAOl/RgAiP/r/dr/ZgDJ/wwBcP9KAa8AJ/33/3ACD/2ZAiUC2/srAsUB7P0x/kkCDfy//wEGJf4kACL+uv1hAyv/uP+v/+b+tAKt/toAq/68+3UDNP/QAFADcPuuATEAuvtMBfv+0P+L/sT+egUg+wgC4//1/N0D5PvTARECfPxPAdb/dP6dAJL+a/5AAvIAYwG1/0b+rv2XAGID2v2dAagBw/08AD4Au/+y/aYBN/+f/1QDK/4q/sQDJf5R/YgBfACoApr/2v/4/8v8xgEXAej+CQKB/1r/8wKW/Hz/GgMt/n4A1gDI//YBuP/g/aYAxP7KAR//Vf9sA2X8tf8YA1b/5P/r/kz+6wMBA5P8uf5nAGwBwPwDA5cDT/tdASX/QQJG/gYBHAP5+EIDRATD+goBHAPs/h7+XwKf/xv+YgHDAKn/9gBy/07+d/9kAKP+vwF4AUP+9wCVAbT/hf03AMsBcP8jAW790vuIAvMAKvzl/5YDhv9j/5UApf44/lMBKgJsALUA+f+6/iT8rgKWAXj9AAKd/rUB8v6f/LYDUf2L/pcC/wOeAWb6/QFR//f+BwXl/MUCDQF5/FkBVP2xAhEBCv1HA43+OP2NAxH/QAFq/Sz/CQPS/BsBsP9dAYf/eP6RAg/+ff5nAvX/nf8wAOP9wQKT/1f9OgMLAE/8pgDvApj//fzbAYYAP/1rAlQAk/1iBJkAa/x7/iMCgwSN/Sf7gAFPAOT/yAJM/EgAfAKc/JgC+f/m/hT/XADsBTz82vu0BRP/7PySAuD9ugGK/1X+/QLW+YgBcwQh+OkEcgKe+04Bi/yiATX/pvz9BqX+A/3zAvX+sQHM/uL9TgD8AO0Bkv86/tT+tQH7/GUAVwXB/Tv9swF8BHf9pf7sAAz/nAKc/pz/qANQ/xT+rv8Z/koEHwGH+tP/DwNgAMz+s/9/AAEAZv4DAlkBZf5MAOr+yAL0AnD6B/4/A1YCsf1s/T4EEwCl/WwCg/85A38AkP3rA1/+5v9/AWH9KgW3/vn7sALN/NQEvgA8+uYDxQIf/bT+FQWF/zv8of/iAJgBqv0q/tcBvv+TAMf9Lv7fA1P+Rf9LAjj//gEg/5L9xwC7AD4BAwAMAGcBzfzl/m4BFAJ//+j8SAGc/ioBmAHF/fP/d/21AOkE6f4z/eYAAP+L/8wAjf0M/oMAigL5AOj8WQF7ADb+6wHYANb9/AHl/zb9sgKUAZ77HP8MAuT9OAI0AbD+xv8vAQ3/Zv7K/xj/nQJgAVX9ZgQ2/pn9DAF8+9AETQPJ+4cAWQADAcX+Nf4TA5L+3P74AmkBhgJ//Vz7cwIgAaf9OAGNAPH9MQKcAM7+FAAPAUX/v/1WBh4CzfumAaz/6P73AlL7YQL7Arv+WQOq/er/MAHG/On/kgFoATL9cgAQBtP9wPve/00AH/6B/lgGCQC7/Kv++/7mAsD45f8MBxj7GQOVA/35UgBQAAQA8P3B/vwFpP76/MAETf4e/hoBAfxRATIBz/v+BL0ASv4rAc/3jgIABaz8QAMMAI/+zgBS/vwCm/uh/HQDOP5gAlwBqQD9/2H8m/9bAFb/bAKuAyj8FP0QBc7+Y/6dAW79JgCpAfQCzwPh/dH7HgAX/4cCzwFj/X8BFwIfAw8Anfx4/+sAr/32Ac8CNAGz/6D9JgBy/wsBrQGm/33/IAEOBaIBkPlA/ucBdP3BAxsCXf6GATj+zgCeAPn8UwA//2v/lQMdBGj9UfxF/tz7ZQB7An8AbP/Q/jcDnQDo/NoA9P1g/TYDYwPLABsApfyW/IMCjwAz/XH9CAEBBYcAYv/u/bL7Cv+/AiwAtP9u/2EBcAHE/fj+tv0k/0UDKf8fAdoBt/2I/oj/o//7/QUCYALP/en+1QHJ/vP8rwEV//f9TgLTATr/cQC+/UX/WgQq/mL93QSAAw/9ggDsAEP9wgBlAHgAlQTVANj+bgC4/6IBP/+b/RUAbv4KAiv/Vfy3BCIBGfwn/fsAuQIOADr/SwGzAEL/OQGvACEBSQPd/hEBnQK//u4BRv9TACn/7f22Ahz9QP6cA9z+T/06AUr/8f1s/hcAhwAq/SABnwNm/nT+//+LAFoAbf4cARAChwBQ/yv/lf/l/xD/Ev07AXgBYvuf/aoBngDk/RL/AQAc/nX++gCaAZL+tv+RAFb90v7rAxoB4f0u/58BKgHN/egDCwPg+5EAhgF4ABQCLQCA/xYAIQAJAfv/hf3+ANYCaf8X/kb/ogFLAET/lgFOAC7/jQHwAQQAl/9aATcBWP/J/wQD4P+l/gYBWv8fAH4Bdv8M/x8A3//V/13/6f6E//f/0P9P/ykAFAAK/iEA6AI7AIn9kgCAANkANgT2/s3+HQKA/53/JgDCAgsBrvz5AEgBQPxR//b/jv4OARj/IP5ZAPn/MwDb/Qv/FgDq/kMAbQGVAX7/FP9iAIUAeQCX/y7+7gFPAKb/AgHi/dT9Gv52APwAOv99/hv/nQCE/xUA8/8K/dL/iAIuAUf/Uv+vAVoA4P4YAtwB7P2b/98BKgEl/n3+zQGgAPv+CgG0AK//zwBgAZUAX/89AF4Byf9K/8EBAQElAFgAWQGNAUn//wAAAsn+u/7bANoAnQA7AOf/7v8gAK7/Y/+//2sBpAAw/3z/TwDKAK/++P/bAaf/jf/OAEAAS/+r/xEAsP5v/sUAi//M/oYAOf9O/m3+If+g/4b+HQCNAT0AUv4X/9UA5P5v/z0BSgDH/88AWgDZ/tf/XQBN/z3/ygC5AVL/1/6m/z7+Jf57/3gAhwBTACwAqv+a//3/Lf/Q/8YAvgCoAOQANgGDAEP/sP+iANP/pv8sABYAggBxAJ//tv4K/4H/hP9AAFcAtwDf/77+d/8iAOT/0f8DAPr/SQAqAMn/BwDk/6f/UwAhAYcAj//T//D/MQCGACsAQQBuAE8A9P+6/0EAYADv/4//QADKAFYAWwAvAAsA8f+//0sAnABfAOj/JwBTAO3/x//o/ysAfACrACgAk/+B/+j/tv+Q/87/DAAxADsAPACy/5z/8/8EAPD/HwAzAEkA1P9s/5T/tv/V/xgACwDD/+b/p/9Q/4n/wf/L/9z/CgBAAAQA3v///9j/b/+E//D/HgBTAGcADACZ/2v/Wf98/+f/PABUACIACADY/4D/NP9N/8X/NwBeAD4A5P++/7v/fv+E/8z/7v8uADwAJgD7/3v/RP9M/6L/QQCOAIcAXgAJAK3/gv/Z//n/6/8sAHEASwAQAPf/rv+i/63/8P83AFQAXAAnAOP/ov+z/+n/DQBVAGsAMAD7//j/2//p//7/GgBMADIAIgAbAOX/0f/u/ycAOwAxADQAQgASAPn/+/8JAAwAIgBlAF0ADwDl/7D/k//R//7/QABYABwA5//J/7H/o/+2//z/MgBAACwAEADo/7z/hP+k/xQASgBoADQA5v+h/3f/gP+S/8b/6/8FAD0AMQDZ/6D/pv/O/9r/4P8IADcAFQDw/93/sv/b/9v/2v8FABQAHAAJAN7/yP/g/9v/6/8YAC8AMAA4ACIABwACABIABwD+/woAIAAiABcANQAmAOP/9f8UAAsAIQA7AEcANwAlAA8AAAD+//f/AAAZACcAHgAaAAsACgAQAPP/5f8FAAkA//8IABAABgD7//7/BgAKAAcABgAPACsAJAD+/+3/7P/6/wMABQAPAAkACgAKAAgAHQAbAAIA9/8AAAoAEgAOAAwACwAbABMA8//9//z/9v/8/wkAEwABAOj/6P/l/9r/5v/x/wMAGgARAAUA6v/w//b/9v8GAAwAFQAeABoACQD//+D/3v/h/+//9//p////BQAPAAUA7v/o/+n/8v8DAAMAAwAIAAMA+P/2//n///8EABMAGwARAPz/4f/o/+7///8MABoAIAAjAB0ACgD0//j/CgADAAAADQAZABMADgAIAAwAFQAGAPz/EgAmACkAGAAPAA4AEgAMAPj/BAAaABgACQARABYACQAIAAgACgALAAsAFwAfABUACAD1//T/BgAUAAgAAgAPABAACAALABIA9//t//v/CgARAAsAAwD6//n/BgAAAPr//f8DAP3/AwAUAA0AAQD7/wMACwAJAAwACAAHAAEA+f/9//f/9//8////AgAJAA0ABgAEAAEABQD+/wAADAAdAA4A/v/6//z//P8GAAkA/f8CAA8ACAAHAAIA/f/9/wgADgALABEAFgAQAAwAFAAKAPz/+//8//v/AwAMAPz/+v8JAAIAAAACAAAA/v8AAAMAAwABAAgABwAQABwAGgALAAoAEgAGAPv/DQAMAAgABwACAP3/+P/7//7///8JAA0ABgAIAAcABwADAP3/CQANAAwADgAUABoADwAFAAQA+v/2/+3/8f8EAAsABgACAAMABwAQABIACwAGAAUAAAD+/wMABgD9/wEACgARAA8ACAAEAAMA/v8DAAUABQADAAAA/v8BAA4AEgAQAAkACAARAAkACQANABIABwAGAAQACwARAA4AEgAXACUAHgAFAPj/+//9//z//v/9//7////5//H/7P/z//v/9//w//X//f/6//3/AAD8//3/BQASABMAAwAAAP//AQAFAP//+/8BAAYABwAKAAcA/f///wAA/v8FAAEABQAGAA8AEAAJAAYADAAMAAYA+//+/wkADAAIAAkADQAHAAUABQAJAAwA/f/7////AwAMAAkA9//t//n/BgAKABIAEQAJAAgACAAJAAcABAD+/wIADQAQAAsABwAEAPz//P/9//n/+f/4//n/+/8DAA4ADgADAAQACwAIAAkABwAAAPv/9f/2//z///8FAAYABwADAP///P/8//7/+f/5//X/+/8KAAoABwALABEADAABAAEACAAIAP//AAD6//f/BgAFAP3//v8DAAAA+P8DAAYA/v/3//j/AwAJABIADgAEAAYABAADAAIA/f8CAAQAAQD//wYABQD//wQADgAUABEACAADAAEABAAHAAYAAAD6//T/9v/9//z/9f/2/wAABgAAAPz//P/4//z/BQAHAAcABwAPABIACQAEAAEAAwADAAsADAAEAP//AAAEAAMAAAAAAAoABwAAAP///P8CAAUACQAMAAsADQAMAAsABQD+//j/8v/3//7//v8DAAUABgAHAAsACQAAAAAAAAD5//r/AAAAAP3//f8EAAQABQAGAAIABAAGAAcAAgD///r/+f8FAAwABgAHAAYAAwACAAsABgD4//n/AAD8//f//P/9//7/+//7/wAABAAFAAQAAAD//wQACQAOAA0ADAAQAA8ACwAKAA0ABAD7/wIA///7//3/AAADAAEA/v///wMADAARAAkAAwD//wcAEQAKAAoABgAQABMACwAFAAMA+//8/wQAAQADAP7/AQABAAMABgAAAPz//f/4//P/7v/z////BAAHAAQABQAKABAAEQARAA8ACQD7//j/9//5//j/+P8BAAoADwAVAA8ABgAGAAUADAAMAAQAAgD8//b/+P/6//v//P/9//z/AAAAAP7//f8CAAQAAQD9//r//P8BAAYADQAIAP7/AQACAP//+v/4//v//v8GAAcAAAAAAAEAAAD6//f//P8LAAgA//8EAAcABQAAAP7/AAACAAQACAABAPz/AgAFAAAA+/8AAP3/+v/9//z/+f/z//r/BgALAAkAAQABAAMA+v/4//n/8//u/+//9P/y//L/+P/0//P/9f/6//r/9v/7/wQACwAMAAcA/f8BAAIAAwAAAAAABgALAAkABQAFAAMABAAAAP3/+v/2//z/AQD///T/9//5////AgAEAP//9v/3//7/BAD7//n/+//9/wEA/f/5//v/+P/2//P/7//r/+3/8f/w/+j/4v/o//T//f8BAAIAAAADAAUABwANAA0ACQD8//T/+v8FAAkAAQACAAEAAQD//////f/7//7/AAAJAA8ADQANAAkAAQAAAPr/+//7//r/9//p/+z/+/8BAP//BQAKAAkABgD///3/+f/+//7/+P/0//b/+v/8/wMABgAIAAkABQD///z/BQANABAACAD+//r/9//4//7/AgAGAAIA/v8BAP7/9//0//n/AQAAAAYABAD8//j/9v/+//b/9P/v//D/9v/3//v/AQAGAAIABAD8//f///8HAAMA+//4//T/9f/5/wIAAgACAAQABwAKAAEA+v/2//X//v8FAA4AEAAOAA4ACAADAAIAAwAFAAgACwAHAAIAAAD8/wEABAD9//n///8FAAkACwAKAAUA/P/7/wUADgAQAAQA/f/1/+//7v/v//H/9v/3/+3/7v///wwACgACAPv/+P///wUADAAKAAQABQADAAMAAgADAAIA/f/1//L/8//u/+//8f/8/wcABQAHAAkACAAIAAIA+v/8//r/8P/w//j/AgD7//P/8//0//b/8v/3//j/+v/9/wIA/v///wQAAQD8//j//v8BAAEA///4//j/+//7//j/7P/m/+n/8//5//7/+P/8/wAAAwACAPz//P/+/wUABwAJAP7/8//t/+//+v/6//z/AQABAPf/7f/w//T//f8DAAMAAQABAP3/AQAHAAQAAgABAP7/+P/5/wMACwAKAAkABAACAA0AFAANAAcABgAOABMADwAIAAMA+P/2///////2/+7/+f/3//b/9//3//v/+/8IAA8ADgADAAkAEQAQAAoAEAAVAAcA+v/3//f/8f/w//D/7P/t//j/AwAIAAoABgD3/+//9v8HAAoABwD///f/9//6/wIAAAD6//n/BAAAAP7/AgACAP3/+/8AAAMAAwADAAoABgD6//D/6f/q/+3/+P/+/wEAAAAAAAAAAAAIAAsAAwD2//T/+f/8/wAABAD+//n/+v8CAAIA9//t/+f/6P/w//T/8//w//r/AwALAAwADwANAAQACgAHAAQAAAAGAAYA+//5//3/+v/2////DgAPAAYABgD9//b/+P/9//r/8//w//f//P8GAAwABwD8//T/+P/7/wUAEQAVABUAEAAPAA4AAwACAAYAEAAOAAkABgD///f/9f/5//b//f/+/wUADgANAA8ABQAJAAsADQAOABEADgAEAAcAEQAXAAwA///1//X/+P8CAAcA/P/p/+r/+/8HAAoACgAEAAMABwABAAAA/P////r//v8IAAsAAQD8//3/AwAAAPv/+v/3//n//f8IAP//7//l/+j/8P/2//7/AAD+//T/9v/9//f/9v/0/+z/5P/t//3/AgD9//H/6v/i/+3/9P/0/+7/9v/3//b///8JAAsA//8EAAkABQD+/wAAEgAOAAUA/f8DAP//AwAOAA0AAQD2/wsAEwANAAMAAAD5//L/BQAXACIAGQASAAcA/f8KABcAHAATAAUAAAD6//3/BgATAAcABAAKABMAEwAbACIAEwAAAPT/9//7////BAAGAP////8CAAgAAwD//wEA/f/5//r/AwAKAP///v/7//P/+P8FABAABgDy/9//2//h//f/BwAIAP3/+v/+/wIADwAYAA0A9//v/+v/7//4/wYABQDw/+P/7f/1//b//v8FAPz/7f/e/+D/6P/s//n//P/y/+f/+f8MABIACgD+/+7/7v/6/woAEQD+//L/6v/w/wAACgAOAPf/5//1//P//f8JAB8ADwD0//j/DwAaABoAGwAUAAEA9/8EAAsADQASAAwA/f/o//H///////X/+v/1/97/2//r//j/8P/+////6//j//r/EAD///L/9f/9/+L/3v/x//H/2v/M/9L/zv/R/9b/3//R/9L/6v/c/9j/3//+//L/4//g/+r/1//R/+n/7f/g/8P/yv/G/9X/AwAdAA0A8v/2/wUABwAVADcAQwAeAAkAEgAmAD8AVgBpADcADgARADUATwBfAHYAWwA2AB8AQwBzAJwAsgCKAFEAKgBbAIQAngCtAKkAcwAmADcAgwDIALYAlwBYABgAIwB/AM0AtwB2AEEAIQA1AHkArgCeAE0AFwAbACIATABdAE8AHADk/+L/2P/N/+L/0v+j/23/Vf9s/2j/bv+H/3f/Uv81/07/cv9s/2n/Yv9I/z3/TP93/4X/g/9z/3b/Wv9U/3//nP+m/4D/Yf9X/3D/kv+8/7n/qf+S/4//tf/d/wYAEgD2/93/7v8LADcARABJAE4ARQBaAIkAoQDLAOoADwEnATUBZgG1AfgBLgJhAm8CiQKoAgUDbgORA3cDZwNrA6QDxAPKA5gDLwP7AhADHwMUA7QCXAL3AakBhwGGAXIBJwHKAEEA/f/H/73/pv9l/+v+Uv63/Yn9t/27/Wv9xPw2/M37o/ut+737oPs5+6v6Q/o9+mf6qfqp+mb6Hfra+dn5EfpE+l/6Uvoh+vX54fn5+WL6ufrR+r76lfq8+gv7fvv9+1z8nPzY/CH9nv1N/vn+nf///3YA7wBaAe8BlwI9A8gDBgQoBGsE2AR+BSIGUAZPBjMGYgbhBlUH2AfZB4cHGwckB3IH1AcBCMcHZwejBm8GlAYJBygHogaxBd8EcwSkBAEFuQQ7BPwCNQLyAS0CVALrAScBZwDT/03/Hf/y/sr+If5u/df8SPyc+xv7yvrC+pX65vno+Mz3RveB9/f3IPjH99b28PUy9Uv1mvYP+Pv3SPZ09Dz0AvY0+Gb5O/lR+MH3Dvgp+Uv6A/u0+3H8OP3x/Tb+O/7f/iUAXwEtAo8ClQKHAhUDfgQHBukG0gZfBjgG9AYRCDIJ3QnhCe0J0wkQCoAKAws9CzMLFAtGC2gLawtEC/UKwArSCroKbwqhCfoIfgghCLIHaQcOBz8GFQXhA4QD8QKoAjICsAHtANr/7v4+/vL9Xf0K/Wj88vsC++D57PhT+F74RPjF98b2p/WO9Bn0SPSS9Kn07vMv83HyDvJI8i/zFPSP9Cb0ofOF8wP0J/V09mb39/f59/73cvhe+bb69fvB/AD9Df07/Q3+BP8rADcB1AE6AlcCnAI8Ax8EMAUkBrIG6wb/BjsHCwj5CMIJNApMCjUKPApjCh0LAAxDDPoLPAsEC6QLFwwXDHQL4wr2Cg8L1wpKCnEJyQg2CNAHXwcKBxYGNQUUBFsDHAOtAu0BpgCi/2//Jv+c/hL+Hf2d/BP8hvtX+5D6nPnA+CX46vf+95X33vZ39Rn0XvNj883zLvRx803yJfHv8ILxOfLR8gLzrPJb8mTyO/Oc9Kv1bfYx96X3aPj/+HL5a/r3+1H91/39/XD+aP8UAMkAhAGTAmEDeQNZA78DwgTmBbwGNge2Bw8IJwhmCP4IFgq1ChoLVAuvC/0LHgw/DHIM7AwlDUoNMA3iDKkMJAz+C/sLKgzUC+gKnwnMCIQIjQhNCJQHWgYEBSYE0QO3A18D1AGyAOT/UAAYAFn/6v0s/cT8v/wx/Ib7jfrO+Sv57fho+Nf3APeK9in2wfXl9AT0evOl8/nz8vNr85ryC/Io8qvya/ME9Bz0IvT882n0SfVl9lP3Gfh2+P74e/lV+n37c/wo/dz9rP5m/xwAdgDXALIBrgKqA3QEIgWBBaoFHwbJBs0HswhiCc8JQApjCtYKOAuaC7kLtAulC58LrQuXCzwLhAodCskJdwnTCOIHGAdEBlAFpwQuBGIDdAJ2AbwA+//D/mD9BP2B/V7+a/5w/fP8ff1V/oL+U/4//mD+ev4B/+f+lP/0/rX+yP7g/uX+8/5B/sL9Gf5v/gT+R/0G/fr84Pxw/NH7GPuj+rf6tfpn+qz5RfnJ+Iz4mfi5+FL4wfc991D3vPcn+ID4UfjK9333vvdp+D/5w/n/+Qr6dfpH+xT82fyZ/Rb+e/7x/sb/wAB0Ad8BbAIAA58DNgS6BA4FcAWsBRAGXgbJBjAHZAeaB8AHBghGCFcIVQhnCGgIpAjWCNIIsQiICHkIhwifCKkIWAgNCNcH0AfDB38HIQerBjsGywWYBRwFAAVoBBQEhAMcA4ECGwK2AVoBOAGZAFkAsf+Z/zH/+v5//hj+lv0L/Zj8yPsx+yX62/kP+X34t/dI98f2a/bi9Wj1YvVW9V31ZfVd9Wr1k/Wx9T72svYn93P32Pdj+CD5pvlT+rr6H/uc+zL8t/w3/VD9a/1y/c/9Kf5j/nP+s/73/mn//f9TAIYAoQDnAIsBOgLBAhwDJANmA/YDlQQSBUkFYQXGBTMG1QZOB0oHGAc9B48H+AcMCLsHeAdTB14HeAdhByUHDAfhBtsGyAayBqYGiAaIBncGWAYjBvkFhwVkBeMEnQRvBBQE3gNZAxIDwgK5AkwCLwJbAQoBhgBZAAsAqf/q/n3+KP6n/cn8RfsV+nT5Jfnx+Dv4C/fB9dH02fRC9Wf12/QT9HTzxvNo9CP1Y/Um9ej0IvUL9ln3bvja+N/4HPnV+TL7Svze/Kj8SvxT/Ab94f1+/mb+7/2+/Uj+Pf8rAIAARgAWAFQAMAEXArsC0wLGAuQCbQMpBLQEEQUjBWIF1wV7Bh4HcAdyB18HdgfABy0ITghOCBsI9Af5BxEIEgjkB5kHagd9B3kHdQcnB9EGjwafBooGUwb6BZAFXwUeBQgFlgQYBJADYgNIAyADvAIhAq8BYAGGAWkB9QASADn/3v7d/uP+Gf5u/Ir6Zvlj+bf5xfl3+Nb2HfXM9Df1RPZH9mr1BPQ488vzE/UU9u31JPVs9Oz0Y/Yo+ET5JPmf+K34zPmq+/L8RP2n/DX8Pfww/RL+pf43/oz9Tv27/eH+s/8QANv/o//D/44AgwFRAqgCjwKnAgQDpwNVBNUENAWHBckFPQbRBlkHqgerB5cHpgfVByUIaAhzCE8IBQi9B6UHqAe+B7sHpweCB1gHQQcxBzAHDQfxBpIGcgZOBjoGDwaiBUEFrARxBBwERATyA68D9wKDAl4CZQJqAtABFAHk/3r/S/+X/0H/3/3n+/r5Y/mw+Vz6v/kg+NT1S/Rt9GD1nPYM9q70xvKn8rTzrfVG9pv1J/SI86L0zvbh+LT5FPlI+Jv4NPpt/Mb9vv3f/En8gvyx/Yv+1/45/nn9bP0s/j3/2v/f/43/jP/P/4oAYQH6AVMCWwJxArcCPwPfA5UEIQWCBbwF7QVrBgQHgQexB6EHlgevB/IHSwiDCEMIxAdQBzUHXQeAB4IHMAfrBrAG2Qb3BhMHxQZfBg0GzgXdBa4FjQUOBdIEPQQfBNgDugOhA2YDPwPGAmgCAQI+AioCBAI5AToApv+M/8j/tP9g/iz8APpl+fj59voj+j34kvVJ9JD0sfXG9gf2S/Qs8jzyrvMX9nX2YvWn8z3z0PRn93f5Afr/+Ar4k/i++gz9KP5o/VT88/vK/Cf+3f6O/n/9tPzp/B/+JP96/xb/0P4d/8X/fQANAXMB3wFBAq0CDgNIA4ADGATTBG0FqAWdBdMFYAYcB5gHkAc5BwgHPgfcB2kIbgjWBzcH/gY+B38HfgcvB8sGtgbNBv0G2QZlBhgG6wVIBj8GPQZzBSIFnQSyBI8EWwT4A08DRAPqAkUDtwK6AhACAgJnARcBhQArABEAzP9i/8D93vvi+Yz54fl9+l75ePcO9Rz0ZfSk9Vr2nfXW8y7ymvJQ9Hn2nPZr9cXzvfNq9Q/4BvpK+l/5cfgR+Rn7a/2O/gn+4vxG/Oz8Uf57/2H/PP72/Lb8tf0a/9v/q//j/nb+qv6B/4AAWQHLAegBAwIvAsgCjQNoBN4E5wTDBBAF+AUjB98HywdFB90GDQfOB5AI3Qh0CKMHHQc6B68H6gd0B5cGBAYYBscGTgcPBxAGIgXHBGYF7AURBnUFugQsBDwEiASOBD0EaQNIA0IDxQNjAwEDPAJaAjUCKgJ0AaEAKwAZAHEA9v8j/jP7Yvl4+QL7hvvK+ef2SvS686j0LvaD9jL10vKr8dbyTPXa9gz2OvRP81v0y/YF+eL5Rfk6+GP4LPp5/KL9Vv1j/Hz8aP3D/lL/8v7F/Qr9LP1n/l//Sf95/vb9Zf5T/x8ASgB0AKEAfQFdAhwDNwMlA2IDSQRRBdMF2QXOBVYGJwfvB0QIFgipB4kHBgjMCB4JpAjXB1MHRQeHB5wHRAelBhUGEgZ0BsgGcAbjBX8FqgUEBhoG3QVTBdYEiAS8BP4EFwWABL8DbANgA84D2APDAyEDVgKOAX4BjAGTATkBUgAB/7T8uPoU+gz7pPt7+o73NPVb9A31HPa99gD2NvQw8lHygfTt9jX3bfW48+3zyvUx+OD54vm7+Hb31fcT+mD8+Pz8++n64PqE+wb8bvxX/KL78vro+uz7+fxP/Sv9bf0s/jb/6P+WAHIBXAJhAzkEzgQaBXUFHwY1B7AHgQcWBzkHIggMCSYJeAiIBwYHXgcICEAIiQdABmUFjAVGBrEGMgYaBTkEJwT+BPkFZAbUBSQFyARtBR8GpQZpBhsGuAWlBaQFrQWRBSoF2gSgBJ0EMQTHAzcDVAM9AxMDDQItATcATgCUAOMAsv/j/An6BPm/+jH8pvsj+Aj1TvM99M71HPeX9hr0gPED8aHzdPYc97v0jfJg8ov0X/dU+Zv5cfgn98H3Y/o7/Tn+bf1X/HP8df3h/vn/1f/F/kX9KP1K/oD/hf/3/oX+sf4R/y7/v/8dAHQAfwDBAEcBEQKRAkMD4wMRBOIDvwOCBPEFAwdpByEHtwbRBmEHRgjbCJkI7gd8B5AHDghKCOsHbgfABoAGngbgBgIHqAYMBsQF0QUNBjAG1wVUBfsEvgQhBQ8F4ASMBCgE6gOTA1ADXAOiAx8DtgLiAZIBUgEhAUEBEgEu/1r8Lfqn+qD86vxD+sz2VPQy9FT1P/ap9qb09vFT8BLyC/XG9uz0kPK18STz6PXo9+r4Z/hQ92X3l/lC/Kv9Cf1J/ND8H/5a/xwAOAD//z7/9P6V/yQA+f8c/6n+R/8bAEYAFgDL/8L/DwBeAAUBVgGBAQIC4gLIAwwEkQNaA/4D+gTqBTYGHQZABoUGMwflB/gHkAfrBr0GUgcgCE4I8QcBB3oGdwahBscGdgYEBqcFuwX8BUQG3gVyBRkFHAVGBWQFMAX2BLEE2wQ0BTEFpgTtA7kD9gNRBOcDPQMzAtYB/wHPAk8Clv8j/Fj6NPxR/hD+Uvqw9pH0NfWN9o/3Q/db9EXxcPBo8932j/di9IrxTvG48+P2vPji+Nj3k/Zu91f6PP31/Z/8afsp/P39gv9OAMX/8v4x/qD+y/90AKL/h/5e/j3/LgBBAPr/2v8QAFYArgDuAAQBJwHYAfgCyQOtAywDTQMkBCEFrgWNBW8FlwVUBnIHOAjlBw4HSgaOBooHEwgACDsHfwZVBrYGCgfjBv4FHwXyBHcFLgY2BrEF/QTNBPcEowWmBWoFVgT7Az4E4wQyBZoEJQReA1cDyQIJAz0C1AFPAYIBAwLc/2H8NPk1+uf8Kv7l+n325vO489f17/aR9zb1pvFa74XxvvX29971zPEE8QHzlPbK+CH5NfgR9xj3dvmk/N39DP2k++X7tv0I/3v/Qv+4/lv+e/4c/7P/if+G/nL+1f5L/xb/p/69/pj/QgCHAKkAWwC2AJcBxgKiA3EDsQLnAh4ErgW1BrcGJAYhBmAGgwdHCEUItwdJB0YHrgcDCKoHZQeQBocG3wYoB/MGOAawBZcFOQZkBpAGCgaCBT0FbwUEBk4GHQZNBUEFagXJBYsF5gSpBN8EsAT7A/8CVwIPAh4C/wFlAh4ASfyo+KP4o/vd/Db6UfZL9UX13/Xd87bzA/SZ8ynya/EB8onyUPJr8jL1ffap9ezzkfQs+Af7Cfs9+qL5z/nM+n/8o/7g/8L+6v1d/kL/7P92/33/wf8W/8T9lf1y/pD/uv/v/ub+dv8oANoA+ADTAIgAkgBfAYoC9wLlAi0DOwSzBXoGgQZ5BrIGJgeAB7gHxgffB/8HLQhHCEUIJAjyB9oHqAd9Bw0HpgZkBjoGIgYYBgwG4wXTBasF7QUBBuUFrgV4BZ4FuAWTBRwFCwW3BPMEFQXTBE0EUAPnAuEC0QJRAkkCjQAl/Z/5Z/hH+wv9Y/v593D24fUY9RDz4fPV9iz2J/JN7nzvrfOf9aH0MfT/883zQPQ29rD5q/qF+I73dPhm+o37QfzY/Qf/zf3Z/NT9ov+0AJr/sf7W/kL+p/3n/fr+w/8l/yf+xP7m/8IAUgETAdAACwDh/wIBtwJwA34DWAMfBFkF/QWsBkQHmQd6B+AG3gaXB00IgAgOCJEHzwdbCLUIowjkB2gHFgcMB0gHEgeoBkIGCgYWBnMGpwY2B0cH8ga2Bn8GhAZ6BlEGHQYVBmwFiAXvBRUGvQW+BBkECgTGA3sDqwMrAZb8Kfif92z7D/16+kX3P/aT9QD0lfEI9GX3RPUc7+7qee0i89b0WvPu8rLy7vKV8wj2HPrv+mb46fYb99j4p/pk/Kv+RP8W/Y/8Xf74AMAB9//T/gr/Gf74/EX9Fv/sAOb/of1j/d/+5AAyAq0B1gCT//D+OQBBAoQD6QNkA7YDrQS7BWQHvAjPCNgHXgZfBhgIQQl3CZkIzQf0B1cIvwhXCT8Jlwh6B08GSgbYBiUHCQdDBsgF6gWfBjsHsgc1BzkH7AbJBmYGRgZSBosGCQaKBb0FoQXTBQkF6ASCBH4E2gMNBLcApvvp9vb2APuT/Kb5aPaC9b70WPNJ8Wv0A/cI9CXtoemf7EPyWvMY8jvyh/Jo8130CveT+rD6NvhC97/3V/m2+g38bf4N/4H9hf3B/5MC8QJpAOX+7v6o/nH90Pzg/V///P6H/ZP9K/8FAVIBDgE5AKD/G/+g/xsBIwJYAsgC6QMbBSwG4QYnCN0IDgjgBogGXwd4CFoIwAeMB+cHkAj4CNwI5gieCAMILgd6BigGTAaDBqQGlAZuBp8G/QayB5oHsAeZB6YHbwe+Bv4FCwZJBoAG6AYQBt4FJAUJBQUFGQWHBFUE1QAU+2r28vVu+mH8Z/mg9aH0a/Sp80XxR/Nc9lL0EO5x6T7r5PAg8zry+fHd8UzyI/Nx9TT5D/rH9332u/ZE+Lb5Vvv0/UX/4v1J/fL+8AFLA5ABzf+Q/vn9hP2s/XP+t/7C/d78wfwj/lgArAGCAqIBdwBaAEcBKQOBBG0ElQRPBTEGkgczCO0ITgngB1sGlgVgBvsHpAhVCJsIMQlfCkALnAuFC6EKFwkvCDEIQAkXCq4K4AvvDFoOTA+3D6YQzxDbEPMQcA5EDEoJBQjrCHMJdgjpBroEtgQwBWgE1gRNBoEEl/rL5pTUNdIh2mrjE+MQ4I/m0PJW+i/75fna/bz/vPYa7LrqIvV9ASQEpwBs/5/+vP1y+r312PFC62zlf+Wk6n7yOfnS/eABzQLh/xr+N/+6ApcDKABH/oEBXAe+C18JSgOA+yvzH+4a7GnvYPVm+mD+bwHRBDMK6A2xDvML1weNBwILHQ8bEikS+A/DDOYGIQKO/+P+CQDBAIwCQQfGDOYR7BREFdAToxDTDGwLewwcD7MRLhLqEYcRMRCSDg8MewnDCG8H/AfNCKUK1QvpC3gK3wicBtsDYgI3AnoE4QYMCWoMDg+wBWLt2sx4uwDCPtKE3PPdlOIf8KT76Pwk+Z/3tfri+l33C/pNBiYUAhriEuEGLfvx73/nduLU4SDlFuko7nH0/vib+vX59vdO9+b3CvuLAzMOkRazGFwTUwla//H1LvHM7uHtxu0D7h7x2fdv/Rf/T/zG+Ib6fwBoCScSfReyGAEXyxIsDxUKtgQhADv9jv2//44CeAVQB9sGjAXDBHwHXAyrEMwTlRXEFSYU2RBqDjsOnQ6qDv8NXw2ODSsM+QnUCO8I7AkaCZMHDwhECW0KiQmLB2YGHgaFB8EJiQoTCgYK7Au2CC71ZtXIu7e7UM/A4efmteZC61LzLPVk8ZDwYvbP/kgDKgfxDq4X7xjfDib+VfBq6G3mKujp66Tvx/FU8X3vre1X7MvtKPLU+NsAswgzEJIVqhQaDoUFagCe/9j+PflY8UjrB+rC7NHu+vEv9Vf4ofs+/14ETgq2DgcS4xO1E6cSCxAlDRUK8QXWAYf+Qf1W/tf/cQF8A1YFxgYdCcAMTRGwE8sSqREqEYsRvBG/EC8Q+w+GD7cOHQ7RDGEL3wj0BtwI7gruDNMLCQkBCDwHywWIBOwC0QRPCMgKqAttCSwILwpQCnv88d9twl28+s5h5RLvQ+ts52bp5+qe6sDsevQnABsI9gtoEJAUJBOGCU36Tu9z6zvtnPHO9IH13/Mk75npE+bC5rXsLPW7/RQFhwoHDgMPagzEBYL+VvsX/YECNwQ3Aen5/fDG6nToEev48Wb5Lf9KA4UFxAczCTAK5Qt5Df0OixDdEDIQKw28B3ICr/4X/u//fgK+BYwI/Am0CtsLwg3kDwsQxg8EEM8QxRHRESoRrRG2ESUQtw2xCvwKSguyC0EL4wsUC24KdwfsBIMEgAMOBXMFMwdSCTwLfwobCT4G2AcuCPL7VOKfx9LCJNVc6T3uqefm4Evi+ONo5XXrIfdqA1YKqAvaDTUQPw0TBZz6yfTQ9JP35fku+e/zee1F50LjguOq54XvXvix/nAC/wN4BP0EawUqB9YKswvwBl/+ovad9Lj0F/Vi9HDzovO49ir6IP2b/tf/IAM4B20NFxMfFfQR+gwzCQoJ4QkICvQIugbcBKoD2gJFAz8FqgexCnEN+A/QEGMPQA3QDF0O/xAxE60TNxPjEQgQ1g2aDJwKjgnyB6EIzAqNCx4LOgeVA8v/AQCAAo4GMwl4CSQJiQbrBQMHagqeBEvv1dKIxVHSmumv89XrO+AN3GXdB+CF5sTzQQGUBy4HKwdHCo8K2gRg/Y/6g/xP/5f/Pv0k+PPvzOcS4y7kLOrC8FL2nPmb+jr6dvpP/W4C4weLC8QNXwksAc34LPQX9k74Ifs7+8v55fiB+QL5Hfng+hb/6gUgC1cQtBFEDg8JqgUTBmMKVQ1uDosMKwlEBroDAgMtBbgIAAzFDh8QNRD8DRYLmAl9CxoP7xLrE1ETJhFDDnkLxAlZCxIMlA2eDekNagySCHkEdwLcAqAE7AbfBvIGJgXUA5wCDAJVA2AHYAg9/o7m6c7+yxndh+9g8Vnn0d7H3f7dwuCm6Xv3YQLfA00CrQMQB9sFmwCb/Pr+yAJhA58ACvzv9cvtIOfe5o7sFfPf9fb07vMV9P30Lves+xoDygcVB84ERgJyAV3+IvxK/ff/6AAb/xX88/mg+aH43vnk/CQClgbEB7cHEQhNB+EG6QdqC4oPOBDoDaUKNwhAB1wHHQjgCpgNqA7fDYEM+goMCkIJBwsNDt0QPRLPEL4OnQx+DOAMtQ4qD7kO4wusCRoK1wlgCeQGEQZpBZgEggOUAzME4gSzBNQCpALtAs0GZwY5/Hfm7NLH0ePit/Nb8/nmINuR2CnaJOCo60T6jwIeAej83/38ArEExgInAu8FbwnXBwECYPs49X7vhOzT7oj02PeD9Z7wZu0y7jPx3fXB/MID2QgZB+P/P/m494n8YgIsBuMGzQOw/QP5Qvh4+yz/qwDxAQUDDgSgBCUEiAMnBPAFeQkHDZMOiw27CWQGEwbECKEMQA+ID8QO1Qx1CzALAwwfDV8N/A3oDiIQkA9EDvsLYAsGDFQNkA5ODZgMgAoZCVEI+we+CHsHkwaPBb0F1gVXBfMEjATDBAkE5wMXBQMIZwNc8LDXp83m3FrzsPju6ifbmNV613/b1eU59moBwP9s9yT2Tv74BKoEnAMoBysMSwttBBn+k/kb9Z7xU/Jr9zv7OfeI7lLo+ej47uX0pPnK/SABkAG8/4D6Z/Wq9lj+XQpaD0ILSgG+9431E/u5AwwIugcaA6X/0v2f/0YDigRRBEQFagg3C8oKcAcSBQkFVAjCDDkQ+BD9DusKBQnnCtwOoRH4EMIO7ww4DFINuQ5KD1EPXw0TDA4LSgu5CoYIpQdrCN4KiwrvCM0EjwI4AmIEfwetBwgHWQTtAo4BRgKSBFQI8AIj71fXc9Hy5Hf5LvgF5U7Wi9TY2NXdZ+nT+M/+Q/cr7i3yg/8OB2YFSQPLBn8LNQriBMEAJ/7Q+mb32ff4+6L9VPf97L3mQunw8GT2H/kg+vn6IPcJ8CXvWvfXA+oImQd7BG0BQf57/asCjQlPDaEJNgRYACwAgwEBAuUC3gTHBZUE1wK9AiAEmATXBfwIwgwXDgYNCgtdC6INwBDqEhQT1hFnD5cMbwtYDUcQ6BF4EG8OYAwzCrAJDAkWCgsKHQq4ClEIXgabA+4DiARhBWIGeQZzBSACiAGqASUDYwRPBmUIef6w6G3Vs9g974H9BPVu4cnW19Wt2N/eBO0H+0H7q/DI6mvy9f6CA2sCewQmClQNGgpIBS8Czv/v/Hj8k//TAm0AOvZr6+3n7+wl9Jn3F/hO91fzCOz66B3vvvviA18EcALZAOL/LP86Ar4IYw52DoEKjgaQBPMDEgMeA8QFigeaBi0D0gAFAZABywJ9BXcJngsTCx0JbgkiDDAPrRHwEnsTGhIVD2INeQ5QEcASORLtDzMOUQytCkAKvgmnCncJGQlpCFgH8ASWAdcABQEXA6IEUQZ8BTcC6/9C/84BbAU3CkwIJvdB4FTW9OUX+0v+Hu5N3YvXmtf02pHk3vOV+gfzJ+kr62/3FQDH/6T/vwMSCbkJwQeVBuUE8wBs/UP/LQTYBkQBg/Yj7uDssfGq9jv52/gD9sXuLehz6fPxTPv6/JX8p/1Q/7X+K/6lAXkHJwy7DBgMrAoPCSMHSQVoBnoJKgq/B+wDoAI3Ao4BHgInBSkIXgg2B5cGygh5C4EN8g77D0URShHaD2kPUxD+EXESRxJSEhESpA+cDBgL2At4DDsLrgk7CDwHEASvAUEAiAEwA/0DOAMXARoA+/7J/tT/oARoCZIBMew12cfbXPBf/U33jejk3wDcHNkr3Prp4PiG+bzv++nq7zb52Puw+/P+jwSFBxwHdAclCH8FSP+5+8T++QTcB6cCVPn88drv5/G39OL38fjx9ZTwOe4V8G/vIe7d8Kn6+gJEAy0AfP3L/TgA/gUSDAQQ9Q9pDCII/gUyCBUKiAgrB60HOwg6Br8DMQMEA7UC7QN1B+IK3QwQDBkKpgn3CqoN1A+/EVITVhJuEMMP4xAHEqkRcxCXD28P6w60DFoJLgfKBk0GFwXVA34CxQB7/7D/cAAgAEj/Dv7I/RP/eAJaBYD/ye/b35XeqOz6+Gj3Nu2b5ebgsNvj2i3lJfQS+U/zgu3n74f24Pk6+7H99QEiBQ4GJgfiCIMIhgNm/Qf8jwBBBpYGrQGQ+tn0AvK58c30Efin+N30JvA77h7ud++c8f71sfq6/S//AwBdAb8CLQRIBeIH8QsoD58Pdw0XC8wIjAbnBSEH7gimCdUISwc7BV8DhwI2A1wFrghzC84MDw1mDO0KbwnhCd0MnBDnEqIT6BLTEfgQ6g9eDy8PfA+1D/UObA6hDNwJjgZCBEAD8AHcAfYBnAJ9AXr/x/2B/Oj8Mv75ANoA1vg260ThQeRn7VLxFu576qjpDeZ94LffGucv7xnxb+9s8Af2tfu7/av9cP2v/sX/zQCeA8MHLgspCn4FxQBx/3cA3gCD/6L9ivw9+zL59Peu9/X21vPH7uTrvOys8Iz0mPbP9+v4M/pj+7n9EwFfBDYGAAe8CL4LMA9CEdAQ+A7yDIcLBgsmC2UMOQ2lDLEKMwkSCYsJqwncCHUIxgjICYYKdQoZCv0JygnKCT4KDAv3CwkMwQtFCwsLqArQCa8I2AeDB9AGRwViAwICeAH4ACkAUv+r/kz+vP0M/Uv8DPwE/Mf7fvss++76jPnF9gP0nfJZ8rLxdvCj7+jvLfDY76PvUfCb8VTyFfLv8Xby/PPF9Rb3D/gt+Xz6fvs6/Db9j/5H//v+kP6g/iH/oP/q/1cAlwCZADUA6P8KAHgAuABkAA8Akv9s/2T/gf/F/y4AogDiABoBLQGWAZQBeQE6ATsBlgFIAtMCLQMxA2AD4wNgBOsEPgVcBYAF0gXpBTEGIAY0BkgGaQaTBrIG2QYnB1wHDwfBBkoG7wWqBYUFuQWzBbcFsAWaBWUFHwXgBIkEOQQABKcDZwP/AvACFgMeA/wCigKTAnkCOQKkAX4BegFSAQgBrgA/ANX/UP/j/l3+jf0f/W/86/tj+/76Y/qV+bP4UfhC+Dv4Lfj695X3/vag9oz2z/YO90X3Rfdj95P37PeE+AX5ffl++a759/mi+gb7Z/u4+8/7Ofya/FD9Ef6y/jr/hP/q/zMAngDYADYBfgHQAUoCeQKeAqIC2wInA00DZwN3A4QDpAO0A8oD2wM1BHkE1ATgBOgEAAX2BBAFUgWPBZ8FcQVfBTwFLQUSBcoEqASiBPsE8gSkBFEEEwQVBAEEDAT7AywEKQToA8cDrgOMAzMD1QLdAqwCPwKtARAB8QDHAK4AWgAiAPH/vv+D/1X/S/+9/vr9Rf0G/eb8bPy++zT7pfoN+kT5w/jH+LT4UviQ9w730fbW9sj2+/ZM95P30ve49wP4ofhy+fz5J/qB+gL7hvvE+977L/yq/FT90v1b/sr++P74/hT/cP8BAF4A2QA0AYwB8QE3ApYCoQLiAgwDJgMoAy4DTANhA3wDtAPeAy0EegSyBOkE+wQcBRgFMAUxBUMFWgVhBXYFfgVOBTQFOAVIBUQFPgUkBQwF5gSaBHEEhASOBJQEXwREBB4E0QNxAygDCQMIA/ICxwKNAkwCGQLvAZYBbQFOATsBEwHaAKkATQAvAOL/0/9q/wb/jv7r/X39Dv2y/C/8vPsv+8L6Q/rT+Xf5KPnF+GP4LPj+9w749Pf79xf4IvhD+G/4nPjz+FL5rfnq+Sz6iPrg+lT7zft//Or8SP2Y/d79Mv5v/vH+V/++/yAAUgCFANUAKQFcAYkB3gExAmMCaQJ1AoECjgLGAvkCRAOFA8wDAwQhBEoEUARkBJcEywQFBfIE/gQPBTMFZQViBWsFTwVNBR8F/gTsBO0E5wTDBLoEswSPBIkEWwQgBNUDogOgA3cDSAMhAxYD+gLXAqkCjQJ+AlACJwL7AcQBhgFFAQEBzgC2AHgAHgDK/6X/a/8P/4f+Hf7K/XD98Pxm/Or7fvsU+6f6RfoP+tv5dvkh+dz4tviT+G/4Yfhr+J/4tvjg+O34EvlY+ZH54Pkk+oD6w/oY+3H72vs6/Kj8D/1w/bD97v0l/lz+mv7f/jX/fP/V/w4AVACEAMcA8gAeAVMBjQHPAfABGgJXAqAC1gL8AjEDYQOkA8ADxAP3AxQETQRtBJwEvwTiBOoE3QTdBOEE+wQKBfIE4ATMBMIErgR8BGYEXAQ9BCQE+APNA6MDjwNWAwwD8ALyAuwCuwKHAmsCUQItAv4B7gHPAb8BiAFfASkB+wDaAJYAdwBgAC8A7P+S/0f/6v6C/hX+xv2A/S79zPxb/AD8o/tC++r6nPpl+iX64vma+Wz5YflO+UX5QPk/+WH5b/mK+aL51Pkc+mb6tPr6+l77qPv3+1X8pfwD/VH9mv3K/RH+T/6Y/tX+FP9S/6T/1v8MAEkAfwDJAP4APQF9AdABCwItAmUCjwLYAgEDJgNeA4EDuQPWA+YD8gMKBCsEPQQ8BDEELgQiBDMELwQmBAoECwQKBOMDrwOZA6wDrQOOA3EDZwNnA0ADDgPnAtACzAKnAoICXwJgAkECAgLZAdMByAGfAWMBTAFGAScB7QDJAMIAogCIAFgALQARAOP/u/9+/2P/S/8//wr/vv6S/l3+Jf7O/Wn9KP3y/Ln8cPws/OX7q/tr+y776frF+pL6Yvoa+u/5+/ny+ff59/kf+k36b/qC+qf62foc+2f7qfsB/E/8mvzW/C79fv3k/T7+kf7z/kn/qP/2/0QAnwD3AE8BkgHYAR0CXgKGArMC7QIrA00DgwOcA7oDygPZA/QD8APlA9EDzAOuA5wDhwNnA08DLAMcA/MC6wLcAskCmgJ/AmwCQwIsAhkCHAIPAvYB3QHHAbsBrAGYAYQBewFuAVMBNgEyAS4BLAELAf0A6ADfAL4AnwCQAIIAcwBOADMAKQAjABQABgDt/+L/w/+x/4f/YP89/xv/Fv/6/u3+zv6r/pD+cP5W/h3+8/3B/av9j/1l/VL9Pv0w/R39Cv3+/PX80vy5/KX8nfyd/KH8rvy7/NX80/zx/Af9IP04/Vb9cf2b/d39KP5f/o3+y/4L/1L/h//J/w8ASQCMANEAFQFQAY8BxgHpAQkCPAJmAoUCmAKyAssC2wLkAuIC5ALqAucC4QLOAs0CzwLFAqgCmAKOAmgCQAInAh4CAALLAa4BpwGfAWIBTQFEAUYBJwEEAfUA7QDcAM8AqgCzANYAqwCLAGEAcABuAEkAPwA4AFkAVABdAEQAQwBaAEQAIQAYADcALAD1//D/9//y/8D/tv+3/5P/Wf8q/xL/Ff8Q/xv/4/6z/qP+kf5x/ln+Y/5e/jv+Jv43/kr+Q/4j/hP+BP4n/hX+9P30/Qv+I/4h/in+Of5Q/kL+Rv5Q/nr+mP64/rr+wv7r/jX/Tv9U/2r/jf9p/2n/lv/P/+z/3/8ZAFMAXQB4AH8AiQCKAKAAtgDDAPEAJgELAQUB9wAiARIB8wAMAfEA9wD5APUACAEUATgBHQEHAe4A9wDqANsA3QD2ABMBGgEzASwBQwE0ARoBCQECAQIB9QD1APgABAHsAOkA3wCUAJoAegBwAGgAiwCbAIUAdwBBABkA+//8////vP+c/4z/e/9j/1b/Yf8M/6D+Vv6V/kn+6v3p/ST+O/42/tr99f0r/Tn91/0D/dn9O/xyAE76mfcB/Xf9CP4q/Uv8F/+F90T2Hvss/SX/Wf4A/q39hvw6/jH9Q/pE/ST8ofvt+4b8Kfwx/JP6jfr7+oP71vyA/S//pgDaASIDygTQBUgHPwiaB9wGsAbmBqMH5gasBxMHIwWWBAoDowEAATYBSAHNAMQAkgHUAWICLQMoA/cCigO3A/ED9AT7BQAHdQfFB3sH1QY8B8kGbgY/BmQGtAVUBJQEpQRLBKED/wLfAZAAbgAuAIT/Qf9B/9P+Nv48/k7+qf19/fD9r/0k/S79Yv0x/Xr9Gv4a/i3+JP7y/W79Kf3C/DL8Avzw+/P7mfuq+yn7X/qQ+cj4EPi29+f31PcH+C/4UvjV97j3vfeh96D3mvcp+AH4dvgH+Uz5dfmt+Uf5svhN+Gf48ffR96z3Sfco92X3SfjU+Jn5FfqF+s36qfvi/AH+RP9aAFIBnwJmAwwEfwSNBOgExwQSBVkFtAVDBloGYQZ5BtUGPQdqBw4InQjUCBIJSwkaChcLfgwkDuAO1w9BEBEQNw95DTAMWgq6CUAJzwiYCNQHrgcbBnIF3gPsAp8CrgGKA2gDWQQYBTsFpAX9BMYEmwTMA24CWgFjAEgA/v/DAMwB1P+t9l7oydkZ0v/Sntlx4s/oGe0X77vvQvHM9KP5cP6EApAH5Q6tFsobRRw0Fy0OvAM/+t30bPPj893zRfIa8K7uZe0p7THtbOsT7A/v3PadAR4LUBK4E6MQsQrVBQIDegNHBT8GAgboA6YBIP8y/C/6zvgh+dL7awDrBl0MfQ++Dz4OXAyUC8EMkQ4vEFgQow99DtwMegsyCu4Jiwr6C1UNhA68DxQR9xEtEG4NjgreCasKyApbCycLygrJCe8HowYvBrEGIQezB8cHcwfaBuAF5wTFA+YB0/ec4bHG/bbfvEzODN3L4xznw+uA7znx7fSO/cUGhgtGDYgS9BzGJNIiyheACNX5Ce0P5CriTOV76HHnCeRc43fmg+pF7Wzv3PPw+7EG2RGjGx4hISCvGVgQ2giXAsT7UvRI7TfpvOYF5vHmxujq6k3tCfLF+XsD7wy7FBQaEhwFGwoYMhR4EEMLDAVD/yL7A/me9wb3W/fK+CX7+f4+BGQKERB6E4YVJxfBGO4YDRdGFL0Rqg8xDdQKgwjNBoUFjATPBGoFcwU1BfwD3ARqBuEHJQnnCDkJAQgiB68GuQcaCQEJOAj5BYIF7QWwBhUGBPhb3aO/c7FLvCDPP95Q5AHpkvCe9fT3TftfAwELqw2mDicUQx83JXIgtBI1AbjyDOZq3sPdguGm5sPnn+YE5/HpBO/r83D4Jf5NBmsQihofIn0jIx/cFaYKxACG9oXuQOlo5vflI+V35YLn9ekR7pbzF/twBBMO8haoHZIgox46GdcRYQs1BsYAdfwS+QP3pfUf9Jj0BfcM+x0A3QVUDFcSmBZeGLYY7hceFpwT0BBZD4IOvwxhCvwG0QQQBHQEIQZXCAMKkAovCq8IsQh9CN0IYAkcCsELoQvUCZsHWQaIBhUGnAWwBTwFBgY9Bg8JXQOt7OjL+rAhsrfELNhL4wXpTvOM+6r9C/1xAJcIlg1bDvoP0RetIHsgbxZTBBHzYeSd2Q/XYtqT4mfpOuy+7QHwqvSv+b39CwLjB98PBxhHH0Uibx9WFh8JNP1v9EXuseeb4sjfjuA544fmCezB8fn3WP69Ba0OjxcxHjIhsR+VGsUSTQq4Ahn9mvjc9H7yWvFb8o70Lvj//OYBageQDawTghh4Gi8afBh3FboRFg5mC5sJbQjVBrYFvAXfBZYGDge0CKwLhA3iDqIOrA3FDBALDwrKCK8HTgd6BkUGvQWhBTgGAgawBeQEtwS7BOkETwYQCSoD0+xlzA60FrVqxsbXj+FT6NPySPwq/3H/EgP8CX4OLw5FD8EVZhxbGxURmAFM8nfkVNkg1bPY8eCO6B/sFe/s83750f7AAvMGjgw5EnsX5RtpHQAauxAABNH4yfBj6IHhWNyL3GDhzuWA7cn0VPzmAtEHoA5dFRcbGh6JHQwaohPKC/AC7/t09hXy9u8x70XyfPZc+wEBQQYVDBQREhUhGKMZaxlrF5gTCw/TClAHYQU5BZIFfAYVB5AHVgjPCEEKKw09EG8SnxJxEJcNtwnNBosE1gKqAhgDKQTCBM0FCQcXCG0I9gZzBVwEFwSTBCUFMAh8ChQA2uWixJuw+rT7xbvWPeEz6tj1lf6jAdcCqQY+DLUOAg7XD/UVGxrCFk8L5/vP7FHeFNQo0vbXKuIp6hnv4vOT+c//8QQKCfcMIhHPFGYY6xo4GmcUbwnQ+mft5+Kb3Knbt93l4n/one529sT+bQaBDLoQXhSAF8UZZhofGDASwgl2AFP4ufNt8Z/xW/MT9hX64P1NAlwHhgw2EV0U7BU8FogVohPWEDQNNAncBdED4QPcBQoIJQkrCuQKMwytDa8OWRCBEQUR8w5gCtIGYAUpBV4FTgSBA8wCnQNxBPgG4QgTCQwJ2gZmBvUFmAQ5BTMGiQqOCHf1R9brt1ivCrx8zzLfgege8r/7qQEwA/4EXQkuDbQOBA+fEmMXYxZnDvf/O/D44VHW0tFj1RPfJerB8Un2Vfor/1UE6AigDAwQmRM6FmsY3Bf6EuQJKf3O8UTqUOYY4zbfx9444o3pLfIX+04EngqND6USjBWJGHcZ1RdTEucKFgMJ/Bz3KfRd8wvzEfQU93H7AgEcBpULWRAxE7wUoxTIExISRw/fC1EIdAUpBM4ETwZkCHoJUQlBCWYJzwqzDFkOtw/sD54O+AzKCgoJ0QbnAxACtQFvA6QFhgc0CEYI0gfABmoGyQXqBHEETQNUA5QEKgegCugEfPC+0YW3V7LGwC7Wg+eJ8v76fAEvA3gB9AEQBl8LOw6DDmYQFhJzD0IGMvfz57XbFtT704/bV+jn9NH7Bv5O/50BXgUrCbUM0hDrExIVQRTFEOsJMP/R8T3mOuBA4ATmPu0v8wz3z/f2+EP8ZgJVCmkQHhRTFR8UExFgDHMGIwCf+lP3Zvdz+ff73P1m/s3+V/8iAQcFNQq1Dz0T1xMfEtsOMwv2B94FJAWCBakGhAhxCqsLeAsmCswIYwjzCPYJsAtdDVgO0w1TC/MHzQQHAx4DPgQRBvAHXAh/B84F4gQPBfwECAXlBKgEVAQhA6YCMwJQAnoDIARe/+3ubtb+wVC+kMt03k/t1vXt+0oAVQEoAK8AtQR+CXELuQobCmUJ7wVp/cnx0+Zv307cJd6t5W3wMPrS/rL/HwDeAeUEOwjNC/kOfhBlD2IMQwiJAqT6BPJQ7Gvr4+p/6znttu/T8/f2pvyCA4MJng79EBoRYBAoD6wM8AhbBMUAFf6B+3f6ZvpN+tH6pfv3/bMBkQVyCngOvBCkEV8QZQ50DHUKMgkpCLIH8gfvB6UHzwfyB98HwQfGB9wIpQpuDEcOIg+UDv4MVAqPCKkHPgbaBMADzQPDBOoEAwWbBD8EoQQIBVwF8gS5AzwCEAGBAH4BZwOJBQoFSPsx5+3PZ8JTxmTWnufr86L6Nv7r/qL8QPvB/coDhQmsC0ULYwrdB/YBafi77XXl3eDe4C7mHu+C+Fr+F/+S/cH8Vv42AkMHoQyWECYRbA4FCewBavmC8H7qoulV7cHxt/Q69n/3y/kT/b4BIwfWC78OKw++DZMLIgl7BqIDIgFG//79Z/1R/cf9ZP4G/zAAGQITBWUIfwuUDQUOTg3WC4MK/wnuCfIJawlUCCUHaAZxBikH2gciCIUITAm6CsYLOAwPDIkLhwrGCEUHjQbHBhkGawTfAl4CMwMcBAEFdAWYBXsFSwW4BKYDNQI6AL/+Bf7+/gMBOwO2Azn+oe912+PLkMkC1ZblZfM1+7n9R/3I+rP49flI/+4FXAoeC8EJ3waFAZb5gPA/6erliebH6qDxmvgT/Wz9DfuW+b36w/6vBHkKdQ5NDwUNtQiJA3r9r/c+8rbu0+5I8TD1Vvgr+vv6DfsA/G3/nwRKCoUO4g8NDz4MyQgiBcUBdP+E/qD+Tv/x/+H/gv8W/2T/5gBzAy4HJAsZDmgP4g5BDS0LKQkWCCwIxwgKCYgIcgc6BioFvASXBXQHqwl0C1kM6Ay+DNcLwAmfBm8EpAN6BKMFhAb2Bi8G6gSLAwYDqgK1AugCXwOeA8sCWwGH/9/+KP86ANoAb/4H9qLntNkw1LjZWOX27w324vdc97z17fS+9gH8iQJVB/YIAQhtBeUA1fqo9Obvg+1k7YrvbvNK90/53Pjz9h320/cq/PYB3AftC9EM/wqWB6kDZv2X96P0EPWB92j48Pg/+Lz3X/gj+rn82P/zA8IHSQrACiwKtQiYBiUFOQTMA0YDlwIbAmEBWQBb/+j+lf+iAQMEdgaUCDgKCQvbCpwKjQp+Ch0K3AniCQAKpQmnCFYHQgb1BZoGkgeMCPwIgQjFB1cHuwdoCFgIRghmB0gGegW6BPgEmAR9BGcEMgQXBN8DzgM0A9UBm//B/e38m/1H/z0AiQA1/qf3aexq4Bjb8N5u6O7wWvVd9qv1C/Tb8jz0Avmf/7AEygaQBuYErwEA/Rf4o/QZ8wDzRfRl9oH47fgk9470rvPu9cX6UgAjBScIoAjXBj8ECgJHAZoBgwIeAu3+nPqX9oHzd/G18VD1j/pq/00D2gWKBsoF6gQ+Bf8GdAlbC18LSwkgBnoC+P71/Pr8ff4tAOQBvQPWBC8FfgX6Bd0GXQihCrkMxg3uDT4NlQtECYEHxgb+BscHJAjtB1UHuQZHBsQFvgU+Bu4GzweFCFIIDAfRBeUE/ARvBR0GRQYQBS4EVwOHAkYBxv9//mv9V/34/WP+uv0Q/dr7Vfix8eLpBuYC6NTt6vLn9LX0nPMj8p7x3fOD+H/9kwD/AWUCfQFS/5D8ePqv+Wz5Hvnw+Bb5R/lx+Mr2lfWG9er2+Pkk/n8B1AJ+ArwB0QFXAqgDkQIR/zD85foZ+2D6zfpb/PL83vyr/UX/6/9/AMoBuAOoBFwFrAYeBxsHpQZzBfMDywICA5kDAAQ2BOQD+wLCApQDpwThBTIHWAi7CPsIowlNClsK2An3CE0IHAg8CAoI4AfwB70H/QYZBr4FmgXvBdYGUwe6BosFKgVgBU0FYgVHBToFjQTOA40DCwNtAlUBUwBy/xH/mP4r/tf9Yv3h/HH7rPnY9q/yI++q7ebuC/F08h3zLvPT8qnyavNb9WP4Oftb/bf+9f4q/t38S/y8/OP8a/zr+3P78vpw+uP5FPlH+Cb4IfkB+yL9gf6U/kn+vP5w/kX+P//hAGgBTQA7AAUAlv5a/Sf+SP9R/4//jgBEAZYA4QDZAX0CCAPiA9YEFwUXBQoFqAQLBP4DOQRRBKUE5ATbBJoEgATSBCIFmwVBBusGeAfJB8gHnAdlBwcH5AbnBvoGFgdDB3IHHQdWBsgFWwWzBJQEDAVyBWoFXwWiBRMFFQTcAxgEzQMWA8kCuAIgAlIB/ABGABX/ZP4r/kD+zv1G/UX8IvqG94X1s/Rz9Gv0ovTp9Nf0MPSY80zzI/Ro9iL5uvrg+gv7J/sF+3n7fPxj/Qf9B/3v/Ov8YPwD/AD8mfuS+7f7evyc/L382Pz6/O/8+fyw/YL+/f75/hf/Xf+C/4P/6f+zACwBPgFhAZcBsAHjAVMCxgLXAswCSgOTA50D3gPFA3ADFAOxA2YEsgQZBWEFEgVeBDwFPwXOBKgFbgd6CAIFnQStBIoEEAQ6Bf4GMwb1BaYFggXvA/kDTARwBJgEEQUMBfoDXQO5AhkCFQLlAmEDRgP2AsACCwI0AdgA7gCqAGgATAAdAKH/C/+l/g7+eP34/JP8nPuA+j35CviA94/3Ffiz98f2WPbT9qb3bPg3+YT56PkG+v366vtg/Fn8+PsB/EP86fxB/Zr9f/11/Un9Zf3N/cv9uf2L/b392f3o/SL+PP4U/qb9wP0r/uH+V/+W/wIAXgCQAK8AGgFxAegBNAKmAscCxQKmAtsC+wLtAvECtAK9AuUCjQPDA5QDTgNUA5ED8gNoBGIECATLAxQERARlBGMEbAQwBC4EjwTBBL8EugTvBPQEwwTHBLQEaQQgBA0EEgTSA4kDVwMSA6cCiAJ4ArYC1AK2Ao8CHwIBAq0BTQEHAYUABwCQ/2P/Hf+s/un94/y9+3n63fng+Tj61fmw+H73OveR90X4vfiu+D/44/d5+LH56/r++kv64Pkq+gb7Hvz7/H39kv2U/eb9Y/6i/oT+bP5e/iH+yP2M/RX9//wL/a/90/2a/Y79Ff7r/tf/uwD4APcAFAH7AZ0C4AKZAjUCQwKqAkQDiQNRA9UCvAI9A7sDBwTJA4YDhAPtA3cEnQRuBP0D1wPmAzAEjwSJBDkECgQ7BG8EkQSGBJcErASpBMgEzgS+BJcEhgR7BDsE+gPYA7cDfQNgA1gDNAMAA9QCvwKAAngCLwLvAZcBLwHnAIQAMgC1/zX/Yf6M/Yn8jfu++l36XvoG+ir5G/hm93v3KPjZ+Oj4UPi99/z36/gE+mX64/lV+VP5Qvpo+0b8evxY/HP8Cv3e/Xn+lf5X/ij+DP4l/gT+1P2+/eP99P2W/Tn9T/3l/b7+Yf+o/5v/p/9OAGkBagKEAg4C4QF/AnoDIAT7A20D5AL2ArADZgSGBBgEoAOcAykEsQTZBI8ELgQdBFsEiQR1BEcELgRWBJEEsASIBGQEjwTpBD0FIwWgBD8EKwR/BH4EOAS4A1kDfAO2A60DGwNnAusB/wFQAmoCAwJHAQMBNwFnAUgBxQBCALH/Zf8A/z3+4/xf+5j6c/pj+nv5OPg29yD3sPdV+IX4GPhm9xf37Pcy+f75rPn5+Pf4zfny+sj7Nvwn/Bz8jfyW/ZH+yf6A/jH+R/51/nz+Wv4X/sn9i/1+/YL9ov2k/c79OP67/kT/zP9OALUAFgGMAQACWQKyAvgCQwN9A6oDxwPWA+0DGwRjBH8EXQQeBO8DCQRNBIcEXQQEBLoDxQMFBEoEZAQ5BBMEPQSvBAEF+QS/BIYEtAQMBS4FIgXHBHgEQwROBCkE3wNoA/gCuQKaAogCbgIxAvABxAGdAXQBPgEQAd4AaADj/3b/NP/b/jb+P/0h/Dn7zPqr+m76m/l/+KD3Y/eb99b3vfdp9wn3Cfe597P4XvlR+Q35HPnV+b/6kfsq/F78avza/L/92P5Q/yv/yv6p/t3+Kf9s/2b/Ev9O/tD9w/0Y/mf+kv6z/uX+Jv+g/2YAEwGRAZcB0wE0AroCJQOAA6EDpgOXA84DHwRmBHcEagRoBHwErgS3BLQEVwQgBPMD7wP2AwAEyQOiA44DlwPDA+EDCgQtBEMEVgRQBEsEYQSIBIsEUQQNBNcD2QPZA8kDfQMEA5ICZgJpAnoCSgLqAYABMAEYAf0AygBmAPf/nP9T/wv/o/4E/jr9Wvyc+xz7yPpB+ov53vhg+Db4QPhl+FT4DfjT9wP4p/hi+cT5yvnK+Qb6nvpc+wr8h/yw/OP8Xf0V/sP+Ef8m/xv/8/7O/t7++P72/q3+TP4L/g/+Tf6h/uH+/v4m/1//DQDGAFkBtgHoASwClgIlA5YD2gPVA9oDAwRTBJUEuwTUBMAEqQSsBMsE0wSwBHYEWwRpBG4EYQQ8BAoE3QO8A8QD2wPmA+gD8QMIBBcE+gO8A6gDngOlA4YDZAM2AwID8ALVArACWwIPAs4BygHGAagBZAEiAd8AuACaAGgADwCL/yb/0f6a/kb+zP0M/Uz8mvso+9P6ffoR+oL58fiC+HT4pvjl+On40/jU+Ar5WfnP+T36ivqg+rf6IfvC+2n8zvwU/U/9nP0D/n/+5/4c/xH/Dv8J/xv/H/8R//7+7v71/v/+MP9x/7v/5f8AADcAqQAqAaUBDgJLAokC1gJGA7oDEgQyBDEESwSWBOEECQUBBesE1wS9BKoEowSfBI4EbwRFBBQE6wPFA6MDkwOAA2wDOAMVAwsD8QLYArwCqQKJAmYCSQJDAiMC+wHNAZ8BZgE7AREB6QDYAKkAdQA8AAgA5//B/5n/cv83/wn/zP6X/kX+BP64/XH9Mv32/Lv8YPwS/MP7pvtv+zT73Pqk+pX6jvqD+nH6b/pk+lr6dvq2+gH7KftX+5v73fsZ/FX8pvzz/EL9jf3Z/SP+e/7U/ib/bv+r/+D/JQCBAOIAHAE+AWIBkwHZAQsCMwJVAncCqALjAh8DTANTA0YDQQNmA5IDtAO7A7UDuwO2A7cDuwPGA8gDpwNrAz4DLAMWA/QCzgKhAmYCMwIdAiECGwLZAY4BTQEjAfkAyACQADsA8v/E/6z/oP96/0P/F/8S/yD/LP8i/wD/2/66/sL+zP7b/sX+oP5u/mH+dP6G/pP+f/5m/kn+Nf5F/mj+ev5q/kD+Hv4c/jb+T/5O/jf+If4Z/h/+Mv5M/kn+Rv5X/nP+l/62/s7+5f7w/v3+G/89/1n/Yf9u/4z/vP/m/w4AKgAwADYARgBsAKUAywDjAOMA7AAFAR8BMgFBAU8BRAExARUBDAEYAR0BFQECAeIA1ADcAOgA8ADhANMAxwDBALUAoACKAHcAZwBUAE0APwA7ADgALQAnACEADADz/+T/1v/L/7f/nP+O/4X/e/90/3z/jP+T/4j/bf9h/1r/Xv9f/1z/c/+P/6L/pP+h/6D/rP+z/7b/uv+p/5f/nP+p/7v/sf+n/6j/t//N/+X//f8BAPb/5v/t//v/9//w/+H/1P/T/9j/8f8NACUAKwAfAB8AKABHAFkAZQBlAFYAVABHAFcAcAB1AG0AZwBgAGoAdAB2AHgAbwBzAIAAiQCKAHkAaABcAFYASAA7ACYAGAAmAD0APwAvACMAHwAUAAsADQAHAPv/8//q/+f/6P/l/+P/8f/+/wAA/P/1/+f/3//e/9L/wP+u/6X/qv+3/8P/y//I/8v/2v/q//T/7f/a/9L/0v/f/9//2P/b/+f//P8dADoAQAA0ACgAKgAtADgANwAsACUAIAAmADIANAAtAB8AGwAVABEAEAAIAAYAAgAGAAgABQAAAAAADwAUABIAEgARABcAIAAcABEABQD6//L/9f/7//3/AAD9//n/7v/l/+z/8f/4//3////1/+b/5//x////+//v/+D/1//d/+j/8//0/+f/2P/Q/9j/5v/t//P/9f/v/+3/7P/o/+b/6P/l/+n/6f/h/9b/1v/c/+b/8P/i/9z/5f/z/wkAGgAiAB0AEAAHAAcAEwAbABsADQD5//L/9P8EABcAKQA0AC4AJgAfABkAGQAhACoAKAAeABEADwAUABUAEQAQAA4ADgAOAAwABQD9/wIAAQD4//T/6v/s//3/DAAUABYACAADAAQABgAEAP//+P/z//X/9P/6//j/+v/0//D//f8JABQAEwAGAPT/6P/n/+b/6v/n/+P/3v/g/+v/8P/4/wEAAgAAAAIA//8EAA0AAgD8//b/8P/w//j/AQALABEADwAGAAEAAQAFAA0ACQADAAQABQAEAAQABgAFAAQAAQD1//X/+P/4//X/9//1/+z/4f/c/+n/8f/1//3//P/0/+r/5P/s//P/9//1/+v/4//d/9z/3v/n/+7/7v/0//f/+P/6/wgAEAAOAAUA8//q/+L/5v/w//T/7v/q//P///8BAAIA//8BAAUADAAMAA0ADgAMAA0AEAAWABYACQADAAMABQALABIAEwAQAAkAAwACAP//AQADAAEA//8FAAwADQAOABAACQAGAAMA//////3//P8BAAUA///+//j//P8GABAAEAARAA0ACwAHAPz/8P/y//n//f/9//X/9v/3//v///8AAPj/9//4//n/+f/3//X/8f/s/+v/7//1//z/AQAAAPf/9f/6//n/9//v/+7/8//3//j/+f///wMABQAGAAIACQAPAAsACgAFAP3//f8EAAQAAgAGAAkADAAMAAQAAgANABMADgAKAAoABQAEAAQACAAIAAAA//8AAAYABAAAAAAA///7//v/+v/2//L/7v/z//j/AgACAP3/+//9//3/BQAKAAYACgD+//n/+v/2//v/AAD9//r//f8BAAgADgAPAAYA+v/1//v/AAADAP3//P8AAAIABAABAAIAAAADAAUACQASABMACwAGAAYABAACAAcADQAQABUAGgAOAAEAAAAAAPX/7P/u//r/BAAQABQADgABAPn/8//n/+z/AQAKAAMAEQAmABwA+//O/7H/uv/X/+L/8/8VADAARABGADAAHQAPAPr/2//L/8X/v//P/+v/AwAXACYADQDa/+H/4P/C/9f/CgASABoANAAeAO7/3P/b/+H/HQBVAJMAowCMAFAABwDS/8b/0f/S//v/GQAkABAAAADH/6r/sv/B//n/OwBcACYA7/+f/13/T/9T/37///+ZAPUAFgHzAHUAy/9K/9T+6/58/1AAMAHwAeUBBQE1AJD+0/zW/Bf+Vf+qASwE6AT4A2YDwv5c+PX1B/YK9yD7FQJABtoI5wmEB1QCGP5c+hP44flo/gQDhAalCMoH6ASiADz8KvnD+Mv6OP5DAj0FewbfBSADAf+z+9v5mvly+/j+QwIlBYIGCwXiATL/xvyz+tT6+Pzl//ACUgXwBKIDqQH1/gz8X/vd/M7+RQETAxoEmAN4Arv/I/0B/Aj9Nf7g/ukAOQGWABQAkP+D/cv9u/8TABUAAwGBARUA+v6a/bn9vv47AMoA/gH4AuwCXAEK/zL9uv13/hD+PP4NALIBFwE8AfQAGQD+/jX/1P1a/cX/HwEVALr/ugA7AFb/Gf+m/nv+LAAbACEApwAnAQwBPQCS/7L+sP9UAAQAwP+2AIgAw/87ABsAPABEAc8B1f9BACgBkv8y/g7/zP+2/70BzgJ5AdgBpAJeABz+fv2o/a79gv+TANEBQAN8AzcBwv8o/8r9W/1O/nD/JAACA1kDMALBACgAxf4L/tP+af/2AFcCGQJ7AXUBbQAl/zf+aP4W/k0AfwEsAVYBDQKcACX+y/18/rX+S/8ZAYgBUwHhAfABTQBM/zT/Bf9K/6cAHgGoAPcA1f+s/g7+Vf43/hP/MgCV/zUCOfxN+RT6/Pu6/PL85AOiBVYGsgijBKr6YfLr87nvW/FS+uAEtAkKC8cN6Ql6B6wAo/ju9HD5p/9YA7sHpQr+ChMIJQKW+/H2FPdl+IL5kP5nA2gHzwb/A+z/Y/zU+fX2dPg1/GcCbQYJCA0IVAa0BI8AY/zH+k/8Jf72/3MDqQVLBmkEXwGb/fH6Bvvm+uv7e/7JAbEDmQNbA+EBMgDm/ar8gfzm/aQAXAJIA4cD4wPqAnQArf71/ZL9kv16/qn/iQDVAS0C8ACM/8n+8P2w/Ir8Tf17/sn/sAApASMBJAEpAN3+W/6H/g//1v/dAL0BngLgAvUBkwCX/wD/if5V/qn+cv8yAGgANAAZANT/Gv8m/tX97f2h/mb/FwBoAMsA3QB5AB8A5P+8/4L/0f9dALwAdQHIAXgB4gAlAJr/WP9h/1P/r/83AFoAYABzAGQALwDs/73/ff+S/wAAIQBAAHEA1gDUAMsA3gCaACkA6P/p/7n/1P8HACMAOgA5AAwAr/96/2L/W/9v/67/yP/g/0IASwAVAAsAEgAVACMAKQBKAJUAvQDZANgAuACSAEQA3/+D/33/XP89/2j/qv/U/97/CwD6/+n/yf+m/4P/Y/+i/8D/6P8EADIAWABLAAIAo/+n/7n/3/8WACcAQwA/AEAAGQD1/9H/jf9u/13/hP+4//7/FQAMADEAQgA0AP//1v/L/+T/9v8TABUAOwBEACwACAC7//H/CgATACIAGAALAPn/5P/5/xoAOQBNADEAHwAZACsAIwASACUAIQBFAFsAYgBKAA8Awv9w/2L/iv/R/+z/6/8nAE0ASQA0APz/pv+1//v/EAA9AE0AXgBdADwAIADq/9L/y//K/9v/4f/k/+n/5P/q/+f/+P/y/+//6f/m//v/9P/1//T/AgAWACcAIAAEAOv/3f/S/+D/AwAdABcACwAOAAkAFgAEAOT/0f/i//H//v8IAPL/5f/1/wEABAAIAPz/+f/+/w4AEQD7//T/5//h/+T/5//p/woAKwAiAB0AFQAOAB0AEgAYACQAMwAlABEAIAASABoAHQAeACMAFQAeABcA/f/2/+r/1P/T/+P/5P/D/8j/2//s/xAALgBEAD0APAA0ACIAKAAcAP//BAAfACkAKAAoACYAGQAFAOz/0v+7/87/2v/n/wQAEQAKAPf/+//l/9f/4//h//b/BAAQAA4AAAAAAAIABAD3/97/y//U/+n/6v/5/xEAGwATABkAFQAEABAAGQD9//X/AAD9//X/9//7//L/7//v//v/9v/v//j/8f/v//X/CAACAPD/9f8BAAwABgABAAQABAAOAAcABAARABMACwDv/97/7/8FAAgABQAXABcADAAKAAkABQD3//v/BAD///f/+f/2/+3/9//8//j//f8AAAcAEgAIAAMA/P/x//T/+P/0//T//f/6//H/8f/1//z//P/s/+j/7v/p/97/zv/O/9D/3f/u//b/7P/x/////v/8//7/AQD7////EgARAAoABwADAAgADQAaABcADQAUABoAJQASAPj/+//6////BgAOAAsABAAKAA4ADAAGABQAGAACAP7/+f/y//L/+f/6//n/DQAYABYAFwASAAcAAwANABUADwAXABIADgAXAAwAAQD7/wUABgAGAAkA/P/2/////v/4//X/9//9/wEAAgD+///////3//T/+//+//b/7//l/+T/6v/p/+L/6f/y//L/+v8GAA0AGAATAAcAAgD8/wAA/f/6//L/8v/7///////6//L/5P/f/+7/8P/t//n/+//2//z/BQAFAAkABAD+/wEABwAEAPr//v/3//T/9//v/+r/6f/p//b/AgAIAAAA/f8FAAgACAD+//v/+//5/wQABwAFAP//+v8DAAoACwAFAPv/8P/2/wkABgD9//3//v8GAAkADgAIAAYADAAOABkAGAAPAAkAAQABAAAACAALAP7/AQAJABIAIAAiABcADAAQABcAEAAHAAEA9v/w//7/CgARABIAEQANABcAIAAWAAoABwACAP//BAABAPj/+P/8//j/9v/8//v/8//7//z/9//2/+//7//s//L/9//1/wAABQAJABIADgADAPv/+//4//f////6//L/9P/y/+3/7v/n/+3/8f/x//T/7//x//b//f8BAPv/8f/w//H/8P/6/wMADAAQABcAFwAUABQAFAASABAAFQAUAA4ABAABAP//BgANAAkACgAIAAcABwAKAAEA+/8AAPj/8P/4/wEA///8////BgAKABIA+v/8/wAABQAAAPD/8P/p//L/8//4/wQADAAIAAgABgAMAA8AFQAPAAgACAAEAAoAEAALAAMACAAKAAkADAANAAcA/P/9//j/8//w//f/9/8AAAkA///3//H/8P/2////9//5//3/AQD8/wAA/P/v//X//v8BAAAABAAJAAgADQAYABEACwAHAAEAAwABAPv/8P/o/+j/7v///wcAAwD5/+z/7f/0//f/9//w//L/9f/9/wQACAAFAP7//v8IABEADgAHAAAA+P/z//n//P/4//r/AQAMABAADAAMAAkACAAHAA8ACAAAAP7/9//8//////////z/+v/8//v//f///wYAAwAJAAYAAQD///L/9v/1//7/AQD8/wAA/f8CAAgABwAEAAQACgAIAAIAAQDy/+z/9P/7/wAA/f8FAAAADAAPAA0ADwAEAAIABQAIAAQA+//3//v//P8GAAAAAAD///3/AQDx//b/+//+/woA/v/6//n//v8AAPn/+//5/wEADAAEAAIABwAOAAoAAQD+//n//f8AAAUABQAGAAUAAQAHAAsACgAGAAIA//8CAP//+//2//b/9v8BAAcAAgD7//n//f/6//b/8P/q/+z/7//p/+7/9f/8////CAAMAA0AEwAIAAoABwAKAAsA//8FAP3/AgAFAAYABQD///7//P8CAA8ACwAMAA8AEAAXABUAGwAQAAoA///t//X/+f8GAAkABgANAAYACAAAAPr/+f/v//L/7v/z//r/9/8EAAMAAwAIAAkAEwAIAAYA/v/3//n/8//y//T/8f/8//j/+//3//r/AwD//wQAAgAJAAoABAACAAAABAABAAIACQAKABIADAANABIADAAPAAkABgAMAAoABwADAPz/9//1//v/AgANAAwABQAGAAYABQD5//H/8f/5/wAA/P/u/+X/7f/1//f/8f/n/+f/7v/6/wIABgAJAAIA8//u/+z/7P/t//D/7P/w//n//v8LAA4ABwAEAP7/+//1/+z/9v8EABMAGwAaAB4AHwAgABoAEQAKAAYAEAAKAAgADQAVACMAKAAzADYALAA3AC4AIwAcAAgABgD5//v/AQAHAAwABQAIAAgA8//j/9b/2P/U/9D/z//A/7//wP++/8L/wf/F/8r/0f/d/9z/6//r/+P/3//W/9b/1v/c/93/4P/k/+P/4//h/93/3v/X/8//zv/Y//f/AgAVAC8AQABiAGEAYQBdAFQAVQBLAFAAXgBkAHAAcgB1AG8AbwBrAF4AfACOALgA6QALAU4BZwFrAVQBAgGrAD8A0/9//zr/Hv8j/zL/Wf9+/5f/nv+T/3f/VP8o/wn/AP/+/gr/Kf9D/07/W/9O/0z/Of8T//L+2/7W/uP+Av8l/1T/c/+P/5r/l/+W/4z/ef9z/3n/i/+r/8//+f8cADEAMgAvAC0ALAAvADwAUQBsAJkA0AAIATYBYAF4AYYBngGgAaUBtwHMAf8BJgJWAnQChAKJAloCKgLNAXEBGgHHAJ4AfQB/AKYAwgDeAOQA2gDEAHIACwCQ/w//i/4H/pH9If3Y/J38dPxl/Fn8VvxN/EX8Z/yW/Mz8C/1D/Xr9nf2o/Zj9bv0s/d78jPxE/Bj8CfwU/DP8aPzD/C39pP0l/qr+Pv/H/1MA2ABSAb0BFAJbAogCpwLQAv4CQgOPA/cDcAQABaMFOwbHBkkHtAf7ByAIIggfCAII5AenB1cH7gaOBjIG2QVuBQoFyQSZBGgEGwTaA5UDPAOzAgACTQGWAOL/Mv+E/vP9dv35/Hz8AfyC+wb7fvr6+Yf5F/m0+Fr4I/gY+DP4Y/iv+Af5Y/m0+en5DPoD+tD5gvkq+eb4tPiV+Jv44fhX+er5h/o0++37qvxn/SP+y/5s/wgAoAA5Ab0BLQKLAtoCHgNeA5QDzgMLBEMEewS9BPAEOwV7BbwFDAZZBrkGIgelByUIhwjlCEEJkgmyCbQJpAleCfQIXAiwB9QGzAXWBPMDVwPuAsYCxQLgAhYDLAMzAw0D0QJaArYB9wAgAFv/g/6l/cT80/vW+rz5pviL94f2nvXB9P/zP/O58k7yE/IM8lzyEPMB9Cb1UvaD93v4MPmX+bj5nvlX+Q352PjF+Nr4DflM+Yj5u/nu+TH6mvo0+xn8PP2e/icAsAELAyUE9ARoBZUFhwVxBV4FYwWZBfUFagbpBmQHyQccCF4IiAilCLEIwAjWCOMIDwlNCaYJ+wkyCoEKvwrhCuwKxgqpClgK7gk4CYII/AdFB5QGqgUPBXYEoQPSAuUBUQGlAAUAnv9+/5n/i/9n/1z/Wv8A/2H+pP3p/Br8Ivs2+mv5rPje9+z2BfYI9erzr/Kv8QTxn/CH8MHwlfGS8pjze/RU9TX2svYK9zb3jPfs91P46viY+UX6zPpJ+7v7JfyC/M78LP2//Xr+Sv8RAPEAwQFfAtcCOwOgA+EDKASEBPsElAUlBrMGLQeNB94HCAgeCDcIagiOCJ0IvwjhCOIIrAhyCDII8we7B6AHuwcCCF8Izwg+CZUJwwmjCSsJgAisB+QGBgZZBfAEkARcBPsDxAM4A28CmAFyAH//d/4c/vH98/1k/gb/zv/4/8T/Ov8f/pL8wfom+S/4Y/cD9/r2XPfw9wv4BPjc95/3Kvey9rv2JvfZ9674jvlc+tX68Pqx+j/6qfkC+Y34ZPiZ+P/4gfkV+o/65PoQ+y37Q/tX+6j7Nfzr/NL9yf7S/6gASwHgAUICnQLNAhcDeQPjA28E4gR2BQoGhAbTBvMGDQf4BtoGtwanBpwGggZlBjIGCga1BUYF2gSHBDYEzQOLA34DhwODA38DkAOJA3MDPQMCA9QCmwJuAjACAwLXAa0BaQEaAdcAlQBUAAAAvP93/0D/Av/I/o3+W/5H/in+Bf7f/cr9sv2t/Z/9nv2r/an9vP24/cv94v3i/dn9xv26/ab9iP1y/Vz9Xv2C/aD9vP3M/fr9H/4p/ir+K/5B/ln+ZP5//qL+zf7h/t7+5v7i/u3+4P70/hv/N/9X/3X/pv/E/83/tf+q/6L/oP+t/6//uv+8/+H/9f/9/wQAFQArACAALQBAAGsAmgC3ANoA6gD1AP0A7wDoAPIA/gAEAfkADAEjASQBEgEAAfsA5gDLAMIAwgDNAOsABQEwAUwBZwFtAWYBUwE7ASkBGAEQAfUA2QC5AKEAeQBeAEwAPgAqAB0ALQA9AEoAVQBlAG0AZgBVAFcAVgBKAD4ALAA1AD4AOAArACUALQAUAAQABQAHAAoAAwAYABkAGQAZAB4ALQApACcAFwANAAEABAAKAAcABgD+/wIAAwD5/+r/4f/d/9D/xP/K/9X/2//W/9H/3P/a/8X/sf+h/5n/hP9t/1//Y/90/37/gP91/3D/e/+A/4T/m/+q/7j/wf/J/9P/2f/g/97/0f++/6z/pP+l/7P/yP/Z/+j//P8QABkAIgAbABkAFwAhACcAIwAkACMALgAkABEACQD9//j/8v/1//7/AAAMAAsACQADAPz//f/8/wIABwAMABQADwAGAAAA+v/q/9P/zv/T/9D/vv+5/8H/zP/U/9f/4f/n/+n/9P/8//r/9P/o/97/1v/P/8X/vP+y/6T/mf+h/6X/pv+j/6X/wf/d//D///8LAAoAAAD2//X/8//v/+j/3f/f/+X/5v/p/+b/5//g/93/2P/b/+n/8f/9/wwAGgAhACEAHAAMAAEADAAMAAsABwAIABIAGgAaABEADwAMAAgAAQD+/wIA/////wUAEwAZABcAGAAaAB0AHwAXABUAGgAhACAAGQAZABUACwD9//b/8f/t/+z/5//s//f/BgAQABAADgAGAP3/8//r/+z/8P/y//b//v8EAAMABgADAAAAAQD+/wEACwAZAB0AFwAYABkAIwAqACoAJwAiACoAMQAmABsAFAAPAA0ABgAFAPz/8v/4//v/+P/0//n/BAALAAkAAwD//////P/1/+z/5f/e/9r/1//U/9L/1f/Z/+P/9//5//D/8v/2/wMAEgASAAQA+v/+//3/+v/z/+n/6P/k/97/3P/d/9z/3v/b/+D/5f/q//T/+v/9//f/+v8CAAcADAAMAAkABgABAAQACgAGAPr/+P8FAA4AEQAUABQAFQAWABMAEgAVABkAGwAWABQADwALAAIA+v/4//v////+//3/AgAKAA8AEAAOAAsADAAHAAcABQAFAAIA+f/0//X/+P/3//j//v8BAP///v8CAAoADwANAA0ABwAFAAIA/f/3//L/7//u//L/9v/2//f/9P/m/9//4v/p/+r/6//x//v//f////3/9v///wcACAAIAAoABgACAAMABAABAAEAAwAEAAMAAQABAAAACgAVAA8ABgAEAAcADgAPAAgA/f/2//f/+P/0//L/8P/x//j/9f/x/+3/6//x//f//f/6//X/+P8AAAcABgAFAAgACQAGAAYACAAOABMACQACAAEAAAACAAEACQAUABIACgADAAIACAAGAAAA//8CAPz/+P/2//D/7v/x//H/9//8/wAAAAD+/wgAEAAWABcAEAAOAA8ACAACAP3/AgAIAAcACAAIAA8AEwATABEADgAIAAoABwAHAAgAAgAAAAEAAAD4//H/9f/9//3/9f/4//v/9v/w//H/8v/4/wQACgAGAAIAAQADAAIAAgAJAAwABAD7//j//v8BAP//+f/8/////f8AAAMABwAFAAAA/P/4//f/+P/4//r/+f/9//3/9v/x//X/+P/w/+r/7P/w//L/+P/+/wMABQABAAEABwANAA4ACAAKAA0AEAAMAAMABAAIABMAEQAKAAYABQAEAAIABQAAAP//AQABAPz/8//t/+//9//8/wAABAAIAAYABwACAPz/+v/6//j/8f/u//L//P8AAPz/+//+/wMACQAIAAYABgADAAEAAgAGAAQA///2//n/BQAEAP3/9f/3////BAADAP///f8BAAQAAwABAP/////+/wEA/P/2//f/+//5//f/+////wIAAgABAAAAAgAIAAwACgAIAAUABQAIAAwAEgARAAoACAAIAAYABQALAAoABgD///P/8v/2//b/9f/v//P/+v/7//r/+f/9/wAABAACAPz/+/8CAAYAAgD9//b/9//7//z/AQADAAcAEAANAAcABgAGAAMAAQACAPv/+f/8/wEADAAOAAkABAD//wAA///7//j/+P/9//7/+////wAAAgAGAAkADQAEAAAAAQD///n/8//1//v//////wAA/v8CAAAABgAHAAkAFgAeACEAHAARAP//6//m/+H/5P/3/xAAGQAaAA0AAwDo/8H/tP+4/9H/+v8dADYATQBJADgAKgADAOT/2v/g//3/GgAtAEMAWABMACwACgC0/4P/dv93/57/9/9OAGgAXgA+APr/nv9J/xX/Gv9Q/7X/EwB9AMYA1QB1APf/j/87/yb/Z//3/5IATQGlAXoBAQFqAIj/hv4Y/m3+Jf9FAMgBzgLrAqYCBAJ4/T357/eK91H3kPmv/gQDJgYdCIcILQbiAqn/tPyZ+l/7CP6YADMD1QUhB7cFaANXABn9ofoD+sf6jPx8/3wCPwRZBLYDCgIu/178LftA+2786/6ZAagDAQVwBeYDWQFI/7P9rvy6/BD+DQAsAsEDHAQTA6IBCQAw/mP8BPzt/Ff+/f99AccC6QItAsQAEv9D/YP8w/xq/dT+2QDTApIDfgOlAvQAQP/V/QD90/wa/hkA8AE5A8oD+APlAjsAAv63/H38nvzk/d3/1wHWA44DzAIHAfP+h/2m+xH7XPuo/QoAqgGpAkUDZQP8AZT/3P2Q/eT9KP5M/zYAigFJAiABgQDr/9j/uP7C/vj9W/0K/+b+RP/l/zIBnwL8Ac0BTQHlAO0AjP8y/2v94wCL/qv1y/X99QX33/Pq9uz8pgCQA9YGPAnXCTwKmgliBqACUQNkAYb/6fuU/2sAvf9UAK799f2K+3X8Afkk+NT60P1PAb0AHwQ2BdUEkwKf/3EABQAnAUcCnAH8BMoD/gR1A9b/tQAQ/fz/SfzW/EwA5P8LA47+hAFmAH//7P8g/J0AXf7cAAECMQE3A8wBfwTQAakB8ABDAB8Apv7a/78A1AC6ACcCvQBTAm4AhwBy/z//NwEH/wECFgBwAdgARwCJAXn/SwEaAAUAOv/U/sb+D/41/oT9tv6E/8v+zf8//xX/8gDGAGUBLQB2ASQAqf/w/Kv6w/sP+fT6xfoT/EX+jP/vAHkAswG3AqsCuQHmAbYBHvww/An8g/P98Njy5vX39X/3dQB1BbAH8QWvBZgFmwNaARr/KgDLAYsDngXtBf4DOQSvAmj/JfvI+9r9Hf28/iYBOQOxA+cDYgM+ASMBigGp/2H/NAHwA7wEnAQTBRMFdgRjAr4BFgJRAvQBFwLJAtUCmQIPAqMANf+5/rL+JP6c/QX/bgBBAe0AkgCzAA0AYv/Q/vr+0//FAGoB9QEgA40DTgMdAicAiP9X/+b+V/5x/jH/2v+r/1T/1f7k/oz+ff5I/vv9/f77/mH/Sv9a/6D/E/5p/er8vvyt/Db9fv4L/wgAUQDmACABQADY/9v+lf5o/YP8evy1++v7Tvsd+176LPqJ+qz6qvsd/LL97v5//7QAxgEoAvsBLwLpAtICTwJQApoCPAMCA0YD2wJwAg8CvwG6AYABDwKVAikDrQOzBIQFTgaqBjIHDAjDCFMJQQkrCacIawgMCHMHuAYDBq0F8AQwBIEDjQNqAwUDiwLrARYCUwKyARgBXQDW/77/E/+m/6P/KgDNAJkAfADi/+//KgDXAK8AWQHjAUMCCgLoAFj+JPkZ8sPqdOW54fHfQN8z4JDiYeWd6NHrYe8M83323/gC+7D9zwDfA8AFzgaKBp4E6wHF/rP7MvnW9tf04vOt9Bj3Ufq1/QsB3QMIBhsHDQjuCN8JfwpcCiAK+wmQCaII5wcsB4sGugV0BR8GYQd0CSwLZwxhDQEOeg5uDvgN8wy+C4sKowmeCRMKkQoBC4wKqgkmCSkIoQgkCKoIOAnMCAsJ7Ae9CPUHIgf+BR8EFwTVAzgGGQg9CukMGA4fD78NSQz0Br78YetL1hLFJbvouyHCucwV2QXmrfGo+U//2QNRCMsKAguTCpcLJg+mE/YWQxcnE7UKK//r8hvoNOD+2h7Zgdq73qXliO3Y9Sf9RAIzBKoDzQKYA9cFcQiyCv4LqwsTCVMFQAGy/cT5UvVb8Ujv4/CH9c77YQJdCA0N4A/kEKwQ5g9yDoAMWAqNCHkHWwfoBzsIogcsBqsE1QNcBBMGiwhZC+AN2A/REAARmxCWD9oNbwsdCYsH2ga0BkoHhwduB/wGqQZCB8AHHwnvCUUKmwnlB+wGIAa5BfUEJAUDB3gJwQygD5sSdxTSEK8DTOsBz6K4Fq6nrrS1o8GB0afjEvRjABgJvw+SFG0VdRFPCygIegp7EOoV+he2FYYPsQXw+NDqcN4x1iHSq9FQ1C3bCOZt8xUAegkTD8YR0BKGER4OyQkzBt4DnQEF/0/8S/qz+In2qPPe8OPv8fDx85D4tv5PBvIN1xPSFvMWLxU4Eg4O+wjLA5v/UP3w/Cz+pADCAyYH6Qm6C7EMHw09Dc0MXgzhC6gLegsbC60KFwp2CZEINQfJBfIEuQQVBcgFbgc/CfIK4gs5DPALagq/COMGKQWpA6cCkgJGAwUE8wQxBjoIcgrCC1MM3QyMDUIKDf7+57jOILxTtQu5IsPn0IThCvOXAr4OJxiJH/8iIB+VE90EWvnj9Jr1e/cM+OH26PQs8rPu6eoJ6FjmjuWs5R3oO++U+qsHxRLQGeEcuhwzGTMS0whn/oz0eesZ5Jfg++Ea6H/wYvi9/nQDNAcqCi0MLg2YDZANMw3KDFUMAgw8C2cJOAbSASX9iPnU9wv4//lX/fIBGwdLDOQQJxSuFaIUrxF6DTEJkwXLAh4BewDyAP0BjQNjBSYHvghyCWkJAQmCCNAINgllCSoJ/QiECBIIcge5BnEG5QVcBV4EPQNmAnsClgM4BfcG2geFCMwIjQlkCz4LpwU591viKc6zwSq/xsTZzlPbceks9xgE7g++GggjAiWwHYQPGQBE9Xnw9+5m7gPu9u3X7oHwVfJ39E31KfRu8dzuP++681D74AOzC6gR8hX7F+IWoRL4CvkA7PV16wbkEuHR4lzoDfCf+EkBNwl+D2ETeRToEsQPBgzSCH0G9wQmBMUDeAMiA2QCKwGl/7r9Dvz4+lv7r/3DAecGCQyzEAsUcRWqFCASTA54CTQEP/+X+/X5uPpr/VIBMAVkCHEKaQvAC0gLWQqgCOYGKQUPBJ4DDQROBcgG5gdVCLsHaQagBJMCawFTABYANABAAU0DlAXfB+YJPAxHDb0Jp/4L7ejZw8tNxYfG0MyF1jniNe6t+o8HTBU4IQAnbyMHGLoJrf3S9bDwz+xf6Wvn9+de6+DwEfeS+9T8FPvf99X1NPbR+Lb8CwFuBS4K9Q7lEhoVHRReDz8H+/wU83Dr4uaX5fLmteoW8Vf5mgJMCw8SHhYfF2gV4RGVDRwJAwV6AfL+qf2Y/Ur+SP/Q/8r/YP/+/gf/oP8bAV4DQAZVCXAMGg8tEVcS9RHKD8oLxwa7AZ79Dvs8+gb7zPwZ/7UB6QR3CKULsA0ADqEMRAqFB3wFPASNAx4DpwLOAnoD1wTXBT0GagXoA/kBOQBo/z7/rv9IAE4BWgM6Bv4GnAOB+unt9OFd2RLWHtf22uvfKOVh64z0+AB7DjwZYx3NGvYT9AvyBIr+3Pf28NfqBOev5qDp+O4H9dj58/xI/tb+gP8oAKIAvQCmAAgBZwKNBAwH0wgwCZ4HKASz/y77WPda9BLyvPC78MHyBvfl/HADDwnsDPEOgw9JDzkOEAz9CIsFZgIRAJf+6P3+/XT+LP8YAAUBHwJKA1MESAVgBqkHHQlXCicLmwuaCwELrQmTBwwFsAK8AG7/rP5U/r3+4P+LAZ0DogVqB9EIdAmeCfkI8Qd0BgYF2wMSA7sCUwJQAjECJAIOAmgBmwARAIH/0//g////hwBWAaYD6QWeBrYDYfwy8nHoqeFA32Lgx+LV5ITmY+nY7yX6Cgb7D5EUAhRZEAsMlwgmBY0AcPp987vt8Opx65zujvLN9R74tflx+6D92/+8Ac0C0AJiAlICDwO1BOIF8AWfBGcCMwBp/vv8yfuG+iD5pPfi9nf3rfnz/AEAnALRBCIHegksC/MLzQvmCo8J7wcxBogEBQNzAfX/yP4U/i7+tP6g/+YAUALrA3YF2gY4CEMJ/gkxCs4JHQknCCgHMwYFBY4DAQKnACwAbAAkAcUB/QElAnUC/wLAA2YE3wQ6BS0FSAVOBagF8QXcBTQFFQSvAmQBZwDL/6v/if9I//T+Rv+NAMgC3gMlArn8gfST7DPnu+Ux5wvpouki6avp8+0c9iUAhggFDbQNcgwcC3gKoQkkB3UCUfyD9tLykvH28dLyVfPW85L0JvaW+Iz7hv7NABgCzgJwA1cEZgXlBZcFOgRXAk0AmP6X/RP9s/wr/Hn7Jvuq+978g/7+/zoBUgJVA10EXgVHBiAHvwfiB7kHKQdkBpkF1wQcBFsDVQJQAY8ARACeAD4B8gGmAlcDNwRFBTYGzgbrBpgGTAYYBgUGxwUiBSsEVwPyAgYDQQMfA5sC6AGDAZIBCgJtAqsCwwLJAiwDvwNfBP0EHwUJBdQEbAT4A/sCzgHNADIA7v+0/zj/0/4J//X/LQE6AcT+kvn48l3tBeu669Ttw+6m7Q/sYuw38O32Ov50A8cFugVcBf0FeweXCOAH4wTHAAv9kvqK+Qf5b/hB98P1o/SZ9M31y/f0+bX7IP2O/goArAE5A0AErgRFBHUDvwJIAiAC0AEyAYQA4f+K/2L/Tf9P/1H/bv+4/0IACAHNAX0CHQPdA6wEeAUJBmEGmQaQBkMGowXHBP8DbwMFA7kCdwJIAjECTwKhAh4DhwO1A58DYgNpA6gDAAREBDwEDgTRA7MDxQPeA9wDrwNVAxsDFQNOA3YDYgMoA8UCnAK3AhUDlwPwA/gDpAMMA2oCvwFAAeMAogBjAOf/Uf/g/iH/FwD3AIsA0f0W+eTzRPBn75rw9PGe8ZbvlO3b7UjxwPYP/F3/gQCMABYB9AKABTsH/AbDBNYBdv88/sz9Pv0d/G76q/h791b3DvgY+Q76v/p6+4H8xP0y/48AdQH/AQ0C+gEMAiwCVgJUAg4CvgF6AToB+wChAF0AMABBAHYAvgDeAPUALAGbAT8CxgIDAwwDNwOsA04EzATzBMwEkARiBE8EOgQUBNMDhgNcA1sDhgOsA58DcwNKAzUDNgMmAxADCAMLAxkDEwMMA/8CCgMtA2ADlQOrA6sDhANKAyED5gKmAnACTAJyApMClwJaAvYBmgFdAQsBwACGAEEAAgB2/9T+jf4C/9f/OwDV/m77s/Zu8nvw+fCm8krzzvFI7xDu0+9q9Mb5r/1Y/2j/dv/DAAgDGAW5BWsEIwI2AEH/Lv8o/4b+VP3K+2b6nPlj+bX5QPqc+u/6Zvsf/D39b/6O/2wA4gD5AO0A9gBSAdcBFgIVAuwB1QHkASkCaQKoAq4CgAI5AuIBqQGhAa8BxQHkAd8B5AEFAmMC+wKnAyYEYgRYBE4EaASRBLQEvwSqBI0EgASIBJEEYwT2A3cDIAMHA/4C0QJ3Ah8CAQI/AqYC9QIgAxYDAgMFAxwDLwM5Ax4DCgPfAq0CfAJxApMC0wIIAwgD1AJyAg4CoQFXASkBDwHXAFYAhP/Z/rv+O/+c/8P+/Pu0943zOfFg8fnyG/Rd80Dxv+/L8Jj0sPnL/a7/o/80/8f/kAGjA6kEDAREAnAAVP/6/t3+bv5y/SD8w/rL+Xj5u/lV+vP6YvvE+138Rv1o/nv/KwCAAJ8AxwAmAasBBgIiAhgCGwJLAoECpAKsArACqwKTAjICqAEeAcgA1AAmAZUB5QEEAiECfwIeA9cDRQQ3BN4DnQOYA9YDIwROBDYECQT1Aw0ERwROBAcEgAMGA8oCzwLiAt0CtgKKAn8CswIWA2wDiwNSA/ECoQJ+AnwCgwJ2Ak4CJAIVAlwC2AJYA4sDVAPZAmICDgLWAYwBFwGkADkA5/+b/y//wf6l/vD+ef9D/2H9w/mk9dDybvLQ80f1U/W08+fxy/E39HP4sPws/7z/Tv9a/4EAPgKFA6wDpwIiAeX/Mv8F/+H+Xv55/Uv8Tvvi+gT7j/s8/Lr8/vwi/VX93P2U/ir/cv92/1n/gv/g/3AAEAGSAe8BIgInAikCQQJTAmkCXgIuAuoBlQFEATUBVAGXAc4B7QETAlwCvAIpA3ADgQNuA1EDUgODA8UD+AMOBPUD8gMTBDkETwQyBNwDggNRA1IDbgNrAzkD5gKhApwC2AISAxAD1AKOAokCwgL3AgEDygKMApMCzwInA1MDPAPmAo0COQICAq4BGQFbALD/Qv8V/xX//P7M/oD+U/5v/un+cf9V/9/97vpR9030D/N482/0wfT388vykfJH9Lj3y/vk/j8AOQD0/00APQH9AQECPAEPABf/gP5K/kf+Q/4N/qP9B/2B/EH8TPyb/AH9O/0//SH9Df0//b39dv41/6f/1P/w/yoAqQBbARACogLoAskCcAIXAgcCLgJXAlMCDwKnAWIBWAGaAQcCcgK2AskCvgLLAv0CRwNoA0gDFwMSA1QDzQM2BGkEjASpBMgE1gS0BGIEBgSuA48DlQORA1ED3gJzAlUCiwLfAhYDEwP6AvIC9QLxAsgCgAJMAjwCSQJ5Ar4C+AIXA+QCZAK0ASgB0AClAGkA+f9m/8z+av5N/mX+kP6z/tH++v7a/uz9yful+Hv1cvP78q/zdfSg9HD0rfQN9pv4sft0/iQAiAAeAKT/mv/j//H/d/+u/hD+8P0r/nf+s/7s/gz/5/5s/sX9Mv3f/Mz8uvyE/Eb8Uvzd/Nj96P6V/7X/ov+5/0cAGAHPATgCKALWAZYBnwH4AWUCfwJfAh0C2gHLAdsBBwInAjQCNAJXAoECtALdAvYCFwMNA+cC1QL/AlYDwgP6Aw8EFAQiBFUEeARlBBUEpANDAyEDDQP1AsgCowKYApwCpgKjAowCZwJxAoYClwKBAk4COQJSAngClAKsAskCCQM3Ay4DxwIWAk0BpAAZAKT/Kf+v/mr+aP6P/qz+oP59/pD+0v78/mr+mPyb+UD2rfPR8pTzzvSV9bv12/W79q34XPsH/un/jgAkADn/cP4S/hL+Sf6I/qv+pP6d/r7+Mv/M/yYA3f/g/p39l/wQ/Pb7DPwo/F/8u/w7/c39hv59/30AOQFzAT8B4gC0ANwARgGxAegB1AGUAWEBfAH8AZEC1gKaAgcChAFgAaQBGwJ5AoMCTAIVAiUCcgLXAisDWwOEA7QD3QPbA7wDpQO5A+AD2wOHAwwDvgLFAvwCJwMPA8sCkgJ8ApUCtgLAAqQCXwIIAswBrwG2AcgB4AH9ARkCOAJVAm8CfgKJAokCawILAnIBxgBAAO7/p/9F/7f+Pv73/eX99f3+/fD97f3//QX+hv0B/Ij59PZe9Vf1a/aM9yD4KfhR+Cn5xvqv/ET+D/8R/7b+dP5x/mf+GP6O/Sz9Uf0X/iH/9/9EAAsAof9e/0z/O//6/n/+7v15/UP9Tv2P/fT9jP5A//3/jgDTAAgBWQHUAUMCewJcAgQCoQFpAWEBZQFfAVUBXgGCAbAB0wHsAf0BFQIwAlUCgAKnAqECdwIvAuYBxQHDAeIBFwJUAn0CmQKyAvcCRANjAz0D0gJmAhgCAAIGAg4C9QHDAZkBkQHGAR8CWQJFAgcCwAG9AeIB9wHHAWMBGwEOATEBUQFNASMBBwH0AAkBIgEpAfYAnQAwAN7/tf+x/7z/lP9F/9L+l/7H/lL/x/+w/+H+f/0c/Gf7k/sY/DD8Ufvy+f74Cvn3+Sn7APw+/AP8w/v4+6f8bf3I/bX9aP1M/YX9Af6E/tL+2P6x/qf+xf7u/v3++P7e/tL+xf6v/pH+bP5G/kH+XP59/pj+t/4T/6n/QwCeAKwAnACuAPUAZAHFAQAC/gHeAcwB1wEGAjECRwJPAmIClALpAj8DXgMoA7wCSgIKAgcCGwIpAhUC5gG7AbYB5AE9Ao0CxALcAuMC7wLxAvAC+gIKAwEDywKDAjkCCQLzAeAB2QHgAfMBBQL7AeUBxwGnAZcBrwHOAeIBuwFtAS4BGQEwATkBHAHYAJoAbQBjAEwABACG/yP/AP8a/yf/xf7X/X38Rvu++hD7jPtp+2f6Ofm4+D35avps+737WfvT+tD6j/uU/Df9Iv2k/ET8avwx/U3+KP9p/y//4v7f/hr/X/+A/2b/F/+z/nv+iv7N/hL/GP/y/sH+pv7D/gb/Tf9i/1n/Yv+9/0gA0gA3AVcBXgF8AdIBTAKfAo4CSgIYAi0CiQLvAisDHgPrAswC8AI2A1QDGwOrAkoCKQI4AkACLwL+AcUBsgHLAesB7wHeAd0BDQJMAnUCgQJ4AmwCZwJ1AowCiAJaAh4C+QEIAiUCMQIgAvcB0QGpAYgBgAGNAZIBfwFYASgBBAH1APgA7gDPAJ4AdABaAD0ADgC8/2v/QP87/0H/IP+V/qT9j/y++4n7wPvZ+337zfpB+kv6x/pd+6z7j/s3+xP7ZvsU/Lb82/yV/Fj8lPxV/V/+M/+B/1X/Cv8D/1z/1/8ZAOn/a//v/rr+4v40/1v/I/+2/nr+o/78/jH/H//3/uT+GP+O/yUAnAC4AKIAogDpAHQB7wESAu0ByQHZATcCrwLzAuUCqgKMAqUC2wL4At8CigIuAvoB/AEMAvsBwgGIAX8BtQEEAkECWAJGAjkCPwJdAoECeAJGAhgCBgIiAlsCiQKJAlkCHAIHAh0CMwInAuwBoAFiAVcBggGyAbUBfQEnAf8AGwFRAWEBKgGpADEA9/8JAD8ANgDQ/0T/3v7M/vX+EP+5/uL93fwe/O77D/wR/KX7+vp/+nf60/oh+xT7xvqM+rn6Pfvb+zj8NPwD/Ar8fvxT/S3+p/6x/pT+pP77/nv/2P/w/7T/cP9q/63/9f/z/6P/RP8b/07/t//4/8H/OP/f/hL/q/8oAEEAFgDx/wEAWgDYAEcBZgFHATYBbgHWARICFwIBAu4B8gEZAloCiQJ/AkYCJQI8AmACYwI3AgACyQGiAZ0BvAHTAb4BpAG0Ae4BHgIxAjgCRQI/AjQCPAJbAm8CZwJVAkkCTQJSAk0CQAIqAvwBzgG/Ac0BxwGoAXkBVAE+ATcBRgFaAVABIQHfALoAsAC0AK0AfgA0ANf/hv9V/0b/Lf/i/mX+w/0a/Yj8K/z7+8r7ePsf++365Prj+sz6o/p5+nf6tvoh+5b70vvH+7D70/tZ/Ab9of37/Rf+KP5g/sj+Nv93/4r/jP+q/+b/FwAUAN//lP9m/2v/e/+K/3T/QP8U/xP/Qv+H/7//1f/f//X/IgBlALYA+QAiATwBbAGyAQUCRAJmAngCfwKbAsIC2wLYArgCjgJ5Am8CZQJDAgsC2gHGAdEB0wHJAacBgwF5AYcBmgGpAbMBrgGkAagBvwHSAdgB2AHgAfYBEgIlAi0CKAIRAvoB/wEZAi4CKAIFAtwBzAHLAboBmgFiASwBBQHzAN4AsQBtAEQAMwAbAPT/vf+N/1z/If/j/qz+bv4g/r79Yv0Q/bv8Z/wo/Pj7w/t++0H7G/sU+xr7F/sQ+xH7IvtX+6378PsM/Bj8Tvyw/Bv9ZP2X/c79G/5w/sX+Fv9P/2v/e/+P/6j/vv+8/6z/k/+M/6D/xP/f/9//0v/W//b/FgA0AEsAbwCYAMMA4QAKATEBVgF8AZ4BywEBAj4CdAKSAqYCvgLSAu0C/AICA/4C+gLsAtgCwwKlAowCcQJRAigCAQLeAb4BoQGGAXIBcgF4AYIBfAFkAUkBLwElAToBWwFsAWkBYAFVAVcBVQFHATIBJQEgARoBHwEQAeYAuACXAJkAogCXAHkAUAAkAAYA9v/f/8X/of+K/4P/ff9l/y//9/7E/qL+iP5g/if+6P2Z/Uv9HP34/NX8tPyO/Gf8Rfww/C78H/wU/Bf8LPxU/HT8hvyV/Kv80fwE/TX9X/2C/av93f0n/nb+uf7r/g3/OP9p/6j/2v/1//r/+v8SAD0AZQBtAHUAhwClAMgA5gAHAR0BLwFQAYMBugHjAfAB/AEQAi8CUgJvAosCpAK3AsMC0QLjAvIC9QLjAtYC2QLhAt8CxQKoAo8ChQJ8AmwCUAIgAvkB4gHZAcEBlAFnAUoBOwEmAREB/ADcAMMArQChAJMAewBnAF0AWgBOAEIAKwAWAAAA+v/x/+P/2//P/8D/rf+Q/3b/cf9i/0//PP8t/xr/Av/v/tf+vP6q/pT+e/5m/k7+Ov4p/gb+7f3d/dD9xf2q/Y79dv1n/Vn9TP0+/T79TP1L/UP9Nf0r/Tf9R/1Z/WD9dP2U/a/9yf3c/e79Fv5L/oj+u/7q/h7/Vv+W/8r/+f8hAEsAeQCiAMIA2gD2ABgBKwFNAXMBkwGvAb4B1QHnAfgBBAIYAiYCNgJAAkUCSwJQAk8CUwJeAmgCYAJHAjQCLQIoAhsCCwIAAvIB5wHaAc4BuwGqAaABjQF4AWUBTAE1AR0BBAHmAMsAsACRAHMAWQBGADIAIAAPAPT/4//c/9L/wf+m/5b/if92/2D/Tv9M/zr/Kf8d/xr/Ff8L/xT/Hv8h/xH/AP///gH/+P7g/tX+zP7A/rT+qf6a/pD+jf6K/ov+fP5t/mz+cv56/nz+c/50/nv+hP6a/qz+w/7U/tv+9v4C/xH/Hv81/0//Wv9s/5H/sP+8/8v/1v/n/wcAIAA6AE0AZQB5AIcAmwCrALgAvwDKAM4AzgDVAN4A7wDxAPYA/wANARUBDwEEAf0ABAEEAQoBBQEHAQUB/AD5AO0A6QDaANMAzQDKAMAArACaAIYAggB4AG8AXwBQAEYAOgAxACYAGwAQAAUABQD9//P/8f/2//T/7v/m/93/3P/U/8//yP/E/8z/zP/L/8v/zP/N/9L/1//X/9r/1v/Y/9//6f/l/+D/5//x//T/8v/0//T/AAAEAAAA/v/3//P/7//n/+L/3v/c/9v/2f/Y/9j/0v/L/8X/w//K/8//0P/U/9r/3P/h/+n/5f/f/9j/1f/a/+L/6P/k/+L/1//N/87/1f/e/93/2v/i/+n/5v/o/+//9v/+/wAACwAWABkAFgANAA4ADgAQABcAGgAUABAAEgAUAB0AGQASAA0ADQAKAAUABQAEAAkAEgAaABkAFgAOAAYABgAFAAkADwAJAP7//f/+/wIAAgD///r/9f/6//7//v///wIA+v/v/+j/6P/t//H/9P/z//D/6v/i/9j/z//P/9P/3//k/+n/6//m/+L/5P/l/93/0//R/9L/1//a/93/4f/l/+z/8v/0//X/9f/0//j/9P/y//T/8f/0//D/6P/n/+j/6v/m/93/3P/i/+j/6P/g/9v/4P/o//D/7v/p/+j/+P8GAAkABQD9//3/+//8//z/9//8////AAD+//z/+P/4//b/8//1//z/CwATAA4ADAAIAAwAFQAbAB4AGwAaABQAEAALAAMA//8EAA4AFAAWAA8ADAAKAAkABwARAB4AIAAiACgALwAqAB4AFQARABkAJQAqACMAIwAkABwAFwAXABcAEgAMAAcAEgATAA0ADAAGAAAA+v/4/wAABwAMAAoABwAHAAkA/f/2//f/9f/0//j////5//X/7v/u//T/+P/y/+v/6v/p//H/7//q//D/8v/1//j/+//8//v/9f/0//b/9//1/+7/8P/t/+z/7f/x//X/7f/q/+z/8f/y/+7/5//l/+j/5//p//D/9f/5//r/+v///wAA/P/y/+z/6//v//n/AQAFAAgABQD//wAACAAHAAgADQAJAAMA/v8EAAQABAAGAAwADQAPABAADgAPAA8ADAAGAAIACQATABIAEAAJAAEA//////7/+////wcAEgAYABUACwADAAQABwAIAAoADAANAAoAAwACAAgADgAMAA4AEwAZABQACAABAPz//v8EAAcAAgD5//3/BgAEAP///P/9/wIAAgD+//r//P8FAAYA/P/3//r//v8DAAkADAAQAAwACAAFAP3/9f/z//b//P////P/6//z//T/8v/t/+b/6P/u//b//f/6//n/+v/1//P/7f/m/+f/7//w/+v/5P/e/+P/5//k/+f/7f/2//z/+v/z/+z/6f/w//n/BQAFAAEAAQD+//7/8P/p/+///f8BAP7/+//2//v/9//z//b//v8DAAIABQAHAA0ACQAAAAYABAAIABIAGAAeABcADAAEAAEABgAFAAgACQAHAAkABQABAAAACAAPABEAEwARABMAFAAQAAoAAAD6//v/AAAGAAcACAAGABAADwAFAPz/+f8CAAsADQAEAP7////9//n/+//+/wQADAATABgAEgAKAAYAAgD+//7/BAAIAAoACAAFAAQAAQD+//r//////wYAEAAVABIACwADAPv//f8EAA8AEgANAAYAAQD+//n/9//1//n//f/+//3//P/+/wEAAQAEAAgADQATABcAFQAOAAsADgASABEACwD///X/7v/u//P/+f/5//v//f8BAAYABwALAA0ADAAGAAcADAAQABMACwAOAAoAAgD5//D/9v/7/wUADQAJAAgACQAMAA8AEQAQABAAEQAQAA4ACAD9//v/+f/1//X/8//3//f/+v8EAAsADAAKAAcABQAJAAwADgATAA4ABQAEAAQABQD9//j/9f/1//3/AwAEAAMACQAXACEAIQAZAAYA+//+/wcABgD+////AQABAP7//P/4//H/9v/5/wAABAD7//H/7//s/+P/4v/q/+z/8//0//b/+v8AAAYAAgAAAP7//f/7//f/8//q/+f/6P/v//j/+f///wYADwAQAAwACAAHAAYAAAD+//7/AgAJAAcAAAD2/+//9P8CAAwACgAEAP7/+P/3//P/7P/v//n//f/8//n/9f/4//7/+v/y//n/CAAVABYADwAPAAgACAAJAAQA/P/2//7/BgAMAAwABwADAAEABQADAAMABAAIAAQAAgD//wAAAgD6//r/+v8BAAUA///4//H/7//5////+f/4//T/9f/0//X//P/4//T/8//4//3/+//3//n////9//z/9f/v//f//v8BAP7/BAAPABMADQACAP7/AwAHAAkADAANAAwACAAAAPr/+v/+////+//7/wQABgACAAEA//8HAAsACgAKAPr/6f/i/+f/6f/l/+P/6P/w//b/+v/7//3/9//0//T/+P8CAAkACAAIAAwACgD//wEABQAPABQAEgAJAAgAEQAKAAMAAAD+/wEABQAGAAIA/v/8/wAAAgADAAwAEQAMAAkACQAGAAIA+v/w/+n/6f/y//v/AQD///f/8v/2/wIAAgD///j/+P/6//7/AgABAAQAAAACAAUADwATABQAGQAZABwAFwAUABgAEgAKAPz/9P/4//7/BQADAPz//P8EAA8ADwAKAP//AAACAAQACAACAPv/9v/6/wcACwADAPf/9P/3//3////+/wUACAAOAAsADAARABUAFQAHAAAABwAQABAABQD+////AAABAPr/8f/x//3/AQAAAAIABAAKAAYA///6//b/7v/r/+v/6//t/+z/8P/0//L/8v/3//n/AQAIAAYAAQD///z/+v/5//b/+f8AAAEA/v/9/wEAAwAEAP//+v/9/wIACgAGAAIA/P/9/wMACgARAA4AEAAbACAAFgAGAPn/+v8DAAQABAD///3//v8AAAAA//8GAAsACQAJAAQA/v/7//z/AQD9//r/+v/+/wYABQD9//b/9//7/wMAAgD0//D/8f/3/////v/6//n//v8AAAIAAwAEAAMA/f/3//v//P/2//f///8GAAMAAQD//wEAAQACAAQABQAEAAIAAQD9//v/+P/6//7/AwACAP7/BAAMABAACwACAAMABAAIAAkAAwD+//3//v8BAAQA/v/5/wEACQANAAYAAwAHAAgACQALAAsABAAAAAAAAwADAAAA+P/y//X/9f/x//L/8//z//j/9v/3//b/9f/8/wAAAwAFAAUABgAIAAQA+//z//T/+P/2//P/8//0//f/+P/2//T/+f8CAAgACQAAAPz///8CAAIA///+//v/AwAKAAUA///9//v/9//8//7/AQAFAA0AFAAMAAQA//8BAAcACQAIAAgABgD+//b/9//2//v/9f/z//X/+P8DAAUAAQD7//X/9v/4//v//P/7//3/+v/3//T/9v/5//b/9P/y//r//v8CAAMABwAMAAYA/P8CAAwADwAGAP3/+v///wMAAgD9//b/AAANABUAEQD///D/9/8MAA8ACgAHAAgAEwASAAoACAAHAAcACAAFAP/////z/+//AgAQABAAAwABAA8AGwAaAA8A+//o/+P/+P8BAAoADgAIAAEA+f/w//T/CgANAP7/AQAMABMAAwDs/+T/4v/p/+X/3f/d//D/BgAEAPf/8f/r/+n//v8OAAEA7v/h/+T/7P/6/w8AGgAVAAkAAQD3//D/5//d/+r/+f/6//X/+P8DAAIAAgAAAPb/9//7/wAACAAUABwAGwADAOP/1P/z/yMAJwABAOb/7/8NACEAFQD2/+X/AwApACUACwD1/+v/9f8EAPT/2//d/wUAPAA6AP//yP+3/9n/DgAsACoAEwAGAP//AwADAAEABgD5/+j/2f/H/+T/JwBNAB4AyP+n/9r/LAAbAKT/Qv+Q/34A3AA5AG3/nP/OAGICNgEh/CD4e/oVAfkF7AT1/rj6l/z7AisFkf8c+Z34FP9FBiAHIwGd+0/9SwJ2BDAAkfnV+NL+iQWoBWD/0fmv+mkAMASdAp/+UvyS/+kD4QNFALr88/0IAp8EvQObAJD/8ACaAYsAU/6N/vsAcQORA70Aaf79/Xf/XAE7AWMAlQBFAiUEqwPQAa3/a/9QAIkA9gDmARoDlgO3AmsB/P8O/+j+Of9NADAB4gGhAZIAzf+X/yIAuACqAIQAmQAAAQsBgwAUAEoACgFCAfkAlgCiAMwAiQDs/4//yf9dAKwAcwAaABwAdQCSAP7/6f5v/vj+EQC1AHcA2f+M/4H/av9A/xf/Zf9PAOcArgAHAJz/r/++/33/Lv8m/3X/0P/y/9D/gv9D/+z+ov5m/ov+c//f//r/sf83/zr/U/9t/4b/sP/+/zwAZgD6/z3/5v7z/l//q/+m/3X/f//8/yIAsP/6/nr+sf5R/wYANADt/8r/tf9l/9v+Sv5B/vP+x/9dAFoA7/96/1z/YP9K/2v/i/+0/7j/bf85/xX/7v7g/sT+gf6v/lD/qP9//1P/UP9e/4r/ev+Y//H/NgAVAJ7/Of///vL++P4F/1X/+f9UAN//3v5J/i7+Sf65/kr/1v+WAOAASABM/6D+zv5t//L/DgD4/y0AbwBIALP/Kv8J/xn/X/+a/6n/8f9hAIcAbQAfAL7/q/8EAKAA4gDhAOYA0QBxAPD/8/90AA8BbQEzAcAAUAAFAO//rv+0/xgAsgBaAXcB8AAeAIn/ov/9/2EApADxAEYBFgGUABMA2f/3/yQAPwBJAHYA0wD4AJsA4v9K/yz/hf8ZAJ4A5gDGACUAmP+N/9f/RwCHAKYAwwDiAMIAZABCAIAA0QDoAMkAxAAJAWABbwH8AFwABgAdAEUASQAkACQAdQCjAFQAt/9c/4n/9P9jAJUAaAA6AF8AkgCIAFUAKgAVABoAJAAFANT/nv9//1b/Dv/L/tn+UP/d/x8ACwDa/8T/xf/E/9//PgDNABkB1gA4AKj/lf/n/1wAvgDMALoAnABwADgALABbAH0AjgB1AFkAUgBlAIgAhQBLAPH/sv/O/zkAuAD2ANwAhwAvABoALgA1AEIAPwBLAGgANwC6/1//YP+i//H/KQBKAEwADwCl/2z/hf/P/woAFAD5/87/sv+0/9//BQAJAAMAAAANACsASABAAB8AAgDT/4f/Mv8Y/1P/pP/j/97/f/8v/x//Vv/B/zUAjwCmAH0ALgABAAsAOQB0AGgAIgDt/9b/2f/V/9D/6/8cABwAzv+N/5D/0P8eACgADgD2/+T/6//x/w8APwBuAIIAWwD5/5v/hv+//wEAHQAJANX/qv+J/6P/8v8zAEEAGQDW/5X/bv+E/8j/CQAFANv/sP9+/1//Vf90/7j/9/8cAAcAxv+e/6H/w//Y/77/jP92/6z/CgBOAG4AcwBdACwABAD1/w8AVACiALYAfwAsAOf/1f/v/xAAIgAlACIAJAAxADYAIgAJAAIACgAGAOX/vf+g/7f/3//p/9X/xv/M/9n/8f8HAAYABQAOAAgA+v/p/+v/9f/x/9n/rv+K/2//Zf95/6z/4P/0//f/+//0//P//f8DAPz/+f/+//z/BgAkAC0AKAAmACMAIAAeACYAKwAwAEcAWgBuAGsAWwBJACsAAgDu/wUAJwA9AEQAQAA9AEMAQwAyABAA+/8GABoAHAAZAB0ALgAtAAQAzf+Y/5L/oP+b/5X/lP+q/9H/+P///+r/3P/M/9//BgAfADkAVABmAFgATQBMAEUAMAAXAP7/6f/l/+v/8//8/wQABQANAAsA///p/8f/sf/E//r/LwBLAE0AQAAmACAAIwASAP3//f8HAAgADAAYAA8A+//k/8r/pv9//2T/Vf9j/3v/hv+V/6j/sv+t/53/iP93/43/yv8SAEsAXABDACMADADt/83/w/+//73/0P/r//X/+v8EAP//8f/m/+b/8v8HAB8AKgAfABEABgAJABwAKQAeAAoAAQD7//7/HgBLAHUAiQBzACYA0v+q/5r/lf+W/6X/wP/l/wkABADk/9j/5v/+/wEA7f/c/+L/BgAsAEkAUQA2ABUAAQD3/wEAFgAxADsAOgBFAEoARgA8ACAA/P/e/9f/1v/h//3/GAAbABYAGAAVAA4ABQD0/+z/+/8TADUAUQBQADgAFwAHAAsACgABAOv/3f/q/wIAGAAZABAACAAIABcAIgAmACYAJQAjABsAEgALAPn/7v/r/+3/9/8FAA0AFAAZABoAHAASAAIA9//v//H//f8DAAgACQD+//v/AAAYAD4AVgBdAGUAcAB8AHoAaQBOADwANAAvACEADgD2/+3/5v/1/wYAHQAtADcAMgAsACsAHQD1/+L/6v8HACgAMQAXAP//+P/u/+3/7f/x/wAAFAAYABEA///v/+f/2P+6/5T/ff+J/6z/4P8QAB0AHwASAA8A+v/u//D/FAA3AFIAWQBLAEAAQABCADAAJAAYABkADwD9/+j/3P/e/+n/3f/E/77/3v///wgA9v/k/+n/DwAvAEQAPwA3ADYARABEADcAJAARABAAJgA4AEEANwAhAAwA9P/g/9z/zP+6/53/mv+i/7j/1f/q//T/8P/6/wMADQAKABQAEwAkAB8AGgAJAAgACwAUABEABADs/+L/4P/h/8r/yv/P/9r/1f/C/7L/qv+w/8P/3f/u//7/CQAHAA8AFAAfABgAGgD+/wYA/f8ZACIALQAfABIA/v8BAPr/8f/i/9r/3//r/+b/4//c/+b//P8aAA4ADgDr//P/HQBDAEUAMAArACUALAAVABoA7//i/9P/2f/t/wMAEAD5/+7/zv/a/9P/4v/Z/87/0f/Y/+T/6v8DAA4AMgArACgAFgAqACgAOQAeAB8ACgAOAPb/8//n/9r/yv/G/7//wv++/8//5f/y/wYA+//4/+j/+//v//D/5P/l//f/AwARAA0ACQAKAA4AGAANAPL/5P/b/97/4P/p/9z/0v/d/97/6v/c/9T/2//o//3/AwAEAAcADgAJAAUAAQD1//b/8f/n/9//6f/6/x0AEwAKAPT/9//p/+j/7v/t/+7/5v/5//n/+v/8/wUACQAOAAkABQD5//r/BQANABIABwD7//X/AAASABsAHQAGAAYAAwACABAAGAAWAAwA+v/w//z/+P8DAP7/BwAHABIAFQAgAB4AGAAWAAkAAwD//wMA/v8DAP7/DgD5//b/8P8AAAgACwAKAAYABwAEAAkAAwD9/+z/+f/2/wIA/v8BAPz/BgAYACgAJQAZAAwABQARACAALgAnAB4AEQAXABgAGQAWABQABQAEAAMAEAAUAA0AAwD9//v////z/+P/4P/W/97/7f/q/+P/5f/y/wMAEQAKAAsAAAAGAAUADQAEAAUAAQACAAcAAwALAAIABAD2//L/5//s/+j/4v/l/+n/7v/3/wAA/f8BAPf/+v/x//L/8P/1//z/AgAOAAQA+//x/+v/7//x//T/+P/5/wYADQARAAoA/f8AAAIAAwD///r/9//4/wQABwAMAAYADwAcABYAFQAIAAAACgAIAAgA+f/z//T/+f/9//7/9v/3//z/AAD7/wMAAwAGAAsACQAKAP7/+v/0//j/7//9//n//P8BAAIA8//z/+//+v8AAAIA///3//H/6//v//P/6f/s/+7/BAAQABEAEgAHAPz/7//3//f/9f/s/+3/7//v/+v/9//8/wQAAAD3//H/6f/v//D//P8FAAgABgAGAAEADwAcABYA/f/s/+j/9P8EAA4AEAAGAAYA///2/+n/7P/k//P/6f/x//z/BwANAAsA+v/0//D/9v/1//3/AgAPAA8ACwAJAAsADwAJAAkAAQD9//n/AQD7/wgABwAMAAYAEwAPAAUAAAABAAYA//8GAAMADAANABIADAAOAAkACAACAP3/AQACAA4AEwAcAAgAAwD6//v/8v/x//b/BQAJAAkAAAD+////BwAMAAgACAAEAAQADgAEAAEA7//s//L//P////n/BAAFAAMABwAAAPz/+/8AAPf/5v/k/+r/+v8AAAQAAAD3//z/+/////z/+P/4//P/8v/q/+n/4f/r/+j/6f/j/+r/6f/4//b/+f/+/wgABAACAP3//f/+//z/+f/9/wUAEQAPAA8ADAACAAEA+v//////BAAGAAEACAAHAP3/9P/w//X/9/8AAAEAAwAMAAwAEQAOAAIAAwD8//r/+P////v//v/8//v/+v/9//b/9//1//f/9//x//T//v8NAA0ACwAGAAkACAABAAAAAgD//wQACwAKAAMABQAFAAYA/v/9//z//f8DAPr/8//x//r/AQAIAAYAAQD8//r/AAALAAgAAQD0/+7/6//y//X/9v8BAAEAAAD//wMABQACAAEAAgADAAQACwAQABEAFAALAAYABAD9//r/9v/3//X/8v/n//H//f8SAA0AAgD6/wIABwAKAAUA/f/0/+7/8//6//3/9//u//L/+P/7//v/+/8AAP7/BAABAAAA/f8AAAAABAAFAAgABAAFAAYAAQAFAAIABAD8//f/9f/9/wkADQADAP3//f8FAPv/9v///woADwAQAAsADQARABQAEAALAAEA+f/1//b//P/7/wAA//8EAAYAEAAPAA4ABAABAPr/9f/1//b/8v/0//D/9f/0//j/9P/s/+7/7//5//n/9P/1//v/+v8AAAEACQAEAP7/+v/6/wIABQAJAAIAAAD8////AAAGAAUADgAHAAQABgAOABMAFAAUABcAFAAQAAoAAQABAP3/AwABAAAA/P/9//r/+f///woABQAFAP3/BQACAP//9//3/+7/6v/v//b/+P/7/wAA/f8AAAEACgAQAA0A///9////AwAJAAwACgAIAP7/+P/6//3/9v/u/+//9/////7/+v/z//z//f8BAPn/+//8//3/AAALAAgABwD8/wEABAAGAAMA//8BAAQABwAHAP///f///wMACQAHAAYA+v/7//7/AQD+/wIA+//4//j/+////wYADgAJAP7/9//6////BAAJAP7/+P/7//z/AQAAAP/////+////AwACAAAA//8CAP//+v/5//v/AwAIAAsABQD6//f//v8DAAUA/f/7//v/AAAIAAsABQD0//L/8P/0//v/AgAGAAkAAAADAP3/9v/8/wIABAAEAAkADQALABAACwABAPf/9P/5/wAABgACAPb/6v/t//L/+f/8/wAA8f/s/+z/9P/5//j/+f/5//b/+P/+////BQAEAAgADwANAAMA/v/7/wIAAAAGAAMAAwACAAQABgAJAAQAAgAJAAoADAAJAAYABAD+//b/+f/x//b/9//7//z/AAADAAQAAgD9//z/AAD6//b/+P/+/wEA/v////z/+v////7///8DAAkABgAKAAsABwAIAAYA///7//3//v8AAP////8AAAQACgANAAYA/P/7/wAA/v/+//7/9v/t/+7/+/8GAAYABwAFAAAAAwADAAUAAgD7//7/AQAIAA8ADAAJAAcACAADAP7/8//k/+n/9/8DAAgABAD+//j//v8LAA0ABwD8//X/9f/6/wIABAADAAEABgAKAAgAAAAHAAsACQAFAP3/+v/8////BAAGAP7/+f///wcABwAKAAAA+//5//X/+v/8//z//P/9//3/+/8CAAIA/v/9//v//P/4//X/9v/5/wEABgACAP3/9v/0//D/9P/6////AgAAAAEABQAOABEADQACAP3/+v/+/wEA/f/6////CAAKAAkAAgD8//7/BgAIAAQA/v/6//3/CQAPAAsABAADAAUACwALAAcAAQD+//v//f/8/wIABAAEAP7/9v/1//f/+P/3//v/AgADAAYACQAHAAcABAAOABUAEwAIAP7/+P/1//b/+f///////v////r/+f/9//3/AwAGAAsACQAOAA0ACAADAP7//f8AAP///f8CAAcABgD6//P/9P/7/wAAAAD6//b/7//1//f/+f/7//v//P/4/wAABwAFAAAA+f/3//X/8f/v//n/AQABAAAA+//5//b//f8HAAsAAwD7//v//v8AAPr/8v/y//b/AgAJAAcA/v/4//T/+f/+/wAAAAD//wMABQAHAAIA/////wUABQADAAEAAAD7//X/7v/u//j//v8HABAAGwAVABQADwAJAAEA+//8/wMABgAMABAACwAIAAcABwD6//P/9v/+/////v8DAAYAAQAGAAsACgADAAEA/v8BAAYADQAKAAgACQAIAAsABwAAAAEA///3//b/9f/0//f/AQAEAAAA9f/u//L/+f8DAAkABAD9//7/AwAEAAoADgAJAAUAAAAAAAEA/f/5/wAA/P/z/+//9v8DAAkAAgD2//H/7P/1////BQAHAAYABQAKAAkAAgD///3/AQAKAAIA//8AAAEAAwABAAAA/P/9////AwADAAUABgAAAAIACgAKAAYA///8/wAABAACAPv//v/8//v/AgAIAAkABQAFAAgACgAJAAYAAgD//wAA/v/6//r/+v8AAAoAEAAQAAkAAQACAAkADQALAAcAAgAFAAgACAADAAMAAwAHAAsACQACAPv/9v/1//v/AAACAAMABAAAAAAA/f/7//r//f8CAAUABAD///z/+f/5//n/9f/z//L/8f/0//n/+P/6//3/9v/x//b//P////r/8f/y//T//f8JAAYAAgADAAgA/f/0//j/+v8DAAMACAAJAAgACQABAP//+P/2//f/+P/3//f/9////wIA/f/+//n/+//+/wQABAAGAAEA//8AAAAAAwAGAAYABQAHAAkACwAHAP///v8DAAgADQALAAQA/v/8/wUACgAHAAUA///9//v/AgABAPj//f8CAAkACAAGAAcACQAGAAAA/v8CAAYABwAEAPr/9v/+////+//9//n/+//5//n//f/7//n//P8AAAQADgAVAA8ACwAFAAUACAAKAAcABAAIAAgABQD+//7/AgADAAcAEAASABEADwAEAPr/9v/3//z/BgABAAEABwAGAAcA/P/5//b//v8KAAkABgD7//j/+P/1/+7/7//z//b/9f/w/+3/8v/x//D/8//3//n/AgAMAAsAAwD/////BQAJAAUABAD//wIA///6//L/7f/x//f/9//0//L/+//7//b/+P///wgADwAYABYAEwARABYAGQAYABEACAAHAAcAAgD2//P/+P/+/wMACAACAAMACwANAAMAAQACAAgADQAHAAMABAAFAAQAAQAEAAUABQABAP3///8CAAUABgAFAAMABAABAP7//P/9//z/+P/y//L/9f/8/wEA//8BAAIABgANAAkABQADAAgACgABAP7/+P/y/+//8v/0//H/9//4//f/+P/0//n/AQADAAEAAQAIAAkABwAKAA4ADAAOABEADwAMAAkACgAGAAIAAgD//wEABQAGAAUACQAGAP////8DAAMAAgAIAAQA/v/4//f/9f/w/+3/8f/5//z/AQD9//j/+P/+//j/9f/4//v/AAD///3//f8BAAEA+f/4//v//v8CAAUABgABAAEAAgAFAAcAAwAGAAsADQAMAAoADAAHAAAAAQD//wEACgAMAAUA/v8DAAYABQACAP//AQAIAAcABgAHAAMACAAEAAYABwABAAMABAADAP////8BAP//AAD9//z//f/5//f/9P/3//f/8P/z//T/+P/+/wMABAACAAIAAAADAP///////wUADgAQAA4ACwAGAPr/+v/9//r/8v/s/+z/8//9//3//P8AAAMACwAOABAADQAKAAcABwAHAAYABgAFAAMA/v/5//b/+f///wYABQAHAAoACwAMAAgAAwABAAIAAwAAAP////8AAAAAAQADAP3/9f/z//T/9v8AAAcABAD9////AAACAAEA//8AAP//+//y/+3/7P/t//T/9P/t/+7/+v8GAAgAAwD+////BgAQAA4ADAAHAAgADQAIAAIA9v/4//r/+////wAAAAADAAgABwAIAA8AFAAYABYADQAGAAQABAAEAAgABQABAAEA//8CAAMAAgABAAEAAgABAAMAAwABAAQABwAFAP//+v/7//n/9v/3//f/+P/3//n/+P/8/wEAAQD+//r/9P/3//7/AAD//wMAAQD6//r/+P/7//3//P/5//f/+f8BAAoACQAHAAYACQANAAwABgD+//n//P////z/9P/1//f//v8EAAkACQAGAAMAAAAEAAwADwAQAA0ACgAJAAgABAACAAEAAAACAP7//f/8//z/AwAKAAsACAAGAAwADgALAAcAAwADAAAAAgAGAAgABwAAAPz////+//z/9//x//L/9f/3//v////9//7/AQAGAAQAAQD8//v/AAD6//j/+P/4//T/8P/3//v//v8BAAAAAwAGAAsACQACAP///v/+////AQD+/////f/3//j/9v/3//z//v/9//j/+v/6//3/AwAJAAsACgAIAAUABgABAAAAAgAGAAgABAAAAAIAAgAAAPn/+P/+/wQABAAFAAIA+v/3//z/AAAFAAoABAD///z/+//8//n/9v/z//f//f8BAAgADQAJAAUA/P/1//X/9//6//7/AwAFAAYABAADAAUABQAFAAkACwAIAAcACgADAPn/+P/8//v/+P///wcACAAGAAMABQAPAA4ABgD///3///8CAP//+f/2//T/9//+/wQABgAFAAYABwAKAAkACAAKAAsACgAHAP//+P/6//7/+//6//v/+v/3//n////9//P/7v/t//T/+v/8//v//v8CAAIAAQD//wIAAgACAP////8AAP7/BAAEAAAAAQABAAYABgAIAAoABgAFAAYABwAEAAEAAQD//wAAAgAIAA0ACgAIAP//+P/3//X/9f/x//X/+v/+/wIAAQD+//7//v/9//7/AgAEAP3/+P/y//j//f/9/wIAAwAEAAEA//8AAAMAAwAAAP3/9v/7/wAA/P/8//v//f///wEA/f/7//r/9v/3//f/+P/7//z//f/7//z/+v/9/woADAAJAAIACgANAA8AEgAMABAAAwD6//D/7v/t//j//P/4//z///8IAAQAAQAFAAQADQASAAsADgAJAAcAAwD7//P/8P/8/wAABgAJAAAAAQADAAcAAgAAAAQA/P///wUAEAAKAAUACAAFAAYAAgAEAAQA+v/+//r/AQACAPz/BQACAAoA/P8EAPv/+v8BAPP/+v/v/+f/6//m//L/+f/8/wQABwAMAA4ADwAMAAoADQAOAAgAAAAAAP7/BQD9/wAAAQD9/wEAAQD7//n/+/8BAAIACgAKAAoADQAGAAUA/v8BAAIA///+//L/8//x//P//v/v//7/6f/0//j/8P8AAPv/EAABAA8ACgD7/wIA5//2//z/AwALAP//BAD9/wYABAABAAIA/f8GAPz/CgACAP3/BgABAPz/+f/n//X/5//3//D/8f/x/+f/+//n/wAA9v/6//v/9v8RAAYACwAEAAYAFAALABYAAQAFAAUAAwAMAPX/BAD4//r/AQACAAgADQAHABQABQAOAAUAGQAFAAQAEQD2/xkA7/8IAOX/+f/s//L/8P/p//j/8f8CAPj//f8AAPr/BAAAAAgAGgD//x0A+/8IAAgA/f8QAPj/CQD0/wUAAgD2/wgA9v8GAAEABQALAPb/DwDp/wgA+v/0/w8A5f8SAOn/AgD8/+X/+//j/wYA9P/4/wQA9f8YAP3/CAD+/+z/BADn/w0A/f/+/wsA8P8LAP7/BwAKAAYAEAACAA4ACgAKAP//9/8GAPv/CgD7////+f/1/wUA9f/4//n//P8NAAIA+v/6/+7/+v/6/wMA9P/7//f/+P8BAP7/BwAOAAsAFgALAA8ADQACAA8A8/8EAPf//v/4//b/7v/8/wQABgAOAP7/EwAIABcAGAAKABcADwAVABEABQAQAP7/AwD4//z/9f/4//P/9v/3//X/CQABAAoA/f8MAAIAEAAIAAkABgAHAP3/8v/2/+//7f/T/+T/2//2//j/9f////X/DQAJAAUADwACAA0ABAAFAAMA+v/6//b/+//4//j/+v/s//v/+/8KAAwAAgAHAP7/DAD8/wAA+f8CAAQAAwACAOz/+//k//n/7P/w//n/6/8JAPX/EQD8/wEABgD3/wgA8f/0//L/9/8BAPz/AgD6//7//v/u//3/7P/8/wAABgAOAAoACwAQABIACQAOAP//DAAAAAcADwAGAAYA9P/6//r//P8BAPz/DQAJABMAFAAEAAwA+P8OAAIADAANAP//FQABAAwA///0//z/8f8JAAMACQAMAP3/CQD7/wgA/////wUA9//9/+//+//u//T/9f/z/wUA+////wEA+//+//z///8DAP7/CQAAAAUAAQD7/wgA5//7/+j/6/8BAPP/BADs////+v/0/wQABQASABYAFgAcAAoABAAGAPb/AwD9/wUABAD3/wIA9//z//z/5P/3//H/+P8QAPX/DwADABMADAANABMA//8LAPr/+f/z//H/8P/z/+3/8//v//P/+//+/wgABwATAAMACAD8/wkABAD9//7//v8KAPn////9/wIAAwD7//j//P/6/wQA7//x//v/9/8FAPf/+v/+//L/BQD5/wAAEAACABIABQALABEA/v8GAP//DAAIAP3/AwDx/wUA/v/6/wAA7v8FAP3/EAANAAwAGAAFABwACwANABEA/P8LAP7/CAACAP7//f/5/wIA+v8CAPr//P////z/AQD+/wQABAAGAP3/+f8AAP3/CwD9/wIA8f/0//f/8P/5//P////0/wUA+/8FAP//8P8IAPf/DwAHAAYABgDz/wEA8v/+/wQA+f8DAPH/9//4//P/BgAGAAYACgAGAP//CAD8/wwA8//5//3/8/8MAO//AwDx//D/AwD5/wYAAAACAAsABAD8/wIA/P///wUA/v8EAAEACAAPAPz//v/x//7/CAD+/wgA/P/+/w0ABwASAAYAAwAOAAIAEwADAPv/AADz/wgA9//7//T/7f8IAPv/CgD5/wAAAAD//wYABgAIAAAABwD5/wwAAQAAAAUA+v8GAPX/AQD8//v/BAD0/wkA//8GAAcA+v8JAP3/AwD5//3//v////3//v8GAAMACgD5/wIA+/8DAA8A/P8GAPD//f8AAPr/DgDw/wAA//8BAAUA+P/7//z/BAD//wMAAAAEAAEA+f////T/+P/+////DAAEAAYAAAAAAAUA+v8AAAAA+/8JAPn/CwAJAAAACgD1/wYA/P8CAAAA+P////v//v/4//T//P/6/wAAAQD+//b/9v/0//X/9v/y//n/9f/9//3/+v/6//n/+//8/wEA/f8DAAAA/P/1/+3/+//3/wMA/v///wMA//8SAAwADQAQAAcAEQAOAAkAEwALAAsACAD+/woACgAIAAgA9P/6//H/AwAOAAEACgDu//j/+//5/wAA9//9/wEA///9//7/+/8EAAEABAAEAAAADQD+/wsABgACAA0A//8OAAMABgAIAAMADQAGAAYAAgD///7/9//+//j/AAD+/wEABQADAAMA9P/4//P/+P/8//b/+P/5////AwACAAQAAwD9////BQAIAA0ABwAHAAcAAAAFAP////8GAP3//v/5//z/AwD+/wsABQAHAAkA+f////T/9v/7//D//P/1//7/AQD6//j/9v/8////AgAEAAQA/P8CAP//BwAJAPz/BQD3//T/+f/z//v/7//1//f/+f8BAPv/CQAEAAgACAAAABAAEQATABMADAAJAAgAAQD9//z/9//7//P/9//9/wEABQAFAAYAAQADAAIABAAIAAcACQAJAAQA+//6//3/AgAHAPz//v///wIACgADAP3/+//+/wEAAgD9/wAAAAAJAAcABAD6//r//v/+/wAAAQAFAAQABgACAAIA/v/9/wQABAD///n/8v/7//z/BwAGAAQA/P/y//f/8//8//3/BAAFAAMABQAEAAcAAwAFAAEA9v////z/BAAEAP//AgAEAAEAAgAGAAgACQABAAEAAwANAAMAAQD5//P/8f/z//r//P/4//L/+P/5////+//+//7//P/7//H/8//2//r/AAD6//v/9P/2//X/7//7//v/AwADAAcACAABAAYA/f8EAAQA///+////AwD9////+P/5//X/8//5//X//v/+//3//////wYABgAFAAAA/v8BAAYADAAFAAYABgANAAoAAQD5//r/AwAJAAgAAgAAAPz/AgACAAQA///8//7/+v///wEA/f8AAP//BQAQAA0ACwAIAAMAAAD9/wQABwABAAIA//8BAAQA/v////f//f/7//v////2//z/9f/1//P/9v/6//r/+//7/wQABgAFAAAA/v/4////AgAMAAsAAwAFAAAABgAGAAwAFAAOABAABQABAAAAAAD9////AgD8/wQAAAAEAAoACwAMAAMACQAHAAYACgAIAA4ABgAGAAsABAAHAAQAAwABAP//BAAAAP7/+P/8/wEA+P/2//X/9f/1//b/+//+/wYABQABAAMAAgAGAAEA+//y//D/8f/x//X/8//2//L/9v/1/+7/7f/q//n/AAAHAAQA/v8BAPz/BQACAAIAAAD+/wIA+P/9////CQANAAsADAADAAcACAANABUAGQAdABIADQAFAP3/AAD9/wAA/v/7//3//v/9//j/7//z//X/9f/6//7//v/6//j/8v/3//3///////j/+v/+/wMAAQD9//v/AQACAPn/+f/4/wIACQAFAAYAAAD8/wEABQD///b/7v/y/wEAAQAGAAMABgAHAAkACwAJABAACgAFAAIAAwAEAAcABQABAAAA/f///wIAAgD///z/AQADAP//AQAFAAwACQAMAAkA/f////j/+f8AAPz//P/2//j/9//1//f/+P////7/AAD9////AgD+//z//P/4//z/BgAGAAUACAADAAMABgAAAAEA+//5//j/AQAGAAMABwAEAP7//P/9//7/AQAEAAEABQAIAAcACQD////////8//v/9v/+/wIAAwAEAAEACgAIAAsACAD//wAAAQALAAsACQAGAP//AQACAAcAAQD+//v//v8IAAMABwALAAUA+//y//n//f8BAAQA///+////AQD///7/+P/4//r/9v/0//T/9//4//f//P/6//b/+P/5//j/8f/x//j/+/////r//P8AAAUACAABAP////8HAAkABwAGAAQAAQAAAAMABgAKAAsACgAIAAYABQACAAIABwAKAAQAAQAAAAAA/v8AAAgACgANAAYAAgAAAAEAAgADAAUAAwAEAAcABgAEAAMA//////7/9//0//P/+P/7//3/AgD7//3//v/+/wUABwAIAAQAAwACAAEABAACAP////8CAAEA///9/wAAAwADAP7/+//7//n/AAACAAcABQAEAAQAAgACAAUAAQD9//3///8AAAEA/f/8/wEAAAD+/////f/7//z/AAAFAAIAAAD+//7////9//7//f/6//r/AAADAP3/+v/3//f/+v8AAAAAAAAAAAEA/v/7/wAA/v////v/9P/4//n/+f/9//j/9P/0//f//P8CAAgABwABAPn/+/8EABEAEwALAAUABQAHAAUABAAKAAkABwADAP7///8DAAYAAgAAAP7//v///wAA+f/v/+//8v/6/wAAAAACAAEAAwABAAQABAABAAUAAAD+//7/AQAGAAcA///3//r/9v/1//X/9//+/wMACwAFAAAAAgAFAAkABgAFAAMAAgAEAAMA/v/9//7/+v/2//j/+f/8/wAAAQADAAgACgAEAP7/+v/+/wYABwAJAAoACwANAAgACQAMAAgACQAIAAgABgACAP//+f/2//f/9//7//v//P//////AgAHAA8AEwALAAQABQAIAAIA+v/5//X/+P/7//v/+//7/wEAAwAAAP3//f/+//7/AAAGAAIA/f////r/9//z//T/8P/o/+z/9P/5//r/+v/5//n//P8CAAIA/f8CAAkACwAMAAwACAAFAAMAAAD7//j/+f/9/wUAAgD///7//v/+/wIABAADAAwADgAPAA0ADQAHAAsAEgANABAADQAMAAMA/P/9////AgD+//3//P/8//7/+f/5/wEACQAMAAYA//8BAAoADAALAAkABQAGAAUABAD8//X/+P/8//7//v/8//j/9//6/wMAAAAAAAYABQADAP//+v/3//b/9//8//3/AwAHAAYABQABAAAA/P/5//r/+////wEAAgAGAAgACwANAAkAAAD+/wAABAABAP3/+v/7//r//f8DAAIAAQAAAAIABQAEAP//AgAHAAUABAAEAAQAAAACAAUA///6//j/+v/8//z/+P/5//3/AgD///r/9f/0//X/+v/9//v//f/+//3///8IAAgABAD///r/+v/+/////f/4//f/8v/z//L/7//y//f/AgAKAA0ACgAFAAMABQAEAAMABAAFAAEA//8CAAMABQAHAAoACQAGAAMA//8EAAkACQAHAAMAAgAFAAQAAgABAAAAAAAAAPr//P/+//v/+f/5////AAD//wAA/v/+//3//P/7//r/AAACAAAA+//6/wEAAQACAP7//f8BAAIABwAGAAoADgANAAwACwAHAAEA/v8CAAUABwAEAP////////z//v/3//D/8//7//z//P/+//z//v/+//////8AAAQABQAFAAAA+v/8/wAAAwADAPv/+f/8//7/AgD6/+//8P/1//3/AQAFAAIA//////3/AgAEAAIAAAD8//v///8AAAAA///8////AwAEAAQAAwAAAAIABgAIAAUACQAMAAcABQAGAAgABwADAP//AQAFAAgACAADAAsADwAKAAcABAAAAP3/AAAGAAUAAAAAAAQABgAGAAsABAAAAAAA//8AAPz/9//1//n///8FAAYABQADAAEABAADAPz//f/+//7/AAAHAAMA///7//r/AAACAAIA///8//f/+f/5//j/+//7//r/+f/3//T/9f/4//b/9v/5//7/AAAEAAoABQABAP7/+v/4//3/BQAEAAQAAgAEAAcAAgABAAAAAAD9//b/+f/4//z/AAD+/wEAAgAGAAcABwACAAEABwALAAkAAAD6//z/BAAKAAkAAQD6//j/+P/3//n/+v/2//T/+f/8/////f/2//f/+/8CAAMABAADAP////8CAAUABgAHAAgACQAHAAMAAQD9//n/9v/4//7/+//7//r///8CAAAA/v/+/wAAAAD//wAAAAADAAMAAgADAAIABQACAAIAAQD7//n//P8AAAIAAwAAAAEABQAHAAUABQAEAAYABgAEAAIA////////AgAIAAMA//8AAAAAAAD6//v/+//+/wAA/v/9//r/9f/1//r/+//8//v/+f/4/wAAAwAEAAIA//8AAAMACAAGAAUABAABAAYACAADAP3/+//9////AAABAP7///8DAAEA/v8AAAIABAADAP//BAADAAIABwAKAA4ACgACAAMAAwABAAAAAgAFAAcABgACAAAA/////wMAAgAAAAYABgAJAAsAAwD///3///8DAAYAAwAAAPv/+f/7/wEABAAEAAQAAAABAAAA//8BAPv/+v/3//n/9//2//f//P////3/AQD5//n/+v/2//T/9f/9////AgAGAAgABQAAAAEAAgD9//n/9//+/wAA/f8AAP//AwACAP7/+v/7/wAABgALAA4ACQACAAUACgAKAAcABAAAAP//AwADAAEA/////wEAAwACAAEAAAD9//3///8BAAIAAwAFAAUABAAAAP///f/2//b/9P/3//3//f/8//X/8P/y//n//v8AAAYACQAFAAMAAAAAAAMAAAACAAQAAwACAP//BgAMAAsACwAMAAsACgAGAP//+v/0//b/+/8AAAEAAQAFAAQABAAFAAIAAgAJAAwACQADAAEAAgABAPv/+f/9//3/+f/3//f/+/8AAAIA///+//////8BAAAAAQABAAIABgAAAPr/8//1//v/+//8//r/9//3//b/9f/4//v/AQABAAIABAAHAAYAAgAAAPv/+P/1//T/9f/1//X/9v/y//H/+P8BAAQAAgACAAMACAAJAP//+P/2//j///8BAP///v///wEABAADAAIAAwADAAUAAwAEAAMAAwAIAAYAAAD+//7/BAAGAAUAAQD9////AgAGAAUAAQD///3/AQABAP7//v8BAAMACAALAAMA/v8BAAUAAwD//wAAAAABAAQABgAIAAgABQAIAAcAAAD+////AQAFAAUAAwADAAQABQAFAAQABAAAAAIABgAIAAUA/P/7//j//v8GAAkABwAIAAkABgAGAAIAAAD9//j/9v/9/wAA/f/6//X/7//t//H/+/8BAAEA/f/8/wMAAAD//wEAAAAEAAgADAAPABAACQD+/wAA///9//z/+f/7//z//P/8//r/9v/6////AAAIAAsADAAGAAIA/f/6//7/AQADAPz/+f/9/wMABgADAP//+//+/wIAAwD///z//v////3//P/7//r///8FAAUABgAIAAkACQADAAEAAAADAAYACQADAP7///8AAAAA//8EAAUABQAFAAQAAgD///j/8//x//b//f/+/wAA/v/6//X/9v/9//7/+//8//3//f8CAAQAAAD3//b/+v/9//3//f/7//z////9//z//f8AAAIABwAMAAsABQD///////8BAAQAAAD6//b/9//9/wIAAgD9//r///8DAAMAAQD+//r/AAABAP///v///wEAAAAAAAAAAQAFAAgAAwD9//n/+v8AAAEA/////wIAAgAFAAYA///8//r//v8CAAUABgADAAYACAAGAAYABQAHAAoACgAJAAYABgAHAAIAAgAJAA8ADQAJAAYABgAIAAYAAAD6//7//v/9//r/9v/y/+//8f/0//n///8AAP//AQAAAAMAAgD//wIAAwAFAAQABgAIAAUAAAD4//X/+f/7//v/+P/4//7//P/3//3/AAD//wIABQAJAA4AEQAMAAUAAQAAAAAA/f/8//z//f/6//z//P/7//7/+//8/wAABQAEAP//AAD+/wcADAAJAAUAAgD///z/AAAAAAAA/P/6//z/+f/7//7//v/5//X//P8DAAcABwD///n/+f/8//n/8//z//b//f/+//v//v///wIAAgD//wIAAQADAAEAAQD+//n/9v/3//7/AAD+//7//v///wEAAAABAAQABwABAAEACAAGAAIAAQD+//3/AQACAAEAAAD///7///8CAAAA/f8BAAcABwABAP/////+////AQD//wAABQAKAA8ADAAIAAQAAwAIAAYABAAHAAwACwAFAAIAAAABAAEAAQD8//r//v8EAAoACgAFAAQA///8//z/+//7//n/+v8AAAUABwALAA0ADwAMAAoABAAFAAIA/f///wIAAgACAP3/+f/9////+v/0//L/+v8BAAQAAgAAAAAA/v/+//v/+////wEAAwAEAAAA+P/z//T/+f/4//L/8v/3//z//f/7//b/+P/9//z/+v/6//r//v8AAAAA//8AAAEAAAABAAAAAgABAAEABQACAAEAAQADAAMAAQACAP3//f8AAAIAAQACAAUABwACAAIAAgAEAAkAAwACAP//AwAGAAAA/f/9//z/9P/2//r/+//7//3/AAD9//f/9//3//3/BAAFAAQABAAGAAcABwAGAAYABQAFAAgADQAIAAYACAABAAEA///1//D/8v/z//P/9P/4//n/+//7////AQABAAUACgASABcAFwARAAUAAAAIAA4ADQABAPr/+//9//7/AAABAP//AwAKAAcAAQD//wAABQAKAAsACAAEAAoADAALAAYAAgAAAAEAAQD9////AAD8//n/9P/x/+//8f/w/+r/7P/1//z//f/7//X/7//2////BwAEAAEAAgD+//3//f/+/wAAAAAAAAEAAQD///7/+f/x/+//8//z//j/9v/y//v/AgAJAAYAAwAEAAkADAALAAsADQARABEACAACAAAA/f/7//v//v/9//X/8//0//L/9f/4//n/+//8////AwAGAAkABgADAAgACAADAAAAAQADAAQAAAD+//v//P////v/9//4//r/9//2//b/9v/4//z//v/8//7/AAABAAUABwAIAAYACAAKAAkABwAMAA8ACwAFAP3//f///wEAAAAAAAEABAAEAAUAAgABAAkACQAHAAoACgAJAAcAAwABAAIACAAIAAkABwAEAAEA//8AAP7/+//2//b/+v///wcACQAFAAIA/v/+/////f/5//n//v////r/+P/2//b/8//1//j//f8EAAIAAAD+/wEAAgD+//7//P/3//r///8BAAEA/f/5//f/+f/6//3///8BAAcACwAHAAIAAQABAAMACAAGAAUABwAJAAoACQABAP7/AgAJAA8ADQAIAAIABgANAAoA/P/2//v/BAAJAAQA/v/3//H/+f8EAAgAAQADAAwADgALAAgABwAJAAkAAgD6//X/8v/2//b/9f/2//b/8v/u//D/+P8AAAIAAQD+//3///8DAAcABwALAAUABAAIAAYABwADAAAA+//3/wEABAAAAP3/+f/7//z//P/3//f/+f/7//7/AgABAP7/+//1//T/+P///wUACQAFAP3///8AAP3//f/6//X/+v/7//r///8AAPn/9//6//3/AAABAAAAAQACAAIABAAFAAoADQAJAAMA//8AAPz/9//2//b/9f/1//n/9v/0//r/+v/8//z//v8BAAIABwAKAA0ABwADAAcABwABAPz//f///wEAAgADAAIA//8AAAAA////////BQAJAAwACgAIAAUABAAFAP3//f8AAAEAAgACAP7///8FAAcABgADAAAAAAAEAAgABAD///v/+P/6//v/8//s/+7/9P/0//D/8P/3//7/BAAIAAQAAAAAAAMABAAFAAIAAAABAAQABwACAP3/+//8//7////3//T//v8GAAYACQAJAAEAAgAHAAsADgANAAoACAAHAAMA/P/6//r/+//+//z//f/+//v//P8BAAQAAAD//wAAAQADAAQACAALAAwACwAHAAYACAAFAAQAAgD///v/+f///wMABAD9//X/9f/6////BQAEAAIAAwAKABYAEwAFAPj/8//6/wQACQAFAP7/+/8AAAQAAQD6//T/9f/0//P/8v/2//f/8v/y//T//v8CAAQAAQD+/wAAAgAAAPz/9//1//f//P8AAAAA/P/9/////v8BAAgACQAJAAkACQAIAAYABwADAAIAAAABAAgACQAJAAUAAwACAAIABgAMAAoABwALAA0ADQAMAAoAAQD8//n/9v/2//X/+P/+//r/9v/4//z////+//z/+//7//v///8GAAIA/v/6//v/AQABAP3//P/+//7///8BAPz/8f/v//H/9//5//j/+//9/wIAAAABAAIAAQAHAAgAAgABAAAAAAD//wAA/f/5//T/9f/8////AQABAAMADAANAAgAAQD+//7///8DAAEA/////wYADAAOAAwACQAKAAkADAAPAA4ADAALAAUAAQD+//f/8//y//T/+f8AAPv/9//2//b/+P/+/wAAAAD8//P/9P/9/wEA/v/9//f/+P8AAAAAAgD8//r//P/9//3/9//6/wMAAwD+/wEAAwAFAAMAAgD//wMACAAIAAcAAQABAP///v//////AAAAAP///f8BAAYABgAEAAAA//////z//P8AAPv/9v/0//b/9v/6/wEAAwD///X/8f/3//z//v8BAAEACgANAA4ACwAAAPv//P8BAAEABwAGAAEAAAAAAAMAAQABAAIA/////wMACAAKAAkACgALAAcAAwAEAAYABAAIAAcA/v/7//7//f/7//j/+/8BAAIAAgAGAAcACQADAP7//f///wIAAAD9//7/BwALAAgAAwD7//X/9//8/wAA///9////AAAAAP7//v/9/////////wIABAAIAA0ACwAGAAcAAwABAAMAAQD9//v//P8DAAgAAAD7//f/9v/7///////9////BQAGAAAABAAFAP//+f/2//f/9//9/wEAAgD+//v//P8AAAMAAQACAP//AgAHAAcABAACAAQAAwAAAAAA/v/9////BQAIAAUABQABAAIAAQACAAgABwAAAPz/+P/6/wAABAD///j/+v8AAAEAAAD+//v//P/9/////P/3//n/BAALAAoABgAFAAQAAQAAAPz//P///wIAAwAEAAEA/v/8//r/9//z//T/+/8BAAUABgAFAAEA///+/wAAAgADAAQAAwABAAAA/f/7//z/AgAIAAgABAAEAAQAAwD8//L/8f/5//3/AAAAAPr/+f///wEA///9//D/9P8BAAsADgAEAAAAAAABAAIAAAACAAcABAAEAAQAAQACAAMAAwAEAAcAAwADAAEAAQD///r/9//1//j/+f/9////AAD+//r//P/7/wIABAAEAAAA//8AAAIA///4//L/9P/7//n/+P/y//L/9//7//j/9P/2//r/AgD///r//f/7//z/+//7//7//f/9//r/+f/5//v///8CAAMA///9/wQACgANAAkAAAD6//z/AQABAP//AQACAP///v////z/9//7/wQACAAOAA0ACQAHAAkACAAHAAYABQAIAA4AFwAZABMACgAHAAkACwAFAP3/+//9/wAAAQAAAPz//f/9/wAAAAD+////AgABAAIAAwAAAP3/9//2//b//f8AAPv/+P/6//r/+f/6//r/+v/6//n//f8AAAAAAAAEAAgABwAHAAYABQAHAAYABwAFAAEA/v/+/wAABAAEAAEAAwAEAAoAEQAPAA8ACwADAAEAAQAMAA0ACQAFAAcACQAIAAcABQACAAAA/v/+/wEAAgACAP///f///wIAAAD+//j/+v8AAAIA///9//7/AAABAP///P/3//T/9P/z//b/9P/z//r//P/+////AAAFAAgABgD8//f//P///wAAAAD///7/+//9//z/9//4//b/9f/6//////8BAAMABAAFAAMACAANAAkAAwABAAIAAwACAAIAAAD+//7/+//5//T/9f/7/wEABAD//wAABQANABAACwAHAAEAAAABAAEA/f/9//v/9P/x//D/8//3//v//f8BAAQAAgACAAEAAQAFAAgABwAGAAcACQAKAAcABAACAP//+//3//f/+P/9//n/+v/8//3//v8AAAIA/P/4//v/+/8AAAEA//8BAAMA//8AAAIABAADAP3/+f/3//z//v/9/wAA///+//j/8//4/wIACgAIAAYAAAD7//r//v8CAAMA/f/6/////v8AAAQAAAD4//v///8BAAQABQACAAAAAQAKAA0ABAD8//n//P///wAAAAABAAMAAgD6//X/9v/y//j/BQAMAA0ACAAHAAsADQANAAoACQAGAAgABQD///7/+//2//T/9//3//f/+f/5//7/AwAGAAoADAAMAAkACAAGAA0AEQAFAP7/+P/9//3//P/6//n/+f/9//////8GAAIAAgAHAA4AEgAaAB8ADgABAAQACgAFABQABwD3/wMA///3//v/9f/n/+//9//2/wUABAD7/wUAAgD9//7/BAD8/wwAAgDq/xcA2P/o/xAA+v/H/xwA7v/G/zEA3v/n/zMABADW/1IAAACz/2MA5f/O/z0A5v/h/x4ADwDb/yQA7P/z/wwABwAEAPz/DQDv/y4AFQD2/w0A5P8DABMA4f8FADgAzv8PADAA3//8/wYA2v/x/yAABgADACcAFADc/xAAGgDn/wUACwDi////HwD8/woAEADo////JgDt//H/FAD8//j///8IAAAA/P/i//z/7f/o/xcA8f/7/xQA9//1/xsA+//p/yEAAgDi/xAACADf//7/DgDk/w8AFQDn//n/CAAEAP7/EQD8//r/DQAPAAkACgARAAkABQAOAAEABAASAP7/+v8DAPr/6v8BAPP/9P8EAOv/7P/2//r/CAAVAA0A//8EAAEABQABAAgACAD2//H/8/8BAOf/4v/9//X/5v/7//X/6v8FABQACgAMACAACgD//xAA9//7/wsA7v/h//7/4//i////7v/4/w4ACAAJAA4ACgARAAUA/v8HAP3/9/8KAPL/6/8EAPb/4//u//b/5f/5/wMA+f8JABIADwAFAAEA9P8LABUA/f8DABgADwAFAAsA4f/h//f/+P8NAA0ADgAIAP//AAATAAoAEgANAAIAFwD//+3/BwARAAEA9/8CAP3/+f8KAAkAAQAGAAYADQAPAAIAEQAJAPj//v8DAPv//P/y//L//v8FAAQA8f/6/wMA+P8NAA8A8P/8/xEAAwAPAAkABAAMAAoA//8AAAYADgADAO///v8QAAcACgAbAAcA8P8ZAB4A9P8HAAcA8f8DAAIA5//6//j/3f/8//r/5v8EAAMA8P/0/wUABAD7//n//P8CAAQAFQAOAP7/9P/9/wYA+v/7//3/+v/0//f/8f/u//v/AQACAAcAGAAdABoAIwAWAA0ACwAGAAMAAAD8//z/BAD7//f//v/8/+f/7v8IAAIACQAQABUACwADAAsA9f/7/wQA+P/6//r/2v/u/wEA2//t//z/6//8/yIADQD2/wkAEwAOABUADwD6/wAAAgD6//z/+f/x/+7/8P/v//7/AwD9//7/CQAAAAEADwAGAP//+//9//3/AwADAPH/7v/x//b/8f/4//z///8FAAkACgAMAAsACgAMAP3/CQAFAPb/AQAIAPj//f8MAAIADQABAO7/AQAMABAAEwAMAAoA+//z//r/9//1//b/8f/+/wAA+f/v//P//v/4/wEACgAFAAYABgAAAAoACgAEAP3/9P/8/wQA+//+//3/9v/u//b/AAD9//3//f8FAA8AEgABAPr/AwD+/wMADAAMAAsAEwAIAP3/AQAEAP//AAAGAP3/8//w//b/AgABAPj/8P8FAAcA/v/7//T/8f/2//////8JAPf/+/8JAAgAAwD4/wQAEwAbAA8ACQD7//n/AgAAAAEA+v8DAPj/7//7/wUA/v/4/wUAAwANAA0ABQACAAkAGQATAA4ACwAKAAIAAQD5//f/+P/u//T/8//v//X/AwD7//z/DQAIAPv/AAD7//z/CgAIAP7/+P/3//H/8P/x/+j/8P/2//j/AQAFAP7/AwAEAAEACQAIAA4ACAAFAAIA+v/0//H/+//8//3/AQAFAAYADQATABMABAD6/wYADgAPAA0ABQD///3/9P/y//7/+//x/+7/7P/1//7/+v8DAA0ABQAGABAAEQAJAP7/BAASAA8ADwALAAEAAwD+//v//P/1//n/AwD/////CAAOAA0AEwAfABMAAwAJAAcACgAOAAEABAAIAAAA8v/0////AQAAAAMA/v/1//b//P8IAAkA/f///wwADAD8//L/9f/1//b/9//1//H/+v/8//7/AQD//wAAAwASABAAAwD+//j//f///wAA///8//v/8v/z//7/AQD4//z/CgAJABMADgACAP3/\" type=\"audio/x-wav\" />\n",
       "                    Your browser does not support the audio element.\n",
       "                </audio>\n",
       "              "
      ],
      "text/plain": [
       "<IPython.lib.display.Audio object>"
      ]
     },
     "execution_count": 7,
     "metadata": {},
     "output_type": "execute_result"
    }
   ],
   "source": [
    "IPython.display.Audio('sample_audio_infer_ready.wav')"
   ]
  },
  {
   "cell_type": "markdown",
   "metadata": {
    "id": "9hFo73_XxGO7"
   },
   "source": [
    "# Inference using CTC Decoder"
   ]
  },
  {
   "cell_type": "code",
   "execution_count": 30,
   "metadata": {
    "colab": {
     "base_uri": "https://localhost:8080/"
    },
    "executionInfo": {
     "elapsed": 1092,
     "status": "ok",
     "timestamp": 1736408482885,
     "user": {
      "displayName": "Nikhil Narasimhan",
      "userId": "05522871184861859897"
     },
     "user_tz": -330
    },
    "id": "VupkhUpjxJSP",
    "outputId": "fa7879a7-0330-4ccc-8156-ec39b63abc4d"
   },
   "outputs": [
    {
     "name": "stderr",
     "output_type": "stream",
     "text": [
      "\rTranscribing:   0%|          | 0/1 [00:00<?, ?it/s][NeMo W 2025-01-09 07:41:21 nemo_logging:349] /usr/local/lib/python3.10/dist-packages/nemo/collections/asr/parts/preprocessing/features.py:417: FutureWarning: `torch.cuda.amp.autocast(args...)` is deprecated. Please use `torch.amp.autocast('cuda', args...)` instead.\n",
      "      with torch.cuda.amp.autocast(enabled=False):\n",
      "    \n",
      "Transcribing: 100%|██████████| 1/1 [00:00<00:00,  1.18it/s]"
     ]
    },
    {
     "name": "stdout",
     "output_type": "stream",
     "text": [
      "[' ڈیپازٹ فائیو تھاؤزنڈ روپیز ان مائی بینک اکانٹ']\n"
     ]
    },
    {
     "name": "stderr",
     "output_type": "stream",
     "text": [
      "\n"
     ]
    }
   ],
   "source": [
    "model.cur_decoder = \"ctc\"\n",
    "ctc_text = model.transcribe(['sample_audio_infer_ready.wav'], batch_size=1,logprobs=False, language_id=lang_id)[0]\n",
    "print(ctc_text)"
   ]
  },
  {
   "cell_type": "markdown",
   "metadata": {
    "id": "lNCYMkv5x7lo"
   },
   "source": [
    "# Inference using RNN-T Decoder"
   ]
  },
  {
   "cell_type": "code",
   "execution_count": null,
   "metadata": {
    "colab": {
     "base_uri": "https://localhost:8080/"
    },
    "executionInfo": {
     "elapsed": 1957,
     "status": "ok",
     "timestamp": 1736405370634,
     "user": {
      "displayName": "Nikhil Narasimhan",
      "userId": "05522871184861859897"
     },
     "user_tz": -330
    },
    "id": "QTn5xdT9yxTb",
    "outputId": "030c3252-e4be-46e4-dd70-b0c6d6c5105d"
   },
   "outputs": [
    {
     "name": "stderr",
     "output_type": "stream",
     "text": [
      "Transcribing: 100%|██████████| 1/1 [00:01<00:00,  1.55s/it]"
     ]
    },
    {
     "name": "stdout",
     "output_type": "stream",
     "text": [
      "[' ڈیپازٹ فائیو تھاؤزنڈ روپیز ان مائی بینک اکاؤنٹ']\n"
     ]
    },
    {
     "name": "stderr",
     "output_type": "stream",
     "text": [
      "\n"
     ]
    }
   ],
   "source": [
    "model.cur_decoder = \"rnnt\"\n",
    "ctc_text = model.transcribe(['sample_audio_infer_ready.wav'], batch_size=1,logprobs=False, language_id=lang_id)[0]\n",
    "print(ctc_text)"
   ]
  }
 ],
 "metadata": {
  "colab": {
   "authorship_tag": "ABX9TyNEFqGr+OpHXOg3DklpWl2f",
   "provenance": []
  },
  "kernelspec": {
   "display_name": "Python 3",
   "name": "python3"
  },
  "language_info": {
   "codemirror_mode": {
    "name": "ipython",
    "version": 3
   },
   "file_extension": ".py",
   "mimetype": "text/x-python",
   "name": "python",
   "nbconvert_exporter": "python",
   "pygments_lexer": "ipython3",
   "version": "3.10.5"
  }
 },
 "nbformat": 4,
 "nbformat_minor": 0
}
